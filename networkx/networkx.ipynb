{
 "cells": [
  {
   "cell_type": "code",
   "execution_count": 1,
   "id": "round-wichita",
   "metadata": {
    "jupyter": {
     "outputs_hidden": false
    }
   },
   "outputs": [
    {
     "name": "stdout",
     "output_type": "stream",
     "text": [
      "Populating the interactive namespace from numpy and matplotlib\n"
     ]
    }
   ],
   "source": [
    "%pylab inline"
   ]
  },
  {
   "cell_type": "markdown",
   "id": "proud-strengthening",
   "metadata": {},
   "source": [
    "## Основы работы библиотеки NetworkX"
   ]
  },
  {
   "cell_type": "markdown",
   "id": "portuguese-prayer",
   "metadata": {},
   "source": [
    "Данный раздел составлен с использованием материалов  [туториала для библиотеки NetworkX](http://networkx.github.io/documentation/latest/tutorial/tutorial.html) и рассматривает некоторые аспекты работы с графами."
   ]
  },
  {
   "cell_type": "markdown",
   "id": "relative-pastor",
   "metadata": {},
   "source": [
    "Возможности библиотеки\n",
    "\n",
    "Библиотека networkX создана на языке Python и предназначена для работы с графами и другими сетевыми структурами. Это свободное ПО распространяемое под новой BSD лицензией.\n",
    "\n",
    "Основные возможности библиотеки:\n",
    "\n",
    "* Классы для работы с простыми, ориентированными и взвешенными графами;\n",
    "* Узлом может быть практически что угодно: time-series, текст, изображение, XML;\n",
    "* Сохранение / загрузка графов в/из наиболее распространённых форматов файлов хранения графов;\n",
    "* Встроенные процедуры для создания графов базовых типов;\n",
    "* Методы для обнаружения подграфов, клик и К-дольных графов (K-core) ( максимальный подграф в котором каждая вершина имеет по крайней мере уровень К ).\n",
    "* Получение таких характеристик графа как степени вершин, высота графа, диаметр, радиус, длинны путей, центр, промежуточности, и т. д.;\n",
    "* Визуализировать сети в виде 2D и 3D графиков;\n",
    "\n",
    "В качестве базового формата хранения данных библиотека использует систему \"словарь словарей\" - что позволяет эффективно работать с памятью и обрабатывать большие графы."
   ]
  },
  {
   "cell_type": "markdown",
   "id": "furnished-authority",
   "metadata": {},
   "source": [
    "### Базовые операции с вершинами и ребрами"
   ]
  },
  {
   "cell_type": "markdown",
   "id": "perfect-maryland",
   "metadata": {},
   "source": [
    "#### Создание графа"
   ]
  },
  {
   "cell_type": "markdown",
   "id": "timely-jungle",
   "metadata": {},
   "source": [
    "Библиотека подключается с помощью команды `import`:"
   ]
  },
  {
   "cell_type": "code",
   "execution_count": 2,
   "id": "painful-battlefield",
   "metadata": {
    "jupyter": {
     "outputs_hidden": false
    }
   },
   "outputs": [],
   "source": [
    ">>> import networkx as nx"
   ]
  },
  {
   "cell_type": "markdown",
   "id": "conservative-angle",
   "metadata": {},
   "source": [
    "В данном случае мы импортировали networx с синонимом nx, который будем использьовать для простоты и читаемости кода."
   ]
  },
  {
   "cell_type": "markdown",
   "id": "hourly-violation",
   "metadata": {},
   "source": [
    "Последовательность команд:"
   ]
  },
  {
   "cell_type": "code",
   "execution_count": 3,
   "id": "million-connectivity",
   "metadata": {
    "jupyter": {
     "outputs_hidden": false
    }
   },
   "outputs": [],
   "source": [
    ">>> G=nx.Graph()"
   ]
  },
  {
   "cell_type": "markdown",
   "id": "thermal-lover",
   "metadata": {},
   "source": [
    "Создает пустого граф, без вершин и ребер."
   ]
  },
  {
   "cell_type": "markdown",
   "id": "rural-hunter",
   "metadata": {},
   "source": [
    "В самом общем случае граф представляет собой набор вершин (узлов, точек) и связей между ними. Библиотека networkx может рассматривать как набор вершин любой хэшируемый объект - то есть любой объект, который можно представить итерируемой последовательностью - список, строку, XML-файл, картинку и так далее."
   ]
  },
  {
   "cell_type": "markdown",
   "id": "typical-venice",
   "metadata": {},
   "source": [
    "#### Вершины"
   ]
  },
  {
   "cell_type": "markdown",
   "id": "offshore-equality",
   "metadata": {},
   "source": [
    "Добавить вершины к графу G можно несколькими путями. Networkx включает в себя несколько разных возможностей, однако мы начнем рассмотрение с наиболее простого случая - добавления вершин по одной. Список уже добавленных вершин можно посмотреть следующим образом:"
   ]
  },
  {
   "cell_type": "code",
   "execution_count": 4,
   "id": "digital-atlantic",
   "metadata": {
    "jupyter": {
     "outputs_hidden": false
    }
   },
   "outputs": [
    {
     "data": {
      "text/plain": [
       "NodeView(())"
      ]
     },
     "execution_count": 4,
     "metadata": {},
     "output_type": "execute_result"
    }
   ],
   "source": [
    ">>> G.nodes()"
   ]
  },
  {
   "cell_type": "markdown",
   "id": "right-mortgage",
   "metadata": {},
   "source": [
    "Добавим одну вершину:"
   ]
  },
  {
   "cell_type": "code",
   "execution_count": 5,
   "id": "toxic-maldives",
   "metadata": {
    "jupyter": {
     "outputs_hidden": false
    }
   },
   "outputs": [],
   "source": [
    ">>> G.add_node(1)"
   ]
  },
  {
   "cell_type": "code",
   "execution_count": 6,
   "id": "popular-learning",
   "metadata": {
    "jupyter": {
     "outputs_hidden": false
    }
   },
   "outputs": [
    {
     "data": {
      "text/plain": [
       "NodeView((1,))"
      ]
     },
     "execution_count": 6,
     "metadata": {},
     "output_type": "execute_result"
    }
   ],
   "source": [
    ">>> G.nodes()"
   ]
  },
  {
   "cell_type": "markdown",
   "id": "occupational-diagnosis",
   "metadata": {},
   "source": [
    "Несколько вершин можно добавить при помощи списка:"
   ]
  },
  {
   "cell_type": "code",
   "execution_count": 7,
   "id": "correct-aurora",
   "metadata": {
    "jupyter": {
     "outputs_hidden": false
    }
   },
   "outputs": [],
   "source": [
    ">>> G.add_nodes_from([2,3])"
   ]
  },
  {
   "cell_type": "code",
   "execution_count": 8,
   "id": "conceptual-france",
   "metadata": {
    "jupyter": {
     "outputs_hidden": false
    }
   },
   "outputs": [
    {
     "data": {
      "text/plain": [
       "NodeView((1, 2, 3))"
      ]
     },
     "execution_count": 8,
     "metadata": {},
     "output_type": "execute_result"
    }
   ],
   "source": [
    ">>> G.nodes()"
   ]
  },
  {
   "cell_type": "markdown",
   "id": "enabling-technician",
   "metadata": {},
   "source": [
    "Можно добавить любое количество вершин \"оптом\", включая другие графы:"
   ]
  },
  {
   "cell_type": "code",
   "execution_count": 9,
   "id": "complete-client",
   "metadata": {
    "jupyter": {
     "outputs_hidden": false
    }
   },
   "outputs": [],
   "source": [
    ">>> H=nx.path_graph(10)"
   ]
  },
  {
   "cell_type": "code",
   "execution_count": 10,
   "id": "thirty-unemployment",
   "metadata": {
    "jupyter": {
     "outputs_hidden": false
    }
   },
   "outputs": [
    {
     "data": {
      "text/plain": [
       "NodeView((0, 1, 2, 3, 4, 5, 6, 7, 8, 9))"
      ]
     },
     "execution_count": 10,
     "metadata": {},
     "output_type": "execute_result"
    }
   ],
   "source": [
    ">>> H.nodes()"
   ]
  },
  {
   "cell_type": "code",
   "execution_count": 11,
   "id": "comic-venice",
   "metadata": {
    "jupyter": {
     "outputs_hidden": false
    }
   },
   "outputs": [
    {
     "data": {
      "text/plain": [
       "NodeView((1, 2, 3))"
      ]
     },
     "execution_count": 11,
     "metadata": {},
     "output_type": "execute_result"
    }
   ],
   "source": [
    ">>> G.nodes()"
   ]
  },
  {
   "cell_type": "code",
   "execution_count": 12,
   "id": "mysterious-starter",
   "metadata": {
    "jupyter": {
     "outputs_hidden": false
    }
   },
   "outputs": [],
   "source": [
    ">>> G.add_nodes_from(H)"
   ]
  },
  {
   "cell_type": "code",
   "execution_count": 13,
   "id": "figured-indicator",
   "metadata": {
    "jupyter": {
     "outputs_hidden": false
    }
   },
   "outputs": [
    {
     "data": {
      "text/plain": [
       "NodeView((1, 2, 3, 0, 4, 5, 6, 7, 8, 9))"
      ]
     },
     "execution_count": 13,
     "metadata": {},
     "output_type": "execute_result"
    }
   ],
   "source": [
    ">>> G.nodes()"
   ]
  },
  {
   "cell_type": "markdown",
   "id": "sunrise-vessel",
   "metadata": {},
   "source": [
    "Обратите внимание, что сейчас граф G содержит подграф H. Можно включить и граф G в граф H:"
   ]
  },
  {
   "cell_type": "code",
   "execution_count": 14,
   "id": "missing-resident",
   "metadata": {
    "jupyter": {
     "outputs_hidden": false
    }
   },
   "outputs": [],
   "source": [
    ">>> G.add_node(H)"
   ]
  },
  {
   "cell_type": "code",
   "execution_count": 15,
   "id": "negative-option",
   "metadata": {
    "jupyter": {
     "outputs_hidden": false
    }
   },
   "outputs": [
    {
     "data": {
      "text/plain": [
       "NodeView((1, 2, 3, 0, 4, 5, 6, 7, 8, 9, <networkx.classes.graph.Graph object at 0x7f987f543eb8>))"
      ]
     },
     "execution_count": 15,
     "metadata": {},
     "output_type": "execute_result"
    }
   ],
   "source": [
    ">>> G.nodes()"
   ]
  },
  {
   "cell_type": "markdown",
   "id": "square-shape",
   "metadata": {},
   "source": [
    "Теперь граф G содержит H, как отдельный узел. Такая гибкость очень полезна, поскольку позволяет создавать графы, включающие в себя графы, графы включающие в себя файлы, функции и многое другое.\n"
   ]
  },
  {
   "cell_type": "markdown",
   "id": "handed-david",
   "metadata": {},
   "source": [
    "#### Ребра"
   ]
  },
  {
   "cell_type": "markdown",
   "id": "brief-catalog",
   "metadata": {},
   "source": [
    "Добавление ребер (связей между вершинами) выполняется аналогично добавлению вершин. Это можно сделать либо по одному ребру за раз, либо с помощью распаковки хэшей:"
   ]
  },
  {
   "cell_type": "code",
   "execution_count": 16,
   "id": "accessible-morris",
   "metadata": {
    "jupyter": {
     "outputs_hidden": false
    }
   },
   "outputs": [],
   "source": [
    ">>> G.add_edge(1,2)"
   ]
  },
  {
   "cell_type": "markdown",
   "id": "adopted-gilbert",
   "metadata": {},
   "source": [
    "Список добавленных ребер можно посмотреть при помощи следующей команды:"
   ]
  },
  {
   "cell_type": "code",
   "execution_count": 17,
   "id": "complete-hypothetical",
   "metadata": {
    "jupyter": {
     "outputs_hidden": false
    }
   },
   "outputs": [
    {
     "data": {
      "text/plain": [
       "EdgeView([(1, 2)])"
      ]
     },
     "execution_count": 17,
     "metadata": {},
     "output_type": "execute_result"
    }
   ],
   "source": [
    ">>> G.edges()"
   ]
  },
  {
   "cell_type": "markdown",
   "id": "normal-windsor",
   "metadata": {},
   "source": [
    "Теперь создадим хэш ребер, а затем - распакуем его:"
   ]
  },
  {
   "cell_type": "code",
   "execution_count": 18,
   "id": "angry-helping",
   "metadata": {
    "jupyter": {
     "outputs_hidden": false
    }
   },
   "outputs": [],
   "source": [
    ">>> e=(2,3)\n",
    ">>> G.add_edge(*e) # распаковка кортежа вершин"
   ]
  },
  {
   "cell_type": "code",
   "execution_count": 19,
   "id": "median-rescue",
   "metadata": {
    "jupyter": {
     "outputs_hidden": false
    }
   },
   "outputs": [
    {
     "data": {
      "text/plain": [
       "EdgeView([(1, 2), (2, 3)])"
      ]
     },
     "execution_count": 19,
     "metadata": {},
     "output_type": "execute_result"
    }
   ],
   "source": [
    ">>> G.edges()"
   ]
  },
  {
   "cell_type": "markdown",
   "id": "naughty-water",
   "metadata": {},
   "source": [
    "Добавление ребер из списка проходит так:"
   ]
  },
  {
   "cell_type": "code",
   "execution_count": 20,
   "id": "signed-atlantic",
   "metadata": {
    "jupyter": {
     "outputs_hidden": false
    }
   },
   "outputs": [],
   "source": [
    ">>> G.add_edges_from([(1,2),(1,3)])"
   ]
  },
  {
   "cell_type": "code",
   "execution_count": 21,
   "id": "incorporated-omaha",
   "metadata": {
    "jupyter": {
     "outputs_hidden": false
    }
   },
   "outputs": [
    {
     "data": {
      "text/plain": [
       "EdgeView([(1, 2), (1, 3), (2, 3)])"
      ]
     },
     "execution_count": 21,
     "metadata": {},
     "output_type": "execute_result"
    }
   ],
   "source": [
    ">>> G.edges()"
   ]
  },
  {
   "cell_type": "markdown",
   "id": "right-participation",
   "metadata": {},
   "source": [
    "#### Удаление вершин и ребер"
   ]
  },
  {
   "cell_type": "markdown",
   "id": "manual-emergency",
   "metadata": {},
   "source": [
    "Удаление вершин и связей производится с помощью аналогичных функций: Graph.remove_node(), Graph.remove_nodes_from(), Graph.remove_edge() и Graph.remove_edges_from() и так далее"
   ]
  },
  {
   "cell_type": "code",
   "execution_count": 22,
   "id": "declared-worcester",
   "metadata": {
    "jupyter": {
     "outputs_hidden": false
    }
   },
   "outputs": [
    {
     "data": {
      "text/plain": [
       "NodeView((1, 2, 3, 0, 4, 5, 6, 7, 8, 9, <networkx.classes.graph.Graph object at 0x7f987f543eb8>))"
      ]
     },
     "execution_count": 22,
     "metadata": {},
     "output_type": "execute_result"
    }
   ],
   "source": [
    ">>> G.nodes()"
   ]
  },
  {
   "cell_type": "code",
   "execution_count": 23,
   "id": "driving-dance",
   "metadata": {
    "jupyter": {
     "outputs_hidden": false
    }
   },
   "outputs": [],
   "source": [
    ">>> G.remove_node(H)"
   ]
  },
  {
   "cell_type": "code",
   "execution_count": 24,
   "id": "persistent-doctor",
   "metadata": {
    "jupyter": {
     "outputs_hidden": false
    }
   },
   "outputs": [
    {
     "data": {
      "text/plain": [
       "NodeView((1, 2, 3, 0, 4, 5, 6, 7, 8, 9))"
      ]
     },
     "execution_count": 24,
     "metadata": {},
     "output_type": "execute_result"
    }
   ],
   "source": [
    ">>> G.nodes()"
   ]
  },
  {
   "cell_type": "code",
   "execution_count": 25,
   "id": "female-couple",
   "metadata": {
    "jupyter": {
     "outputs_hidden": false
    }
   },
   "outputs": [
    {
     "data": {
      "text/plain": [
       "EdgeView([(1, 2), (1, 3), (2, 3)])"
      ]
     },
     "execution_count": 25,
     "metadata": {},
     "output_type": "execute_result"
    }
   ],
   "source": [
    ">>> G.edges()"
   ]
  },
  {
   "cell_type": "code",
   "execution_count": 26,
   "id": "characteristic-riverside",
   "metadata": {
    "jupyter": {
     "outputs_hidden": false
    }
   },
   "outputs": [],
   "source": [
    ">>> G.remove_edge(1,3)"
   ]
  },
  {
   "cell_type": "code",
   "execution_count": 27,
   "id": "rubber-sellers",
   "metadata": {
    "jupyter": {
     "outputs_hidden": false
    }
   },
   "outputs": [
    {
     "data": {
      "text/plain": [
       "EdgeView([(1, 2), (2, 3)])"
      ]
     },
     "execution_count": 27,
     "metadata": {},
     "output_type": "execute_result"
    }
   ],
   "source": [
    ">>> G.edges()"
   ]
  },
  {
   "cell_type": "markdown",
   "id": "vocational-filing",
   "metadata": {},
   "source": [
    "Защиты от добавления уже существующих вершин или ребер нет. То есть, например, после очистки графа:"
   ]
  },
  {
   "cell_type": "code",
   "execution_count": 28,
   "id": "packed-crime",
   "metadata": {
    "jupyter": {
     "outputs_hidden": false
    }
   },
   "outputs": [],
   "source": [
    ">>> G.clear()"
   ]
  },
  {
   "cell_type": "code",
   "execution_count": 29,
   "id": "fossil-conversion",
   "metadata": {
    "jupyter": {
     "outputs_hidden": false
    }
   },
   "outputs": [
    {
     "data": {
      "text/plain": [
       "NodeView(())"
      ]
     },
     "execution_count": 29,
     "metadata": {},
     "output_type": "execute_result"
    }
   ],
   "source": [
    ">>> G.nodes()"
   ]
  },
  {
   "cell_type": "code",
   "execution_count": 30,
   "id": "bizarre-newton",
   "metadata": {
    "jupyter": {
     "outputs_hidden": false
    }
   },
   "outputs": [
    {
     "data": {
      "text/plain": [
       "EdgeView([])"
      ]
     },
     "execution_count": 30,
     "metadata": {},
     "output_type": "execute_result"
    }
   ],
   "source": [
    ">>> G.edges()"
   ]
  },
  {
   "cell_type": "markdown",
   "id": "acquired-fields",
   "metadata": {},
   "source": [
    "Можно добавить в него следующие вершины:"
   ]
  },
  {
   "cell_type": "code",
   "execution_count": 31,
   "id": "specialized-coalition",
   "metadata": {
    "jupyter": {
     "outputs_hidden": false
    }
   },
   "outputs": [],
   "source": [
    ">>> G.add_edges_from([(1,2),(1,3)])\n",
    ">>> G.add_node(1)\n",
    ">>> G.add_edge(1,2)\n",
    ">>> G.add_node(\"spam\")       # добавляет вершину \"spam\"\n",
    ">>> G.add_nodes_from(\"spam\") # добавляет четыре вершины: 's', 'p', 'a', 'm'"
   ]
  },
  {
   "cell_type": "markdown",
   "id": "bacterial-receipt",
   "metadata": {},
   "source": [
    "После этих операций граф G будет содержать 8 вершин и 2 ребра. Это можно увидеть с помощью следующих команд:"
   ]
  },
  {
   "cell_type": "code",
   "execution_count": 32,
   "id": "finnish-appendix",
   "metadata": {
    "jupyter": {
     "outputs_hidden": false
    }
   },
   "outputs": [
    {
     "data": {
      "text/plain": [
       "8"
      ]
     },
     "execution_count": 32,
     "metadata": {},
     "output_type": "execute_result"
    }
   ],
   "source": [
    ">>> G.number_of_nodes()"
   ]
  },
  {
   "cell_type": "code",
   "execution_count": 33,
   "id": "exclusive-occupation",
   "metadata": {
    "jupyter": {
     "outputs_hidden": false
    }
   },
   "outputs": [
    {
     "data": {
      "text/plain": [
       "2"
      ]
     },
     "execution_count": 33,
     "metadata": {},
     "output_type": "execute_result"
    }
   ],
   "source": [
    ">>> G.number_of_edges()"
   ]
  },
  {
   "cell_type": "markdown",
   "id": "legislative-permission",
   "metadata": {},
   "source": [
    "Полностью списки вершин и ребер можно просмотреть так:"
   ]
  },
  {
   "cell_type": "code",
   "execution_count": 34,
   "id": "handmade-rugby",
   "metadata": {
    "jupyter": {
     "outputs_hidden": false
    }
   },
   "outputs": [
    {
     "data": {
      "text/plain": [
       "NodeView((1, 2, 3, 'spam', 's', 'p', 'a', 'm'))"
      ]
     },
     "execution_count": 34,
     "metadata": {},
     "output_type": "execute_result"
    }
   ],
   "source": [
    ">>> G.nodes()"
   ]
  },
  {
   "cell_type": "code",
   "execution_count": 35,
   "id": "surprising-furniture",
   "metadata": {
    "jupyter": {
     "outputs_hidden": false
    }
   },
   "outputs": [
    {
     "data": {
      "text/plain": [
       "EdgeView([(1, 2), (1, 3)])"
      ]
     },
     "execution_count": 35,
     "metadata": {},
     "output_type": "execute_result"
    }
   ],
   "source": [
    ">>> G.edges()"
   ]
  },
  {
   "cell_type": "markdown",
   "id": "relative-suicide",
   "metadata": {},
   "source": [
    "Так же можно определить соседей конкретной вершины."
   ]
  },
  {
   "cell_type": "code",
   "execution_count": 36,
   "id": "intellectual-tomorrow",
   "metadata": {
    "jupyter": {
     "outputs_hidden": false
    }
   },
   "outputs": [
    {
     "data": {
      "text/plain": [
       "<dict_keyiterator at 0x7f987f54b598>"
      ]
     },
     "execution_count": 36,
     "metadata": {},
     "output_type": "execute_result"
    }
   ],
   "source": [
    ">>> G.neighbors(1)"
   ]
  },
  {
   "cell_type": "markdown",
   "id": "quantitative-renewal",
   "metadata": {},
   "source": [
    "Обратите внимание, что соседи вершины выдаются в виде списка."
   ]
  },
  {
   "cell_type": "markdown",
   "id": "muslim-reggae",
   "metadata": {},
   "source": [
    "Удаление вершин производится аналогично добавлению - с помощью функций:"
   ]
  },
  {
   "cell_type": "code",
   "execution_count": 37,
   "id": "least-vacation",
   "metadata": {
    "jupyter": {
     "outputs_hidden": false
    }
   },
   "outputs": [],
   "source": [
    ">>> G.remove_nodes_from(\"spam\")"
   ]
  },
  {
   "cell_type": "code",
   "execution_count": 38,
   "id": "characteristic-certificate",
   "metadata": {
    "jupyter": {
     "outputs_hidden": false
    }
   },
   "outputs": [
    {
     "data": {
      "text/plain": [
       "NodeView((1, 2, 3, 'spam'))"
      ]
     },
     "execution_count": 38,
     "metadata": {},
     "output_type": "execute_result"
    }
   ],
   "source": [
    ">>> G.nodes()"
   ]
  },
  {
   "cell_type": "code",
   "execution_count": 39,
   "id": "metric-retro",
   "metadata": {
    "jupyter": {
     "outputs_hidden": false
    }
   },
   "outputs": [],
   "source": [
    ">>> G.remove_edge(1,3)"
   ]
  },
  {
   "cell_type": "code",
   "execution_count": 40,
   "id": "marine-bristol",
   "metadata": {
    "jupyter": {
     "outputs_hidden": false
    }
   },
   "outputs": [
    {
     "data": {
      "text/plain": [
       "EdgeView([(1, 2)])"
      ]
     },
     "execution_count": 40,
     "metadata": {},
     "output_type": "execute_result"
    }
   ],
   "source": [
    ">>> G.edges()"
   ]
  },
  {
   "cell_type": "markdown",
   "id": "controlled-burner",
   "metadata": {},
   "source": [
    "При создании графа, можно задавать данные в нескольких форматах:"
   ]
  },
  {
   "cell_type": "code",
   "execution_count": 41,
   "id": "separated-waterproof",
   "metadata": {
    "jupyter": {
     "outputs_hidden": false
    }
   },
   "outputs": [],
   "source": [
    ">>> H=nx.DiGraph(G)   # создаем орграф с использованием неориентированного графа G"
   ]
  },
  {
   "cell_type": "code",
   "execution_count": 42,
   "id": "theoretical-postage",
   "metadata": {
    "jupyter": {
     "outputs_hidden": false
    }
   },
   "outputs": [
    {
     "data": {
      "text/plain": [
       "NodeView((1, 2, 3, 'spam'))"
      ]
     },
     "execution_count": 42,
     "metadata": {},
     "output_type": "execute_result"
    }
   ],
   "source": [
    ">>> H.nodes()"
   ]
  },
  {
   "cell_type": "code",
   "execution_count": 43,
   "id": "impaired-gallery",
   "metadata": {
    "jupyter": {
     "outputs_hidden": false
    }
   },
   "outputs": [
    {
     "data": {
      "text/plain": [
       "OutEdgeView([(1, 2), (2, 1)])"
      ]
     },
     "execution_count": 43,
     "metadata": {},
     "output_type": "execute_result"
    }
   ],
   "source": [
    ">>> H.edges()"
   ]
  },
  {
   "cell_type": "code",
   "execution_count": 44,
   "id": "selected-option",
   "metadata": {
    "jupyter": {
     "outputs_hidden": false
    }
   },
   "outputs": [],
   "source": [
    ">>> edgelist=[(0,1),(1,2),(2,3)]"
   ]
  },
  {
   "cell_type": "code",
   "execution_count": 45,
   "id": "handled-course",
   "metadata": {
    "jupyter": {
     "outputs_hidden": false
    }
   },
   "outputs": [],
   "source": [
    ">>> H=nx.Graph(edgelist)"
   ]
  },
  {
   "cell_type": "code",
   "execution_count": 46,
   "id": "studied-stopping",
   "metadata": {
    "jupyter": {
     "outputs_hidden": false
    }
   },
   "outputs": [
    {
     "data": {
      "text/plain": [
       "EdgeView([(0, 1), (1, 2), (2, 3)])"
      ]
     },
     "execution_count": 46,
     "metadata": {},
     "output_type": "execute_result"
    }
   ],
   "source": [
    ">>> H.edges()"
   ]
  },
  {
   "cell_type": "code",
   "execution_count": 47,
   "id": "hairy-devices",
   "metadata": {
    "jupyter": {
     "outputs_hidden": false
    }
   },
   "outputs": [
    {
     "data": {
      "text/plain": [
       "NodeView((0, 1, 2, 3))"
      ]
     },
     "execution_count": 47,
     "metadata": {},
     "output_type": "execute_result"
    }
   ],
   "source": [
    ">>> H.nodes()"
   ]
  },
  {
   "cell_type": "markdown",
   "id": "afraid-scott",
   "metadata": {},
   "source": [
    "### Генераторы графов и операции над графами"
   ]
  },
  {
   "cell_type": "markdown",
   "id": "frank-lucas",
   "metadata": {},
   "source": [
    "В дополнении к созданию графов путем простого добавления вершины-за-вершиной и ребра-за-ребром, их можно создавать несколькими путями:"
   ]
  },
  {
   "cell_type": "raw",
   "id": "combined-intelligence",
   "metadata": {},
   "source": [
    "1. Используя классические операции над графами"
   ]
  },
  {
   "cell_type": "markdown",
   "id": "chubby-thunder",
   "metadata": {},
   "source": [
    "```\n",
    "subgraph(G, nbunch)      - добавляя вершины из nbunch в виде субграфа в граф G\n",
    "union(G1,G2)             - объединение графов\n",
    "disjoint_union(G1,G2)    - объединение графов с учетом того, что все вершины разные\n",
    "cartesian_product(G1,G2) - возвращает прямое (декартово) произведение графов\n",
    "compose(G1,G2)           - комбинирует графы, определяя общие для обоих вершины\n",
    "complement(G)            - с помощью комплементации (дополнения) графа\n",
    "create_empty_copy(G)     - возвращает пустую копию графа того же класса, что и G\n",
    "convert_to_undirected(G) - возвращение к ненаправленному представлению графа G\n",
    "convert_to_directed(G)   - возвращение к направленному представлению графа G\n",
    "```"
   ]
  },
  {
   "cell_type": "raw",
   "id": "palestinian-content",
   "metadata": {},
   "source": [
    "2. Используя функции создания классических малых графов, т.е.:"
   ]
  },
  {
   "cell_type": "markdown",
   "id": "editorial-tobago",
   "metadata": {},
   "source": [
    "[Граф Петерсена](https://ru.wikipedia.org/wiki/%D0%93%D1%80%D0%B0%D1%84_%D0%9F%D0%B5%D1%82%D0%B5%D1%80%D1%81%D0%B5%D0%BD%D0%B0):"
   ]
  },
  {
   "cell_type": "code",
   "execution_count": 48,
   "id": "satisfactory-david",
   "metadata": {
    "jupyter": {
     "outputs_hidden": false
    }
   },
   "outputs": [],
   "source": [
    ">>> petersen=nx.petersen_graph()"
   ]
  },
  {
   "cell_type": "code",
   "execution_count": 49,
   "id": "amended-thong",
   "metadata": {
    "jupyter": {
     "outputs_hidden": false
    }
   },
   "outputs": [
    {
     "name": "stdout",
     "output_type": "stream",
     "text": [
      "[0, 1, 2, 3, 4, 5, 6, 7, 8, 9]\n"
     ]
    }
   ],
   "source": [
    "print(petersen.nodes())"
   ]
  },
  {
   "cell_type": "code",
   "execution_count": 50,
   "id": "worst-queens",
   "metadata": {
    "jupyter": {
     "outputs_hidden": false
    }
   },
   "outputs": [
    {
     "name": "stdout",
     "output_type": "stream",
     "text": [
      "[(0, 1), (0, 4), (0, 5), (1, 2), (1, 6), (2, 3), (2, 7), (3, 4), (3, 8), (4, 9), (5, 7), (5, 8), (6, 8), (6, 9), (7, 9)]\n"
     ]
    }
   ],
   "source": [
    "print(petersen.edges())"
   ]
  },
  {
   "cell_type": "markdown",
   "id": "exciting-trader",
   "metadata": {},
   "source": [
    "[Граф Татта](https://ru.wikipedia.org/wiki/%D0%93%D1%80%D0%B0%D1%84_%D0%A2%D0%B0%D1%82%D1%82%D0%B0):"
   ]
  },
  {
   "cell_type": "code",
   "execution_count": 51,
   "id": "early-electricity",
   "metadata": {
    "jupyter": {
     "outputs_hidden": false
    }
   },
   "outputs": [],
   "source": [
    ">>> tutte=nx.tutte_graph()"
   ]
  },
  {
   "cell_type": "code",
   "execution_count": 52,
   "id": "alleged-evolution",
   "metadata": {
    "jupyter": {
     "outputs_hidden": false
    }
   },
   "outputs": [
    {
     "name": "stdout",
     "output_type": "stream",
     "text": [
      "[0, 1, 2, 3, 4, 5, 6, 7, 8, 9, 10, 11, 12, 13, 14, 15, 16, 17, 18, 19, 20, 21, 22, 23, 24, 25, 26, 27, 28, 29, 30, 31, 32, 33, 34, 35, 36, 37, 38, 39, 40, 41, 42, 43, 44, 45]\n"
     ]
    }
   ],
   "source": [
    "print(tutte.nodes())"
   ]
  },
  {
   "cell_type": "code",
   "execution_count": 53,
   "id": "sexual-amazon",
   "metadata": {
    "jupyter": {
     "outputs_hidden": false
    }
   },
   "outputs": [
    {
     "name": "stdout",
     "output_type": "stream",
     "text": [
      "[(0, 1), (0, 2), (0, 3), (1, 4), (1, 26), (2, 10), (2, 11), (3, 18), (3, 19), (4, 5), (4, 33), (5, 6), (5, 29), (6, 7), (6, 27), (7, 8), (7, 14), (8, 9), (8, 38), (9, 10), (9, 37), (10, 39), (11, 12), (11, 39), (12, 13), (12, 35), (13, 14), (13, 15), (14, 34), (15, 16), (15, 22), (16, 17), (16, 44), (17, 18), (17, 43), (18, 45), (19, 20), (19, 45), (20, 21), (20, 41), (21, 22), (21, 23), (22, 40), (23, 24), (23, 27), (24, 25), (24, 32), (25, 26), (25, 31), (26, 33), (27, 28), (28, 29), (28, 32), (29, 30), (30, 31), (30, 33), (31, 32), (34, 35), (34, 38), (35, 36), (36, 37), (36, 39), (37, 38), (40, 41), (40, 44), (41, 42), (42, 43), (42, 45), (43, 44)]\n"
     ]
    }
   ],
   "source": [
    "print(tutte.edges())"
   ]
  },
  {
   "cell_type": "markdown",
   "id": "anonymous-underground",
   "metadata": {},
   "source": [
    "И другие типы графов:"
   ]
  },
  {
   "cell_type": "code",
   "execution_count": 54,
   "id": "noted-delicious",
   "metadata": {
    "jupyter": {
     "outputs_hidden": false
    }
   },
   "outputs": [],
   "source": [
    ">>> maze=nx.sedgewick_maze_graph()"
   ]
  },
  {
   "cell_type": "code",
   "execution_count": 55,
   "id": "alternative-diameter",
   "metadata": {
    "jupyter": {
     "outputs_hidden": false
    }
   },
   "outputs": [
    {
     "name": "stdout",
     "output_type": "stream",
     "text": [
      "[0, 1, 2, 3, 4, 5, 6, 7]\n"
     ]
    }
   ],
   "source": [
    "print(maze.nodes())"
   ]
  },
  {
   "cell_type": "code",
   "execution_count": 56,
   "id": "private-smart",
   "metadata": {
    "jupyter": {
     "outputs_hidden": false
    }
   },
   "outputs": [
    {
     "name": "stdout",
     "output_type": "stream",
     "text": [
      "[(0, 2), (0, 7), (0, 5), (1, 7), (2, 6), (3, 4), (3, 5), (4, 5), (4, 7), (4, 6)]\n"
     ]
    }
   ],
   "source": [
    "print(maze.edges())"
   ]
  },
  {
   "cell_type": "code",
   "execution_count": 57,
   "id": "written-bowling",
   "metadata": {
    "jupyter": {
     "outputs_hidden": false
    }
   },
   "outputs": [],
   "source": [
    ">>> tet=nx.tetrahedral_graph()"
   ]
  },
  {
   "cell_type": "code",
   "execution_count": 58,
   "id": "ongoing-amber",
   "metadata": {
    "jupyter": {
     "outputs_hidden": false
    }
   },
   "outputs": [
    {
     "name": "stdout",
     "output_type": "stream",
     "text": [
      "[0, 1, 2, 3]\n"
     ]
    }
   ],
   "source": [
    "print(tet.nodes())"
   ]
  },
  {
   "cell_type": "code",
   "execution_count": 59,
   "id": "modified-robertson",
   "metadata": {
    "jupyter": {
     "outputs_hidden": false
    }
   },
   "outputs": [
    {
     "name": "stdout",
     "output_type": "stream",
     "text": [
      "[(0, 1), (0, 2), (0, 3), (1, 2), (1, 3), (2, 3)]\n"
     ]
    }
   ],
   "source": [
    "print(tet.edges())"
   ]
  },
  {
   "cell_type": "markdown",
   "id": "limiting-apparatus",
   "metadata": {},
   "source": [
    "    3. Используя генератор классических графов:"
   ]
  },
  {
   "cell_type": "code",
   "execution_count": 60,
   "id": "separated-match",
   "metadata": {
    "jupyter": {
     "outputs_hidden": false
    }
   },
   "outputs": [],
   "source": [
    ">>> K_5=nx.complete_graph(5)"
   ]
  },
  {
   "cell_type": "code",
   "execution_count": 61,
   "id": "decreased-dairy",
   "metadata": {
    "jupyter": {
     "outputs_hidden": false
    }
   },
   "outputs": [
    {
     "data": {
      "text/plain": [
       "NodeView((0, 1, 2, 3, 4))"
      ]
     },
     "execution_count": 61,
     "metadata": {},
     "output_type": "execute_result"
    }
   ],
   "source": [
    ">>> K_5.nodes()"
   ]
  },
  {
   "cell_type": "code",
   "execution_count": 62,
   "id": "instrumental-element",
   "metadata": {
    "jupyter": {
     "outputs_hidden": false
    }
   },
   "outputs": [
    {
     "data": {
      "text/plain": [
       "EdgeView([(0, 1), (0, 2), (0, 3), (0, 4), (1, 2), (1, 3), (1, 4), (2, 3), (2, 4), (3, 4)])"
      ]
     },
     "execution_count": 62,
     "metadata": {},
     "output_type": "execute_result"
    }
   ],
   "source": [
    ">>> K_5.edges()"
   ]
  },
  {
   "cell_type": "code",
   "execution_count": 63,
   "id": "recreational-harrison",
   "metadata": {
    "jupyter": {
     "outputs_hidden": false
    }
   },
   "outputs": [],
   "source": [
    ">>> K_3_5=nx.complete_bipartite_graph(3,5)\n",
    ">>> barbell=nx.barbell_graph(10,10)\n",
    ">>> lollipop=nx.lollipop_graph(10,20)"
   ]
  },
  {
   "cell_type": "markdown",
   "id": "specific-vocabulary",
   "metadata": {},
   "source": [
    "    4. Используя случайные генераторы графов:"
   ]
  },
  {
   "cell_type": "code",
   "execution_count": 64,
   "id": "median-saudi",
   "metadata": {
    "jupyter": {
     "outputs_hidden": false
    }
   },
   "outputs": [],
   "source": [
    ">>> er=nx.erdos_renyi_graph(100,0.15)\n",
    ">>> ws=nx.watts_strogatz_graph(30,3,0.1)\n",
    ">>> ba=nx.barabasi_albert_graph(100,5)\n",
    ">>> red=nx.random_lobster(100,0.9,0.9)"
   ]
  },
  {
   "cell_type": "markdown",
   "id": "textile-mumbai",
   "metadata": {},
   "source": [
    "    5. Cчитывая графы из файлов, которые содержат данные в одном из общих форматов (списки ребер, списки смежности, GML, GraphML, pickle, LEDA и других):\n",
    "\n",
    "(следующий пример приводится исключительно в виде иллюстрации - его вводить не следует):"
   ]
  },
  {
   "cell_type": "code",
   "execution_count": 65,
   "id": "traditional-scholar",
   "metadata": {
    "jupyter": {
     "outputs_hidden": false
    }
   },
   "outputs": [],
   "source": [
    ">>> nx.write_gml(red,\"path.to.file\")\n",
    ">>> mygraph=nx.read_gml(\"path.to.file\")"
   ]
  },
  {
   "cell_type": "markdown",
   "id": "bearing-definition",
   "metadata": {},
   "source": [
    "Детально форматы описаны [в документации](http://networkx.github.io/documentation/latest/reference/readwrite.html) библиотеки. В частности [JSON](http://networkx.github.io/documentation/latest/reference/readwrite.json_graph.html)."
   ]
  },
  {
   "cell_type": "markdown",
   "id": "electoral-trial",
   "metadata": {},
   "source": [
    "### Рисование графов"
   ]
  },
  {
   "cell_type": "markdown",
   "id": "christian-mauritius",
   "metadata": {},
   "source": [
    "NetworkX не создавалась, как библиотека рисования графов, однако предоставляет базовые функции для отрисовки графов с помощью библиотеки Matplotlib, а также интерфес для использования приложения с открытым исходным Graphviz. Эти функции являются частью модуля `networkx.drawing` - см. [соответствующий раздел](http://networkx.github.io/documentation/latest/reference/drawing.html) документации.\n",
    "\n",
    "Обратите внимание, что графические библиотеки  NetworkX пока еще не совместимы с версией Python  3.0 и выше."
   ]
  },
  {
   "cell_type": "markdown",
   "id": "embedded-negative",
   "metadata": {},
   "source": [
    "Подключим Matplotlib:"
   ]
  },
  {
   "cell_type": "code",
   "execution_count": 66,
   "id": "sonic-finger",
   "metadata": {
    "jupyter": {
     "outputs_hidden": false
    }
   },
   "outputs": [],
   "source": [
    ">>> import matplotlib.pyplot as plt"
   ]
  },
  {
   "cell_type": "markdown",
   "id": "encouraging-quarter",
   "metadata": {},
   "source": [
    "Напомним, что библиотеку можно подключать, можно подключить запуская консоль в интерактивном режиме, используя `ipython -pylab`, что позволяет сочетать сильные стороны ipython и  matplotlib и повышает удобство использования библиотеки."
   ]
  },
  {
   "cell_type": "markdown",
   "id": "northern-trauma",
   "metadata": {},
   "source": [
    "Отрисуем граф:"
   ]
  },
  {
   "cell_type": "code",
   "execution_count": 67,
   "id": "august-equilibrium",
   "metadata": {
    "jupyter": {
     "outputs_hidden": false
    }
   },
   "outputs": [
    {
     "data": {
      "image/png": "[encoded data removed]",
      "text/plain": [
       "<Figure size 432x288 with 1 Axes>"
      ]
     },
     "metadata": {},
     "output_type": "display_data"
    }
   ],
   "source": [
    ">>> nx.draw(G)"
   ]
  },
  {
   "cell_type": "code",
   "execution_count": 68,
   "id": "ancient-sunset",
   "metadata": {
    "jupyter": {
     "outputs_hidden": false
    }
   },
   "outputs": [
    {
     "data": {
      "image/png": "[encoded data removed]",
      "text/plain": [
       "<Figure size 432x288 with 1 Axes>"
      ]
     },
     "metadata": {},
     "output_type": "display_data"
    }
   ],
   "source": [
    ">>> nx.draw_random(G)"
   ]
  },
  {
   "cell_type": "code",
   "execution_count": 69,
   "id": "pediatric-blackberry",
   "metadata": {
    "jupyter": {
     "outputs_hidden": false
    }
   },
   "outputs": [
    {
     "data": {
      "image/png": "[encoded data removed]",
      "text/plain": [
       "<Figure size 432x288 with 1 Axes>"
      ]
     },
     "metadata": {},
     "output_type": "display_data"
    }
   ],
   "source": [
    ">>> nx.draw_circular(G)"
   ]
  },
  {
   "cell_type": "code",
   "execution_count": 70,
   "id": "domestic-coffee",
   "metadata": {
    "jupyter": {
     "outputs_hidden": false
    }
   },
   "outputs": [
    {
     "data": {
      "image/png": "[encoded data removed]",
      "text/plain": [
       "<Figure size 432x288 with 1 Axes>"
      ]
     },
     "metadata": {},
     "output_type": "display_data"
    }
   ],
   "source": [
    ">>> nx.draw_spectral(G)"
   ]
  },
  {
   "cell_type": "markdown",
   "id": "elementary-general",
   "metadata": {},
   "source": [
    "Обратите внимание, что в зависимости от подключения может протебоваться использование дополнительной команды отображения:\n",
    "\n",
    "    >>> plt.show()"
   ]
  },
  {
   "cell_type": "code",
   "execution_count": 71,
   "id": "pregnant-watershed",
   "metadata": {
    "jupyter": {
     "outputs_hidden": false
    }
   },
   "outputs": [
    {
     "data": {
      "image/png": "[encoded data removed]",
      "text/plain": [
       "<Figure size 432x288 with 1 Axes>"
      ]
     },
     "metadata": {},
     "output_type": "display_data"
    }
   ],
   "source": [
    ">>> nx.draw(tutte)"
   ]
  },
  {
   "cell_type": "code",
   "execution_count": 72,
   "id": "unauthorized-allen",
   "metadata": {
    "jupyter": {
     "outputs_hidden": false
    }
   },
   "outputs": [
    {
     "data": {
      "image/png": "[encoded data removed]",
      "text/plain": [
       "<Figure size 432x288 with 1 Axes>"
      ]
     },
     "metadata": {},
     "output_type": "display_data"
    }
   ],
   "source": [
    ">>> nx.draw(petersen)"
   ]
  },
  {
   "cell_type": "code",
   "execution_count": 73,
   "id": "pacific-consortium",
   "metadata": {
    "jupyter": {
     "outputs_hidden": false
    }
   },
   "outputs": [
    {
     "data": {
      "image/png": "[encoded data removed]",
      "text/plain": [
       "<Figure size 432x288 with 1 Axes>"
      ]
     },
     "metadata": {},
     "output_type": "display_data"
    }
   ],
   "source": [
    ">>> nx.draw(K_5)"
   ]
  },
  {
   "cell_type": "code",
   "execution_count": 74,
   "id": "lightweight-antibody",
   "metadata": {
    "jupyter": {
     "outputs_hidden": false
    }
   },
   "outputs": [
    {
     "data": {
      "image/png": "[encoded data removed]",
      "text/plain": [
       "<Figure size 432x288 with 1 Axes>"
      ]
     },
     "metadata": {},
     "output_type": "display_data"
    }
   ],
   "source": [
    ">>> nx.draw(K_3_5)"
   ]
  },
  {
   "cell_type": "markdown",
   "id": "valuable-blade",
   "metadata": {},
   "source": [
    "Изображения можно сохранять в файл, например:"
   ]
  },
  {
   "cell_type": "code",
   "execution_count": 75,
   "id": "sophisticated-chosen",
   "metadata": {
    "jupyter": {
     "outputs_hidden": false
    }
   },
   "outputs": [
    {
     "data": {
      "image/png": "[encoded data removed]",
      "text/plain": [
       "<Figure size 432x288 with 1 Axes>"
      ]
     },
     "metadata": {},
     "output_type": "display_data"
    }
   ],
   "source": [
    ">>> nx.draw(lollipop)"
   ]
  },
  {
   "cell_type": "code",
   "execution_count": 76,
   "id": "bacterial-longitude",
   "metadata": {
    "jupyter": {
     "outputs_hidden": false
    }
   },
   "outputs": [
    {
     "data": {
      "text/plain": [
       "<Figure size 432x288 with 0 Axes>"
      ]
     },
     "metadata": {},
     "output_type": "display_data"
    }
   ],
   "source": [
    ">>> plt.savefig(\"path.png\")"
   ]
  },
  {
   "cell_type": "markdown",
   "id": "musical-factory",
   "metadata": {},
   "source": [
    "запишет файл `path.png` в текущую локальную директорию."
   ]
  },
  {
   "cell_type": "markdown",
   "id": "seeing-mitchell",
   "metadata": {},
   "source": [
    "Также, если в системе установлен `Graphviz` `PyGraphviz` или `pydot`, можно использовать следующие функции:"
   ]
  },
  {
   "cell_type": "markdown",
   "id": "rotary-christian",
   "metadata": {},
   "source": [
    "Создадим тетраграф:"
   ]
  },
  {
   "cell_type": "code",
   "execution_count": 77,
   "id": "continuing-bristol",
   "metadata": {
    "jupyter": {
     "outputs_hidden": false
    }
   },
   "outputs": [],
   "source": [
    ">>> tet=nx.tetrahedral_graph()"
   ]
  },
  {
   "cell_type": "markdown",
   "id": "neither-priority",
   "metadata": {},
   "source": [
    "для большей наглядности посмотрим на список его вершин и ребер:"
   ]
  },
  {
   "cell_type": "code",
   "execution_count": 78,
   "id": "frozen-sheet",
   "metadata": {
    "jupyter": {
     "outputs_hidden": false
    }
   },
   "outputs": [
    {
     "data": {
      "text/plain": [
       "NodeView((0, 1, 2, 3))"
      ]
     },
     "execution_count": 78,
     "metadata": {},
     "output_type": "execute_result"
    }
   ],
   "source": [
    ">>> tet.nodes()"
   ]
  },
  {
   "cell_type": "code",
   "execution_count": 79,
   "id": "ceramic-bones",
   "metadata": {
    "jupyter": {
     "outputs_hidden": false
    }
   },
   "outputs": [
    {
     "data": {
      "text/plain": [
       "EdgeView([(0, 1), (0, 2), (0, 3), (1, 2), (1, 3), (2, 3)])"
      ]
     },
     "execution_count": 79,
     "metadata": {},
     "output_type": "execute_result"
    }
   ],
   "source": [
    ">>> tet.edges()"
   ]
  },
  {
   "cell_type": "markdown",
   "id": "cheap-myanmar",
   "metadata": {},
   "source": [
    "Теперь отрисуем его и сохраним файл на диск:"
   ]
  },
  {
   "cell_type": "code",
   "execution_count": 80,
   "id": "grateful-trader",
   "metadata": {
    "jupyter": {
     "outputs_hidden": false
    }
   },
   "outputs": [
    {
     "data": {
      "image/png": "[encoded data removed]",
      "text/plain": [
       "<Figure size 432x288 with 1 Axes>"
      ]
     },
     "metadata": {},
     "output_type": "display_data"
    }
   ],
   "source": [
    ">>> nx.draw_networkx(tet)"
   ]
  },
  {
   "cell_type": "code",
   "execution_count": 81,
   "id": "boolean-garden",
   "metadata": {
    "jupyter": {
     "outputs_hidden": false
    }
   },
   "outputs": [
    {
     "data": {
      "image/png": "[encoded data removed]",
      "text/plain": [
       "<Figure size 432x288 with 1 Axes>"
      ]
     },
     "metadata": {},
     "output_type": "display_data"
    }
   ],
   "source": [
    "G = nx.dodecahedral_graph()\n",
    "\n",
    "shells = [[2, 3, 4, 5, 6], [8, 1, 0, 19, 18, 17, 16, 15, 14, 7], [9, 10, 11, 12, 13]]\n",
    "\n",
    "nx.draw_shell(G, nlist=shells)"
   ]
  },
  {
   "cell_type": "code",
   "execution_count": 82,
   "id": "auburn-triangle",
   "metadata": {},
   "outputs": [
    {
     "data": {
      "image/png": "[encoded data removed]",
      "text/plain": [
       "<Figure size 432x288 with 1 Axes>"
      ]
     },
     "metadata": {},
     "output_type": "display_data"
    }
   ],
   "source": [
    "nx.draw(G)\n",
    "\n",
    "plt.savefig(\"path.png\")"
   ]
  },
  {
   "cell_type": "markdown",
   "id": "infectious-dialogue",
   "metadata": {},
   "source": [
    "### Индивидуальное задание"
   ]
  },
  {
   "cell_type": "markdown",
   "id": "alleged-edgar",
   "metadata": {},
   "source": [
    "#### Базовая работа с графами"
   ]
  },
  {
   "cell_type": "markdown",
   "id": "exterior-november",
   "metadata": {},
   "source": [
    "Задайте переменную `spisok`, в которую занесите любые семь элементов из следующего набора данных (выбирается согласно варианту):\n",
    "\n",
    "1. Список дней недели.\n",
    "\n",
    "2. Список из семи любых фамилий студентов, присутствующих в аудитории.\n",
    "\n",
    "3. Список из семи любых названий месяцев.\n",
    "\n",
    "4. Список из семи любых имен студентов, присутствующих в аудитории. \n",
    "\n",
    "5. Список из семи любых названий предметов в расписании. \n",
    "\n",
    "6. Список из семи любых предметов в вашем рюкзаке. \n",
    "\n",
    "7. Название любых семи улиц города.\n",
    "\n",
    "8. Название любых семи городов.\n",
    "\n",
    "9. Название любых семи марок автомобилей.\n",
    "\n",
    "10. Название любых семи деталей компьютера.\n",
    "\n",
    "11. Название любых семи фильмов.\n",
    "\n",
    "12. Название любых семи стран.\n",
    "\n",
    "\n",
    "* Создайте граф G,включающий в себя все элементы списка в виде вершин\n",
    "\n",
    "* Соедините связями первый, третий, четвертый, последний и предпоследний элементы графа G\n",
    "\n",
    "* Создайте графы G1,G2,G3 разделив список элементов на три части - в G1 должны входить первые три элемента, в G2 - один, в G3 - тоже три.\n",
    "\n",
    "* Создайте новый граф G_all, в который бы в виде элементов входили три графа из предыдущего задания (G1,G2,G3)\n",
    "\n",
    "* Соедините связями первую и последнюю вершину в графе G_all\n",
    "\n",
    "* Добавьте к графу G_all еще одну, любую вершину\n",
    "\n",
    "* Добавьте еще одну, любую вершину к любому из субграфов G_all (то есть в G1,G2 или в G3)\n",
    "\n",
    "* Удалите из графа G_all все субграфы и вершины кроме первого\n",
    "\n",
    "**Обратите внимание**: до и после каждого действия следует проверять его результаты, распечатывая списки вершин и ребер графов.\n",
    "\n",
    "* визуализируйте графы G_all, G1, G2, G3 средствами matplotlib\n",
    "\n",
    "* визуализируйте графы G_all, G1, G2, G3 средствами graphviz (через pygraphviz - как это продемонстрировано выше) - приведите .png и .dot файлы в отчете"
   ]
  },
  {
   "cell_type": "code",
   "execution_count": null,
   "id": "excellent-silver",
   "metadata": {
    "jupyter": {
     "outputs_hidden": false
    }
   },
   "outputs": [],
   "source": []
  }
 ],
 "metadata": {
  "kernelspec": {
   "display_name": "Python 3 (ipykernel)",
   "language": "python",
   "name": "python3"
  },
  "language_info": {
   "codemirror_mode": {
    "name": "ipython",
    "version": 3
   },
   "file_extension": ".py",
   "mimetype": "text/x-python",
   "name": "python",
   "nbconvert_exporter": "python",
   "pygments_lexer": "ipython3",
   "version": "3.9.2"
  }
 },
 "nbformat": 4,
 "nbformat_minor": 5
}
