{
 "cells": [
  {
   "cell_type": "markdown",
   "id": "babeefb8-80a8-4fbe-94ad-23561506bf0a",
   "metadata": {},
   "source": [
    "https://news.ycombinator.com/item?id=23770180"
   ]
  },
  {
   "cell_type": "markdown",
   "id": "f536c53a-60ab-4b5e-b7b3-d9d2a2466484",
   "metadata": {},
   "source": [
    "Majromax on July 8, 2020 | parent | context | favorite | on: SymPy - a Python library for symbolic mathematics\n",
    "\n",
    "I like SymPy as a light-weight CAS. I don't have any heavy symbolic computational needs, but it fills a gap between \"simple enough to work out with pen and paper, without error\" and \"so complicated that it's best to stick to numerical simulation.\"\n",
    "\n",
    "However, as a slightly-more-than-beginner user I have a frustrating time getting SymPy to take simplifications that I know are valid. As a result the generated answers are correct but so complicated that the \"simple intuitive understanding\" goal of the symbolic computation is lost.\n",
    "\n",
    "This can come down to having implicit assumptions that I haven't told SymPy (such as variables being real-valued, or it being okay to take the principal roots of exp(I <stuff>)), but not always.\n",
    "\n",
    "As a minimal example:"
   ]
  },
  {
   "cell_type": "code",
   "execution_count": 2,
   "id": "3d2531da-5d2b-4845-861e-51a4f5613a57",
   "metadata": {},
   "outputs": [],
   "source": [
    "  import sympy as sp # Import SymPy"
   ]
  },
  {
   "cell_type": "code",
   "execution_count": 3,
   "id": "6dbc8087-6162-48d4-a35a-e275e0f16e5a",
   "metadata": {},
   "outputs": [],
   "source": [
    "  # Define variables; note they're marked as real-valued\n",
    "  x = sp.Symbol('x', real=True);\n",
    "  t = sp.Symbol('t', real=True);"
   ]
  },
  {
   "cell_type": "code",
   "execution_count": 4,
   "id": "16b2be77-762a-4473-b29b-78c34199efd7",
   "metadata": {},
   "outputs": [
    {
     "name": "stdout",
     "output_type": "stream",
     "text": [
      "exp(-I*t + x) + exp(I*t + x)\n"
     ]
    }
   ],
   "source": [
    "  # Get our simple expression: 2*cos(t)*exp(x) but written in complex form\n",
    "  foo = sp.exp((x+sp.I*t)) + sp.exp((x-sp.I*t))\n",
    "  print(str(foo))"
   ]
  },
  {
   "cell_type": "code",
   "execution_count": 12,
   "id": "eedd269c-1d6d-4d26-bc89-a98e00f8f756",
   "metadata": {},
   "outputs": [
    {
     "data": {
      "text/latex": [
       "$\\displaystyle e^{- i t + x} + e^{i t + x}$"
      ],
      "text/plain": [
       "exp(-I*t + x) + exp(I*t + x)"
      ]
     },
     "execution_count": 12,
     "metadata": {},
     "output_type": "execute_result"
    }
   ],
   "source": [
    "# Get our simple expression: 2*cos(t)*exp(x) but written in complex form\n",
    "foo = sp.exp((x+sp.I*t)) + sp.exp((x-sp.I*t))\n",
    "foo"
   ]
  },
  {
   "cell_type": "code",
   "execution_count": 5,
   "id": "68d48e9e-aa7c-4ecf-b4ee-c48a3303682b",
   "metadata": {},
   "outputs": [
    {
     "name": "stdout",
     "output_type": "stream",
     "text": [
      "(exp(2*I*t) + 1)*exp(-I*t + x)\n"
     ]
    }
   ],
   "source": [
    "  # Prints exp(-I*t + x) + exp(I*t + x)\n",
    "  print(str(foo.simplify()))"
   ]
  },
  {
   "cell_type": "code",
   "execution_count": 13,
   "id": "fa69852d-197d-4943-9c09-9b1f26add6a3",
   "metadata": {},
   "outputs": [
    {
     "data": {
      "text/latex": [
       "$\\displaystyle \\left(e^{2 i t} + 1\\right) e^{- i t + x}$"
      ],
      "text/plain": [
       "(exp(2*I*t) + 1)*exp(-I*t + x)"
      ]
     },
     "execution_count": 13,
     "metadata": {},
     "output_type": "execute_result"
    }
   ],
   "source": [
    "# Prints exp(-I*t + x) + exp(I*t + x)\n",
    "foo.simplify()"
   ]
  },
  {
   "cell_type": "code",
   "execution_count": 6,
   "id": "064a5047-e2a8-4f39-b826-5dfff8abfbef",
   "metadata": {},
   "outputs": [],
   "source": [
    "  # Still prints exp(-I*t + x) + exp(I*t + x) -- SymPy thinks this is the simplest form?"
   ]
  },
  {
   "cell_type": "code",
   "execution_count": 7,
   "id": "1962e10d-5232-494f-b781-6920d06a0c52",
   "metadata": {},
   "outputs": [
    {
     "name": "stdout",
     "output_type": "stream",
     "text": [
      "2*cos(t)\n"
     ]
    }
   ],
   "source": [
    "  print(str((foo/sp.exp(x)).simplify())) # Help it along\n",
    "  # Prints 2*cos(t)"
   ]
  },
  {
   "cell_type": "code",
   "execution_count": 14,
   "id": "72ba37b4-25e2-4cd4-916c-d1f61287e48a",
   "metadata": {},
   "outputs": [
    {
     "data": {
      "text/latex": [
       "$\\displaystyle 2 \\cos{\\left(t \\right)}$"
      ],
      "text/plain": [
       "2*cos(t)"
      ]
     },
     "execution_count": 14,
     "metadata": {},
     "output_type": "execute_result"
    }
   ],
   "source": [
    "(foo/sp.exp(x)).simplify()"
   ]
  },
  {
   "cell_type": "markdown",
   "id": "77e2d9bd-4272-4e39-adc6-34cfb13eb2a5",
   "metadata": {},
   "source": [
    " Obviously, forcing SymPy to do the desired thing gets worse with more complicated expressions. Sometimes I can bash it into compliance with liberal use of `rewrite` or by demanding it simplify term-by-term, but if I'm deconstructing the expression only to reassemble it at the end then I'm not sure I'm still gaining much out of it as a computer algebra system.\n",
    " "
   ]
  },
  {
   "cell_type": "markdown",
   "id": "1d4fcbe7-9a70-438e-a2ed-615528cc65f4",
   "metadata": {},
   "source": [
    "ogogmad on July 8, 2020 [–]\n",
    "\n",
    "For your particular example, try foo.rewrite(cos). If you work with trigonometric expressions, it often pays to randomly do foo.rewrite(cos) or foo.rewrite(exp) along with simplify().\n",
    "\n",
    "Your larger point is true though, at least from my experience. "
   ]
  },
  {
   "cell_type": "code",
   "execution_count": 15,
   "id": "1adb22a5-ba7b-4029-8df2-5b784482e871",
   "metadata": {},
   "outputs": [
    {
     "data": {
      "text/latex": [
       "$\\displaystyle - i \\sin{\\left(i \\left(- i t + x\\right) \\right)} - i \\sin{\\left(i \\left(i t + x\\right) \\right)} + \\cos{\\left(i \\left(- i t + x\\right) \\right)} + \\cos{\\left(i \\left(i t + x\\right) \\right)}$"
      ],
      "text/plain": [
       "-I*sin(I*(-I*t + x)) - I*sin(I*(I*t + x)) + cos(I*(-I*t + x)) + cos(I*(I*t + x))"
      ]
     },
     "execution_count": 15,
     "metadata": {},
     "output_type": "execute_result"
    }
   ],
   "source": [
    "foo.rewrite(sp.cos)"
   ]
  },
  {
   "cell_type": "code",
   "execution_count": 16,
   "id": "f6530907-9e75-4668-b998-96e67fc8992c",
   "metadata": {},
   "outputs": [
    {
     "data": {
      "text/latex": [
       "$\\displaystyle 2 e^{x} \\cos{\\left(t \\right)}$"
      ],
      "text/plain": [
       "2*exp(x)*cos(t)"
      ]
     },
     "execution_count": 16,
     "metadata": {},
     "output_type": "execute_result"
    }
   ],
   "source": [
    "foo.rewrite(sp.cos).simplify()"
   ]
  },
  {
   "cell_type": "markdown",
   "id": "19e62b43-cc37-4896-a6b3-39e44ab49bea",
   "metadata": {},
   "source": [
    " Majromax on July 8, 2020 | parent [–]\n",
    "\n",
    "Alas, sp.rewrite doesn't quite do what I want for the slightly more complicated (with new symbol 'k' suitably defined):\n",
    "\n",
    "  bar = sp.exp(sp.I*(x + k - t)) - sp.exp(sp.I*(x+k+t))\n",
    "\n",
    "The desired output would be 2 cos(t) exp(I(x+k)), but rewrite and simplify works on an all-or-nothing basis, affecting exp(I(x+k)) as well.\n",
    "\n",
    "My mental framework is to come at this from something like a signal engineering perspective, looking at amplitude-modulated single frequencies. However, expressing that intent in a way that SymPy understands is for now beyond me.\n",
    "\n",
    "My problem may ultimately be one of documentation. The basic SymPy tutorials are quite nice, and the raw documentation for the functions... exists, but I have yet to find good examples of intermediate to advanced use discussing the \"what and why\" of accomplishing nontrivial goals. "
   ]
  },
  {
   "cell_type": "code",
   "execution_count": 17,
   "id": "6415bb18-0fa6-4ea3-b955-686c7e3dc3e6",
   "metadata": {},
   "outputs": [],
   "source": [
    "k = sp.Symbol('k', real = True)\n",
    "bar = sp.exp(sp.I*(x + k - t)) - sp.exp(sp.I*(x+k+t))"
   ]
  },
  {
   "cell_type": "code",
   "execution_count": 18,
   "id": "71c09233-3f66-4973-9d4d-dac026c2640a",
   "metadata": {},
   "outputs": [
    {
     "data": {
      "text/latex": [
       "$\\displaystyle e^{i \\left(k - t + x\\right)} - e^{i \\left(k + t + x\\right)}$"
      ],
      "text/plain": [
       "exp(I*(k - t + x)) - exp(I*(k + t + x))"
      ]
     },
     "execution_count": 18,
     "metadata": {},
     "output_type": "execute_result"
    }
   ],
   "source": [
    "bar"
   ]
  },
  {
   "cell_type": "code",
   "execution_count": 19,
   "id": "f1680007-01aa-4f2f-95dc-b1905266426b",
   "metadata": {},
   "outputs": [
    {
     "data": {
      "text/latex": [
       "$\\displaystyle e^{i \\left(k - t + x\\right)} - e^{i \\left(k + t + x\\right)}$"
      ],
      "text/plain": [
       "exp(I*(k - t + x)) - exp(I*(k + t + x))"
      ]
     },
     "execution_count": 19,
     "metadata": {},
     "output_type": "execute_result"
    }
   ],
   "source": [
    "bar.simplify()"
   ]
  },
  {
   "cell_type": "code",
   "execution_count": 21,
   "id": "97dfe4cd-ea5b-4de9-88dd-41496d8f279f",
   "metadata": {},
   "outputs": [
    {
     "data": {
      "text/latex": [
       "$\\displaystyle e^{i \\left(k - t + x\\right)} - e^{i \\left(k + t + x\\right)}$"
      ],
      "text/plain": [
       "exp(I*(k - t + x)) - exp(I*(k + t + x))"
      ]
     },
     "execution_count": 21,
     "metadata": {},
     "output_type": "execute_result"
    }
   ],
   "source": [
    "bar.rewrite(sp.exp)"
   ]
  },
  {
   "cell_type": "code",
   "execution_count": 22,
   "id": "15a07a25-5e6f-48de-adc9-b128d6501d95",
   "metadata": {},
   "outputs": [
    {
     "data": {
      "text/latex": [
       "$\\displaystyle i \\sin{\\left(k - t + x \\right)} - i \\sin{\\left(k + t + x \\right)} + \\cos{\\left(k - t + x \\right)} - \\cos{\\left(k + t + x \\right)}$"
      ],
      "text/plain": [
       "I*sin(k - t + x) - I*sin(k + t + x) + cos(k - t + x) - cos(k + t + x)"
      ]
     },
     "execution_count": 22,
     "metadata": {},
     "output_type": "execute_result"
    }
   ],
   "source": [
    "bar.rewrite(sp.cos)"
   ]
  },
  {
   "cell_type": "code",
   "execution_count": 25,
   "id": "16de0ba8-4986-4180-8f02-4460db2e72dc",
   "metadata": {},
   "outputs": [
    {
     "data": {
      "text/latex": [
       "$\\displaystyle e^{i \\left(k - t + x\\right)} - e^{i \\left(k + t + x\\right)}$"
      ],
      "text/plain": [
       "exp(I*(k - t + x)) - exp(I*(k + t + x))"
      ]
     },
     "execution_count": 25,
     "metadata": {},
     "output_type": "execute_result"
    }
   ],
   "source": [
    "bar.rewrite(sp.cos).simplify()"
   ]
  },
  {
   "cell_type": "code",
   "execution_count": null,
   "id": "9a07c9e1-60eb-4936-b868-960fb57090b1",
   "metadata": {},
   "outputs": [],
   "source": []
  },
  {
   "cell_type": "code",
   "execution_count": null,
   "id": "83893dff-b82e-448b-a35b-d3b182c933dc",
   "metadata": {},
   "outputs": [],
   "source": []
  }
 ],
 "metadata": {
  "kernelspec": {
   "display_name": "Python 3 (ipykernel)",
   "language": "python",
   "name": "python3"
  },
  "language_info": {
   "codemirror_mode": {
    "name": "ipython",
    "version": 3
   },
   "file_extension": ".py",
   "mimetype": "text/x-python",
   "name": "python",
   "nbconvert_exporter": "python",
   "pygments_lexer": "ipython3",
   "version": "3.9.2"
  }
 },
 "nbformat": 4,
 "nbformat_minor": 5
}
