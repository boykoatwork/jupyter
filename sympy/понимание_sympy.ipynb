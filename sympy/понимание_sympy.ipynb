{
 "cells": [
  {
   "cell_type": "markdown",
   "id": "7b6e3d55-2aa0-4fe2-a512-9efad259933f",
   "metadata": {
    "tags": []
   },
   "source": [
    "https://www.sympy.org/en/index.html\n",
    "\n",
    "https://docs.sympy.org/latest/tutorial/index.html#tutorial\n"
   ]
  },
  {
   "cell_type": "code",
   "execution_count": 1,
   "id": "08054226-be92-4aad-bd90-72297ae33489",
   "metadata": {},
   "outputs": [],
   "source": [
    "import sympy"
   ]
  },
  {
   "cell_type": "code",
   "execution_count": 3,
   "id": "c4e6eadd-baa4-4e7e-a01d-918e0d9d51a5",
   "metadata": {},
   "outputs": [],
   "source": [
    "x, y, z, t = sympy.symbols('x y z t')"
   ]
  },
  {
   "cell_type": "code",
   "execution_count": 4,
   "id": "3ecc515b-87c4-4140-adc4-c8c36759ceb6",
   "metadata": {},
   "outputs": [
    {
     "data": {
      "text/latex": [
       "$\\displaystyle x$"
      ],
      "text/plain": [
       "x"
      ]
     },
     "execution_count": 4,
     "metadata": {},
     "output_type": "execute_result"
    }
   ],
   "source": [
    "x"
   ]
  },
  {
   "cell_type": "code",
   "execution_count": 6,
   "id": "0ac49279-cbfb-4835-817b-0668a9f12e66",
   "metadata": {},
   "outputs": [
    {
     "data": {
      "text/plain": [
       "sympy.core.symbol.Symbol"
      ]
     },
     "execution_count": 6,
     "metadata": {},
     "output_type": "execute_result"
    }
   ],
   "source": [
    "type(x)"
   ]
  },
  {
   "cell_type": "code",
   "execution_count": 8,
   "id": "91526440-f597-4bf6-bde3-810b57b7a22d",
   "metadata": {},
   "outputs": [],
   "source": [
    "k, m, n = sympy.symbols('k m n', integer=True)"
   ]
  },
  {
   "cell_type": "code",
   "execution_count": 10,
   "id": "63420f70-b12a-4534-986d-093a1cc376fb",
   "metadata": {},
   "outputs": [
    {
     "data": {
      "text/plain": [
       "\u001b[0;31mSignature:\u001b[0m \u001b[0msympy\u001b[0m\u001b[0;34m.\u001b[0m\u001b[0msymbols\u001b[0m\u001b[0;34m(\u001b[0m\u001b[0mnames\u001b[0m\u001b[0;34m,\u001b[0m \u001b[0;34m*\u001b[0m\u001b[0;34m,\u001b[0m \u001b[0mcls\u001b[0m\u001b[0;34m=\u001b[0m\u001b[0;34m<\u001b[0m\u001b[0;32mclass\u001b[0m \u001b[0;34m'sympy.core.symbol.Symbol'\u001b[0m\u001b[0;34m>\u001b[0m\u001b[0;34m,\u001b[0m \u001b[0;34m**\u001b[0m\u001b[0margs\u001b[0m\u001b[0;34m)\u001b[0m\u001b[0;34m\u001b[0m\u001b[0;34m\u001b[0m\u001b[0m\n",
       "\u001b[0;31mDocstring:\u001b[0m\n",
       "Transform strings into instances of :class:`Symbol` class.\n",
       "\n",
       ":func:`symbols` function returns a sequence of symbols with names taken\n",
       "from ``names`` argument, which can be a comma or whitespace delimited\n",
       "string, or a sequence of strings::\n",
       "\n",
       "    >>> from sympy import symbols, Function\n",
       "\n",
       "    >>> x, y, z = symbols('x,y,z')\n",
       "    >>> a, b, c = symbols('a b c')\n",
       "\n",
       "The type of output is dependent on the properties of input arguments::\n",
       "\n",
       "    >>> symbols('x')\n",
       "    x\n",
       "    >>> symbols('x,')\n",
       "    (x,)\n",
       "    >>> symbols('x,y')\n",
       "    (x, y)\n",
       "    >>> symbols(('a', 'b', 'c'))\n",
       "    (a, b, c)\n",
       "    >>> symbols(['a', 'b', 'c'])\n",
       "    [a, b, c]\n",
       "    >>> symbols({'a', 'b', 'c'})\n",
       "    {a, b, c}\n",
       "\n",
       "If an iterable container is needed for a single symbol, set the ``seq``\n",
       "argument to ``True`` or terminate the symbol name with a comma::\n",
       "\n",
       "    >>> symbols('x', seq=True)\n",
       "    (x,)\n",
       "\n",
       "To reduce typing, range syntax is supported to create indexed symbols.\n",
       "Ranges are indicated by a colon and the type of range is determined by\n",
       "the character to the right of the colon. If the character is a digit\n",
       "then all contiguous digits to the left are taken as the nonnegative\n",
       "starting value (or 0 if there is no digit left of the colon) and all\n",
       "contiguous digits to the right are taken as 1 greater than the ending\n",
       "value::\n",
       "\n",
       "    >>> symbols('x:10')\n",
       "    (x0, x1, x2, x3, x4, x5, x6, x7, x8, x9)\n",
       "\n",
       "    >>> symbols('x5:10')\n",
       "    (x5, x6, x7, x8, x9)\n",
       "    >>> symbols('x5(:2)')\n",
       "    (x50, x51)\n",
       "\n",
       "    >>> symbols('x5:10,y:5')\n",
       "    (x5, x6, x7, x8, x9, y0, y1, y2, y3, y4)\n",
       "\n",
       "    >>> symbols(('x5:10', 'y:5'))\n",
       "    ((x5, x6, x7, x8, x9), (y0, y1, y2, y3, y4))\n",
       "\n",
       "If the character to the right of the colon is a letter, then the single\n",
       "letter to the left (or 'a' if there is none) is taken as the start\n",
       "and all characters in the lexicographic range *through* the letter to\n",
       "the right are used as the range::\n",
       "\n",
       "    >>> symbols('x:z')\n",
       "    (x, y, z)\n",
       "    >>> symbols('x:c')  # null range\n",
       "    ()\n",
       "    >>> symbols('x(:c)')\n",
       "    (xa, xb, xc)\n",
       "\n",
       "    >>> symbols(':c')\n",
       "    (a, b, c)\n",
       "\n",
       "    >>> symbols('a:d, x:z')\n",
       "    (a, b, c, d, x, y, z)\n",
       "\n",
       "    >>> symbols(('a:d', 'x:z'))\n",
       "    ((a, b, c, d), (x, y, z))\n",
       "\n",
       "Multiple ranges are supported; contiguous numerical ranges should be\n",
       "separated by parentheses to disambiguate the ending number of one\n",
       "range from the starting number of the next::\n",
       "\n",
       "    >>> symbols('x:2(1:3)')\n",
       "    (x01, x02, x11, x12)\n",
       "    >>> symbols(':3:2')  # parsing is from left to right\n",
       "    (00, 01, 10, 11, 20, 21)\n",
       "\n",
       "Only one pair of parentheses surrounding ranges are removed, so to\n",
       "include parentheses around ranges, double them. And to include spaces,\n",
       "commas, or colons, escape them with a backslash::\n",
       "\n",
       "    >>> symbols('x((a:b))')\n",
       "    (x(a), x(b))\n",
       "    >>> symbols(r'x(:1\\,:2)')  # or r'x((:1)\\,(:2))'\n",
       "    (x(0,0), x(0,1))\n",
       "\n",
       "All newly created symbols have assumptions set according to ``args``::\n",
       "\n",
       "    >>> a = symbols('a', integer=True)\n",
       "    >>> a.is_integer\n",
       "    True\n",
       "\n",
       "    >>> x, y, z = symbols('x,y,z', real=True)\n",
       "    >>> x.is_real and y.is_real and z.is_real\n",
       "    True\n",
       "\n",
       "Despite its name, :func:`symbols` can create symbol-like objects like\n",
       "instances of Function or Wild classes. To achieve this, set ``cls``\n",
       "keyword argument to the desired type::\n",
       "\n",
       "    >>> symbols('f,g,h', cls=Function)\n",
       "    (f, g, h)\n",
       "\n",
       "    >>> type(_[0])\n",
       "    <class 'sympy.core.function.UndefinedFunction'>\n",
       "\u001b[0;31mFile:\u001b[0m      ~/env/jupyter_work/lib/python3.9/site-packages/sympy/core/symbol.py\n",
       "\u001b[0;31mType:\u001b[0m      function\n"
      ]
     },
     "metadata": {},
     "output_type": "display_data"
    }
   ],
   "source": [
    "f, g, h = sympy.symbols?"
   ]
  },
  {
   "cell_type": "code",
   "execution_count": 11,
   "id": "0471f8bc-bb17-41c6-93b6-26f86529fda4",
   "metadata": {},
   "outputs": [
    {
     "data": {
      "text/latex": [
       "$\\displaystyle \\sqrt{3}$"
      ],
      "text/plain": [
       "sqrt(3)"
      ]
     },
     "execution_count": 11,
     "metadata": {},
     "output_type": "execute_result"
    }
   ],
   "source": [
    "sympy.sqrt(3)"
   ]
  },
  {
   "cell_type": "code",
   "execution_count": 12,
   "id": "360819e9-8af1-4862-8efb-e4805de93205",
   "metadata": {},
   "outputs": [
    {
     "data": {
      "text/latex": [
       "$\\displaystyle 2 \\sqrt{2}$"
      ],
      "text/plain": [
       "2*sqrt(2)"
      ]
     },
     "execution_count": 12,
     "metadata": {},
     "output_type": "execute_result"
    }
   ],
   "source": [
    "sympy.sqrt(8)"
   ]
  },
  {
   "cell_type": "code",
   "execution_count": 13,
   "id": "656d5a6d-40f1-4e06-9a09-0b00d064cd67",
   "metadata": {},
   "outputs": [],
   "source": [
    "expr = x + 2*y"
   ]
  },
  {
   "cell_type": "code",
   "execution_count": 14,
   "id": "cbdae9f7-0c50-44db-9fc9-b2eaed61b36e",
   "metadata": {},
   "outputs": [
    {
     "data": {
      "text/latex": [
       "$\\displaystyle x + 2 y$"
      ],
      "text/plain": [
       "x + 2*y"
      ]
     },
     "execution_count": 14,
     "metadata": {},
     "output_type": "execute_result"
    }
   ],
   "source": [
    "expr"
   ]
  },
  {
   "cell_type": "code",
   "execution_count": 15,
   "id": "c7e911be-cd36-4273-a8b4-c50893605e1b",
   "metadata": {},
   "outputs": [
    {
     "data": {
      "text/latex": [
       "$\\displaystyle x + 2 y + 1$"
      ],
      "text/plain": [
       "x + 2*y + 1"
      ]
     },
     "execution_count": 15,
     "metadata": {},
     "output_type": "execute_result"
    }
   ],
   "source": [
    "expr + 1"
   ]
  },
  {
   "cell_type": "code",
   "execution_count": 16,
   "id": "7c341647-21db-417c-a339-9e599e895fb1",
   "metadata": {},
   "outputs": [
    {
     "data": {
      "text/latex": [
       "$\\displaystyle 2 y$"
      ],
      "text/plain": [
       "2*y"
      ]
     },
     "execution_count": 16,
     "metadata": {},
     "output_type": "execute_result"
    }
   ],
   "source": [
    "expr - x"
   ]
  },
  {
   "cell_type": "code",
   "execution_count": 17,
   "id": "d33f1857-56e2-48e9-9bcc-8a00c37a5af4",
   "metadata": {},
   "outputs": [
    {
     "data": {
      "text/latex": [
       "$\\displaystyle x \\left(x + 2 y\\right)$"
      ],
      "text/plain": [
       "x*(x + 2*y)"
      ]
     },
     "execution_count": 17,
     "metadata": {},
     "output_type": "execute_result"
    }
   ],
   "source": [
    "x * expr"
   ]
  },
  {
   "cell_type": "code",
   "execution_count": 18,
   "id": "4351ec50-af3c-45a1-a128-22fd48d661ad",
   "metadata": {},
   "outputs": [],
   "source": [
    "x, t, z, nu = sympy.symbols('x t z nu')"
   ]
  },
  {
   "cell_type": "code",
   "execution_count": 20,
   "id": "398a5309-8f4f-4985-b4d0-b8b59dd4fe3c",
   "metadata": {},
   "outputs": [
    {
     "data": {
      "text/latex": [
       "$\\displaystyle e^{x} \\sin{\\left(x \\right)} + e^{x} \\cos{\\left(x \\right)}$"
      ],
      "text/plain": [
       "exp(x)*sin(x) + exp(x)*cos(x)"
      ]
     },
     "execution_count": 20,
     "metadata": {},
     "output_type": "execute_result"
    }
   ],
   "source": [
    "sympy.diff(sympy.sin(x) * sympy.exp(x), x)"
   ]
  },
  {
   "cell_type": "code",
   "execution_count": 21,
   "id": "36f0f659-0e64-4df9-84ba-768e9eed7a8e",
   "metadata": {},
   "outputs": [
    {
     "data": {
      "text/latex": [
       "$\\displaystyle e^{x} \\sin{\\left(x \\right)}$"
      ],
      "text/plain": [
       "exp(x)*sin(x)"
      ]
     },
     "execution_count": 21,
     "metadata": {},
     "output_type": "execute_result"
    }
   ],
   "source": [
    "sympy.integrate(sympy.exp(x) * sympy.sin(x) + sympy.exp(x) * sympy.cos(x), x)"
   ]
  },
  {
   "cell_type": "markdown",
   "id": "158f4904-ab92-40a2-9fd8-6935b2eea1d4",
   "metadata": {},
   "source": [
    "https://www.pythonpool.com/python-infinity/"
   ]
  },
  {
   "cell_type": "code",
   "execution_count": 33,
   "id": "003044b2-a8fd-4511-a267-c828c1e318a3",
   "metadata": {},
   "outputs": [
    {
     "data": {
      "text/latex": [
       "$\\displaystyle \\frac{\\sqrt{2} \\sqrt{\\pi}}{2}$"
      ],
      "text/plain": [
       "sqrt(2)*sqrt(pi)/2"
      ]
     },
     "execution_count": 33,
     "metadata": {},
     "output_type": "execute_result"
    }
   ],
   "source": [
    "sympy.integrate(sympy.sin(x**2), (x, -sympy.oo, sympy.oo))"
   ]
  },
  {
   "cell_type": "code",
   "execution_count": 34,
   "id": "dcdc759a-d871-4848-a97f-73ac0f9d1f48",
   "metadata": {},
   "outputs": [
    {
     "data": {
      "text/latex": [
       "$\\displaystyle 1$"
      ],
      "text/plain": [
       "1"
      ]
     },
     "execution_count": 34,
     "metadata": {},
     "output_type": "execute_result"
    }
   ],
   "source": [
    "sympy.limit(sympy.sin(x) / x, x , 0)"
   ]
  },
  {
   "cell_type": "markdown",
   "id": "d971e7d9-3bbb-48b0-b33c-efa90a763ac0",
   "metadata": {},
   "source": [
    "решение уравнений"
   ]
  },
  {
   "cell_type": "code",
   "execution_count": 35,
   "id": "19883b10-5a16-4a7e-bdd7-7627efa5689d",
   "metadata": {},
   "outputs": [
    {
     "data": {
      "text/plain": [
       "[-sqrt(2), sqrt(2)]"
      ]
     },
     "execution_count": 35,
     "metadata": {},
     "output_type": "execute_result"
    }
   ],
   "source": [
    "sympy.solve(x ** 2 - 2, x)"
   ]
  },
  {
   "cell_type": "markdown",
   "id": "84594da3-7a44-4d31-97e1-709bdb3b96f4",
   "metadata": {},
   "source": [
    "решение дифуров"
   ]
  },
  {
   "cell_type": "code",
   "execution_count": 37,
   "id": "2a581a97-d334-4562-90d6-c94dcd724cdb",
   "metadata": {},
   "outputs": [
    {
     "data": {
      "text/latex": [
       "$\\displaystyle y{\\left(t \\right)} = C_{2} e^{- t} + \\left(C_{1} + \\frac{t}{2}\\right) e^{t}$"
      ],
      "text/plain": [
       "Eq(y(t), C2*exp(-t) + (C1 + t/2)*exp(t))"
      ]
     },
     "execution_count": 37,
     "metadata": {},
     "output_type": "execute_result"
    }
   ],
   "source": [
    "y = sympy.Function('y')\n",
    "\n",
    "sympy.dsolve(sympy.Eq(y(t).diff(t,t) - y(t), sympy.exp(t)), y(t))"
   ]
  },
  {
   "cell_type": "markdown",
   "id": "084bd48a-689a-4bac-8d60-b27da0df174a",
   "metadata": {},
   "source": [
    "работа с матрицами"
   ]
  },
  {
   "cell_type": "code",
   "execution_count": 40,
   "id": "e2bd5002-bf07-4d99-878f-08b44fdc0bd7",
   "metadata": {},
   "outputs": [
    {
     "data": {
      "text/plain": [
       "{3/2 - sqrt(17)/2: 1, 3/2 + sqrt(17)/2: 1}"
      ]
     },
     "execution_count": 40,
     "metadata": {},
     "output_type": "execute_result"
    }
   ],
   "source": [
    "sympy.Matrix([[1,2], [2,2]]).eigenvals()"
   ]
  },
  {
   "cell_type": "code",
   "execution_count": 40,
   "id": "c9c358b9",
   "metadata": {},
   "outputs": [
    {
     "data": {
      "text/plain": [
       "{3/2 - sqrt(17)/2: 1, 3/2 + sqrt(17)/2: 1}"
      ]
     },
     "execution_count": 40,
     "metadata": {},
     "output_type": "execute_result"
    }
   ],
   "source": [
    "sympy.Matrix([[1,2], [2,2]]).eigenvals()"
   ]
  },
  {
   "cell_type": "code",
   "execution_count": 45,
   "id": "3bf6294e-ac9d-478a-98e8-c0b4018d3ce4",
   "metadata": {},
   "outputs": [],
   "source": [
    "from sympy import *"
   ]
  },
  {
   "cell_type": "code",
   "execution_count": 46,
   "id": "e89ba193-dbbd-4643-9199-0e7d1199c515",
   "metadata": {},
   "outputs": [
    {
     "data": {
      "text/plain": [
       "'\\\\int\\\\limits_{0}^{\\\\pi} \\\\cos^{2}{\\\\left(x \\\\right)}\\\\, dx'"
      ]
     },
     "execution_count": 46,
     "metadata": {},
     "output_type": "execute_result"
    }
   ],
   "source": [
    "latex(Integral(cos(x)**2, (x, 0, pi)))"
   ]
  },
  {
   "cell_type": "markdown",
   "id": "f97fc27a-2bf8-4484-be96-834b13091064",
   "metadata": {},
   "source": [
    "https://wordsandbuttons.online/sympy_makes_math_fun_again.html\n",
    "\n",
    "https://news.ycombinator.com/item?id=20287486"
   ]
  },
  {
   "cell_type": "markdown",
   "id": "a55aac8b-c43a-4b9c-8194-1d9eab0964c6",
   "metadata": {},
   "source": [
    "https://news.ycombinator.com/item?id=7214783\n",
    "\n",
    "https://nobsmath.com/ru/\n"
   ]
  },
  {
   "cell_type": "markdown",
   "id": "c5843d04-46d2-4191-96bb-9cd1377fc2b0",
   "metadata": {},
   "source": [
    "https://minireference.com/static/tutorials/sympy_tutorial.pdf"
   ]
  },
  {
   "cell_type": "code",
   "execution_count": null,
   "id": "dd10bf8c-8586-4035-bfaf-34eb82eb3548",
   "metadata": {},
   "outputs": [],
   "source": []
  }
 ],
 "metadata": {
  "kernelspec": {
   "display_name": "Python 3 (ipykernel)",
   "language": "python",
   "name": "python3"
  },
  "language_info": {
   "codemirror_mode": {
    "name": "ipython",
    "version": 3
   },
   "file_extension": ".py",
   "mimetype": "text/x-python",
   "name": "python",
   "nbconvert_exporter": "python",
   "pygments_lexer": "ipython3",
   "version": "3.9.2"
  }
 },
 "nbformat": 4,
 "nbformat_minor": 5
}
