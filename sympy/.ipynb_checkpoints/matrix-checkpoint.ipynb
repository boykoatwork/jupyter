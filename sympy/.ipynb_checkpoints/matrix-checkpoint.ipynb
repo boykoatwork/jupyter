{
 "cells": [
  {
   "cell_type": "code",
   "execution_count": 1,
   "id": "57c1bb4f-96ce-4dc8-8046-c15d46a3d73b",
   "metadata": {},
   "outputs": [],
   "source": [
    "import sympy as sp"
   ]
  },
  {
   "cell_type": "markdown",
   "id": "ac1c35e7-bc8b-43b6-9467-3d4ab33afe3b",
   "metadata": {},
   "source": [
    "https://github.com/sympy/sympy/wiki/SymPy-vs.-Matlab"
   ]
  },
  {
   "cell_type": "code",
   "execution_count": 2,
   "id": "1193cb3a-c9c8-45e7-8b4f-d388f3b75f1c",
   "metadata": {},
   "outputs": [
    {
     "data": {
      "text/latex": [
       "$\\displaystyle \\left[\\begin{matrix}2 & -1 & 0\\\\-1 & 2 & -1\\\\0 & -1 & 2\\end{matrix}\\right]$"
      ],
      "text/plain": [
       "Matrix([\n",
       "[ 2, -1,  0],\n",
       "[-1,  2, -1],\n",
       "[ 0, -1,  2]])"
      ]
     },
     "execution_count": 2,
     "metadata": {},
     "output_type": "execute_result"
    }
   ],
   "source": [
    "sp.Matrix([[2,-1,0],[-1,2,-1],[0,-1,2]])"
   ]
  },
  {
   "cell_type": "code",
   "execution_count": 3,
   "id": "6f24caf8-7625-4386-a5d3-9535f3717288",
   "metadata": {},
   "outputs": [],
   "source": [
    "M = sp.Matrix([[2,-1,0],[-1,2,-1],[0,-1,2]])"
   ]
  },
  {
   "cell_type": "code",
   "execution_count": 5,
   "id": "6e2dd9ab-472e-4507-8856-d709cb2c4a87",
   "metadata": {},
   "outputs": [
    {
     "data": {
      "text/latex": [
       "$\\displaystyle \\left[\\begin{matrix}\\frac{3}{4} & \\frac{1}{2} & \\frac{1}{4}\\\\\\frac{1}{2} & 1 & \\frac{1}{2}\\\\\\frac{1}{4} & \\frac{1}{2} & \\frac{3}{4}\\end{matrix}\\right]$"
      ],
      "text/plain": [
       "Matrix([\n",
       "[3/4, 1/2, 1/4],\n",
       "[1/2,   1, 1/2],\n",
       "[1/4, 1/2, 3/4]])"
      ]
     },
     "execution_count": 5,
     "metadata": {},
     "output_type": "execute_result"
    }
   ],
   "source": [
    "M.inv()"
   ]
  },
  {
   "cell_type": "code",
   "execution_count": 6,
   "id": "37aa4f8b-4475-40d2-8f1c-f524b7803706",
   "metadata": {},
   "outputs": [
    {
     "data": {
      "text/latex": [
       "$\\displaystyle 4$"
      ],
      "text/plain": [
       "4"
      ]
     },
     "execution_count": 6,
     "metadata": {},
     "output_type": "execute_result"
    }
   ],
   "source": [
    "M.det()"
   ]
  },
  {
   "cell_type": "code",
   "execution_count": null,
   "id": "6d034bef-7293-4ae5-822d-a4fcbd143911",
   "metadata": {},
   "outputs": [],
   "source": []
  }
 ],
 "metadata": {
  "kernelspec": {
   "display_name": "Python 3 (ipykernel)",
   "language": "python",
   "name": "python3"
  },
  "language_info": {
   "codemirror_mode": {
    "name": "ipython",
    "version": 3
   },
   "file_extension": ".py",
   "mimetype": "text/x-python",
   "name": "python",
   "nbconvert_exporter": "python",
   "pygments_lexer": "ipython3",
   "version": "3.9.2"
  }
 },
 "nbformat": 4,
 "nbformat_minor": 5
}
