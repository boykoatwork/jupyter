{
 "cells": [
  {
   "cell_type": "code",
   "execution_count": 2,
   "id": "f93a48f4-96a6-46c4-84f6-bb519cf41b0b",
   "metadata": {},
   "outputs": [],
   "source": [
    "import simpy"
   ]
  },
  {
   "cell_type": "markdown",
   "id": "1f61a435-2e80-4f65-9847-642a9106ba4b",
   "metadata": {},
   "source": [
    "Общая идея - есть объекты, среда и ...\n"
   ]
  },
  {
   "cell_type": "code",
   "execution_count": null,
   "id": "0b7c9510-e42e-4a83-b329-6914a8fdc79e",
   "metadata": {},
   "outputs": [],
   "source": []
  }
 ],
 "metadata": {
  "kernelspec": {
   "display_name": "Python 3 (ipykernel)",
   "language": "python",
   "name": "python3"
  },
  "language_info": {
   "codemirror_mode": {
    "name": "ipython",
    "version": 3
   },
   "file_extension": ".py",
   "mimetype": "text/x-python",
   "name": "python",
   "nbconvert_exporter": "python",
   "pygments_lexer": "ipython3",
   "version": "3.9.2"
  }
 },
 "nbformat": 4,
 "nbformat_minor": 5
}
