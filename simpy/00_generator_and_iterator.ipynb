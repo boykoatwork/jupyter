{
 "cells": [
  {
   "cell_type": "markdown",
   "id": "fe238615-2000-4f00-acc0-7694a55bdb55",
   "metadata": {},
   "source": [
    "Вынес в отдельный файл. Я когда-то пытался разобраться в том, как устроены генераторы - и это было что-то вроде черновика и полигона."
   ]
  },
  {
   "cell_type": "markdown",
   "id": "4bba5e57-94cc-468e-ac22-a61843b3b911",
   "metadata": {},
   "source": [
    "## Generators and iterators"
   ]
  },
  {
   "cell_type": "code",
   "execution_count": 1,
   "id": "6eaf2cd2-254e-4cd2-9ab8-95a86adb9f0a",
   "metadata": {
    "collapsed": false,
    "jupyter": {
     "outputs_hidden": false
    }
   },
   "outputs": [
    {
     "data": {
      "text/plain": [
       "[0, 1, 2, 3, 4, 5, 6, 7, 8]"
      ]
     },
     "execution_count": 1,
     "metadata": {},
     "output_type": "execute_result"
    }
   ],
   "source": [
    "[i for i in range(9)]"
   ]
  },
  {
   "cell_type": "code",
   "execution_count": 2,
   "id": "261aa0b4-9d22-4673-a94c-687827aa2900",
   "metadata": {
    "collapsed": false,
    "jupyter": {
     "outputs_hidden": false
    }
   },
   "outputs": [
    {
     "data": {
      "text/plain": [
       "[0, 1, 2, 3, 4, 5, 6, 7]"
      ]
     },
     "execution_count": 2,
     "metadata": {},
     "output_type": "execute_result"
    }
   ],
   "source": [
    "[x for x in range(8)]"
   ]
  },
  {
   "cell_type": "code",
   "execution_count": 3,
   "id": "16989d27-17ee-4380-aa6f-5e3182d88652",
   "metadata": {
    "collapsed": false,
    "jupyter": {
     "outputs_hidden": false
    }
   },
   "outputs": [
    {
     "data": {
      "text/plain": [
       "[0.0,\n",
       " -2.4492935982947064e-16,\n",
       " -4.898587196589413e-16,\n",
       " -7.347880794884119e-16,\n",
       " -9.797174393178826e-16,\n",
       " -1.2246467991473533e-15,\n",
       " -1.4695761589768238e-15,\n",
       " -1.7145055188062944e-15,\n",
       " -1.959434878635765e-15,\n",
       " -2.204364238465236e-15]"
      ]
     },
     "execution_count": 3,
     "metadata": {},
     "output_type": "execute_result"
    }
   ],
   "source": [
    "import math\n",
    "\n",
    "[math.sin(2*x*math.pi) for x in range(10)]"
   ]
  },
  {
   "cell_type": "markdown",
   "id": "8d3ce14e-9193-48d8-8d56-d330800f390c",
   "metadata": {},
   "source": [
    "\n",
    "\n",
    "Квадратные скобки указывают на то, что это список. Внутри квадратных скобок - некая сущность, которая представляет собой формулу или правило получения списка (возможно ли списки без range и прямого указания списка? как минимум должна быть переменная)."
   ]
  },
  {
   "cell_type": "markdown",
   "id": "e388e79a-4fe6-47e9-aaee-037f8cab803f",
   "metadata": {},
   "source": [
    "[Тут](http://younglinux.info/python/feature/generators) хорошо сказано про это:\n",
    "\n",
    "> В данном случае конструкция [i for i in range(1,15)] является генератором списка (**может все-таки list comprehensions**?). Вся конструкция заключается в квадратные скобки, что как бы говорит, что будет создан список. Внутри квадратных скобок можно выделить три части: 1) что делаем с элементом (в данном случае ничего не делаем, просто добавляем в список), 2) что берем (в данном случае элемент i), 3) откуда берем (здесь из объекта range). Части отделены друг от друга ключевыми словами for и in.\n",
    "\n",
    "\n"
   ]
  },
  {
   "cell_type": "markdown",
   "id": "6bbbfaf6-3174-49fc-bf07-082b5eea2eb3",
   "metadata": {},
   "source": [
    " Submitted by 51t\n",
    "on Февраль 23, 2015 - 09:38\n",
    "\n",
    "Если следовать терминологии, то это всё-таки не генераторы. И в функциональном программировании, и в python генераторы выглядят немного иначе, круглые скобки, а не квадратные:\n",
    "\n",
    "(i for i in range(5))\n",
    "\n",
    "А с квадратными - как их только не переводили, но наиболее популярное название на русском - **списочные выражения**\n",
    "\n",
    "Разница с генераторами в том, что генертатор - это генератор :), а это - это уже готовый список:"
   ]
  },
  {
   "cell_type": "code",
   "execution_count": 21,
   "id": "fabe3a75-46e6-41ac-8581-1fc926790e69",
   "metadata": {},
   "outputs": [
    {
     "data": {
      "text/plain": [
       "[0, 1, 2, 3, 4]"
      ]
     },
     "execution_count": 21,
     "metadata": {},
     "output_type": "execute_result"
    }
   ],
   "source": [
    ">>> [i for i in range(5)]"
   ]
  },
  {
   "cell_type": "code",
   "execution_count": 22,
   "id": "d0fdc5de-8ebd-42fb-9681-aef2560ddf78",
   "metadata": {},
   "outputs": [
    {
     "data": {
      "text/plain": [
       "<generator object <genexpr> at 0x7fddd0615510>"
      ]
     },
     "execution_count": 22,
     "metadata": {},
     "output_type": "execute_result"
    }
   ],
   "source": [
    ">>> (i for i in range(5))"
   ]
  },
  {
   "cell_type": "markdown",
   "id": "fdb183cb-c402-48c5-aa55-0a2cc0fc24be",
   "metadata": {},
   "source": [
    "если их использовать, как итераторы - то разницы нет:"
   ]
  },
  {
   "cell_type": "code",
   "execution_count": 23,
   "id": "fe723ce6-316d-4c62-9b9f-fb805d09e385",
   "metadata": {},
   "outputs": [],
   "source": [
    "a = (i for i in range(5))\n",
    "b = [i for i in range(5)]"
   ]
  },
  {
   "cell_type": "code",
   "execution_count": 24,
   "id": "3afa79dc-af1f-4372-9324-c7e0603e7595",
   "metadata": {},
   "outputs": [
    {
     "name": "stdout",
     "output_type": "stream",
     "text": [
      "0\n",
      "1\n",
      "2\n",
      "3\n",
      "4\n"
     ]
    }
   ],
   "source": [
    "for i in a:\n",
    "    print (i)"
   ]
  },
  {
   "cell_type": "code",
   "execution_count": 25,
   "id": "fe7cac95-0491-4a49-b023-72a4dc554d1f",
   "metadata": {},
   "outputs": [
    {
     "name": "stdout",
     "output_type": "stream",
     "text": [
      "0\n",
      "1\n",
      "2\n",
      "3\n",
      "4\n"
     ]
    }
   ],
   "source": [
    "\n",
    "for i in b:\n",
    "    print (i)"
   ]
  },
  {
   "cell_type": "markdown",
   "id": "61a05a64-bad3-4420-a02f-f6385d6411a1",
   "metadata": {},
   "source": [
    "- дадут абсолютно одинаковый ответ. А разница в том, что первое генерируется по запросу, а второе - это уже полноценный список, который сформирован."
   ]
  },
  {
   "cell_type": "code",
   "execution_count": 26,
   "id": "77432032-9f87-4b71-95c0-76550aac30c6",
   "metadata": {},
   "outputs": [],
   "source": [
    "def motor(s):\n",
    "    print(s)"
   ]
  },
  {
   "cell_type": "code",
   "execution_count": 29,
   "id": "02457b97-dc0e-4ad6-bd02-95d15138cdb3",
   "metadata": {},
   "outputs": [
    {
     "data": {
      "text/plain": [
       "<generator object <genexpr> at 0x7fddd063a0b0>"
      ]
     },
     "execution_count": 29,
     "metadata": {},
     "output_type": "execute_result"
    }
   ],
   "source": [
    "a = (motor(i) for i in range(5))\n",
    "a"
   ]
  },
  {
   "cell_type": "code",
   "execution_count": 30,
   "id": "baaa752f-041b-4c49-a5c4-3dbba37628ee",
   "metadata": {},
   "outputs": [
    {
     "name": "stdout",
     "output_type": "stream",
     "text": [
      "5\n",
      "6\n",
      "7\n",
      "8\n",
      "9\n"
     ]
    },
    {
     "data": {
      "text/plain": [
       "[None, None, None, None, None]"
      ]
     },
     "execution_count": 30,
     "metadata": {},
     "output_type": "execute_result"
    }
   ],
   "source": [
    "b = [motor(i) for i in range(5,10)]\n",
    "b"
   ]
  },
  {
   "cell_type": "markdown",
   "id": "6bd28891-80c8-4b7a-b8ac-0e44009100a4",
   "metadata": {},
   "source": [
    "... выдаст 5 6 7 8 9.\n",
    "\n",
    "Немного более поздние пояснения. И генератор и сокращенный список поддерживают протокол создания итератора через `__iter__` метод. Они \"копируют\" итератор, потом вызывают от него метод `__next__` или функцию:\n",
    "\n",
    "    a.next()\n",
    "    a.next()\n",
    "\n",
    "это обращение к итератору, отделенному от генератора. Взяты два первых элемента. И теперь:\n",
    "\n",
    "    for i in a:\n",
    "        pass\n",
    "\n",
    "пройдёт уже не 5 раз, а только по трём оставшимся. Если обратиться ещё раз - то не пройдёт ни по какому, потому что элементы - закончились.\n",
    "\n",
    "Но, собственно, элементов там никаких и нет. Если обратиться к b[0], то он выдаст первый элемент списка. А a[0] - вызовет ошибку, потому что это не список, и пройтись по нему можно только итерацией, и количество элементов в генераторе - неизвестно. Можно превратить генератор в список через a = list(a), тогда a и b будут идентичными списками."
   ]
  },
  {
   "cell_type": "code",
   "execution_count": 31,
   "id": "471a0ac0-70cb-4b2d-b5a4-a3a1a2bd6f77",
   "metadata": {
    "collapsed": false,
    "jupyter": {
     "outputs_hidden": false
    }
   },
   "outputs": [
    {
     "data": {
      "text/plain": [
       "range(0, 20)"
      ]
     },
     "execution_count": 31,
     "metadata": {},
     "output_type": "execute_result"
    }
   ],
   "source": [
    "a = range(20)\n",
    "a"
   ]
  },
  {
   "cell_type": "code",
   "execution_count": 32,
   "id": "2767167d-cbf8-4c56-a5d9-7e7a98841f45",
   "metadata": {
    "collapsed": false,
    "jupyter": {
     "outputs_hidden": false
    }
   },
   "outputs": [
    {
     "data": {
      "text/plain": [
       "[0, 1, 2, 3, 4, 5, 6, 7, 8, 9, 10, 11, 12, 13, 14, 15, 16, 17, 18, 19]"
      ]
     },
     "execution_count": 32,
     "metadata": {},
     "output_type": "execute_result"
    }
   ],
   "source": [
    "z = [i for i in a]\n",
    "z"
   ]
  },
  {
   "cell_type": "markdown",
   "id": "0ae5b1ae-100d-44f5-8733-d10c32febe4c",
   "metadata": {},
   "source": [
    "Но это **еще не генераторы** - это пока просто итераторы.\n",
    "\n",
    "Генераторы задаются через круглые скобки."
   ]
  },
  {
   "cell_type": "code",
   "execution_count": 33,
   "id": "162adf16-f2ca-4fa3-bc55-a0a5fbf96940",
   "metadata": {
    "collapsed": false,
    "jupyter": {
     "outputs_hidden": false
    }
   },
   "outputs": [],
   "source": [
    "gen = (a for a in range(9))"
   ]
  },
  {
   "cell_type": "code",
   "execution_count": 34,
   "id": "15a07d1f-e849-4091-acf8-81c15cdf2a7e",
   "metadata": {
    "collapsed": false,
    "jupyter": {
     "outputs_hidden": false
    }
   },
   "outputs": [
    {
     "data": {
      "text/plain": [
       "<generator object <genexpr> at 0x7fddd063aeb0>"
      ]
     },
     "execution_count": 34,
     "metadata": {},
     "output_type": "execute_result"
    }
   ],
   "source": [
    "gen"
   ]
  },
  {
   "cell_type": "code",
   "execution_count": 35,
   "id": "12653af6-22db-41f2-9771-a18ea11f2ffa",
   "metadata": {
    "collapsed": false,
    "jupyter": {
     "outputs_hidden": false
    }
   },
   "outputs": [
    {
     "name": "stdout",
     "output_type": "stream",
     "text": [
      "0\n",
      "1\n",
      "2\n",
      "3\n",
      "4\n",
      "5\n",
      "6\n",
      "7\n",
      "8\n"
     ]
    }
   ],
   "source": [
    "for i in gen:\n",
    "    print(i)"
   ]
  },
  {
   "cell_type": "code",
   "execution_count": 36,
   "id": "006e3ec5-32c9-4bf3-b57a-f9153758d5bb",
   "metadata": {},
   "outputs": [],
   "source": [
    "for i in gen:\n",
    "    print(i)"
   ]
  },
  {
   "cell_type": "markdown",
   "id": "decf58a8-bb49-4148-aefe-3ba10a51a8d5",
   "metadata": {},
   "source": [
    "Второй прогон ничего не выводит - то есть речь идет о генераторе, который хранит внутреннее состояние. Такой штуке не нужно передавать это состояние. Он отрабатывает свой список и засыпает."
   ]
  },
  {
   "cell_type": "code",
   "execution_count": 37,
   "id": "fe5482ad-fb81-4849-b21a-08679ffcc4c2",
   "metadata": {
    "collapsed": false,
    "jupyter": {
     "outputs_hidden": false
    }
   },
   "outputs": [
    {
     "data": {
      "text/plain": [
       "[0, 3, 6, 9, 12, 15, 18]"
      ]
     },
     "execution_count": 37,
     "metadata": {},
     "output_type": "execute_result"
    }
   ],
   "source": [
    "hyp = [x*3 for x in range(7)] # здесь все есть сразу и всегда (такой вечнопулемет)\n",
    "hyp"
   ]
  },
  {
   "cell_type": "code",
   "execution_count": 38,
   "id": "51fa5cc3-cee7-41b4-8b03-e828f25984cb",
   "metadata": {
    "collapsed": false,
    "jupyter": {
     "outputs_hidden": false
    }
   },
   "outputs": [
    {
     "data": {
      "text/plain": [
       "<generator object <genexpr> at 0x7fddd06473c0>"
      ]
     },
     "execution_count": 38,
     "metadata": {},
     "output_type": "execute_result"
    }
   ],
   "source": [
    "hyp_gen = (x*3 for x in range(7)) # здесь в пулемет зарядили ленту от 0 до 6\n",
    "hyp_gen"
   ]
  },
  {
   "cell_type": "code",
   "execution_count": 39,
   "id": "d9e9e1e1-1d11-46bf-83e2-d619ca3e9b21",
   "metadata": {
    "collapsed": false,
    "jupyter": {
     "outputs_hidden": false
    }
   },
   "outputs": [
    {
     "name": "stdout",
     "output_type": "stream",
     "text": [
      "0\n",
      "3\n",
      "6\n",
      "9\n",
      "12\n",
      "15\n",
      "18\n",
      "0\n",
      "3\n",
      "6\n",
      "9\n",
      "12\n",
      "15\n",
      "18\n"
     ]
    }
   ],
   "source": [
    "for i in hyp:\n",
    "    print(i)\n",
    "for i in hyp:\n",
    "    print(i)"
   ]
  },
  {
   "cell_type": "code",
   "execution_count": 40,
   "id": "2e169838-9287-4b4e-9f03-2016fbda7a89",
   "metadata": {
    "collapsed": false,
    "jupyter": {
     "outputs_hidden": false
    }
   },
   "outputs": [
    {
     "name": "stdout",
     "output_type": "stream",
     "text": [
      "0\n",
      "3\n",
      "6\n",
      "9\n",
      "12\n",
      "15\n",
      "18\n"
     ]
    }
   ],
   "source": [
    "for j in hyp_gen:\n",
    "    print(j)\n",
    "for j in hyp_gen:\n",
    "    print(j)"
   ]
  },
  {
   "cell_type": "markdown",
   "id": "81e14695-4dd4-477f-852d-8fa2439ad9ca",
   "metadata": {},
   "source": [
    "`yield` - это не сам генератор.  Если это служебное слово использовать вместо `return` в функции - она будет \"работать в режиме генератора\"."
   ]
  },
  {
   "cell_type": "code",
   "execution_count": 41,
   "id": "d5e08971-142a-4fb8-b669-7105a0fbab47",
   "metadata": {
    "collapsed": false,
    "jupyter": {
     "outputs_hidden": false
    }
   },
   "outputs": [
    {
     "name": "stdout",
     "output_type": "stream",
     "text": [
      "range(0, 9)\n"
     ]
    }
   ],
   "source": [
    "def zum():\n",
    "    i = range(9)\n",
    "    return i\n",
    "\n",
    "a = zum()\n",
    "print(a)"
   ]
  },
  {
   "cell_type": "code",
   "execution_count": 42,
   "id": "0a223bb6-6eba-48af-9c97-a9875abc74e5",
   "metadata": {
    "collapsed": false,
    "jupyter": {
     "outputs_hidden": false
    }
   },
   "outputs": [
    {
     "name": "stdout",
     "output_type": "stream",
     "text": [
      "<generator object zumzum at 0x7fddd0647a50>\n"
     ]
    }
   ],
   "source": [
    "def zumzum():\n",
    "    i = range(9)\n",
    "    yield i\n",
    "\n",
    "a = zumzum()\n",
    "print(a)"
   ]
  },
  {
   "cell_type": "code",
   "execution_count": 43,
   "id": "0cbff5a8-3743-4d63-98b0-75f3db8ab7ff",
   "metadata": {
    "collapsed": false,
    "jupyter": {
     "outputs_hidden": false
    }
   },
   "outputs": [
    {
     "name": "stdout",
     "output_type": "stream",
     "text": [
      "<generator object zumzum at 0x7fddd0647b30>\n"
     ]
    }
   ],
   "source": [
    "def zumzum():\n",
    "    i = range(9)\n",
    "    yield i\n",
    "\n",
    "a = zumzum()\n",
    "print(a)"
   ]
  },
  {
   "cell_type": "code",
   "execution_count": 44,
   "id": "548823a2-c27e-47c8-bb3d-df351d1c5bfa",
   "metadata": {
    "collapsed": false,
    "jupyter": {
     "outputs_hidden": false
    }
   },
   "outputs": [
    {
     "name": "stdout",
     "output_type": "stream",
     "text": [
      "range(0, 9)\n"
     ]
    }
   ],
   "source": [
    "def zum():\n",
    "    i = range(9)\n",
    "    return i\n",
    "\n",
    "a = zum()\n",
    "print(a)"
   ]
  },
  {
   "cell_type": "code",
   "execution_count": 45,
   "id": "3075e33f-acbe-44d9-b5e7-6d97537864f8",
   "metadata": {},
   "outputs": [],
   "source": [
    "a = []"
   ]
  },
  {
   "cell_type": "code",
   "execution_count": 46,
   "id": "2c9b8335-7065-4f3d-8b98-f62fc393c909",
   "metadata": {
    "collapsed": false,
    "jupyter": {
     "outputs_hidden": false
    }
   },
   "outputs": [
    {
     "name": "stdout",
     "output_type": "stream",
     "text": [
      "range(0, 9)\n",
      "range(0, 9)\n",
      "range(0, 9)\n",
      "range(0, 9)\n",
      "range(0, 9)\n",
      "range(0, 9)\n",
      "range(0, 9)\n",
      "range(0, 9)\n",
      "range(0, 9)\n",
      "range(0, 9)\n",
      "range(0, 9)\n",
      "range(0, 9)\n",
      "range(0, 9)\n",
      "range(0, 9)\n",
      "range(0, 9)\n",
      "range(0, 9)\n",
      "range(0, 9)\n",
      "range(0, 9)\n"
     ]
    }
   ],
   "source": [
    "def zum():\n",
    "    i = range(9)\n",
    "    return i\n",
    "\n",
    "a = zum()\n",
    "\n",
    "for z in a:\n",
    "    print(a)\n",
    "for z in a:\n",
    "    print(a)"
   ]
  },
  {
   "cell_type": "code",
   "execution_count": 47,
   "id": "dd4fc77b-3b84-4843-9742-f1fc8449f818",
   "metadata": {
    "collapsed": false,
    "jupyter": {
     "outputs_hidden": false
    }
   },
   "outputs": [
    {
     "name": "stdout",
     "output_type": "stream",
     "text": [
      "0\n",
      "1\n",
      "2\n",
      "3\n",
      "4\n",
      "5\n",
      "6\n",
      "7\n",
      "8\n"
     ]
    }
   ],
   "source": [
    "def zumzum():\n",
    "    i = range(9)\n",
    "    for j in i:\n",
    "        yield j\n",
    "\n",
    "a = zumzum()\n",
    "for z in a:\n",
    "    print(z)\n",
    "\n",
    "for z in a:\n",
    "    print(z)"
   ]
  },
  {
   "cell_type": "markdown",
   "id": "195c1b39-bdd7-46d6-b2c0-a9bd6bf6d846",
   "metadata": {},
   "source": [
    "Разница в следующем:\n",
    "\n",
    "Функция возвращает результат весь сразу (это пулемет, который выстреливает список одной длинной очередью, я бы даже сказал, одним параллельным залпом), а генератор - по одному значению за раз."
   ]
  },
  {
   "cell_type": "code",
   "execution_count": 48,
   "id": "6d1bc988-fd3d-463c-b4ee-bad747083b1e",
   "metadata": {},
   "outputs": [],
   "source": [
    ">>> def simple_generator_function():\n",
    ">>>    yield 1\n",
    ">>>    yield 2\n",
    ">>>    yield 3"
   ]
  },
  {
   "cell_type": "code",
   "execution_count": 49,
   "id": "3964da31-b9c5-4d7a-908d-2c0d5dcc6f8a",
   "metadata": {
    "collapsed": false,
    "jupyter": {
     "outputs_hidden": false
    }
   },
   "outputs": [
    {
     "name": "stdout",
     "output_type": "stream",
     "text": [
      "1\n",
      "2\n",
      "3\n"
     ]
    }
   ],
   "source": [
    ">>> for value in simple_generator_function():\n",
    ">>>     print(value)"
   ]
  },
  {
   "cell_type": "code",
   "execution_count": 50,
   "id": "b4d2c422-8d05-4489-bc00-64e960d25a3d",
   "metadata": {},
   "outputs": [],
   "source": [
    "our_generator = simple_generator_function()"
   ]
  },
  {
   "cell_type": "code",
   "execution_count": 51,
   "id": "a00e4669-5625-42b1-b89b-e466f81c3f86",
   "metadata": {
    "collapsed": false,
    "jupyter": {
     "outputs_hidden": false
    }
   },
   "outputs": [
    {
     "data": {
      "text/plain": [
       "1"
      ]
     },
     "execution_count": 51,
     "metadata": {},
     "output_type": "execute_result"
    }
   ],
   "source": [
    "next(our_generator)"
   ]
  },
  {
   "cell_type": "code",
   "execution_count": 52,
   "id": "8176e966-9819-48ce-8073-06085f3e5125",
   "metadata": {
    "collapsed": false,
    "jupyter": {
     "outputs_hidden": false
    }
   },
   "outputs": [
    {
     "data": {
      "text/plain": [
       "2"
      ]
     },
     "execution_count": 52,
     "metadata": {},
     "output_type": "execute_result"
    }
   ],
   "source": [
    "next(our_generator)"
   ]
  },
  {
   "cell_type": "code",
   "execution_count": 53,
   "id": "2cf9b19f-cba0-4221-be23-aef8273ea6ec",
   "metadata": {
    "collapsed": false,
    "jupyter": {
     "outputs_hidden": false
    }
   },
   "outputs": [
    {
     "data": {
      "text/plain": [
       "3"
      ]
     },
     "execution_count": 53,
     "metadata": {},
     "output_type": "execute_result"
    }
   ],
   "source": [
    "next(our_generator)"
   ]
  },
  {
   "cell_type": "code",
   "execution_count": 54,
   "id": "596e2443-4c45-4f61-8ded-ed80bd07696c",
   "metadata": {
    "collapsed": false,
    "jupyter": {
     "outputs_hidden": false
    }
   },
   "outputs": [
    {
     "ename": "StopIteration",
     "evalue": "",
     "output_type": "error",
     "traceback": [
      "\u001b[0;31m---------------------------------------------------------------------------\u001b[0m",
      "\u001b[0;31mStopIteration\u001b[0m                             Traceback (most recent call last)",
      "Input \u001b[0;32mIn [54]\u001b[0m, in \u001b[0;36m<cell line: 1>\u001b[0;34m()\u001b[0m\n\u001b[0;32m----> 1\u001b[0m \u001b[38;5;28;43mnext\u001b[39;49m\u001b[43m(\u001b[49m\u001b[43mour_generator\u001b[49m\u001b[43m)\u001b[49m\n",
      "\u001b[0;31mStopIteration\u001b[0m: "
     ]
    }
   ],
   "source": [
    "next(our_generator)"
   ]
  },
  {
   "cell_type": "code",
   "execution_count": null,
   "id": "b235cf44-b65e-4224-ae4b-708db30a2629",
   "metadata": {},
   "outputs": [],
   "source": [
    "# бесконечный генератор\n",
    "def get_primes(number):\n",
    "    while True:   # бесконечный цикл\n",
    "        if is_prime(number): # is_prime внешняя функция - она определяет прайм или нет\n",
    "            yield number # если да - возвращаем значение\n",
    "        number += 1 # если нет - или вообще - меняем номер на +1 и повторяем цикл"
   ]
  },
  {
   "cell_type": "code",
   "execution_count": null,
   "id": "31e496f5-dcb3-4bb1-93f8-28d698928ece",
   "metadata": {
    "collapsed": false,
    "jupyter": {
     "outputs_hidden": false
    }
   },
   "outputs": [],
   "source": [
    "# мой вариант бесконечного генератора\n",
    "def infin():\n",
    "    number = 1\n",
    "    while True:\n",
    "        yield number\n",
    "        number += 1"
   ]
  },
  {
   "cell_type": "code",
   "execution_count": null,
   "id": "0258f66c-acc7-48bc-9f44-0c35fc31ee9f",
   "metadata": {
    "collapsed": false,
    "jupyter": {
     "outputs_hidden": false
    }
   },
   "outputs": [],
   "source": [
    "for i in range(10):\n",
    "    print(next(infin()))"
   ]
  },
  {
   "cell_type": "markdown",
   "id": "c0cb09ca-9760-4c87-8966-abf7471a7cde",
   "metadata": {},
   "source": [
    "Осечка. ему неоткуда взять следующий номер."
   ]
  },
  {
   "cell_type": "code",
   "execution_count": null,
   "id": "c9cf1829-04c6-407d-a7a3-45c8c9b69d4d",
   "metadata": {
    "collapsed": false,
    "jupyter": {
     "outputs_hidden": false
    }
   },
   "outputs": [],
   "source": [
    "# мой вариант бесконечного генератора\n",
    "def infin(number):\n",
    "    while True:\n",
    "        yield number\n",
    "        number += 1"
   ]
  },
  {
   "cell_type": "code",
   "execution_count": null,
   "id": "d367967f-6801-4dcf-a78c-839adf864bd6",
   "metadata": {
    "collapsed": false,
    "jupyter": {
     "outputs_hidden": false
    }
   },
   "outputs": [],
   "source": [
    "a = 1\n",
    "a = infin(a)\n",
    "for i in range(10):    \n",
    "    print(next(a))"
   ]
  }
 ],
 "metadata": {
  "kernelspec": {
   "display_name": "Python 3 (ipykernel)",
   "language": "python",
   "name": "python3"
  },
  "language_info": {
   "codemirror_mode": {
    "name": "ipython",
    "version": 3
   },
   "file_extension": ".py",
   "mimetype": "text/x-python",
   "name": "python",
   "nbconvert_exporter": "python",
   "pygments_lexer": "ipython3",
   "version": "3.9.2"
  }
 },
 "nbformat": 4,
 "nbformat_minor": 5
}
