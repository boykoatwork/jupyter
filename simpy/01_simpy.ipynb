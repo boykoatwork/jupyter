{
 "cells": [
  {
   "cell_type": "code",
   "execution_count": 1,
   "metadata": {
    "collapsed": false,
    "jupyter": {
     "outputs_hidden": false
    }
   },
   "outputs": [],
   "source": [
    "import simpy"
   ]
  },
  {
   "cell_type": "markdown",
   "metadata": {},
   "source": [
    "# часики"
   ]
  },
  {
   "cell_type": "code",
   "execution_count": 3,
   "metadata": {},
   "outputs": [],
   "source": [
    "def clock(env, name, tick):\n",
    "    while True:\n",
    "        print(name, env.now)\n",
    "        yield env.timeout(tick) # засыпаем или шагаем tick секунд"
   ]
  },
  {
   "cell_type": "markdown",
   "metadata": {},
   "source": [
    "Что там есть? на входе:\n",
    "\n",
    "- env - объект среды\n",
    "- name название часиков\n",
    "- tick - сколько секунд протикать\n",
    "\n",
    "Как организовано? При каждом вызове функция что-то делает (печатает свое имя и текущее дискретное время) и вызывает `env.timeout(время)` - то на сколько шагов она засыпает."
   ]
  },
  {
   "cell_type": "code",
   "execution_count": 5,
   "metadata": {},
   "outputs": [],
   "source": [
    "# создаетм среду\n",
    "env = simpy.Environment()\n"
   ]
  },
  {
   "cell_type": "code",
   "execution_count": 6,
   "metadata": {},
   "outputs": [
    {
     "data": {
      "text/plain": [
       "<Process(clock) object at 0x7feaf35bc250>"
      ]
     },
     "execution_count": 6,
     "metadata": {},
     "output_type": "execute_result"
    }
   ],
   "source": [
    "# создаем часы с названием fast и шагом 0.5 тугриков дискретного времени\n",
    "env.process(clock(env, 'fast', 0.5))\n"
   ]
  },
  {
   "cell_type": "code",
   "execution_count": 7,
   "metadata": {},
   "outputs": [
    {
     "data": {
      "text/plain": [
       "<Process(clock) object at 0x7feaf35bc1f0>"
      ]
     },
     "execution_count": 7,
     "metadata": {},
     "output_type": "execute_result"
    }
   ],
   "source": [
    "# создаем часы с названием slow и шагом 1 тугрик дискретного времени\n",
    "env.process(clock(env, 'slow', 1))\n"
   ]
  },
  {
   "cell_type": "markdown",
   "metadata": {},
   "source": [
    "Получается, что оба раза я создал объекты и `env` их запомнил?"
   ]
  },
  {
   "cell_type": "code",
   "execution_count": 17,
   "metadata": {},
   "outputs": [
    {
     "name": "stdout",
     "output_type": "stream",
     "text": [
      "fast 0\n",
      "slow 0\n",
      "fast 0.5\n",
      "slow 1\n",
      "fast 1.0\n",
      "fast 1.5\n"
     ]
    }
   ],
   "source": [
    "# запускаем часики\n",
    "env.run(until=2)\n"
   ]
  },
  {
   "cell_type": "code",
   "execution_count": 18,
   "metadata": {},
   "outputs": [
    {
     "name": "stdout",
     "output_type": "stream",
     "text": [
      "slow 2\n",
      "fast 2.0\n",
      "fast 2.5\n",
      "slow 3\n",
      "fast 3.0\n",
      "fast 3.5\n",
      "slow 4\n",
      "fast 4.0\n",
      "fast 4.5\n",
      "slow 5\n",
      "fast 5.0\n",
      "fast 5.5\n",
      "slow 6\n",
      "fast 6.0\n",
      "fast 6.5\n",
      "slow 7\n",
      "fast 7.0\n",
      "fast 7.5\n",
      "slow 8\n",
      "fast 8.0\n",
      "fast 8.5\n",
      "slow 9\n",
      "fast 9.0\n",
      "fast 9.5\n"
     ]
    }
   ],
   "source": [
    "env.run(until=10)"
   ]
  },
  {
   "cell_type": "code",
   "execution_count": null,
   "metadata": {},
   "outputs": [],
   "source": []
  },
  {
   "cell_type": "code",
   "execution_count": null,
   "metadata": {},
   "outputs": [],
   "source": []
  },
  {
   "cell_type": "code",
   "execution_count": null,
   "metadata": {},
   "outputs": [],
   "source": []
  },
  {
   "cell_type": "code",
   "execution_count": null,
   "metadata": {},
   "outputs": [],
   "source": []
  },
  {
   "cell_type": "code",
   "execution_count": null,
   "metadata": {},
   "outputs": [],
   "source": []
  },
  {
   "cell_type": "code",
   "execution_count": null,
   "metadata": {},
   "outputs": [],
   "source": [
    ">>> def car(env):\n",
    "...     while True:\n",
    "...         print('Start parking at %d' % env.now)\n",
    "...         parking_duration = 5\n",
    "...         yield env.timeout(parking_duration)\n",
    "...\n",
    "...         print('Start driving at %d' % env.now)\n",
    "...         trip_duration = 2\n",
    "...         yield env.timeout(trip_duration)"
   ]
  },
  {
   "cell_type": "code",
   "execution_count": null,
   "metadata": {},
   "outputs": [],
   "source": [
    ">>> class Car(object):\n",
    "...     def __init__(self, env):\n",
    "...         self.env = env\n",
    "...         # Start the run process everytime an instance is created.\n",
    "...         self.action = env.process(self.run())\n",
    "...\n",
    "...     def run(self):\n",
    "...         while True:\n",
    "...             print('Start parking and charging at %d' % self.env.now)\n",
    "...             charge_duration = 5\n",
    "...             # We yield the process that process() returns\n",
    "...             # to wait for it to finish\n",
    "...             yield self.env.process(self.charge(charge_duration))\n",
    "...\n",
    "...             # The charge process has finished and\n",
    "...             # we can start driving again.\n",
    "...             print('Start driving at %d' % self.env.now)\n",
    "...             trip_duration = 2\n",
    "...             yield self.env.timeout(trip_duration)\n",
    "...\n",
    "...     def charge(self, duration):\n",
    "...         yield self.env.timeout(duration)\n"
   ]
  },
  {
   "cell_type": "code",
   "execution_count": null,
   "metadata": {
    "collapsed": false,
    "jupyter": {
     "outputs_hidden": false
    }
   },
   "outputs": [],
   "source": [
    "env = simpy.Environment()\n",
    "car = Car(env)\n",
    "env.run(until=15)\n"
   ]
  },
  {
   "cell_type": "code",
   "execution_count": null,
   "metadata": {
    "tags": []
   },
   "outputs": [],
   "source": []
  },
  {
   "cell_type": "code",
   "execution_count": null,
   "metadata": {},
   "outputs": [],
   "source": []
  }
 ],
 "metadata": {
  "kernelspec": {
   "display_name": "Python 3 (ipykernel)",
   "language": "python",
   "name": "python3"
  },
  "language_info": {
   "codemirror_mode": {
    "name": "ipython",
    "version": 3
   },
   "file_extension": ".py",
   "mimetype": "text/x-python",
   "name": "python",
   "nbconvert_exporter": "python",
   "pygments_lexer": "ipython3",
   "version": "3.9.2"
  }
 },
 "nbformat": 4,
 "nbformat_minor": 4
}
