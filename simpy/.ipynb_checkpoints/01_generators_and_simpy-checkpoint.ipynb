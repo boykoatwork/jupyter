{
 "cells": [
  {
   "cell_type": "markdown",
   "metadata": {},
   "source": [
    "Генераторы и итераторы. Генератор - сжатый итератор."
   ]
  },
  {
   "cell_type": "code",
   "execution_count": 1,
   "metadata": {
    "collapsed": false,
    "jupyter": {
     "outputs_hidden": false
    }
   },
   "outputs": [
    {
     "data": {
      "text/plain": [
       "[0, 1, 2, 3, 4, 5, 6, 7, 8]"
      ]
     },
     "execution_count": 1,
     "metadata": {},
     "output_type": "execute_result"
    }
   ],
   "source": [
    "[i for i in range(9)]"
   ]
  },
  {
   "cell_type": "code",
   "execution_count": 3,
   "metadata": {
    "collapsed": false,
    "jupyter": {
     "outputs_hidden": false
    }
   },
   "outputs": [
    {
     "data": {
      "text/plain": [
       "[0, 1, 2, 3, 4, 5, 6, 7]"
      ]
     },
     "execution_count": 3,
     "metadata": {},
     "output_type": "execute_result"
    }
   ],
   "source": [
    "[x for x in range(8)]"
   ]
  },
  {
   "cell_type": "code",
   "execution_count": 4,
   "metadata": {
    "collapsed": false,
    "jupyter": {
     "outputs_hidden": false
    }
   },
   "outputs": [
    {
     "data": {
      "text/plain": [
       "[0.0,\n",
       " -2.4492935982947064e-16,\n",
       " -4.898587196589413e-16,\n",
       " -7.347880794884119e-16,\n",
       " -9.797174393178826e-16,\n",
       " -1.2246467991473533e-15,\n",
       " -1.4695761589768238e-15,\n",
       " -1.7145055188062944e-15,\n",
       " -1.959434878635765e-15,\n",
       " -2.204364238465236e-15]"
      ]
     },
     "execution_count": 4,
     "metadata": {},
     "output_type": "execute_result"
    }
   ],
   "source": [
    "import math\n",
    "\n",
    "[math.sin(2*x*math.pi) for x in range(10)]"
   ]
  },
  {
   "cell_type": "markdown",
   "metadata": {},
   "source": [
    "\n",
    "\n",
    "Квадратные скобки указывают на то, что это список. Внутри квадратных скобок - некая сущность, которая представляет собой формулу или правило получения списка (возможно ли списки без range и прямого указания списка? как минимум должна быть переменная)."
   ]
  },
  {
   "cell_type": "markdown",
   "metadata": {},
   "source": [
    "[Тут](http://younglinux.info/python/feature/generators) хорошо сказано про это:\n",
    "\n",
    "> В данном случае конструкция [i for i in range(1,15)] является генератором списка. Вся конструкция заключается в квадратные скобки, что как бы говорит, что будет создан список. Внутри квадратных скобок можно выделить три части: 1) что делаем с элементом (в данном случае ничего не делаем, просто добавляем в список), 2) что берем (в данном случае элемент i), 3) откуда берем (здесь из объекта range). Части отделены друг от друга ключевыми словами for и in.\n",
    "\n",
    "\n"
   ]
  },
  {
   "cell_type": "markdown",
   "metadata": {},
   "source": [
    " Submitted by 51t\n",
    "on Февраль 23, 2015 - 09:38\n",
    "\n",
    "Если следовать терминологии, то это всё-таки не генераторы. И в функциональном программировании, и в python генераторы выглядят немного иначе, круглые скобки, а не квадратные:\n",
    "\n",
    "(i for i in range(5))\n",
    "\n",
    "А с квадратными - как их только не переводили, но наиболее популярное название на русском - [b]списочные выражения[/i]\n",
    "\n",
    "Разница с генераторами в том, что генертатор - это генератор :), а это - это уже готовый список:\n",
    "\n",
    ">>> [i for i in range(5)]\n",
    "[0, 1, 2, 3, 4]\n",
    ">>> (i for i in range(5))\n",
    "<generator object <genexpr> at 0x2dfb81b2640>\n",
    "\n",
    "если их использовать, как итераторы - то разницы нет:\n",
    "\n",
    "a = (i for i in range(5))\n",
    "b = [i for i in range(5)]\n",
    " \n",
    "for i in a:\n",
    "    print (i)\n",
    " \n",
    "for i in b:\n",
    "    print (i)\n",
    "\n",
    "- дадут абсолютно одинаковый ответ. А разница в том, что первое генерируется по запросу, а второе - это уже полноценный список, который сформирован.\n",
    "\n",
    "def motor(s):\n",
    "    print s\n",
    " \n",
    "a = (motor(i) for i in range(5))\n",
    " \n",
    "b = [motor(i) for i in range(5,10)]\n",
    "\n",
    "... выдаст 5 6 7 8 9.\n",
    "\n",
    "a.next()\n",
    "a.next()\n",
    "\n",
    "- это обращение к генератору. Взяты два первых элемента. И теперь:\n",
    "\n",
    "for i in a:\n",
    "    pass\n",
    "\n",
    "пройдёт уже не 5 раз, а только по трём оставшимся. Если обратиться ещё раз - то не пройдёт ни по какому, потому что элементы - закончились.\n",
    "\n",
    "Но, собственно, элементов там никаких и нет. Если обратиться к b[0], то он выдаст первый элемент списка. А a[0] - вызовет ошибку, потому что это не список, и пройтись по нему можно только итерацией, и количество элементов в генераторе - неизвестно. Можно превратить генератор в список через a = list(a), тогда a и b будут идентичными списками.\n"
   ]
  },
  {
   "cell_type": "code",
   "execution_count": 5,
   "metadata": {
    "collapsed": false,
    "jupyter": {
     "outputs_hidden": false
    }
   },
   "outputs": [
    {
     "data": {
      "text/plain": [
       "range(0, 20)"
      ]
     },
     "execution_count": 5,
     "metadata": {},
     "output_type": "execute_result"
    }
   ],
   "source": [
    "a = range(20)\n",
    "a"
   ]
  },
  {
   "cell_type": "code",
   "execution_count": 6,
   "metadata": {
    "collapsed": false,
    "jupyter": {
     "outputs_hidden": false
    }
   },
   "outputs": [
    {
     "data": {
      "text/plain": [
       "[0, 1, 2, 3, 4, 5, 6, 7, 8, 9, 10, 11, 12, 13, 14, 15, 16, 17, 18, 19]"
      ]
     },
     "execution_count": 6,
     "metadata": {},
     "output_type": "execute_result"
    }
   ],
   "source": [
    "z = [i for i in a]\n",
    "z"
   ]
  },
  {
   "cell_type": "markdown",
   "metadata": {},
   "source": [
    "Но это **еще не генераторы** - это пока просто итераторы.\n",
    "\n",
    "Генераторы задаются через круглые скобки."
   ]
  },
  {
   "cell_type": "code",
   "execution_count": 7,
   "metadata": {
    "collapsed": false,
    "jupyter": {
     "outputs_hidden": false
    }
   },
   "outputs": [],
   "source": [
    "gen = (a for a in range(9))"
   ]
  },
  {
   "cell_type": "code",
   "execution_count": 8,
   "metadata": {
    "collapsed": false,
    "jupyter": {
     "outputs_hidden": false
    }
   },
   "outputs": [
    {
     "data": {
      "text/plain": [
       "<generator object <genexpr> at 0x7f30fcf0fcf0>"
      ]
     },
     "execution_count": 8,
     "metadata": {},
     "output_type": "execute_result"
    }
   ],
   "source": [
    "gen"
   ]
  },
  {
   "cell_type": "code",
   "execution_count": 11,
   "metadata": {
    "collapsed": false,
    "jupyter": {
     "outputs_hidden": false
    }
   },
   "outputs": [
    {
     "name": "stdout",
     "output_type": "stream",
     "text": [
      "0\n",
      "1\n",
      "2\n",
      "3\n",
      "4\n",
      "5\n",
      "6\n",
      "7\n",
      "8\n"
     ]
    }
   ],
   "source": [
    "for i in gen:\n",
    "    print(i)"
   ]
  },
  {
   "cell_type": "code",
   "execution_count": 12,
   "metadata": {},
   "outputs": [],
   "source": [
    "for i in gen:\n",
    "    print(i)"
   ]
  },
  {
   "cell_type": "markdown",
   "metadata": {},
   "source": [
    "Второй прогон ничего не выводит - то есть речь идет о генераторе, который хранит внутреннее состояние. Такой штуке не нужно передавать это состояние. Он отрабатывает свой список и засыпает."
   ]
  },
  {
   "cell_type": "code",
   "execution_count": 13,
   "metadata": {
    "collapsed": false,
    "jupyter": {
     "outputs_hidden": false
    }
   },
   "outputs": [
    {
     "data": {
      "text/plain": [
       "[0, 3, 6, 9, 12, 15, 18]"
      ]
     },
     "execution_count": 13,
     "metadata": {},
     "output_type": "execute_result"
    }
   ],
   "source": [
    "hyp = [x*3 for x in range(7)] # здесь все есть сразу и всегда (такой вечнопулемет)\n",
    "hyp"
   ]
  },
  {
   "cell_type": "code",
   "execution_count": 14,
   "metadata": {
    "collapsed": false,
    "jupyter": {
     "outputs_hidden": false
    }
   },
   "outputs": [
    {
     "data": {
      "text/plain": [
       "<generator object <genexpr> at 0x7f30fcf0fc00>"
      ]
     },
     "execution_count": 14,
     "metadata": {},
     "output_type": "execute_result"
    }
   ],
   "source": [
    "hyp_gen = (x*3 for x in range(7)) # здесь в пулемет зарядили ленту от 0 до 6\n",
    "hyp_gen"
   ]
  },
  {
   "cell_type": "code",
   "execution_count": 16,
   "metadata": {
    "collapsed": false,
    "jupyter": {
     "outputs_hidden": false
    }
   },
   "outputs": [
    {
     "name": "stdout",
     "output_type": "stream",
     "text": [
      "0\n",
      "3\n",
      "6\n",
      "9\n",
      "12\n",
      "15\n",
      "18\n",
      "0\n",
      "3\n",
      "6\n",
      "9\n",
      "12\n",
      "15\n",
      "18\n"
     ]
    }
   ],
   "source": [
    "for i in hyp:\n",
    "    print(i)\n",
    "for i in hyp:\n",
    "    print(i)"
   ]
  },
  {
   "cell_type": "code",
   "execution_count": 18,
   "metadata": {
    "collapsed": false,
    "jupyter": {
     "outputs_hidden": false
    }
   },
   "outputs": [
    {
     "name": "stdout",
     "output_type": "stream",
     "text": [
      "0\n",
      "3\n",
      "6\n",
      "9\n",
      "12\n",
      "15\n",
      "18\n"
     ]
    }
   ],
   "source": [
    "for j in hyp_gen:\n",
    "    print(j)\n",
    "for j in hyp_gen:\n",
    "    print(j)"
   ]
  },
  {
   "cell_type": "markdown",
   "metadata": {},
   "source": [
    "`yield` - это не сам генератор.  Если это служебное слово использовать вместо `return` в функции - она будет \"работать в режиме генератора\"."
   ]
  },
  {
   "cell_type": "code",
   "execution_count": 20,
   "metadata": {
    "collapsed": false,
    "jupyter": {
     "outputs_hidden": false
    }
   },
   "outputs": [
    {
     "name": "stdout",
     "output_type": "stream",
     "text": [
      "range(0, 9)\n"
     ]
    }
   ],
   "source": [
    "def zum():\n",
    "    i = range(9)\n",
    "    return i\n",
    "\n",
    "a = zum()\n",
    "print(a)"
   ]
  },
  {
   "cell_type": "code",
   "execution_count": 22,
   "metadata": {
    "collapsed": false,
    "jupyter": {
     "outputs_hidden": false
    }
   },
   "outputs": [
    {
     "name": "stdout",
     "output_type": "stream",
     "text": [
      "<generator object zumzum at 0x7f30fcec2048>\n"
     ]
    }
   ],
   "source": [
    "def zumzum():\n",
    "    i = range(9)\n",
    "    yield i\n",
    "\n",
    "a = zumzum()\n",
    "print(a)"
   ]
  },
  {
   "cell_type": "code",
   "execution_count": 23,
   "metadata": {
    "collapsed": false,
    "jupyter": {
     "outputs_hidden": false
    }
   },
   "outputs": [
    {
     "name": "stdout",
     "output_type": "stream",
     "text": [
      "<generator object zumzum at 0x7f30fcec21b0>\n"
     ]
    }
   ],
   "source": [
    "def zumzum():\n",
    "    i = range(9)\n",
    "    yield i\n",
    "\n",
    "a = zumzum()\n",
    "print(a)"
   ]
  },
  {
   "cell_type": "code",
   "execution_count": 24,
   "metadata": {
    "collapsed": false,
    "jupyter": {
     "outputs_hidden": false
    }
   },
   "outputs": [
    {
     "name": "stdout",
     "output_type": "stream",
     "text": [
      "range(0, 9)\n"
     ]
    }
   ],
   "source": [
    "def zum():\n",
    "    i = range(9)\n",
    "    return i\n",
    "\n",
    "a = zum()\n",
    "print(a)"
   ]
  },
  {
   "cell_type": "code",
   "execution_count": 25,
   "metadata": {},
   "outputs": [],
   "source": [
    "a = []"
   ]
  },
  {
   "cell_type": "code",
   "execution_count": 27,
   "metadata": {
    "collapsed": false,
    "jupyter": {
     "outputs_hidden": false
    }
   },
   "outputs": [
    {
     "name": "stdout",
     "output_type": "stream",
     "text": [
      "range(0, 9)\n",
      "range(0, 9)\n",
      "range(0, 9)\n",
      "range(0, 9)\n",
      "range(0, 9)\n",
      "range(0, 9)\n",
      "range(0, 9)\n",
      "range(0, 9)\n",
      "range(0, 9)\n",
      "range(0, 9)\n",
      "range(0, 9)\n",
      "range(0, 9)\n",
      "range(0, 9)\n",
      "range(0, 9)\n",
      "range(0, 9)\n",
      "range(0, 9)\n",
      "range(0, 9)\n",
      "range(0, 9)\n"
     ]
    }
   ],
   "source": [
    "def zum():\n",
    "    i = range(9)\n",
    "    return i\n",
    "\n",
    "a = zum()\n",
    "\n",
    "for z in a:\n",
    "    print(a)\n",
    "for z in a:\n",
    "    print(a)"
   ]
  },
  {
   "cell_type": "code",
   "execution_count": 28,
   "metadata": {
    "collapsed": false,
    "jupyter": {
     "outputs_hidden": false
    }
   },
   "outputs": [
    {
     "name": "stdout",
     "output_type": "stream",
     "text": [
      "0\n",
      "1\n",
      "2\n",
      "3\n",
      "4\n",
      "5\n",
      "6\n",
      "7\n",
      "8\n"
     ]
    }
   ],
   "source": [
    "def zumzum():\n",
    "    i = range(9)\n",
    "    for j in i:\n",
    "        yield j\n",
    "\n",
    "a = zumzum()\n",
    "for z in a:\n",
    "    print(z)\n",
    "\n",
    "for z in a:\n",
    "    print(z)"
   ]
  },
  {
   "cell_type": "markdown",
   "metadata": {},
   "source": [
    "Из вот этой статьи <https://jeffknupp.com/blog/2013/04/07/improve-your-python-yield-and-generators-explained/#fnref:prime> следует, что разница в следующем:\n",
    "\n",
    "Функция возвращает результат весь сразу (это пулемет, который выстреливает список одной длинной очередью, я бы даже сказал, одним параллельным залпом), а генератор - по одному значению за раз.\n",
    "\n",
    "> Before we give up, let's determine the core obstacle preventing us from writing a function that satisfies our boss's new requirements. Thinking about it, we arrive at the following: **functions only get one chance to return results, and thus must return all results at once**. It seems pointless to make such an obvious statement; \"functions just work that way,\" we think. The real value lies in asking, \"but what if they didn't?\""
   ]
  },
  {
   "cell_type": "code",
   "execution_count": 29,
   "metadata": {},
   "outputs": [],
   "source": [
    ">>> def simple_generator_function():\n",
    ">>>    yield 1\n",
    ">>>    yield 2\n",
    ">>>    yield 3"
   ]
  },
  {
   "cell_type": "code",
   "execution_count": 30,
   "metadata": {
    "collapsed": false,
    "jupyter": {
     "outputs_hidden": false
    }
   },
   "outputs": [
    {
     "name": "stdout",
     "output_type": "stream",
     "text": [
      "1\n",
      "2\n",
      "3\n"
     ]
    }
   ],
   "source": [
    ">>> for value in simple_generator_function():\n",
    ">>>     print(value)"
   ]
  },
  {
   "cell_type": "code",
   "execution_count": 31,
   "metadata": {},
   "outputs": [],
   "source": [
    "our_generator = simple_generator_function()"
   ]
  },
  {
   "cell_type": "code",
   "execution_count": 32,
   "metadata": {
    "collapsed": false,
    "jupyter": {
     "outputs_hidden": false
    }
   },
   "outputs": [
    {
     "data": {
      "text/plain": [
       "1"
      ]
     },
     "execution_count": 32,
     "metadata": {},
     "output_type": "execute_result"
    }
   ],
   "source": [
    "next(our_generator)"
   ]
  },
  {
   "cell_type": "code",
   "execution_count": 33,
   "metadata": {
    "collapsed": false,
    "jupyter": {
     "outputs_hidden": false
    }
   },
   "outputs": [
    {
     "data": {
      "text/plain": [
       "2"
      ]
     },
     "execution_count": 33,
     "metadata": {},
     "output_type": "execute_result"
    }
   ],
   "source": [
    "next(our_generator)"
   ]
  },
  {
   "cell_type": "code",
   "execution_count": 34,
   "metadata": {
    "collapsed": false,
    "jupyter": {
     "outputs_hidden": false
    }
   },
   "outputs": [
    {
     "data": {
      "text/plain": [
       "3"
      ]
     },
     "execution_count": 34,
     "metadata": {},
     "output_type": "execute_result"
    }
   ],
   "source": [
    "next(our_generator)"
   ]
  },
  {
   "cell_type": "code",
   "execution_count": 35,
   "metadata": {
    "collapsed": false,
    "jupyter": {
     "outputs_hidden": false
    }
   },
   "outputs": [
    {
     "ename": "StopIteration",
     "evalue": "",
     "output_type": "error",
     "traceback": [
      "\u001b[0;31m---------------------------------------------------------------------------\u001b[0m",
      "\u001b[0;31mStopIteration\u001b[0m                             Traceback (most recent call last)",
      "\u001b[0;32m<ipython-input-35-57a7077cf65e>\u001b[0m in \u001b[0;36m<module>\u001b[0;34m\u001b[0m\n\u001b[0;32m----> 1\u001b[0;31m \u001b[0mnext\u001b[0m\u001b[0;34m(\u001b[0m\u001b[0mour_generator\u001b[0m\u001b[0;34m)\u001b[0m\u001b[0;34m\u001b[0m\u001b[0;34m\u001b[0m\u001b[0m\n\u001b[0m",
      "\u001b[0;31mStopIteration\u001b[0m: "
     ]
    }
   ],
   "source": [
    "next(our_generator)"
   ]
  },
  {
   "cell_type": "code",
   "execution_count": 36,
   "metadata": {},
   "outputs": [],
   "source": [
    "# бесконечный генератор\n",
    "def get_primes(number):\n",
    "    while True:   # бесконечный цикл\n",
    "        if is_prime(number): # is_prime внешняя функция - она определяет прайм или нет\n",
    "            yield number # если да - возвращаем значение\n",
    "        number += 1 # если нет - или вообще - меняем номер на +1 и повторяем цикл"
   ]
  },
  {
   "cell_type": "code",
   "execution_count": 37,
   "metadata": {
    "collapsed": false,
    "jupyter": {
     "outputs_hidden": false
    }
   },
   "outputs": [],
   "source": [
    "# мой вариант бесконечного генератора\n",
    "def infin():\n",
    "    number = 1\n",
    "    while True:\n",
    "        yield number\n",
    "        number += 1"
   ]
  },
  {
   "cell_type": "code",
   "execution_count": 39,
   "metadata": {
    "collapsed": false,
    "jupyter": {
     "outputs_hidden": false
    }
   },
   "outputs": [
    {
     "name": "stdout",
     "output_type": "stream",
     "text": [
      "1\n",
      "1\n",
      "1\n",
      "1\n",
      "1\n",
      "1\n",
      "1\n",
      "1\n",
      "1\n",
      "1\n"
     ]
    }
   ],
   "source": [
    "for i in range(10):\n",
    "    print(next(infin()))"
   ]
  },
  {
   "cell_type": "markdown",
   "metadata": {},
   "source": [
    "Осечка. ему неоткуда взять следующий номер."
   ]
  },
  {
   "cell_type": "code",
   "execution_count": 40,
   "metadata": {
    "collapsed": false,
    "jupyter": {
     "outputs_hidden": false
    }
   },
   "outputs": [],
   "source": [
    "# мой вариант бесконечного генератора\n",
    "def infin(number):\n",
    "    while True:\n",
    "        yield number\n",
    "        number += 1"
   ]
  },
  {
   "cell_type": "code",
   "execution_count": 42,
   "metadata": {
    "collapsed": false,
    "jupyter": {
     "outputs_hidden": false
    }
   },
   "outputs": [
    {
     "name": "stdout",
     "output_type": "stream",
     "text": [
      "1\n",
      "2\n",
      "3\n",
      "4\n",
      "5\n",
      "6\n",
      "7\n",
      "8\n",
      "9\n",
      "10\n"
     ]
    }
   ],
   "source": [
    "a = 1\n",
    "a = infin(a)\n",
    "for i in range(10):    \n",
    "    print(next(a))"
   ]
  },
  {
   "cell_type": "code",
   "execution_count": 44,
   "metadata": {
    "collapsed": false,
    "jupyter": {
     "outputs_hidden": false
    }
   },
   "outputs": [],
   "source": [
    "import simpy"
   ]
  },
  {
   "cell_type": "code",
   "execution_count": 45,
   "metadata": {},
   "outputs": [],
   "source": [
    ">>> def car(env):\n",
    "...     while True:\n",
    "...         print('Start parking at %d' % env.now)\n",
    "...         parking_duration = 5\n",
    "...         yield env.timeout(parking_duration)\n",
    "...\n",
    "...         print('Start driving at %d' % env.now)\n",
    "...         trip_duration = 2\n",
    "...         yield env.timeout(trip_duration)"
   ]
  },
  {
   "cell_type": "code",
   "execution_count": 46,
   "metadata": {},
   "outputs": [],
   "source": [
    ">>> class Car(object):\n",
    "...     def __init__(self, env):\n",
    "...         self.env = env\n",
    "...         # Start the run process everytime an instance is created.\n",
    "...         self.action = env.process(self.run())\n",
    "...\n",
    "...     def run(self):\n",
    "...         while True:\n",
    "...             print('Start parking and charging at %d' % self.env.now)\n",
    "...             charge_duration = 5\n",
    "...             # We yield the process that process() returns\n",
    "...             # to wait for it to finish\n",
    "...             yield self.env.process(self.charge(charge_duration))\n",
    "...\n",
    "...             # The charge process has finished and\n",
    "...             # we can start driving again.\n",
    "...             print('Start driving at %d' % self.env.now)\n",
    "...             trip_duration = 2\n",
    "...             yield self.env.timeout(trip_duration)\n",
    "...\n",
    "...     def charge(self, duration):\n",
    "...         yield self.env.timeout(duration)\n"
   ]
  },
  {
   "cell_type": "code",
   "execution_count": 47,
   "metadata": {
    "collapsed": false,
    "jupyter": {
     "outputs_hidden": false
    }
   },
   "outputs": [
    {
     "name": "stdout",
     "output_type": "stream",
     "text": [
      "Start parking and charging at 0\n",
      "Start driving at 5\n",
      "Start parking and charging at 7\n",
      "Start driving at 12\n",
      "Start parking and charging at 14\n"
     ]
    }
   ],
   "source": [
    "env = simpy.Environment()\n",
    "car = Car(env)\n",
    "env.run(until=15)\n"
   ]
  },
  {
   "cell_type": "code",
   "execution_count": null,
   "metadata": {
    "tags": []
   },
   "outputs": [],
   "source": []
  },
  {
   "cell_type": "code",
   "execution_count": null,
   "metadata": {},
   "outputs": [],
   "source": []
  }
 ],
 "metadata": {
  "kernelspec": {
   "display_name": "Python 3",
   "language": "python",
   "name": "python3"
  },
  "language_info": {
   "codemirror_mode": {
    "name": "ipython",
    "version": 3
   },
   "file_extension": ".py",
   "mimetype": "text/x-python",
   "name": "python",
   "nbconvert_exporter": "python",
   "pygments_lexer": "ipython3",
   "version": "3.7.3"
  }
 },
 "nbformat": 4,
 "nbformat_minor": 4
}
