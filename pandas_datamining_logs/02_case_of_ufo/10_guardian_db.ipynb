{
 "cells": [
  {
   "cell_type": "code",
   "execution_count": 1,
   "metadata": {},
   "outputs": [],
   "source": [
    "import requests\n",
    "import json"
   ]
  },
  {
   "cell_type": "code",
   "execution_count": 2,
   "metadata": {},
   "outputs": [],
   "source": [
    "api_url = 'http://content.guardianapis.com/#/search?q=Australia'"
   ]
  },
  {
   "cell_type": "code",
   "execution_count": 3,
   "metadata": {},
   "outputs": [],
   "source": [
    "my_key = \"1b51187d-aba0-4f00-8215-665a5ec769c6\""
   ]
  },
  {
   "cell_type": "code",
   "execution_count": 4,
   "metadata": {},
   "outputs": [],
   "source": [
    "payload = {\n",
    "        'api-key':              my_key,\n",
    "        'page-size':            200,\n",
    "        'show-editors-picks':   'true',\n",
    "        'show-elements':        'image',\n",
    "        'show-fields':          'all'\n",
    "\n",
    "}"
   ]
  },
  {
   "cell_type": "code",
   "execution_count": 5,
   "metadata": {},
   "outputs": [],
   "source": [
    "response = requests.get(api_url, params=payload)"
   ]
  },
  {
   "cell_type": "code",
   "execution_count": 6,
   "metadata": {},
   "outputs": [],
   "source": [
    "data = response.json()"
   ]
  },
  {
   "cell_type": "code",
   "execution_count": 7,
   "metadata": {},
   "outputs": [
    {
     "data": {
      "text/plain": [
       "{'response': {'status': 'ok',\n",
       "  'userTier': 'developer',\n",
       "  'total': 1,\n",
       "  'editorsPicks': []}}"
      ]
     },
     "execution_count": 7,
     "metadata": {},
     "output_type": "execute_result"
    }
   ],
   "source": [
    "data"
   ]
  },
  {
   "cell_type": "code",
   "execution_count": 8,
   "metadata": {},
   "outputs": [
    {
     "data": {
      "text/plain": [
       "{'response': {'status': 'ok',\n",
       "  'userTier': 'developer',\n",
       "  'total': 1,\n",
       "  'editorsPicks': []}}"
      ]
     },
     "execution_count": 8,
     "metadata": {},
     "output_type": "execute_result"
    }
   ],
   "source": [
    "response.json()"
   ]
  },
  {
   "cell_type": "code",
   "execution_count": 9,
   "metadata": {},
   "outputs": [],
   "source": [
    "url = 'https://content.guardianapis.com/search'\n",
    "payload = {'order-by': 'oldest', 'q': 'UFO', 'api-key': my_key }"
   ]
  },
  {
   "cell_type": "code",
   "execution_count": 10,
   "metadata": {},
   "outputs": [],
   "source": [
    "payload['page-size'] = 100\n",
    "payload['page'] = 1\n",
    "\n",
    "r = requests.get(url, payload)\n",
    "j = json.loads(r.text)"
   ]
  },
  {
   "cell_type": "code",
   "execution_count": 11,
   "metadata": {},
   "outputs": [
    {
     "data": {
      "text/plain": [
       "'{\"response\":{\"status\":\"ok\",\"userTier\":\"developer\",\"total\":1279,\"startIndex\":1,\"pageSize\":100,\"currentPage\":1,\"pages\":13,\"orderBy\":\"oldest\",\"results\":[{\"id\":\"uk/1989/jun/14/2\",\"type\":\"article\",\"sectionId\":\"uk-news\",\"sectionName\":\"UK news\",\"webPublicationDate\":\"1989-06-14T10:26:21Z\",\"webTitle\":\"Guardian Tomorrows: Toxicity on tap\",\"webUrl\":\"https://www.theguardian.com/uk/1989/jun/14/2\",\"apiUrl\":\"https://content.guardianapis.com/uk/1989/jun/14/2\",\"isHosted\":false,\"pillarId\":\"pillar/news\",\"pillarName\":\"News\"},{\"id\":\"theguardian/1998/dec/31/features11.g2\",\"type\":\"article\",\"sectionId\":\"global\",\"sectionName\":\"Global\",\"webPublicationDate\":\"1998-12-31T04:21:18Z\",\"webTitle\":\"They came from Kent\",\"webUrl\":\"https://www.theguardian.com/theguardian/1998/dec/31/features11.g2\",\"apiUrl\":\"https://content.guardianapis.com/theguardian/1998/dec/31/features11.g2\",\"isHosted\":false},{\"id\":\"media/1999/jan/25/tvandradio.television1\",\"type\":\"article\",\"sectionId\":\"culture\",\"sectionName\":\"Culture\",\"webPublicationDate\":\"1999-01-25T04:17:17Z\",\"webTitle\":\"Watching brief\",\"webUrl\":\"https://www.theguardian.com/media/1999/jan/25/tvandradio.television1\",\"apiUrl\":\"https://content.guardianapis.com/media/1999/jan/25/tvandradio.television1\",\"isHosted\":false,\"pillarId\":\"pillar/arts\",\"pillarName\":\"Arts\"},{\"id\":\"society/1999/mar/17/guardiansocietysupplement\",\"type\":\"article\",\"sectionId\":\"society\",\"sectionName\":\"Society\",\"webPublicationDate\":\"1999-03-17T02:26:08Z\",\"webTitle\":\"Cover stories\",\"webUrl\":\"https://www.theguardian.com/society/1999/mar/17/guardiansocietysupplement\",\"apiUrl\":\"https://content.guardianapis.com/society/1999/mar/17/guardiansocietysupplement\",\"isHosted\":false,\"pillarId\":\"pillar/news\",\"pillarName\":\"News\"},{\"id\":\"uk/1999/mar/20/4\",\"type\":\"article\",\"sectionId\":\"uk-news\",\"sectionName\":\"UK news\",\"webPublicationDate\":\"1999-03-20T04:06:49Z\",\"webTitle\":\"Pity the poor aliens\",\"webUrl\":\"https://www.theguardian.com/uk/1999/mar/20/4\",\"apiUrl\":\"https://content.guardianapis.com/uk/1999/mar/20/4\",\"isHosted\":false,\"pillarId\":\"pillar/news\",\"pillarName\":\"News\"},{\"id\":\"football/1999/mar/22/thefiver.sport\",\"type\":\"article\",\"sectionId\":\"football\",\"sectionName\":\"Football\",\"webPublicationDate\":\"1999-03-22T16:41:35Z\",\"webTitle\":\"Flying saucer, Tarnished cup, and No mug\",\"webUrl\":\"https://www.theguardian.com/football/1999/mar/22/thefiver.sport\",\"apiUrl\":\"https://content.guardianapis.com/football/1999/mar/22/thefiver.sport\",\"isHosted\":false,\"pillarId\":\"pillar/sport\",\"pillarName\":\"Sport\"},{\"id\":\"football/1999/mar/23/thefiver.sport\",\"type\":\"article\",\"sectionId\":\"football\",\"sectionName\":\"Football\",\"webPublicationDate\":\"1999-03-23T16:18:12Z\",\"webTitle\":\"Koogan\\'s Run, Crazy Like A Fox, and Aliens\",\"webUrl\":\"https://www.theguardian.com/football/1999/mar/23/thefiver.sport\",\"apiUrl\":\"https://content.guardianapis.com/football/1999/mar/23/thefiver.sport\",\"isHosted\":false,\"pillarId\":\"pillar/sport\",\"pillarName\":\"Sport\"},{\"id\":\"football/1999/mar/25/thefiver.sport\",\"type\":\"article\",\"sectionId\":\"football\",\"sec'"
      ]
     },
     "execution_count": 11,
     "metadata": {},
     "output_type": "execute_result"
    }
   ],
   "source": [
    "r.text[:3000]"
   ]
  },
  {
   "cell_type": "code",
   "execution_count": 12,
   "metadata": {},
   "outputs": [],
   "source": [
    "import pandas as pd"
   ]
  },
  {
   "cell_type": "code",
   "execution_count": 13,
   "metadata": {},
   "outputs": [],
   "source": [
    "s = j['response']['results']"
   ]
  },
  {
   "cell_type": "code",
   "execution_count": 14,
   "metadata": {},
   "outputs": [
    {
     "data": {
      "text/plain": [
       "[{'id': 'uk/1989/jun/14/2',\n",
       "  'type': 'article',\n",
       "  'sectionId': 'uk-news',\n",
       "  'sectionName': 'UK news',\n",
       "  'webPublicationDate': '1989-06-14T10:26:21Z',\n",
       "  'webTitle': 'Guardian Tomorrows: Toxicity on tap',\n",
       "  'webUrl': 'https://www.theguardian.com/uk/1989/jun/14/2',\n",
       "  'apiUrl': 'https://content.guardianapis.com/uk/1989/jun/14/2',\n",
       "  'isHosted': False,\n",
       "  'pillarId': 'pillar/news',\n",
       "  'pillarName': 'News'},\n",
       " {'id': 'theguardian/1998/dec/31/features11.g2',\n",
       "  'type': 'article',\n",
       "  'sectionId': 'global',\n",
       "  'sectionName': 'Global',\n",
       "  'webPublicationDate': '1998-12-31T04:21:18Z',\n",
       "  'webTitle': 'They came from Kent',\n",
       "  'webUrl': 'https://www.theguardian.com/theguardian/1998/dec/31/features11.g2',\n",
       "  'apiUrl': 'https://content.guardianapis.com/theguardian/1998/dec/31/features11.g2',\n",
       "  'isHosted': False},\n",
       " {'id': 'media/1999/jan/25/tvandradio.television1',\n",
       "  'type': 'article',\n",
       "  'sectionId': 'culture',\n",
       "  'sectionName': 'Culture',\n",
       "  'webPublicationDate': '1999-01-25T04:17:17Z',\n",
       "  'webTitle': 'Watching brief',\n",
       "  'webUrl': 'https://www.theguardian.com/media/1999/jan/25/tvandradio.television1',\n",
       "  'apiUrl': 'https://content.guardianapis.com/media/1999/jan/25/tvandradio.television1',\n",
       "  'isHosted': False,\n",
       "  'pillarId': 'pillar/arts',\n",
       "  'pillarName': 'Arts'}]"
      ]
     },
     "execution_count": 14,
     "metadata": {},
     "output_type": "execute_result"
    }
   ],
   "source": [
    "s[:3]"
   ]
  },
  {
   "cell_type": "code",
   "execution_count": 15,
   "metadata": {},
   "outputs": [],
   "source": [
    "df = pd.DataFrame(s)"
   ]
  },
  {
   "cell_type": "code",
   "execution_count": 16,
   "metadata": {},
   "outputs": [],
   "source": [
    "df['webPublicationDate'] = pd.to_datetime(df['webPublicationDate'])"
   ]
  },
  {
   "cell_type": "code",
   "execution_count": 17,
   "metadata": {},
   "outputs": [
    {
     "data": {
      "text/html": [
       "<div>\n",
       "<style scoped>\n",
       "    .dataframe tbody tr th:only-of-type {\n",
       "        vertical-align: middle;\n",
       "    }\n",
       "\n",
       "    .dataframe tbody tr th {\n",
       "        vertical-align: top;\n",
       "    }\n",
       "\n",
       "    .dataframe thead th {\n",
       "        text-align: right;\n",
       "    }\n",
       "</style>\n",
       "<table border=\"1\" class=\"dataframe\">\n",
       "  <thead>\n",
       "    <tr style=\"text-align: right;\">\n",
       "      <th></th>\n",
       "      <th>id</th>\n",
       "      <th>type</th>\n",
       "      <th>sectionId</th>\n",
       "      <th>sectionName</th>\n",
       "      <th>webPublicationDate</th>\n",
       "      <th>webTitle</th>\n",
       "      <th>webUrl</th>\n",
       "      <th>apiUrl</th>\n",
       "      <th>isHosted</th>\n",
       "      <th>pillarId</th>\n",
       "      <th>pillarName</th>\n",
       "    </tr>\n",
       "  </thead>\n",
       "  <tbody>\n",
       "    <tr>\n",
       "      <th>99</th>\n",
       "      <td>travel/2001/nov/25/familyholidays.family.nethe...</td>\n",
       "      <td>article</td>\n",
       "      <td>travel</td>\n",
       "      <td>Travel</td>\n",
       "      <td>2001-11-25 17:56:46+00:00</td>\n",
       "      <td>Cheesy... but charming</td>\n",
       "      <td>https://www.theguardian.com/travel/2001/nov/25...</td>\n",
       "      <td>https://content.guardianapis.com/travel/2001/n...</td>\n",
       "      <td>False</td>\n",
       "      <td>pillar/lifestyle</td>\n",
       "      <td>Lifestyle</td>\n",
       "    </tr>\n",
       "    <tr>\n",
       "      <th>98</th>\n",
       "      <td>culture/2001/nov/13/artsfeatures.syd</td>\n",
       "      <td>article</td>\n",
       "      <td>global</td>\n",
       "      <td>Global</td>\n",
       "      <td>2001-11-13 15:52:30+00:00</td>\n",
       "      <td>If you see Syd, tell him</td>\n",
       "      <td>https://www.theguardian.com/culture/2001/nov/1...</td>\n",
       "      <td>https://content.guardianapis.com/culture/2001/...</td>\n",
       "      <td>False</td>\n",
       "      <td>NaN</td>\n",
       "      <td>NaN</td>\n",
       "    </tr>\n",
       "    <tr>\n",
       "      <th>97</th>\n",
       "      <td>uk/2001/nov/04/redbox</td>\n",
       "      <td>article</td>\n",
       "      <td>uk-news</td>\n",
       "      <td>UK news</td>\n",
       "      <td>2001-11-04 12:18:49+00:00</td>\n",
       "      <td>Spies admit it: there are no aliens out there</td>\n",
       "      <td>https://www.theguardian.com/uk/2001/nov/04/redbox</td>\n",
       "      <td>https://content.guardianapis.com/uk/2001/nov/0...</td>\n",
       "      <td>False</td>\n",
       "      <td>pillar/news</td>\n",
       "      <td>News</td>\n",
       "    </tr>\n",
       "    <tr>\n",
       "      <th>96</th>\n",
       "      <td>uk/2001/oct/21/humanities.research</td>\n",
       "      <td>article</td>\n",
       "      <td>uk-news</td>\n",
       "      <td>UK news</td>\n",
       "      <td>2001-10-21 10:01:59+00:00</td>\n",
       "      <td>How Churchill chased flying saucers</td>\n",
       "      <td>https://www.theguardian.com/uk/2001/oct/21/hum...</td>\n",
       "      <td>https://content.guardianapis.com/uk/2001/oct/2...</td>\n",
       "      <td>False</td>\n",
       "      <td>pillar/news</td>\n",
       "      <td>News</td>\n",
       "    </tr>\n",
       "    <tr>\n",
       "      <th>95</th>\n",
       "      <td>culture/2001/oct/06/artsfeatures1</td>\n",
       "      <td>article</td>\n",
       "      <td>global</td>\n",
       "      <td>Global</td>\n",
       "      <td>2001-10-05 23:00:00+00:00</td>\n",
       "      <td>Pop review: The Cooper Temple Clause</td>\n",
       "      <td>https://www.theguardian.com/culture/2001/oct/0...</td>\n",
       "      <td>https://content.guardianapis.com/culture/2001/...</td>\n",
       "      <td>False</td>\n",
       "      <td>NaN</td>\n",
       "      <td>NaN</td>\n",
       "    </tr>\n",
       "    <tr>\n",
       "      <th>...</th>\n",
       "      <td>...</td>\n",
       "      <td>...</td>\n",
       "      <td>...</td>\n",
       "      <td>...</td>\n",
       "      <td>...</td>\n",
       "      <td>...</td>\n",
       "      <td>...</td>\n",
       "      <td>...</td>\n",
       "      <td>...</td>\n",
       "      <td>...</td>\n",
       "      <td>...</td>\n",
       "    </tr>\n",
       "    <tr>\n",
       "      <th>4</th>\n",
       "      <td>uk/1999/mar/20/4</td>\n",
       "      <td>article</td>\n",
       "      <td>uk-news</td>\n",
       "      <td>UK news</td>\n",
       "      <td>1999-03-20 04:06:49+00:00</td>\n",
       "      <td>Pity the poor aliens</td>\n",
       "      <td>https://www.theguardian.com/uk/1999/mar/20/4</td>\n",
       "      <td>https://content.guardianapis.com/uk/1999/mar/20/4</td>\n",
       "      <td>False</td>\n",
       "      <td>pillar/news</td>\n",
       "      <td>News</td>\n",
       "    </tr>\n",
       "    <tr>\n",
       "      <th>3</th>\n",
       "      <td>society/1999/mar/17/guardiansocietysupplement</td>\n",
       "      <td>article</td>\n",
       "      <td>society</td>\n",
       "      <td>Society</td>\n",
       "      <td>1999-03-17 02:26:08+00:00</td>\n",
       "      <td>Cover stories</td>\n",
       "      <td>https://www.theguardian.com/society/1999/mar/1...</td>\n",
       "      <td>https://content.guardianapis.com/society/1999/...</td>\n",
       "      <td>False</td>\n",
       "      <td>pillar/news</td>\n",
       "      <td>News</td>\n",
       "    </tr>\n",
       "    <tr>\n",
       "      <th>2</th>\n",
       "      <td>media/1999/jan/25/tvandradio.television1</td>\n",
       "      <td>article</td>\n",
       "      <td>culture</td>\n",
       "      <td>Culture</td>\n",
       "      <td>1999-01-25 04:17:17+00:00</td>\n",
       "      <td>Watching brief</td>\n",
       "      <td>https://www.theguardian.com/media/1999/jan/25/...</td>\n",
       "      <td>https://content.guardianapis.com/media/1999/ja...</td>\n",
       "      <td>False</td>\n",
       "      <td>pillar/arts</td>\n",
       "      <td>Arts</td>\n",
       "    </tr>\n",
       "    <tr>\n",
       "      <th>1</th>\n",
       "      <td>theguardian/1998/dec/31/features11.g2</td>\n",
       "      <td>article</td>\n",
       "      <td>global</td>\n",
       "      <td>Global</td>\n",
       "      <td>1998-12-31 04:21:18+00:00</td>\n",
       "      <td>They came from Kent</td>\n",
       "      <td>https://www.theguardian.com/theguardian/1998/d...</td>\n",
       "      <td>https://content.guardianapis.com/theguardian/1...</td>\n",
       "      <td>False</td>\n",
       "      <td>NaN</td>\n",
       "      <td>NaN</td>\n",
       "    </tr>\n",
       "    <tr>\n",
       "      <th>0</th>\n",
       "      <td>uk/1989/jun/14/2</td>\n",
       "      <td>article</td>\n",
       "      <td>uk-news</td>\n",
       "      <td>UK news</td>\n",
       "      <td>1989-06-14 10:26:21+00:00</td>\n",
       "      <td>Guardian Tomorrows: Toxicity on tap</td>\n",
       "      <td>https://www.theguardian.com/uk/1989/jun/14/2</td>\n",
       "      <td>https://content.guardianapis.com/uk/1989/jun/14/2</td>\n",
       "      <td>False</td>\n",
       "      <td>pillar/news</td>\n",
       "      <td>News</td>\n",
       "    </tr>\n",
       "  </tbody>\n",
       "</table>\n",
       "<p>100 rows × 11 columns</p>\n",
       "</div>"
      ],
      "text/plain": [
       "                                                   id     type sectionId  \\\n",
       "99  travel/2001/nov/25/familyholidays.family.nethe...  article    travel   \n",
       "98               culture/2001/nov/13/artsfeatures.syd  article    global   \n",
       "97                              uk/2001/nov/04/redbox  article   uk-news   \n",
       "96                 uk/2001/oct/21/humanities.research  article   uk-news   \n",
       "95                  culture/2001/oct/06/artsfeatures1  article    global   \n",
       "..                                                ...      ...       ...   \n",
       "4                                    uk/1999/mar/20/4  article   uk-news   \n",
       "3       society/1999/mar/17/guardiansocietysupplement  article   society   \n",
       "2            media/1999/jan/25/tvandradio.television1  article   culture   \n",
       "1               theguardian/1998/dec/31/features11.g2  article    global   \n",
       "0                                    uk/1989/jun/14/2  article   uk-news   \n",
       "\n",
       "   sectionName        webPublicationDate  \\\n",
       "99      Travel 2001-11-25 17:56:46+00:00   \n",
       "98      Global 2001-11-13 15:52:30+00:00   \n",
       "97     UK news 2001-11-04 12:18:49+00:00   \n",
       "96     UK news 2001-10-21 10:01:59+00:00   \n",
       "95      Global 2001-10-05 23:00:00+00:00   \n",
       "..         ...                       ...   \n",
       "4      UK news 1999-03-20 04:06:49+00:00   \n",
       "3      Society 1999-03-17 02:26:08+00:00   \n",
       "2      Culture 1999-01-25 04:17:17+00:00   \n",
       "1       Global 1998-12-31 04:21:18+00:00   \n",
       "0      UK news 1989-06-14 10:26:21+00:00   \n",
       "\n",
       "                                         webTitle  \\\n",
       "99                         Cheesy... but charming   \n",
       "98                       If you see Syd, tell him   \n",
       "97  Spies admit it: there are no aliens out there   \n",
       "96            How Churchill chased flying saucers   \n",
       "95           Pop review: The Cooper Temple Clause   \n",
       "..                                            ...   \n",
       "4                            Pity the poor aliens   \n",
       "3                                   Cover stories   \n",
       "2                                  Watching brief   \n",
       "1                             They came from Kent   \n",
       "0             Guardian Tomorrows: Toxicity on tap   \n",
       "\n",
       "                                               webUrl  \\\n",
       "99  https://www.theguardian.com/travel/2001/nov/25...   \n",
       "98  https://www.theguardian.com/culture/2001/nov/1...   \n",
       "97  https://www.theguardian.com/uk/2001/nov/04/redbox   \n",
       "96  https://www.theguardian.com/uk/2001/oct/21/hum...   \n",
       "95  https://www.theguardian.com/culture/2001/oct/0...   \n",
       "..                                                ...   \n",
       "4        https://www.theguardian.com/uk/1999/mar/20/4   \n",
       "3   https://www.theguardian.com/society/1999/mar/1...   \n",
       "2   https://www.theguardian.com/media/1999/jan/25/...   \n",
       "1   https://www.theguardian.com/theguardian/1998/d...   \n",
       "0        https://www.theguardian.com/uk/1989/jun/14/2   \n",
       "\n",
       "                                               apiUrl  isHosted  \\\n",
       "99  https://content.guardianapis.com/travel/2001/n...     False   \n",
       "98  https://content.guardianapis.com/culture/2001/...     False   \n",
       "97  https://content.guardianapis.com/uk/2001/nov/0...     False   \n",
       "96  https://content.guardianapis.com/uk/2001/oct/2...     False   \n",
       "95  https://content.guardianapis.com/culture/2001/...     False   \n",
       "..                                                ...       ...   \n",
       "4   https://content.guardianapis.com/uk/1999/mar/20/4     False   \n",
       "3   https://content.guardianapis.com/society/1999/...     False   \n",
       "2   https://content.guardianapis.com/media/1999/ja...     False   \n",
       "1   https://content.guardianapis.com/theguardian/1...     False   \n",
       "0   https://content.guardianapis.com/uk/1989/jun/14/2     False   \n",
       "\n",
       "            pillarId pillarName  \n",
       "99  pillar/lifestyle  Lifestyle  \n",
       "98               NaN        NaN  \n",
       "97       pillar/news       News  \n",
       "96       pillar/news       News  \n",
       "95               NaN        NaN  \n",
       "..               ...        ...  \n",
       "4        pillar/news       News  \n",
       "3        pillar/news       News  \n",
       "2        pillar/arts       Arts  \n",
       "1                NaN        NaN  \n",
       "0        pillar/news       News  \n",
       "\n",
       "[100 rows x 11 columns]"
      ]
     },
     "execution_count": 17,
     "metadata": {},
     "output_type": "execute_result"
    }
   ],
   "source": [
    "df.sort_values(by = ['webPublicationDate'], ascending=False)"
   ]
  },
  {
   "cell_type": "code",
   "execution_count": 18,
   "metadata": {},
   "outputs": [
    {
     "data": {
      "text/plain": [
       "<AxesSubplot:>"
      ]
     },
     "execution_count": 18,
     "metadata": {},
     "output_type": "execute_result"
    },
    {
     "data": {
      "image/png": "[encoded data removed]",
      "text/plain": [
       "<Figure size 432x288 with 1 Axes>"
      ]
     },
     "metadata": {
      "needs_background": "light"
     },
     "output_type": "display_data"
    }
   ],
   "source": [
    "df2 = df['webPublicationDate']\n",
    "df2.plot()"
   ]
  },
  {
   "cell_type": "markdown",
   "metadata": {},
   "source": [
    "https://pythonspot.com/sqlite-database-with-pandas/"
   ]
  },
  {
   "cell_type": "code",
   "execution_count": 19,
   "metadata": {},
   "outputs": [],
   "source": [
    "!rm ufo.db"
   ]
  },
  {
   "cell_type": "code",
   "execution_count": 20,
   "metadata": {},
   "outputs": [],
   "source": [
    "import sqlite3\n",
    "conn = sqlite3.connect('ufo.db')"
   ]
  },
  {
   "cell_type": "code",
   "execution_count": 21,
   "metadata": {},
   "outputs": [],
   "source": [
    "df.to_sql('ufo.db',con = conn)"
   ]
  },
  {
   "cell_type": "code",
   "execution_count": 22,
   "metadata": {},
   "outputs": [],
   "source": [
    "conn.close()"
   ]
  },
  {
   "cell_type": "code",
   "execution_count": null,
   "metadata": {},
   "outputs": [],
   "source": []
  }
 ],
 "metadata": {
  "kernelspec": {
   "display_name": "Python 3 (ipykernel)",
   "language": "python",
   "name": "python3"
  },
  "language_info": {
   "codemirror_mode": {
    "name": "ipython",
    "version": 3
   },
   "file_extension": ".py",
   "mimetype": "text/x-python",
   "name": "python",
   "nbconvert_exporter": "python",
   "pygments_lexer": "ipython3",
   "version": "3.9.2"
  }
 },
 "nbformat": 4,
 "nbformat_minor": 4
}
