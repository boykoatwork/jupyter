{
 "cells": [
  {
   "cell_type": "markdown",
   "id": "e34b6d17-7330-40f9-91ed-cd7ec664efc8",
   "metadata": {},
   "source": [
    "There are three main tools for detecting and searching for rootkits:\n",
    "binary file analysis, system and user behavior analysis, and system\n",
    "log analysis. Two representatives of malware that use the T1070.002\n",
    "technique - Proton and Rocke are considered. Finally it is proved\n",
    "that progress in detection tools will lead to the appearance of\n",
    "malicious software that will have developed tools for working with\n",
    "logs and will move from simple destruction to forgery of logs in\n",
    "order to mask its presence in the system.\n"
   ]
  },
  {
   "cell_type": "markdown",
   "id": "582bbc8e-5e29-4843-bb79-10e25ddabd3a",
   "metadata": {},
   "source": [
    "![log example](./img/log_example.png)"
   ]
  },
  {
   "cell_type": "code",
   "execution_count": 1,
   "id": "weird-roman",
   "metadata": {},
   "outputs": [
    {
     "name": "stdout",
     "output_type": "stream",
     "text": [
      "-- Logs begin at Wed 2021-02-10 21:12:05 JST, end at Fri 2021-02-19 16:40:33 JST. --\n",
      "фев 10 21:12:09 *** systemd[1]: Starting OpenBSD Secure Shell server...\n",
      "фев 10 21:12:09 *** sshd[884]: Server listening on 0.0.0.0 port 22.\n",
      "фев 10 21:12:09 *** sshd[884]: Server listening on :: port 22.\n",
      "фев 10 21:12:09 *** systemd[1]: Started OpenBSD Secure Shell server.\n",
      "фев 10 21:12:21 *** sshd[1160]: pam_unix(sshd:auth): authentication failure; logname= uid=0 euid=0 tty=ssh ruser= rhost=221.131.165.86  user=root\n",
      "фев 10 21:12:24 *** sshd[1160]: Failed password for root from 221.131.165.86 port 49460 ssh2\n",
      "фев 10 21:12:28 *** sshd[1160]: Failed password for root from 221.131.165.86 port 49460 ssh2\n",
      "фев 10 21:12:32 *** sshd[1160]: Failed password for root from 221.131.165.86 port 49460 ssh2\n",
      "фев 10 21:12:33 *** sshd[1160]: Received disconnect from 221.131.165.86 port 49460:11:  [preauth]\n",
      "фев 10 21:12:33 *** sshd[1160]: Disconnected from authenticating user root 221.131.165.86 port 49460 [preauth]\n",
      "фев 10 21:12:33 *** sshd[1160]: PAM 2 more authentication failures; logname= uid=0 euid=0 tty=ssh ruser= rhost=221.131.165.86  user=root\n",
      "фев 10 21:12:33 *** sshd[1183]: pam_unix(sshd:auth): authentication failure; logname= uid=0 euid=0 tty=ssh ruser= rhost=54.38.180.93  user=root\n",
      "фев 10 21:12:35 *** sshd[1186]: pam_unix(sshd:auth): authentication failure; logname= uid=0 euid=0 tty=ssh ruser= rhost=221.131.165.86  user=root\n",
      "фев 10 21:12:36 *** sshd[1183]: Failed password for root from 54.38.180.93 port 40074 ssh2\n",
      "фев 10 21:12:37 *** sshd[1186]: Failed password for root from 221.131.165.86 port 36018 ssh2\n",
      "фев 10 21:12:38 *** sshd[1183]: Received disconnect from 54.38.180.93 port 40074:11: Bye Bye [preauth]\n",
      "фев 10 21:12:38 *** sshd[1183]: Disconnected from authenticating user root 54.38.180.93 port 40074 [preauth]\n",
      "фев 10 21:12:42 *** sshd[1186]: Failed password for root from 221.131.165.86 port 36018 ssh2\n",
      "фев 10 21:12:46 *** sshd[1186]: Failed password for root from 221.131.165.86 port 36018 ssh2\n",
      "фев 10 21:12:49 *** sshd[1186]: Received disconnect from 221.131.165.86 port 36018:11:  [preauth]\n",
      "фев 10 21:12:49 *** sshd[1186]: Disconnected from authenticating user root 221.131.165.86 port 36018 [preauth]\n",
      "фев 10 21:12:49 *** sshd[1186]: PAM 2 more authentication failures; logname= uid=0 euid=0 tty=ssh ruser= rhost=221.131.165.86  user=root\n",
      "фев 10 21:12:51 *** sshd[1231]: pam_unix(sshd:auth): authentication failure; logname= uid=0 euid=0 tty=ssh ruser= rhost=221.131.165.86  user=root\n",
      "фев 10 21:12:53 *** sshd[1231]: Failed password for root from 221.131.165.86 port 53870 ssh2\n",
      "фев 10 21:12:56 *** sshd[1231]: Failed password for root from 221.131.165.86 port 53870 ssh2\n",
      "фев 10 21:13:00 *** sshd[1231]: Failed password for root from 221.131.165.86 port 53870 ssh2\n",
      "фев 10 21:13:00 *** sshd[1231]: Received disconnect from 221.131.165.86 port 53870:11:  [preauth]\n",
      "фев 10 21:13:00 *** sshd[1231]: Disconnected from authenticating user root 221.131.165.86 port 53870 [preauth]\n",
      "фев 10 21:13:00 *** sshd[1231]: PAM 2 more authentication failures; logname= uid=0 euid=0 tty=ssh ruser= rhost=221.131.165.86  user=root\n"
     ]
    }
   ],
   "source": [
    "!head -n 30 ssh.log"
   ]
  },
  {
   "cell_type": "code",
   "execution_count": null,
   "id": "ce01895b-ef84-4c2f-a6ce-9a10d187ef05",
   "metadata": {},
   "outputs": [],
   "source": []
  },
  {
   "cell_type": "code",
   "execution_count": 2,
   "id": "daily-importance",
   "metadata": {},
   "outputs": [],
   "source": [
    "def req_parser(s):\n",
    "    #month, day, timest, host, proc_id, other = s.split(' ',maxsplit=5)\n",
    "    #print(month, day, timest, host, proc_id, sep=';') \n",
    "    #print(other)\n",
    "    if len(s.split(' ',maxsplit=5)) >= 5:\n",
    "        month, day, timest, host, proc_id, other = s.split(' ',maxsplit=5)\n",
    "    else:\n",
    "        return None\n",
    "    if 'Failed password for' in other:\n",
    "        other,user,em2,ip,em,port,protocol = other.rsplit(' ',maxsplit=6)\n",
    "        #print(user,ip,port,protocol, sep = ';')\n",
    "        attack = 'password'\n",
    "\n",
    "        return month, day, timest, ip, user, port, attack \n",
    "\n",
    "\n",
    "    elif 'authentication failure' in other:\n",
    "        # logname= uid=0 euid=0 tty=ssh ruser= rhost=212.33.199.47  user=root\n",
    "        other, user = other.rsplit(maxsplit=1)\n",
    "        user = user.partition('=')[-1]\n",
    "        other, ip = other.rsplit(maxsplit=1)\n",
    "        ip = ip.partition('=')[-1]\n",
    "        port = '00000'\n",
    "        #print(user)\n",
    "        #print(ip)\n",
    "        attack = 'auth'\n",
    "\n",
    "\n",
    "        return month, day, timest, ip, user, port, attack \n",
    "\n",
    "    else:\n",
    "\n",
    "        return None"
   ]
  },
  {
   "cell_type": "code",
   "execution_count": 3,
   "id": "intended-andrew",
   "metadata": {},
   "outputs": [],
   "source": [
    "file_name = \"ssh.log\"\n",
    "sshlog = open(file_name)"
   ]
  },
  {
   "cell_type": "code",
   "execution_count": 4,
   "id": "rough-functionality",
   "metadata": {},
   "outputs": [],
   "source": [
    "import sqlite3\n",
    "conn = sqlite3.connect('ssh.db')\n",
    "c = conn.cursor()\n",
    "\n",
    "# Create table\n",
    "c.execute('''DROP TABLE req ''')\n",
    "\n",
    "c.execute('''CREATE TABLE req \n",
    "                     (\n",
    "                     month text, \n",
    "                     day text, \n",
    "                     timest text, \n",
    "                     ip text,\n",
    "                     user text, \n",
    "                     port integer, \n",
    "                     prot text\n",
    "                     );''')\n",
    "\n",
    "for i in sshlog:\n",
    "    r = req_parser(i)\n",
    "    if r and len(r) == 7:\n",
    "        c.execute('INSERT INTO req VALUES (?,?,?,?,?,?,?)', r)\n",
    "\n",
    "sshlog.close()\n",
    "\n",
    "conn.commit()\n",
    "conn.close()"
   ]
  },
  {
   "cell_type": "markdown",
   "id": "22d5593f-dc67-4470-ab63-676e04499217",
   "metadata": {},
   "source": [
    "![](./img/sqlite1.png)"
   ]
  },
  {
   "cell_type": "markdown",
   "id": "a5df77ca-7701-4274-bbc5-b4ad4b98f16b",
   "metadata": {},
   "source": [
    "![](./img/a.png)"
   ]
  },
  {
   "cell_type": "code",
   "execution_count": null,
   "id": "e4730688-40f8-4dd8-b3c8-8d4a36a6c6a4",
   "metadata": {},
   "outputs": [],
   "source": []
  }
 ],
 "metadata": {
  "kernelspec": {
   "display_name": "Python 3 (ipykernel)",
   "language": "python",
   "name": "python3"
  },
  "language_info": {
   "codemirror_mode": {
    "name": "ipython",
    "version": 3
   },
   "file_extension": ".py",
   "mimetype": "text/x-python",
   "name": "python",
   "nbconvert_exporter": "python",
   "pygments_lexer": "ipython3",
   "version": "3.9.2"
  }
 },
 "nbformat": 4,
 "nbformat_minor": 5
}
