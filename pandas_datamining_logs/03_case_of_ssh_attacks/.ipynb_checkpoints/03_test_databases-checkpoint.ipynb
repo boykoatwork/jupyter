{
 "cells": [
  {
   "cell_type": "code",
   "execution_count": 4,
   "id": "irish-fiction",
   "metadata": {
    "tags": []
   },
   "outputs": [],
   "source": [
    "import sqlite3\n",
    "conn = sqlite3.connect('ssh.db')"
   ]
  },
  {
   "cell_type": "code",
   "execution_count": 5,
   "id": "rough-reality",
   "metadata": {
    "tags": []
   },
   "outputs": [],
   "source": [
    "import pandas as pd\n",
    "import matplotlib.pyplot as plt"
   ]
  },
  {
   "cell_type": "code",
   "execution_count": 6,
   "id": "golden-joshua",
   "metadata": {
    "tags": []
   },
   "outputs": [
    {
     "name": "stdout",
     "output_type": "stream",
     "text": [
      "('фев', '10', '21:12:21', '221.131.165.86', 'root', 0, 'auth', '2021-02-10 21:12:21', 1)\n",
      "('фев', '10', '21:12:24', '221.131.165.86', 'root', 49460, 'password', '2021-02-10 21:12:24', 1)\n",
      "('фев', '10', '21:12:28', '221.131.165.86', 'root', 49460, 'password', '2021-02-10 21:12:28', 1)\n",
      "('фев', '10', '21:12:32', '221.131.165.86', 'root', 49460, 'password', '2021-02-10 21:12:32', 1)\n",
      "('фев', '10', '21:12:33', '221.131.165.86', 'root', 0, 'auth', '2021-02-10 21:12:33', 1)\n",
      "('фев', '10', '21:12:33', '54.38.180.93', 'root', 0, 'auth', '2021-02-10 21:12:33', 1)\n",
      "('фев', '10', '21:12:35', '221.131.165.86', 'root', 0, 'auth', '2021-02-10 21:12:35', 1)\n",
      "('фев', '10', '21:12:36', '54.38.180.93', 'root', 40074, 'password', '2021-02-10 21:12:36', 1)\n",
      "('фев', '10', '21:12:37', '221.131.165.86', 'root', 36018, 'password', '2021-02-10 21:12:37', 1)\n",
      "('фев', '10', '21:12:42', '221.131.165.86', 'root', 36018, 'password', '2021-02-10 21:12:42', 1)\n"
     ]
    }
   ],
   "source": [
    "cur = conn.cursor()\n",
    "\n",
    "for row in cur.execute('SELECT * FROM req LIMIT 10;'):\n",
    "    print(row)\n",
    "\n",
    "conn.close()"
   ]
  },
  {
   "cell_type": "code",
   "execution_count": null,
   "id": "vital-hospital",
   "metadata": {},
   "outputs": [],
   "source": []
  },
  {
   "cell_type": "code",
   "execution_count": 4,
   "id": "f5f78dfe-d3fc-4c1a-8f6d-260137dbde0b",
   "metadata": {
    "tags": []
   },
   "outputs": [],
   "source": [
    "import sqlite3\n",
    "conn = sqlite3.connect('ssh_date.db')"
   ]
  },
  {
   "cell_type": "code",
   "execution_count": 5,
   "id": "0aa828d4-2ceb-4296-afd8-c2246d42cb30",
   "metadata": {
    "tags": []
   },
   "outputs": [],
   "source": [
    "import pandas as pd\n",
    "import matplotlib.pyplot as plt"
   ]
  },
  {
   "cell_type": "code",
   "execution_count": 6,
   "id": "9859ee5e-78af-4d4e-896a-b105055d013b",
   "metadata": {
    "tags": []
   },
   "outputs": [
    {
     "name": "stdout",
     "output_type": "stream",
     "text": [
      "('фев', '10', '21:12:21', '221.131.165.86', 'root', 0, 'auth', '2021-02-10 21:12:21', 1)\n",
      "('фев', '10', '21:12:24', '221.131.165.86', 'root', 49460, 'password', '2021-02-10 21:12:24', 1)\n",
      "('фев', '10', '21:12:28', '221.131.165.86', 'root', 49460, 'password', '2021-02-10 21:12:28', 1)\n",
      "('фев', '10', '21:12:32', '221.131.165.86', 'root', 49460, 'password', '2021-02-10 21:12:32', 1)\n",
      "('фев', '10', '21:12:33', '221.131.165.86', 'root', 0, 'auth', '2021-02-10 21:12:33', 1)\n",
      "('фев', '10', '21:12:33', '54.38.180.93', 'root', 0, 'auth', '2021-02-10 21:12:33', 1)\n",
      "('фев', '10', '21:12:35', '221.131.165.86', 'root', 0, 'auth', '2021-02-10 21:12:35', 1)\n",
      "('фев', '10', '21:12:36', '54.38.180.93', 'root', 40074, 'password', '2021-02-10 21:12:36', 1)\n",
      "('фев', '10', '21:12:37', '221.131.165.86', 'root', 36018, 'password', '2021-02-10 21:12:37', 1)\n",
      "('фев', '10', '21:12:42', '221.131.165.86', 'root', 36018, 'password', '2021-02-10 21:12:42', 1)\n"
     ]
    }
   ],
   "source": [
    "cur = conn.cursor()\n",
    "\n",
    "for row in cur.execute('SELECT * FROM req LIMIT 10;'):\n",
    "    print(row)\n",
    "\n",
    "conn.close()"
   ]
  }
 ],
 "metadata": {
  "kernelspec": {
   "display_name": "Python 3 (ipykernel)",
   "language": "python",
   "name": "python3"
  },
  "language_info": {
   "codemirror_mode": {
    "name": "ipython",
    "version": 3
   },
   "file_extension": ".py",
   "mimetype": "text/x-python",
   "name": "python",
   "nbconvert_exporter": "python",
   "pygments_lexer": "ipython3",
   "version": "3.9.2"
  }
 },
 "nbformat": 4,
 "nbformat_minor": 5
}
