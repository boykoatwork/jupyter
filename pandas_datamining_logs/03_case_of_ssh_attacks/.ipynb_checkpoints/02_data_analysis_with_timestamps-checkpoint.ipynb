{
 "cells": [
  {
   "cell_type": "code",
   "execution_count": 16,
   "id": "weird-roman",
   "metadata": {},
   "outputs": [
    {
     "name": "stdout",
     "output_type": "stream",
     "text": [
      "-- Logs begin at Wed 2021-02-10 21:12:05 MSK, end at Fri 2021-02-19 16:40:33 MSK. --\n",
      "фев 10 21:12:09 mil systemd[1]: Starting OpenBSD Secure Shell server...\n",
      "фев 10 21:12:09 mil sshd[884]: Server listening on 0.0.0.0 port 22.\n",
      "фев 10 21:12:09 mil sshd[884]: Server listening on :: port 22.\n",
      "фев 10 21:12:09 mil systemd[1]: Started OpenBSD Secure Shell server.\n",
      "фев 10 21:12:21 mil sshd[1160]: pam_unix(sshd:auth): authentication failure; logname= uid=0 euid=0 tty=ssh ruser= rhost=221.131.165.86  user=root\n",
      "фев 10 21:12:24 mil sshd[1160]: Failed password for root from 221.131.165.86 port 49460 ssh2\n",
      "фев 10 21:12:28 mil sshd[1160]: Failed password for root from 221.131.165.86 port 49460 ssh2\n",
      "фев 10 21:12:32 mil sshd[1160]: Failed password for root from 221.131.165.86 port 49460 ssh2\n",
      "фев 10 21:12:33 mil sshd[1160]: Received disconnect from 221.131.165.86 port 49460:11:  [preauth]\n",
      "фев 10 21:12:33 mil sshd[1160]: Disconnected from authenticating user root 221.131.165.86 port 49460 [preauth]\n",
      "фев 10 21:12:33 mil sshd[1160]: PAM 2 more authentication failures; logname= uid=0 euid=0 tty=ssh ruser= rhost=221.131.165.86  user=root\n",
      "фев 10 21:12:33 mil sshd[1183]: pam_unix(sshd:auth): authentication failure; logname= uid=0 euid=0 tty=ssh ruser= rhost=54.38.180.93  user=root\n",
      "фев 10 21:12:35 mil sshd[1186]: pam_unix(sshd:auth): authentication failure; logname= uid=0 euid=0 tty=ssh ruser= rhost=221.131.165.86  user=root\n",
      "фев 10 21:12:36 mil sshd[1183]: Failed password for root from 54.38.180.93 port 40074 ssh2\n",
      "фев 10 21:12:37 mil sshd[1186]: Failed password for root from 221.131.165.86 port 36018 ssh2\n",
      "фев 10 21:12:38 mil sshd[1183]: Received disconnect from 54.38.180.93 port 40074:11: Bye Bye [preauth]\n",
      "фев 10 21:12:38 mil sshd[1183]: Disconnected from authenticating user root 54.38.180.93 port 40074 [preauth]\n",
      "фев 10 21:12:42 mil sshd[1186]: Failed password for root from 221.131.165.86 port 36018 ssh2\n",
      "фев 10 21:12:46 mil sshd[1186]: Failed password for root from 221.131.165.86 port 36018 ssh2\n",
      "фев 10 21:12:49 mil sshd[1186]: Received disconnect from 221.131.165.86 port 36018:11:  [preauth]\n",
      "фев 10 21:12:49 mil sshd[1186]: Disconnected from authenticating user root 221.131.165.86 port 36018 [preauth]\n",
      "фев 10 21:12:49 mil sshd[1186]: PAM 2 more authentication failures; logname= uid=0 euid=0 tty=ssh ruser= rhost=221.131.165.86  user=root\n",
      "фев 10 21:12:51 mil sshd[1231]: pam_unix(sshd:auth): authentication failure; logname= uid=0 euid=0 tty=ssh ruser= rhost=221.131.165.86  user=root\n",
      "фев 10 21:12:53 mil sshd[1231]: Failed password for root from 221.131.165.86 port 53870 ssh2\n",
      "фев 10 21:12:56 mil sshd[1231]: Failed password for root from 221.131.165.86 port 53870 ssh2\n",
      "фев 10 21:13:00 mil sshd[1231]: Failed password for root from 221.131.165.86 port 53870 ssh2\n",
      "фев 10 21:13:00 mil sshd[1231]: Received disconnect from 221.131.165.86 port 53870:11:  [preauth]\n",
      "фев 10 21:13:00 mil sshd[1231]: Disconnected from authenticating user root 221.131.165.86 port 53870 [preauth]\n",
      "фев 10 21:13:00 mil sshd[1231]: PAM 2 more authentication failures; logname= uid=0 euid=0 tty=ssh ruser= rhost=221.131.165.86  user=root\n"
     ]
    }
   ],
   "source": [
    "!head -n 30 ssh.log"
   ]
  },
  {
   "cell_type": "code",
   "execution_count": 24,
   "id": "5da1d302-d67c-4411-b211-46907941890b",
   "metadata": {},
   "outputs": [],
   "source": [
    "def req_parser(s):\n",
    "    if len(s.split(' ',maxsplit=5)) >= 5:\n",
    "        month, day, timest, host, proc_id, other = s.split(' ',maxsplit=5)\n",
    "\n",
    "    else:\n",
    "        return None\n",
    "\n",
    "    if 'Failed password for' in other:\n",
    "        other,user,em2,ip,em,port,protocol = other.rsplit(' ',maxsplit=6)\n",
    "        attack = 'password'\n",
    "\n",
    "        return month, day, timest, ip, user, port, attack \n",
    "\n",
    "\n",
    "    elif 'authentication failure' in other:\n",
    "        other, user = other.rsplit(maxsplit=1)\n",
    "        user = user.partition('=')[-1]\n",
    "        other, ip = other.rsplit(maxsplit=1)\n",
    "        ip = ip.partition('=')[-1]\n",
    "        port = '00000'\n",
    "        attack = 'auth'\n",
    "\n",
    "\n",
    "\n",
    "        return month, day, timest, ip, user, port, attack \n",
    "    else:\n",
    "\n",
    "        return None"
   ]
  },
  {
   "cell_type": "code",
   "execution_count": 25,
   "id": "04b29be6-1535-45bc-9ee4-af72789fd56f",
   "metadata": {},
   "outputs": [],
   "source": [
    "file_name = \"ssh.log\"\n",
    "sshlog = open(file_name)"
   ]
  },
  {
   "cell_type": "code",
   "execution_count": 26,
   "id": "96eed918-e48d-4442-b3b1-518251d28aab",
   "metadata": {},
   "outputs": [],
   "source": [
    "import sqlite3\n",
    "conn = sqlite3.connect('ssh_date.db')\n",
    "c = conn.cursor()\n",
    "\n",
    "# Create table\n",
    "c.execute('''DROP TABLE req ''')\n",
    "\n",
    "c.execute('''CREATE TABLE req \n",
    "                     (\n",
    "                     month text, \n",
    "                     day text, \n",
    "                     timest text, \n",
    "                     ip text,\n",
    "                     user text, \n",
    "                     port integer, \n",
    "                     attack text,\n",
    "                     alldate text, \n",
    "                     one integer\n",
    "                     );''')\n",
    "\n",
    "for i in sshlog:\n",
    "    r = req_parser(i)\n",
    "    if r:\n",
    "        r = list(r)\n",
    "        full_day = '-'.join(['2021', '02',r[1]]) + ' ' +  r[2]\n",
    "        r.append(full_day)\n",
    "        r.append(1)\n",
    "        c.execute('INSERT INTO req VALUES (?,?,?,?,?,?,?, ?, ?)', r)\n",
    "\n",
    "sshlog.close()\n",
    "\n",
    "conn.commit()\n",
    "conn.close()"
   ]
  },
  {
   "cell_type": "markdown",
   "id": "22d5593f-dc67-4470-ab63-676e04499217",
   "metadata": {},
   "source": [
    "![](./img/sqlite2.png)"
   ]
  },
  {
   "cell_type": "code",
   "execution_count": null,
   "id": "45cdb385-45fb-4f7f-9c3e-67ec8026c7a6",
   "metadata": {},
   "outputs": [],
   "source": []
  }
 ],
 "metadata": {
  "kernelspec": {
   "display_name": "Python 3 (ipykernel)",
   "language": "python",
   "name": "python3"
  },
  "language_info": {
   "codemirror_mode": {
    "name": "ipython",
    "version": 3
   },
   "file_extension": ".py",
   "mimetype": "text/x-python",
   "name": "python",
   "nbconvert_exporter": "python",
   "pygments_lexer": "ipython3",
   "version": "3.9.2"
  }
 },
 "nbformat": 4,
 "nbformat_minor": 5
}
