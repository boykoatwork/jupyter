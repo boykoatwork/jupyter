{
 "cells": [
  {
   "cell_type": "code",
   "execution_count": 1,
   "id": "driving-measurement",
   "metadata": {},
   "outputs": [],
   "source": [
    "import pandas as pd\n",
    "import sqlite3\n",
    "import matplotlib.pyplot as plt\n",
    "import numpy as np\n"
   ]
  },
  {
   "cell_type": "code",
   "execution_count": 2,
   "id": "desperate-determination",
   "metadata": {},
   "outputs": [
    {
     "name": "stdout",
     "output_type": "stream",
     "text": [
      "  month day    timest              ip  user   port    attack  \\\n",
      "0   фев  10  21:12:21  221.131.165.86  root      0      auth   \n",
      "1   фев  10  21:12:24  221.131.165.86  root  49460  password   \n",
      "2   фев  10  21:12:28  221.131.165.86  root  49460  password   \n",
      "3   фев  10  21:12:32  221.131.165.86  root  49460  password   \n",
      "4   фев  10  21:12:33  221.131.165.86  root      0      auth   \n",
      "\n",
      "               alldate  one  \n",
      "0  2021-02-10 21:12:21    1  \n",
      "1  2021-02-10 21:12:24    1  \n",
      "2  2021-02-10 21:12:28    1  \n",
      "3  2021-02-10 21:12:32    1  \n",
      "4  2021-02-10 21:12:33    1  \n"
     ]
    }
   ],
   "source": [
    "# Read sqlite query results into a pandas DataFrame\n",
    "con = sqlite3.connect(\"ssh_date.db\")\n",
    "df = pd.read_sql_query(\"SELECT * from req\", con)\n",
    "\n",
    "# Verify that result of SQL query is stored in the dataframe\n",
    "print(df.head())\n",
    "\n",
    "con.close()"
   ]
  },
  {
   "cell_type": "code",
   "execution_count": 3,
   "id": "italic-tension",
   "metadata": {},
   "outputs": [],
   "source": [
    "df['dt'] = pd.to_datetime(df['alldate'])"
   ]
  },
  {
   "cell_type": "code",
   "execution_count": 4,
   "id": "automatic-google",
   "metadata": {},
   "outputs": [
    {
     "data": {
      "text/html": [
       "<div>\n",
       "<style scoped>\n",
       "    .dataframe tbody tr th:only-of-type {\n",
       "        vertical-align: middle;\n",
       "    }\n",
       "\n",
       "    .dataframe tbody tr th {\n",
       "        vertical-align: top;\n",
       "    }\n",
       "\n",
       "    .dataframe thead th {\n",
       "        text-align: right;\n",
       "    }\n",
       "</style>\n",
       "<table border=\"1\" class=\"dataframe\">\n",
       "  <thead>\n",
       "    <tr style=\"text-align: right;\">\n",
       "      <th></th>\n",
       "      <th>month</th>\n",
       "      <th>day</th>\n",
       "      <th>timest</th>\n",
       "      <th>ip</th>\n",
       "      <th>user</th>\n",
       "      <th>port</th>\n",
       "      <th>attack</th>\n",
       "      <th>alldate</th>\n",
       "      <th>one</th>\n",
       "      <th>dt</th>\n",
       "    </tr>\n",
       "  </thead>\n",
       "  <tbody>\n",
       "    <tr>\n",
       "      <th>0</th>\n",
       "      <td>фев</td>\n",
       "      <td>10</td>\n",
       "      <td>21:12:21</td>\n",
       "      <td>221.131.165.86</td>\n",
       "      <td>root</td>\n",
       "      <td>0</td>\n",
       "      <td>auth</td>\n",
       "      <td>2021-02-10 21:12:21</td>\n",
       "      <td>1</td>\n",
       "      <td>2021-02-10 21:12:21</td>\n",
       "    </tr>\n",
       "    <tr>\n",
       "      <th>1</th>\n",
       "      <td>фев</td>\n",
       "      <td>10</td>\n",
       "      <td>21:12:24</td>\n",
       "      <td>221.131.165.86</td>\n",
       "      <td>root</td>\n",
       "      <td>49460</td>\n",
       "      <td>password</td>\n",
       "      <td>2021-02-10 21:12:24</td>\n",
       "      <td>1</td>\n",
       "      <td>2021-02-10 21:12:24</td>\n",
       "    </tr>\n",
       "    <tr>\n",
       "      <th>2</th>\n",
       "      <td>фев</td>\n",
       "      <td>10</td>\n",
       "      <td>21:12:28</td>\n",
       "      <td>221.131.165.86</td>\n",
       "      <td>root</td>\n",
       "      <td>49460</td>\n",
       "      <td>password</td>\n",
       "      <td>2021-02-10 21:12:28</td>\n",
       "      <td>1</td>\n",
       "      <td>2021-02-10 21:12:28</td>\n",
       "    </tr>\n",
       "    <tr>\n",
       "      <th>3</th>\n",
       "      <td>фев</td>\n",
       "      <td>10</td>\n",
       "      <td>21:12:32</td>\n",
       "      <td>221.131.165.86</td>\n",
       "      <td>root</td>\n",
       "      <td>49460</td>\n",
       "      <td>password</td>\n",
       "      <td>2021-02-10 21:12:32</td>\n",
       "      <td>1</td>\n",
       "      <td>2021-02-10 21:12:32</td>\n",
       "    </tr>\n",
       "    <tr>\n",
       "      <th>4</th>\n",
       "      <td>фев</td>\n",
       "      <td>10</td>\n",
       "      <td>21:12:33</td>\n",
       "      <td>221.131.165.86</td>\n",
       "      <td>root</td>\n",
       "      <td>0</td>\n",
       "      <td>auth</td>\n",
       "      <td>2021-02-10 21:12:33</td>\n",
       "      <td>1</td>\n",
       "      <td>2021-02-10 21:12:33</td>\n",
       "    </tr>\n",
       "    <tr>\n",
       "      <th>...</th>\n",
       "      <td>...</td>\n",
       "      <td>...</td>\n",
       "      <td>...</td>\n",
       "      <td>...</td>\n",
       "      <td>...</td>\n",
       "      <td>...</td>\n",
       "      <td>...</td>\n",
       "      <td>...</td>\n",
       "      <td>...</td>\n",
       "      <td>...</td>\n",
       "    </tr>\n",
       "    <tr>\n",
       "      <th>163457</th>\n",
       "      <td>фев</td>\n",
       "      <td>19</td>\n",
       "      <td>16:37:32</td>\n",
       "      <td>13.66.131.233</td>\n",
       "      <td>root</td>\n",
       "      <td>57838</td>\n",
       "      <td>password</td>\n",
       "      <td>2021-02-19 16:37:32</td>\n",
       "      <td>1</td>\n",
       "      <td>2021-02-19 16:37:32</td>\n",
       "    </tr>\n",
       "    <tr>\n",
       "      <th>163458</th>\n",
       "      <td>фев</td>\n",
       "      <td>19</td>\n",
       "      <td>16:38:47</td>\n",
       "      <td>176.109.0.30</td>\n",
       "      <td>root</td>\n",
       "      <td>0</td>\n",
       "      <td>auth</td>\n",
       "      <td>2021-02-19 16:38:47</td>\n",
       "      <td>1</td>\n",
       "      <td>2021-02-19 16:38:47</td>\n",
       "    </tr>\n",
       "    <tr>\n",
       "      <th>163459</th>\n",
       "      <td>фев</td>\n",
       "      <td>19</td>\n",
       "      <td>16:38:49</td>\n",
       "      <td>176.109.0.30</td>\n",
       "      <td>root</td>\n",
       "      <td>40475</td>\n",
       "      <td>password</td>\n",
       "      <td>2021-02-19 16:38:49</td>\n",
       "      <td>1</td>\n",
       "      <td>2021-02-19 16:38:49</td>\n",
       "    </tr>\n",
       "    <tr>\n",
       "      <th>163460</th>\n",
       "      <td>фев</td>\n",
       "      <td>19</td>\n",
       "      <td>16:39:07</td>\n",
       "      <td>119.45.43.139</td>\n",
       "      <td>root</td>\n",
       "      <td>0</td>\n",
       "      <td>auth</td>\n",
       "      <td>2021-02-19 16:39:07</td>\n",
       "      <td>1</td>\n",
       "      <td>2021-02-19 16:39:07</td>\n",
       "    </tr>\n",
       "    <tr>\n",
       "      <th>163461</th>\n",
       "      <td>фев</td>\n",
       "      <td>19</td>\n",
       "      <td>16:39:09</td>\n",
       "      <td>119.45.43.139</td>\n",
       "      <td>root</td>\n",
       "      <td>38738</td>\n",
       "      <td>password</td>\n",
       "      <td>2021-02-19 16:39:09</td>\n",
       "      <td>1</td>\n",
       "      <td>2021-02-19 16:39:09</td>\n",
       "    </tr>\n",
       "  </tbody>\n",
       "</table>\n",
       "<p>163462 rows × 10 columns</p>\n",
       "</div>"
      ],
      "text/plain": [
       "       month day    timest              ip  user   port    attack  \\\n",
       "0        фев  10  21:12:21  221.131.165.86  root      0      auth   \n",
       "1        фев  10  21:12:24  221.131.165.86  root  49460  password   \n",
       "2        фев  10  21:12:28  221.131.165.86  root  49460  password   \n",
       "3        фев  10  21:12:32  221.131.165.86  root  49460  password   \n",
       "4        фев  10  21:12:33  221.131.165.86  root      0      auth   \n",
       "...      ...  ..       ...             ...   ...    ...       ...   \n",
       "163457   фев  19  16:37:32   13.66.131.233  root  57838  password   \n",
       "163458   фев  19  16:38:47    176.109.0.30  root      0      auth   \n",
       "163459   фев  19  16:38:49    176.109.0.30  root  40475  password   \n",
       "163460   фев  19  16:39:07   119.45.43.139  root      0      auth   \n",
       "163461   фев  19  16:39:09   119.45.43.139  root  38738  password   \n",
       "\n",
       "                    alldate  one                  dt  \n",
       "0       2021-02-10 21:12:21    1 2021-02-10 21:12:21  \n",
       "1       2021-02-10 21:12:24    1 2021-02-10 21:12:24  \n",
       "2       2021-02-10 21:12:28    1 2021-02-10 21:12:28  \n",
       "3       2021-02-10 21:12:32    1 2021-02-10 21:12:32  \n",
       "4       2021-02-10 21:12:33    1 2021-02-10 21:12:33  \n",
       "...                     ...  ...                 ...  \n",
       "163457  2021-02-19 16:37:32    1 2021-02-19 16:37:32  \n",
       "163458  2021-02-19 16:38:47    1 2021-02-19 16:38:47  \n",
       "163459  2021-02-19 16:38:49    1 2021-02-19 16:38:49  \n",
       "163460  2021-02-19 16:39:07    1 2021-02-19 16:39:07  \n",
       "163461  2021-02-19 16:39:09    1 2021-02-19 16:39:09  \n",
       "\n",
       "[163462 rows x 10 columns]"
      ]
     },
     "execution_count": 4,
     "metadata": {},
     "output_type": "execute_result"
    }
   ],
   "source": [
    "df"
   ]
  },
  {
   "cell_type": "code",
   "execution_count": 5,
   "id": "spread-harvard",
   "metadata": {},
   "outputs": [],
   "source": [
    "pivot_t = pd.pivot_table(df, index='ip', values='one', aggfunc=np.sum)"
   ]
  },
  {
   "cell_type": "code",
   "execution_count": 6,
   "id": "aggressive-bidding",
   "metadata": {
    "tags": []
   },
   "outputs": [],
   "source": [
    "attackers = pivot_t[1:].sort_values(['one'])\n"
   ]
  },
  {
   "cell_type": "markdown",
   "id": "competent-istanbul",
   "metadata": {},
   "source": [
    "1. How often attacks occur - by the hour.\n",
    "2. Is there any pattern?"
   ]
  },
  {
   "cell_type": "code",
   "execution_count": 7,
   "id": "native-framing",
   "metadata": {},
   "outputs": [],
   "source": [
    "auth_at = df[df['attack'] == 'auth'][['dt','ip','attack']]\n",
    "pass_at = df[df['attack'] == 'password'][['dt','ip', 'attack']]"
   ]
  },
  {
   "cell_type": "code",
   "execution_count": 8,
   "id": "anticipated-convenience",
   "metadata": {},
   "outputs": [
    {
     "data": {
      "text/html": [
       "<div>\n",
       "<style scoped>\n",
       "    .dataframe tbody tr th:only-of-type {\n",
       "        vertical-align: middle;\n",
       "    }\n",
       "\n",
       "    .dataframe tbody tr th {\n",
       "        vertical-align: top;\n",
       "    }\n",
       "\n",
       "    .dataframe thead th {\n",
       "        text-align: right;\n",
       "    }\n",
       "</style>\n",
       "<table border=\"1\" class=\"dataframe\">\n",
       "  <thead>\n",
       "    <tr style=\"text-align: right;\">\n",
       "      <th></th>\n",
       "      <th>dt</th>\n",
       "      <th>ip</th>\n",
       "      <th>attack</th>\n",
       "    </tr>\n",
       "  </thead>\n",
       "  <tbody>\n",
       "    <tr>\n",
       "      <th>0</th>\n",
       "      <td>2021-02-10 21:12:21</td>\n",
       "      <td>221.131.165.86</td>\n",
       "      <td>auth</td>\n",
       "    </tr>\n",
       "    <tr>\n",
       "      <th>4</th>\n",
       "      <td>2021-02-10 21:12:33</td>\n",
       "      <td>221.131.165.86</td>\n",
       "      <td>auth</td>\n",
       "    </tr>\n",
       "    <tr>\n",
       "      <th>5</th>\n",
       "      <td>2021-02-10 21:12:33</td>\n",
       "      <td>54.38.180.93</td>\n",
       "      <td>auth</td>\n",
       "    </tr>\n",
       "    <tr>\n",
       "      <th>6</th>\n",
       "      <td>2021-02-10 21:12:35</td>\n",
       "      <td>221.131.165.86</td>\n",
       "      <td>auth</td>\n",
       "    </tr>\n",
       "    <tr>\n",
       "      <th>11</th>\n",
       "      <td>2021-02-10 21:12:49</td>\n",
       "      <td>221.131.165.86</td>\n",
       "      <td>auth</td>\n",
       "    </tr>\n",
       "    <tr>\n",
       "      <th>...</th>\n",
       "      <td>...</td>\n",
       "      <td>...</td>\n",
       "      <td>...</td>\n",
       "    </tr>\n",
       "    <tr>\n",
       "      <th>163452</th>\n",
       "      <td>2021-02-19 16:36:53</td>\n",
       "      <td>106.54.74.188</td>\n",
       "      <td>auth</td>\n",
       "    </tr>\n",
       "    <tr>\n",
       "      <th>163454</th>\n",
       "      <td>2021-02-19 16:37:12</td>\n",
       "      <td>64.225.53.31</td>\n",
       "      <td>auth</td>\n",
       "    </tr>\n",
       "    <tr>\n",
       "      <th>163456</th>\n",
       "      <td>2021-02-19 16:37:30</td>\n",
       "      <td>13.66.131.233</td>\n",
       "      <td>auth</td>\n",
       "    </tr>\n",
       "    <tr>\n",
       "      <th>163458</th>\n",
       "      <td>2021-02-19 16:38:47</td>\n",
       "      <td>176.109.0.30</td>\n",
       "      <td>auth</td>\n",
       "    </tr>\n",
       "    <tr>\n",
       "      <th>163460</th>\n",
       "      <td>2021-02-19 16:39:07</td>\n",
       "      <td>119.45.43.139</td>\n",
       "      <td>auth</td>\n",
       "    </tr>\n",
       "  </tbody>\n",
       "</table>\n",
       "<p>78090 rows × 3 columns</p>\n",
       "</div>"
      ],
      "text/plain": [
       "                        dt              ip attack\n",
       "0      2021-02-10 21:12:21  221.131.165.86   auth\n",
       "4      2021-02-10 21:12:33  221.131.165.86   auth\n",
       "5      2021-02-10 21:12:33    54.38.180.93   auth\n",
       "6      2021-02-10 21:12:35  221.131.165.86   auth\n",
       "11     2021-02-10 21:12:49  221.131.165.86   auth\n",
       "...                    ...             ...    ...\n",
       "163452 2021-02-19 16:36:53   106.54.74.188   auth\n",
       "163454 2021-02-19 16:37:12    64.225.53.31   auth\n",
       "163456 2021-02-19 16:37:30   13.66.131.233   auth\n",
       "163458 2021-02-19 16:38:47    176.109.0.30   auth\n",
       "163460 2021-02-19 16:39:07   119.45.43.139   auth\n",
       "\n",
       "[78090 rows x 3 columns]"
      ]
     },
     "execution_count": 8,
     "metadata": {},
     "output_type": "execute_result"
    }
   ],
   "source": [
    "auth_at"
   ]
  },
  {
   "cell_type": "code",
   "execution_count": 9,
   "id": "instructional-repository",
   "metadata": {},
   "outputs": [
    {
     "name": "stdout",
     "output_type": "stream",
     "text": [
      "<class 'pandas.core.frame.DataFrame'>\n",
      "Int64Index: 85372 entries, 1 to 163461\n",
      "Data columns (total 3 columns):\n",
      " #   Column  Non-Null Count  Dtype         \n",
      "---  ------  --------------  -----         \n",
      " 0   dt      85372 non-null  datetime64[ns]\n",
      " 1   ip      85372 non-null  object        \n",
      " 2   attack  85372 non-null  object        \n",
      "dtypes: datetime64[ns](1), object(2)\n",
      "memory usage: 2.6+ MB\n"
     ]
    }
   ],
   "source": [
    "pass_at.info()"
   ]
  },
  {
   "cell_type": "markdown",
   "id": "chronic-police",
   "metadata": {},
   "source": [
    "https://khashtamov.com/ru/pandas-introduction/"
   ]
  },
  {
   "cell_type": "code",
   "execution_count": 10,
   "id": "lucky-strength",
   "metadata": {},
   "outputs": [
    {
     "data": {
      "text/plain": [
       "80.249.131.9       7799\n",
       "45.141.84.10       1559\n",
       "221.131.165.86     1512\n",
       "221.131.165.85     1287\n",
       "221.181.185.19      972\n",
       "                   ... \n",
       "1.36.37.81            1\n",
       "218.250.225.153       1\n",
       "112.197.136.40        1\n",
       "183.162.224.35        1\n",
       "119.45.43.139         1\n",
       "Name: ip, Length: 1583, dtype: int64"
      ]
     },
     "execution_count": 10,
     "metadata": {},
     "output_type": "execute_result"
    }
   ],
   "source": [
    "pass_at['ip'].value_counts()"
   ]
  },
  {
   "cell_type": "code",
   "execution_count": 11,
   "id": "pressing-frontier",
   "metadata": {},
   "outputs": [
    {
     "data": {
      "text/plain": [
       "1583"
      ]
     },
     "execution_count": 11,
     "metadata": {},
     "output_type": "execute_result"
    }
   ],
   "source": [
    "len(pass_at.ip.unique())\n"
   ]
  },
  {
   "cell_type": "code",
   "execution_count": 12,
   "id": "fourth-brush",
   "metadata": {},
   "outputs": [
    {
     "data": {
      "text/plain": [
       "Timestamp('2021-02-10 21:12:24')"
      ]
     },
     "execution_count": 12,
     "metadata": {},
     "output_type": "execute_result"
    }
   ],
   "source": [
    "pass_at.dt.min()"
   ]
  },
  {
   "cell_type": "code",
   "execution_count": 13,
   "id": "documentary-basketball",
   "metadata": {},
   "outputs": [
    {
     "data": {
      "text/plain": [
       "Timestamp('2021-02-19 16:39:09')"
      ]
     },
     "execution_count": 13,
     "metadata": {},
     "output_type": "execute_result"
    }
   ],
   "source": [
    "pass_at.dt.max()"
   ]
  },
  {
   "cell_type": "code",
   "execution_count": 14,
   "id": "duplicate-healing",
   "metadata": {},
   "outputs": [
    {
     "data": {
      "text/plain": [
       "Timedelta('8 days 19:26:45')"
      ]
     },
     "execution_count": 14,
     "metadata": {},
     "output_type": "execute_result"
    }
   ],
   "source": [
    "pass_at.dt.max() - pass_at.dt.min()"
   ]
  },
  {
   "cell_type": "code",
   "execution_count": 15,
   "id": "abroad-peninsula",
   "metadata": {},
   "outputs": [
    {
     "data": {
      "text/plain": [
       "70005"
      ]
     },
     "execution_count": 15,
     "metadata": {},
     "output_type": "execute_result"
    }
   ],
   "source": [
    "(pass_at.dt.max() - pass_at.dt.min()).seconds"
   ]
  },
  {
   "cell_type": "code",
   "execution_count": 16,
   "id": "dated-moore",
   "metadata": {},
   "outputs": [],
   "source": [
    "pass_at['hour'] = pass_at['dt'].dt.hour"
   ]
  },
  {
   "cell_type": "code",
   "execution_count": 17,
   "id": "advanced-oliver",
   "metadata": {},
   "outputs": [
    {
     "data": {
      "text/plain": [
       "1         21\n",
       "2         21\n",
       "3         21\n",
       "7         21\n",
       "8         21\n",
       "          ..\n",
       "163453    16\n",
       "163455    16\n",
       "163457    16\n",
       "163459    16\n",
       "163461    16\n",
       "Name: dt, Length: 85372, dtype: int64"
      ]
     },
     "execution_count": 17,
     "metadata": {},
     "output_type": "execute_result"
    }
   ],
   "source": [
    "pass_at['dt'].dt.hour"
   ]
  },
  {
   "cell_type": "code",
   "execution_count": 18,
   "id": "settled-spencer",
   "metadata": {},
   "outputs": [],
   "source": [
    "pat = pass_at"
   ]
  },
  {
   "cell_type": "code",
   "execution_count": 19,
   "id": "handed-spyware",
   "metadata": {},
   "outputs": [],
   "source": [
    "at = pat.groupby(['ip', 'hour']).count().sort_values(['hour'])"
   ]
  },
  {
   "cell_type": "code",
   "execution_count": 20,
   "id": "advanced-today",
   "metadata": {},
   "outputs": [
    {
     "data": {
      "text/plain": [
       "<AxesSubplot:xlabel='ip,hour'>"
      ]
     },
     "execution_count": 20,
     "metadata": {},
     "output_type": "execute_result"
    },
    {
     "data": {
      "image/png": "[encoded data removed]",
      "text/plain": [
       "<Figure size 432x288 with 1 Axes>"
      ]
     },
     "metadata": {
      "needs_background": "light"
     },
     "output_type": "display_data"
    }
   ],
   "source": [
    "at.plot()"
   ]
  },
  {
   "cell_type": "markdown",
   "id": "aa43c319-b4af-49f6-a43f-06b71f7f257c",
   "metadata": {},
   "source": [
    "## Attack by bot segments\n",
    "\n",
    "![](./img/04_segment_ip_attacks.png)\n",
    "\n",
    "\n",
    "## \"Wolf packs\" of botnets (LF and HF botes)\n",
    "\n",
    "![](./img/05_wolf_packs.png)\n"
   ]
  },
  {
   "cell_type": "code",
   "execution_count": null,
   "id": "22f5d3be-ba4e-4ac8-b6cb-3139eb2f3867",
   "metadata": {},
   "outputs": [],
   "source": []
  },
  {
   "cell_type": "code",
   "execution_count": null,
   "id": "21d90201-f825-4f44-b34a-0c3ce3c665cb",
   "metadata": {},
   "outputs": [],
   "source": []
  }
 ],
 "metadata": {
  "kernelspec": {
   "display_name": "Python 3 (ipykernel)",
   "language": "python",
   "name": "python3"
  },
  "language_info": {
   "codemirror_mode": {
    "name": "ipython",
    "version": 3
   },
   "file_extension": ".py",
   "mimetype": "text/x-python",
   "name": "python",
   "nbconvert_exporter": "python",
   "pygments_lexer": "ipython3",
   "version": "3.9.2"
  }
 },
 "nbformat": 4,
 "nbformat_minor": 5
}
