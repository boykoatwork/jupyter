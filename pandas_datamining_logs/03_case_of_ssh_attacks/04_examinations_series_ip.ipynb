{
 "cells": [
  {
   "cell_type": "code",
   "execution_count": 1,
   "id": "every-crisis",
   "metadata": {},
   "outputs": [],
   "source": [
    "import pandas as pd\n",
    "import sqlite3\n",
    "import matplotlib.pyplot as plt\n",
    "import numpy as np\n"
   ]
  },
  {
   "cell_type": "code",
   "execution_count": 2,
   "id": "annual-hardwood",
   "metadata": {},
   "outputs": [
    {
     "name": "stdout",
     "output_type": "stream",
     "text": [
      "  month day    timest              ip  user   port    attack  \\\n",
      "0   фев  10  21:12:21  221.131.165.86  root      0      auth   \n",
      "1   фев  10  21:12:24  221.131.165.86  root  49460  password   \n",
      "2   фев  10  21:12:28  221.131.165.86  root  49460  password   \n",
      "3   фев  10  21:12:32  221.131.165.86  root  49460  password   \n",
      "4   фев  10  21:12:33  221.131.165.86  root      0      auth   \n",
      "\n",
      "               alldate  one  \n",
      "0  2021-02-10 21:12:21    1  \n",
      "1  2021-02-10 21:12:24    1  \n",
      "2  2021-02-10 21:12:28    1  \n",
      "3  2021-02-10 21:12:32    1  \n",
      "4  2021-02-10 21:12:33    1  \n"
     ]
    }
   ],
   "source": [
    "# Read sqlite query results into a pandas DataFrame\n",
    "con = sqlite3.connect(\"ssh_date.db\")\n",
    "df = pd.read_sql_query(\"SELECT * from req\", con)\n",
    "\n",
    "# Verify that result of SQL query is stored in the dataframe\n",
    "print(df.head())\n",
    "\n",
    "con.close()"
   ]
  },
  {
   "cell_type": "code",
   "execution_count": 3,
   "id": "apart-determination",
   "metadata": {},
   "outputs": [],
   "source": [
    "df['dt'] = pd.to_datetime(df['alldate'])"
   ]
  },
  {
   "cell_type": "code",
   "execution_count": 4,
   "id": "separated-coordination",
   "metadata": {},
   "outputs": [],
   "source": [
    "ip = df[df['ip'] == '221.131.165.86']"
   ]
  },
  {
   "cell_type": "code",
   "execution_count": 5,
   "id": "tribal-static",
   "metadata": {},
   "outputs": [
    {
     "data": {
      "text/plain": [
       "<AxesSubplot:>"
      ]
     },
     "execution_count": 5,
     "metadata": {},
     "output_type": "execute_result"
    },
    {
     "data": {
      "image/png": "[encoded data removed]",
      "text/plain": [
       "<Figure size 432x288 with 1 Axes>"
      ]
     },
     "metadata": {
      "needs_background": "light"
     },
     "output_type": "display_data"
    }
   ],
   "source": [
    "ip.plot()"
   ]
  },
  {
   "cell_type": "markdown",
   "id": "a044b42f-ffa2-4553-bf5c-31fd3c041d9d",
   "metadata": {},
   "source": [
    "## Filtering attacks by 221.131.165.86 and grouping them by hours"
   ]
  },
  {
   "cell_type": "markdown",
   "id": "c33e03a3-170c-4a39-a00f-dce31dd35002",
   "metadata": {},
   "source": [
    "![](./img/03_attack_221_by_hours.png)"
   ]
  },
  {
   "cell_type": "code",
   "execution_count": null,
   "id": "1b73ba66-8f80-4e75-97a5-1150cc343ba9",
   "metadata": {},
   "outputs": [],
   "source": []
  }
 ],
 "metadata": {
  "kernelspec": {
   "display_name": "Python 3 (ipykernel)",
   "language": "python",
   "name": "python3"
  },
  "language_info": {
   "codemirror_mode": {
    "name": "ipython",
    "version": 3
   },
   "file_extension": ".py",
   "mimetype": "text/x-python",
   "name": "python",
   "nbconvert_exporter": "python",
   "pygments_lexer": "ipython3",
   "version": "3.9.2"
  }
 },
 "nbformat": 4,
 "nbformat_minor": 5
}
