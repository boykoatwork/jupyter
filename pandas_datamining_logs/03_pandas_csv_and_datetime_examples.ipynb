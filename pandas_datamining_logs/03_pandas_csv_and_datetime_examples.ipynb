{
 "cells": [
  {
   "cell_type": "code",
   "execution_count": 1,
   "metadata": {
    "collapsed": true,
    "jupyter": {
     "outputs_hidden": true
    }
   },
   "outputs": [],
   "source": [
    "import pandas as pd"
   ]
  },
  {
   "cell_type": "code",
   "execution_count": 14,
   "metadata": {
    "collapsed": false,
    "jupyter": {
     "outputs_hidden": false
    }
   },
   "outputs": [
    {
     "data": {
      "text/html": [
       "<div>\n",
       "<table border=\"1\" class=\"dataframe\">\n",
       "  <thead>\n",
       "    <tr style=\"text-align: right;\">\n",
       "      <th></th>\n",
       "      <th>date</th>\n",
       "      <th>0</th>\n",
       "      <th>1</th>\n",
       "      <th>2</th>\n",
       "      <th>z</th>\n",
       "      <th>time</th>\n",
       "      <th>Unnamed: 6</th>\n",
       "    </tr>\n",
       "  </thead>\n",
       "  <tbody>\n",
       "    <tr>\n",
       "      <th>0</th>\n",
       "      <td>2000-01-01</td>\n",
       "      <td>-1.497153</td>\n",
       "      <td>-1.779128</td>\n",
       "      <td>0.141012</td>\n",
       "      <td>0.655431</td>\n",
       "      <td>00:00:00</td>\n",
       "      <td>NaN</td>\n",
       "    </tr>\n",
       "    <tr>\n",
       "      <th>1</th>\n",
       "      <td>2000-01-02</td>\n",
       "      <td>-0.081725</td>\n",
       "      <td>2.078358</td>\n",
       "      <td>0.081390</td>\n",
       "      <td>1.637060</td>\n",
       "      <td>00:00:00</td>\n",
       "      <td>NaN</td>\n",
       "    </tr>\n",
       "    <tr>\n",
       "      <th>2</th>\n",
       "      <td>2000-01-03</td>\n",
       "      <td>2.872043</td>\n",
       "      <td>-0.415910</td>\n",
       "      <td>-0.771129</td>\n",
       "      <td>-1.984958</td>\n",
       "      <td>00:00:00</td>\n",
       "      <td>NaN</td>\n",
       "    </tr>\n",
       "    <tr>\n",
       "      <th>3</th>\n",
       "      <td>2000-01-04</td>\n",
       "      <td>0.493605</td>\n",
       "      <td>-0.656474</td>\n",
       "      <td>-1.090553</td>\n",
       "      <td>0.522329</td>\n",
       "      <td>00:00:00</td>\n",
       "      <td>NaN</td>\n",
       "    </tr>\n",
       "    <tr>\n",
       "      <th>4</th>\n",
       "      <td>2000-01-05</td>\n",
       "      <td>-0.601121</td>\n",
       "      <td>1.617966</td>\n",
       "      <td>-1.394013</td>\n",
       "      <td>-1.736241</td>\n",
       "      <td>00:00:00</td>\n",
       "      <td>NaN</td>\n",
       "    </tr>\n",
       "    <tr>\n",
       "      <th>5</th>\n",
       "      <td>2000-01-06</td>\n",
       "      <td>-1.783028</td>\n",
       "      <td>2.939213</td>\n",
       "      <td>-1.201543</td>\n",
       "      <td>-0.734997</td>\n",
       "      <td>00:00:00</td>\n",
       "      <td>NaN</td>\n",
       "    </tr>\n",
       "    <tr>\n",
       "      <th>6</th>\n",
       "      <td>2000-01-07</td>\n",
       "      <td>2.427145</td>\n",
       "      <td>-0.243278</td>\n",
       "      <td>-0.935969</td>\n",
       "      <td>1.968206</td>\n",
       "      <td>00:00:00</td>\n",
       "      <td>NaN</td>\n",
       "    </tr>\n",
       "    <tr>\n",
       "      <th>7</th>\n",
       "      <td>2000-01-08</td>\n",
       "      <td>0.527173</td>\n",
       "      <td>1.024933</td>\n",
       "      <td>0.411320</td>\n",
       "      <td>-0.440251</td>\n",
       "      <td>00:00:00</td>\n",
       "      <td>NaN</td>\n",
       "    </tr>\n",
       "    <tr>\n",
       "      <th>8</th>\n",
       "      <td>2000-01-09</td>\n",
       "      <td>-1.840033</td>\n",
       "      <td>-0.436751</td>\n",
       "      <td>-1.679627</td>\n",
       "      <td>1.885788</td>\n",
       "      <td>00:00:00</td>\n",
       "      <td>NaN</td>\n",
       "    </tr>\n",
       "    <tr>\n",
       "      <th>9</th>\n",
       "      <td>2000-01-10</td>\n",
       "      <td>1.934762</td>\n",
       "      <td>0.890132</td>\n",
       "      <td>0.080114</td>\n",
       "      <td>-1.897782</td>\n",
       "      <td>00:00:00</td>\n",
       "      <td>NaN</td>\n",
       "    </tr>\n",
       "  </tbody>\n",
       "</table>\n",
       "</div>"
      ],
      "text/plain": [
       "         date         0         1         2         z       time  Unnamed: 6\n",
       "0  2000-01-01 -1.497153 -1.779128  0.141012  0.655431   00:00:00         NaN\n",
       "1  2000-01-02 -0.081725  2.078358  0.081390  1.637060   00:00:00         NaN\n",
       "2  2000-01-03  2.872043 -0.415910 -0.771129 -1.984958   00:00:00         NaN\n",
       "3  2000-01-04  0.493605 -0.656474 -1.090553  0.522329   00:00:00         NaN\n",
       "4  2000-01-05 -0.601121  1.617966 -1.394013 -1.736241   00:00:00         NaN\n",
       "5  2000-01-06 -1.783028  2.939213 -1.201543 -0.734997   00:00:00         NaN\n",
       "6  2000-01-07  2.427145 -0.243278 -0.935969  1.968206   00:00:00         NaN\n",
       "7  2000-01-08  0.527173  1.024933  0.411320 -0.440251   00:00:00         NaN\n",
       "8  2000-01-09 -1.840033 -0.436751 -1.679627  1.885788   00:00:00         NaN\n",
       "9  2000-01-10  1.934762  0.890132  0.080114 -1.897782   00:00:00         NaN"
      ]
     },
     "execution_count": 14,
     "metadata": {},
     "output_type": "execute_result"
    }
   ],
   "source": [
    "t = pd.read_csv('test2.csv')\n",
    "t"
   ]
  },
  {
   "cell_type": "code",
   "execution_count": 16,
   "metadata": {
    "collapsed": false,
    "jupyter": {
     "outputs_hidden": false
    }
   },
   "outputs": [
    {
     "data": {
      "text/plain": [
       "Index([u'date', u' 0', u' 1', u' 2', u' z', u' time', u'Unnamed: 6'], dtype='object')"
      ]
     },
     "execution_count": 16,
     "metadata": {},
     "output_type": "execute_result"
    }
   ],
   "source": [
    "t.columns"
   ]
  },
  {
   "cell_type": "code",
   "execution_count": 21,
   "metadata": {
    "collapsed": false,
    "jupyter": {
     "outputs_hidden": false
    }
   },
   "outputs": [
    {
     "data": {
      "text/plain": [
       "' 0'"
      ]
     },
     "execution_count": 21,
     "metadata": {},
     "output_type": "execute_result"
    }
   ],
   "source": [
    "t.columns[1]"
   ]
  },
  {
   "cell_type": "code",
   "execution_count": 26,
   "metadata": {
    "collapsed": false,
    "jupyter": {
     "outputs_hidden": false
    }
   },
   "outputs": [
    {
     "data": {
      "text/plain": [
       "0     00:00:00\n",
       "1     00:00:00\n",
       "2     00:00:00\n",
       "3     00:00:00\n",
       "4     00:00:00\n",
       "5     00:00:00\n",
       "6     00:00:00\n",
       "7     00:00:00\n",
       "8     00:00:00\n",
       "9     00:00:00\n",
       "Name:  time, dtype: object"
      ]
     },
     "execution_count": 26,
     "metadata": {},
     "output_type": "execute_result"
    }
   ],
   "source": [
    "t[t.columns[5]]"
   ]
  },
  {
   "cell_type": "markdown",
   "metadata": {},
   "source": [
    "<http://chrisalbon.com/python/pandas_dataframe_importing_csv.html>"
   ]
  },
  {
   "cell_type": "code",
   "execution_count": 50,
   "metadata": {
    "collapsed": false,
    "jupyter": {
     "outputs_hidden": false
    }
   },
   "outputs": [
    {
     "data": {
      "text/html": [
       "<div>\n",
       "<table border=\"1\" class=\"dataframe\">\n",
       "  <thead>\n",
       "    <tr style=\"text-align: right;\">\n",
       "      <th></th>\n",
       "      <th>0_5</th>\n",
       "      <th>1</th>\n",
       "      <th>2</th>\n",
       "      <th>3</th>\n",
       "      <th>4</th>\n",
       "      <th>6</th>\n",
       "    </tr>\n",
       "  </thead>\n",
       "  <tbody>\n",
       "    <tr>\n",
       "      <th>0</th>\n",
       "      <td>date  time</td>\n",
       "      <td>0.000000</td>\n",
       "      <td>1.000000</td>\n",
       "      <td>2.000000</td>\n",
       "      <td>z</td>\n",
       "      <td>NaN</td>\n",
       "    </tr>\n",
       "    <tr>\n",
       "      <th>1</th>\n",
       "      <td>2000-01-01  00:00:00</td>\n",
       "      <td>-1.497153</td>\n",
       "      <td>-1.779128</td>\n",
       "      <td>0.141012</td>\n",
       "      <td>0.6554314974</td>\n",
       "      <td>NaN</td>\n",
       "    </tr>\n",
       "    <tr>\n",
       "      <th>2</th>\n",
       "      <td>2000-01-02  00:00:00</td>\n",
       "      <td>-0.081725</td>\n",
       "      <td>2.078358</td>\n",
       "      <td>0.081390</td>\n",
       "      <td>1.6370595777</td>\n",
       "      <td>NaN</td>\n",
       "    </tr>\n",
       "    <tr>\n",
       "      <th>3</th>\n",
       "      <td>2000-01-03  00:00:00</td>\n",
       "      <td>2.872043</td>\n",
       "      <td>-0.415910</td>\n",
       "      <td>-0.771129</td>\n",
       "      <td>-1.9849582555</td>\n",
       "      <td>NaN</td>\n",
       "    </tr>\n",
       "    <tr>\n",
       "      <th>4</th>\n",
       "      <td>2000-01-04  00:00:00</td>\n",
       "      <td>0.493605</td>\n",
       "      <td>-0.656474</td>\n",
       "      <td>-1.090553</td>\n",
       "      <td>0.5223285409</td>\n",
       "      <td>NaN</td>\n",
       "    </tr>\n",
       "    <tr>\n",
       "      <th>5</th>\n",
       "      <td>2000-01-05  00:00:00</td>\n",
       "      <td>-0.601121</td>\n",
       "      <td>1.617966</td>\n",
       "      <td>-1.394013</td>\n",
       "      <td>-1.7362410178</td>\n",
       "      <td>NaN</td>\n",
       "    </tr>\n",
       "    <tr>\n",
       "      <th>6</th>\n",
       "      <td>2000-01-06  00:00:00</td>\n",
       "      <td>-1.783028</td>\n",
       "      <td>2.939213</td>\n",
       "      <td>-1.201543</td>\n",
       "      <td>-0.7349965011</td>\n",
       "      <td>NaN</td>\n",
       "    </tr>\n",
       "    <tr>\n",
       "      <th>7</th>\n",
       "      <td>2000-01-07  00:00:00</td>\n",
       "      <td>2.427145</td>\n",
       "      <td>-0.243278</td>\n",
       "      <td>-0.935969</td>\n",
       "      <td>1.9682056904</td>\n",
       "      <td>NaN</td>\n",
       "    </tr>\n",
       "    <tr>\n",
       "      <th>8</th>\n",
       "      <td>2000-01-08  00:00:00</td>\n",
       "      <td>0.527173</td>\n",
       "      <td>1.024933</td>\n",
       "      <td>0.411320</td>\n",
       "      <td>-0.4402508092</td>\n",
       "      <td>NaN</td>\n",
       "    </tr>\n",
       "    <tr>\n",
       "      <th>9</th>\n",
       "      <td>2000-01-09  00:00:00</td>\n",
       "      <td>-1.840033</td>\n",
       "      <td>-0.436751</td>\n",
       "      <td>-1.679627</td>\n",
       "      <td>1.8857879831</td>\n",
       "      <td>NaN</td>\n",
       "    </tr>\n",
       "    <tr>\n",
       "      <th>10</th>\n",
       "      <td>2000-01-10  00:00:00</td>\n",
       "      <td>1.934762</td>\n",
       "      <td>0.890132</td>\n",
       "      <td>0.080114</td>\n",
       "      <td>-1.8977816635</td>\n",
       "      <td>NaN</td>\n",
       "    </tr>\n",
       "  </tbody>\n",
       "</table>\n",
       "</div>"
      ],
      "text/plain": [
       "                     0_5         1         2         3               4   6\n",
       "0             date  time  0.000000  1.000000  2.000000               z NaN\n",
       "1   2000-01-01  00:00:00 -1.497153 -1.779128  0.141012    0.6554314974 NaN\n",
       "2   2000-01-02  00:00:00 -0.081725  2.078358  0.081390    1.6370595777 NaN\n",
       "3   2000-01-03  00:00:00  2.872043 -0.415910 -0.771129   -1.9849582555 NaN\n",
       "4   2000-01-04  00:00:00  0.493605 -0.656474 -1.090553    0.5223285409 NaN\n",
       "5   2000-01-05  00:00:00 -0.601121  1.617966 -1.394013   -1.7362410178 NaN\n",
       "6   2000-01-06  00:00:00 -1.783028  2.939213 -1.201543   -0.7349965011 NaN\n",
       "7   2000-01-07  00:00:00  2.427145 -0.243278 -0.935969    1.9682056904 NaN\n",
       "8   2000-01-08  00:00:00  0.527173  1.024933  0.411320   -0.4402508092 NaN\n",
       "9   2000-01-09  00:00:00 -1.840033 -0.436751 -1.679627    1.8857879831 NaN\n",
       "10  2000-01-10  00:00:00  1.934762  0.890132  0.080114   -1.8977816635 NaN"
      ]
     },
     "execution_count": 50,
     "metadata": {},
     "output_type": "execute_result"
    }
   ],
   "source": [
    "t1 = pd.read_csv('test2.csv',header=None,parse_dates=[[0,5]])\n",
    "t1"
   ]
  },
  {
   "cell_type": "code",
   "execution_count": null,
   "metadata": {
    "collapsed": true,
    "jupyter": {
     "outputs_hidden": true
    }
   },
   "outputs": [],
   "source": []
  }
 ],
 "metadata": {
  "kernelspec": {
   "display_name": "Python 3",
   "language": "python",
   "name": "python3"
  },
  "language_info": {
   "codemirror_mode": {
    "name": "ipython",
    "version": 3
   },
   "file_extension": ".py",
   "mimetype": "text/x-python",
   "name": "python",
   "nbconvert_exporter": "python",
   "pygments_lexer": "ipython3",
   "version": "3.8.6"
  }
 },
 "nbformat": 4,
 "nbformat_minor": 4
}
