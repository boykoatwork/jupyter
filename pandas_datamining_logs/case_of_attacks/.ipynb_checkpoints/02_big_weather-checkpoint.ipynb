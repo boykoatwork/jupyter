{
 "cells": [
  {
   "cell_type": "code",
   "execution_count": 1,
   "metadata": {},
   "outputs": [],
   "source": [
    "import pandas as pd\n",
    "import matplotlib.pyplot as plt\n"
   ]
  },
  {
   "cell_type": "markdown",
   "metadata": {},
   "source": [
    "<https://pandas.pydata.org/pandas-docs/stable/reference/api/pandas.read_csv.html>\n"
   ]
  },
  {
   "cell_type": "code",
   "execution_count": 2,
   "metadata": {},
   "outputs": [],
   "source": [
    "df = pd.read_csv('weather.log',sep='\\s+', header=None, names=['date','time','temp','hum','water'])"
   ]
  },
  {
   "cell_type": "code",
   "execution_count": 3,
   "metadata": {},
   "outputs": [
    {
     "data": {
      "text/html": [
       "<div>\n",
       "<style scoped>\n",
       "    .dataframe tbody tr th:only-of-type {\n",
       "        vertical-align: middle;\n",
       "    }\n",
       "\n",
       "    .dataframe tbody tr th {\n",
       "        vertical-align: top;\n",
       "    }\n",
       "\n",
       "    .dataframe thead th {\n",
       "        text-align: right;\n",
       "    }\n",
       "</style>\n",
       "<table border=\"1\" class=\"dataframe\">\n",
       "  <thead>\n",
       "    <tr style=\"text-align: right;\">\n",
       "      <th></th>\n",
       "      <th>date</th>\n",
       "      <th>time</th>\n",
       "      <th>temp</th>\n",
       "      <th>hum</th>\n",
       "      <th>water</th>\n",
       "    </tr>\n",
       "  </thead>\n",
       "  <tbody>\n",
       "    <tr>\n",
       "      <th>0</th>\n",
       "      <td>2016-09-20</td>\n",
       "      <td>08:26:38</td>\n",
       "      <td>12°C,</td>\n",
       "      <td>96%,</td>\n",
       "      <td>~20°C</td>\n",
       "    </tr>\n",
       "    <tr>\n",
       "      <th>1</th>\n",
       "      <td>2016-09-20</td>\n",
       "      <td>08:27:29</td>\n",
       "      <td>12°C,</td>\n",
       "      <td>96%,</td>\n",
       "      <td>~20°C</td>\n",
       "    </tr>\n",
       "    <tr>\n",
       "      <th>2</th>\n",
       "      <td>2016-09-20</td>\n",
       "      <td>08:27:32</td>\n",
       "      <td>12°C,</td>\n",
       "      <td>96%,</td>\n",
       "      <td>~20°C</td>\n",
       "    </tr>\n",
       "    <tr>\n",
       "      <th>3</th>\n",
       "      <td>2016-09-20</td>\n",
       "      <td>08:37:21</td>\n",
       "      <td>12°C,</td>\n",
       "      <td>96%,</td>\n",
       "      <td>~20°C</td>\n",
       "    </tr>\n",
       "    <tr>\n",
       "      <th>4</th>\n",
       "      <td>2016-09-20</td>\n",
       "      <td>08:47:24</td>\n",
       "      <td>12°C,</td>\n",
       "      <td>96%,</td>\n",
       "      <td>~20°C</td>\n",
       "    </tr>\n",
       "    <tr>\n",
       "      <th>...</th>\n",
       "      <td>...</td>\n",
       "      <td>...</td>\n",
       "      <td>...</td>\n",
       "      <td>...</td>\n",
       "      <td>...</td>\n",
       "    </tr>\n",
       "    <tr>\n",
       "      <th>7119</th>\n",
       "      <td>2021-04-14</td>\n",
       "      <td>02:18:18</td>\n",
       "      <td>8°C,</td>\n",
       "      <td>94%,</td>\n",
       "      <td>~8°C</td>\n",
       "    </tr>\n",
       "    <tr>\n",
       "      <th>7120</th>\n",
       "      <td>2021-04-16</td>\n",
       "      <td>00:37:43</td>\n",
       "      <td>8°C,</td>\n",
       "      <td>81%,</td>\n",
       "      <td>~9°C</td>\n",
       "    </tr>\n",
       "    <tr>\n",
       "      <th>7121</th>\n",
       "      <td>2021-04-16</td>\n",
       "      <td>01:42:25</td>\n",
       "      <td>8°C,</td>\n",
       "      <td>81%,</td>\n",
       "      <td>~9°C</td>\n",
       "    </tr>\n",
       "    <tr>\n",
       "      <th>7122</th>\n",
       "      <td>2021-04-18</td>\n",
       "      <td>00:50:43</td>\n",
       "      <td>8°C,</td>\n",
       "      <td>89%,</td>\n",
       "      <td>~7°C</td>\n",
       "    </tr>\n",
       "    <tr>\n",
       "      <th>7123</th>\n",
       "      <td>2021-04-19</td>\n",
       "      <td>02:37:36</td>\n",
       "      <td>11°C,</td>\n",
       "      <td>55%,</td>\n",
       "      <td>~10°C</td>\n",
       "    </tr>\n",
       "  </tbody>\n",
       "</table>\n",
       "<p>7124 rows × 5 columns</p>\n",
       "</div>"
      ],
      "text/plain": [
       "            date      time   temp   hum  water\n",
       "0     2016-09-20  08:26:38  12°C,  96%,  ~20°C\n",
       "1     2016-09-20  08:27:29  12°C,  96%,  ~20°C\n",
       "2     2016-09-20  08:27:32  12°C,  96%,  ~20°C\n",
       "3     2016-09-20  08:37:21  12°C,  96%,  ~20°C\n",
       "4     2016-09-20  08:47:24  12°C,  96%,  ~20°C\n",
       "...          ...       ...    ...   ...    ...\n",
       "7119  2021-04-14  02:18:18   8°C,  94%,   ~8°C\n",
       "7120  2021-04-16  00:37:43   8°C,  81%,   ~9°C\n",
       "7121  2021-04-16  01:42:25   8°C,  81%,   ~9°C\n",
       "7122  2021-04-18  00:50:43   8°C,  89%,   ~7°C\n",
       "7123  2021-04-19  02:37:36  11°C,  55%,  ~10°C\n",
       "\n",
       "[7124 rows x 5 columns]"
      ]
     },
     "execution_count": 3,
     "metadata": {},
     "output_type": "execute_result"
    }
   ],
   "source": [
    "df"
   ]
  },
  {
   "cell_type": "markdown",
   "metadata": {},
   "source": [
    "<https://stackoverflow.com/questions/50444346/fast-punctuation-removal-with-pandas>\n",
    "\n",
    "    str.replace"
   ]
  },
  {
   "cell_type": "code",
   "execution_count": 4,
   "metadata": {},
   "outputs": [],
   "source": [
    "df['water'] = df['water'].str.replace('~','').str.replace('°C','')\n",
    "df['temp'] = df['temp'].str.replace(',','').str.replace('°C','')"
   ]
  },
  {
   "cell_type": "markdown",
   "metadata": {},
   "source": [
    "https://stackoverflow.com/questions/46544351/removing-character-from-string-in-dataframe"
   ]
  },
  {
   "cell_type": "code",
   "execution_count": 5,
   "metadata": {},
   "outputs": [],
   "source": [
    "dt = df['date'] + ' ' + df['time']"
   ]
  },
  {
   "cell_type": "code",
   "execution_count": 6,
   "metadata": {},
   "outputs": [
    {
     "data": {
      "text/plain": [
       "0      2016-09-20 08:26:38\n",
       "1      2016-09-20 08:27:29\n",
       "2      2016-09-20 08:27:32\n",
       "3      2016-09-20 08:37:21\n",
       "4      2016-09-20 08:47:24\n",
       "               ...        \n",
       "7119   2021-04-14 02:18:18\n",
       "7120   2021-04-16 00:37:43\n",
       "7121   2021-04-16 01:42:25\n",
       "7122   2021-04-18 00:50:43\n",
       "7123   2021-04-19 02:37:36\n",
       "Length: 7124, dtype: datetime64[ns]"
      ]
     },
     "execution_count": 6,
     "metadata": {},
     "output_type": "execute_result"
    }
   ],
   "source": [
    "pd.to_datetime(dt)"
   ]
  },
  {
   "cell_type": "markdown",
   "metadata": {},
   "source": [
    "https://datatofish.com/string-to-integer-dataframe/\n"
   ]
  },
  {
   "cell_type": "code",
   "execution_count": 7,
   "metadata": {},
   "outputs": [],
   "source": [
    "df['temp'] = pd.to_numeric(df['temp'])\n",
    "df['water'] = pd.to_numeric(df['water'])\n",
    "df['time'] = dt"
   ]
  },
  {
   "cell_type": "markdown",
   "metadata": {},
   "source": [
    "https://pandas.pydata.org/pandas-docs/stable/user_guide/visualization.html#plotting-tools"
   ]
  },
  {
   "cell_type": "code",
   "execution_count": 8,
   "metadata": {},
   "outputs": [
    {
     "data": {
      "text/plain": [
       "<AxesSubplot:>"
      ]
     },
     "execution_count": 8,
     "metadata": {},
     "output_type": "execute_result"
    },
    {
     "data": {
      "image/png": "[encoded data removed]",
      "text/plain": [
       "<Figure size 432x288 with 1 Axes>"
      ]
     },
     "metadata": {
      "needs_background": "light"
     },
     "output_type": "display_data"
    }
   ],
   "source": [
    "df.plot()"
   ]
  },
  {
   "cell_type": "markdown",
   "metadata": {},
   "source": [
    "https://ourcodingclub.github.io/tutorials/pandas-time-series/\n",
    "\n",
    "https://stackoverflow.com/questions/38197964/pandas-plot-multiple-time-series-dataframe-into-a-single-plot\n",
    "\n",
    "https://stackoverflow.com/questions/38837421/simple-way-to-plot-time-series-with-real-dates-using-pandas\n",
    "\n"
   ]
  },
  {
   "cell_type": "code",
   "execution_count": 9,
   "metadata": {},
   "outputs": [
    {
     "data": {
      "text/plain": [
       "[<matplotlib.lines.Line2D at 0x7f650dfc31c0>]"
      ]
     },
     "execution_count": 9,
     "metadata": {},
     "output_type": "execute_result"
    },
    {
     "data": {
      "image/png": "[encoded data removed]",
      "text/plain": [
       "<Figure size 432x288 with 1 Axes>"
      ]
     },
     "metadata": {
      "needs_background": "light"
     },
     "output_type": "display_data"
    }
   ],
   "source": [
    "plt.plot(df['time'], df['water'])\n",
    "plt.plot(df['time'], df['temp'])"
   ]
  },
  {
   "cell_type": "markdown",
   "metadata": {},
   "source": [
    "https://www.dataquest.io/blog/tutorial-time-series-analysis-with-pandas/\n"
   ]
  }
 ],
 "metadata": {
  "kernelspec": {
   "display_name": "Python 3",
   "language": "python",
   "name": "python3"
  },
  "language_info": {
   "codemirror_mode": {
    "name": "ipython",
    "version": 3
   },
   "file_extension": ".py",
   "mimetype": "text/x-python",
   "name": "python",
   "nbconvert_exporter": "python",
   "pygments_lexer": "ipython3",
   "version": "3.8.6"
  }
 },
 "nbformat": 4,
 "nbformat_minor": 4
}
