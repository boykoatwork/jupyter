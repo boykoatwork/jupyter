{
 "cells": [
  {
   "cell_type": "markdown",
   "id": "declared-writer",
   "metadata": {
    "tags": []
   },
   "source": [
    "итак - первый пример\n",
    "\n",
    "тикающие часы\n",
    "\n"
   ]
  },
  {
   "cell_type": "markdown",
   "id": "promising-retailer",
   "metadata": {},
   "source": [
    "If you break SimPy down, it is just an asynchronous event dispatcher"
   ]
  },
  {
   "cell_type": "markdown",
   "id": "going-jackson",
   "metadata": {},
   "source": [
    "Вы создаете события и планируете их на заданное время моделирования. События сортируются по приоритету, времени моделирования и возрастающему идентификатору события. У события также есть список обратных вызовов, которые выполняются, когда событие запускается и обрабатывается циклом событий. События также могут иметь возвращаемое значение. \n",
    "\n",
    "https://simpy.readthedocs.io/en/latest/topical_guides/simpy_basics.html"
   ]
  },
  {
   "cell_type": "markdown",
   "id": "backed-carolina",
   "metadata": {},
   "source": [
    "The behavior of active components (like vehicles, customers or messages) is modeled with processes. All processes live in an environment. They interact with the environment and with each other via events.\n",
    " \n",
    "* процесс - функция, которая дает yield - генератор, ага\n",
    "* среда - то, что работает общим для всех\n",
    "* событие\n",
    "\n",
    "\n",
    "\n",
    "    "
   ]
  },
  {
   "cell_type": "code",
   "execution_count": 1,
   "id": "daily-brain",
   "metadata": {},
   "outputs": [],
   "source": [
    ">>> import simpy\n",
    ">>> # что на входе? имя, тик?\n",
    ">>> def clock(env, name, tick): # env получаем из simpy.Environment\n",
    "...     while True:\n",
    "...         print(name, env.now) # процесс печатает свое имя и который сейчас час\n",
    "...         yield env.timeout(tick) # тут процесс возвращает ... функцию которая делает паузу на тик раз\n",
    "...\n",
    ">>> env = simpy.Environment() # создаем среду"
   ]
  },
  {
   "cell_type": "code",
   "execution_count": 2,
   "id": "fluid-personal",
   "metadata": {
    "tags": []
   },
   "outputs": [
    {
     "name": "stdout",
     "output_type": "stream",
     "text": [
      "fast 0\n",
      "slow 0\n",
      "fast 0.5\n",
      "slow 1\n",
      "fast 1.0\n",
      "fast 1.5\n"
     ]
    }
   ],
   "source": [
    ">>> env.process(clock(env, 'fast', 0.5)) # быстрый процесс\n",
    ">>> env.process(clock(env, 'slow', 1)) # медленный процесс\n",
    ">>> env.run(until=2) # видимо запускает процессы, пока внутреннее время не достигнет 2\n"
   ]
  },
  {
   "cell_type": "code",
   "execution_count": 3,
   "id": "documentary-venture",
   "metadata": {
    "tags": []
   },
   "outputs": [
    {
     "name": "stdout",
     "output_type": "stream",
     "text": [
      "slow 2\n",
      "fast 2.0\n",
      "fast 2.5\n",
      "slow 3\n",
      "fast 3.0\n",
      "fast 3.5\n",
      "slow 4\n",
      "fast 4.0\n",
      "fast 4.5\n",
      "slow 5\n",
      "fast 5.0\n",
      "fast 5.5\n",
      "slow 6\n",
      "fast 6.0\n",
      "fast 6.5\n",
      "slow 7\n",
      "fast 7.0\n",
      "fast 7.5\n",
      "slow 8\n",
      "fast 8.0\n",
      "fast 8.5\n",
      "slow 9\n",
      "fast 9.0\n",
      "fast 9.5\n"
     ]
    }
   ],
   "source": [
    ">>> env.run(until=10) # видимо запускает процессы, пока внутреннее время не достигнет 2\n"
   ]
  },
  {
   "cell_type": "markdown",
   "id": "ecological-afternoon",
   "metadata": {},
   "source": [
    "ага. смотри мы создали два таймера. один быстрый - каждые 0.5 единиц времени, другой медленный - каждую одну единицу времени"
   ]
  },
  {
   "cell_type": "markdown",
   "id": "plastic-negotiation",
   "metadata": {},
   "source": [
    "это частотные таймеры - казалось бы один процесс должен отставать от другого, но тут они просто происходят с разным периодом-частотой (типа как f и 2f)\n",
    "\n",
    "поэтому быстрый процесс мигает дважды, а медленный - один раз\n"
   ]
  },
  {
   "cell_type": "markdown",
   "id": "municipal-mileage",
   "metadata": {},
   "source": [
    "ну вот да\n",
    "\n",
    "An important event type is the Timeout. Events of this type are triggered after a certain amount of (simulated) time has passed. They allow a process to sleep (or hold its state) for the given time. A Timeout and all other events can be created by calling the appropriate method of the Environment that the process lives in (Environment.timeout() for example).\n",
    "\n",
    "env.timeout()\n"
   ]
  },
  {
   "cell_type": "code",
   "execution_count": null,
   "id": "brazilian-personality",
   "metadata": {},
   "outputs": [],
   "source": []
  },
  {
   "cell_type": "code",
   "execution_count": null,
   "id": "absent-interaction",
   "metadata": {},
   "outputs": [],
   "source": []
  }
 ],
 "metadata": {
  "kernelspec": {
   "display_name": "Python 3",
   "language": "python",
   "name": "python3"
  },
  "language_info": {
   "codemirror_mode": {
    "name": "ipython",
    "version": 3
   },
   "file_extension": ".py",
   "mimetype": "text/x-python",
   "name": "python",
   "nbconvert_exporter": "python",
   "pygments_lexer": "ipython3",
   "version": "3.8.5"
  }
 },
 "nbformat": 4,
 "nbformat_minor": 5
}
