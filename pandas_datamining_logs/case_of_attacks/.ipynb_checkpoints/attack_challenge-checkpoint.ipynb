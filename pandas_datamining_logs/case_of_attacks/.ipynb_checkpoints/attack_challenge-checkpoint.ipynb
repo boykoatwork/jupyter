{
 "cells": [
  {
   "cell_type": "code",
   "execution_count": 1,
   "id": "irish-fiction",
   "metadata": {},
   "outputs": [],
   "source": [
    "import sqlite3\n",
    "conn = sqlite3.connect('ssh_date.db')"
   ]
  },
  {
   "cell_type": "code",
   "execution_count": 2,
   "id": "rough-reality",
   "metadata": {},
   "outputs": [],
   "source": [
    "import pandas as pd\n",
    "import matplotlib.pyplot as plt"
   ]
  },
  {
   "cell_type": "markdown",
   "id": "reported-marshall",
   "metadata": {},
   "source": [
    "https://datacarpentry.org/python-ecology-lesson/09-working-with-sql/index.html"
   ]
  },
  {
   "cell_type": "code",
   "execution_count": 5,
   "id": "golden-joshua",
   "metadata": {},
   "outputs": [
    {
     "name": "stdout",
     "output_type": "stream",
     "text": [
      "('фев', '10', '21:12:21', '221.131.165.86', 'root', 0, 'auth', '2021-02-10 21:12:21', 1)\n",
      "('фев', '10', '21:12:24', '221.131.165.86', 'root', 49460, 'password', '2021-02-10 21:12:24', 1)\n",
      "('фев', '10', '21:12:28', '221.131.165.86', 'root', 49460, 'password', '2021-02-10 21:12:28', 1)\n",
      "('фев', '10', '21:12:32', '221.131.165.86', 'root', 49460, 'password', '2021-02-10 21:12:32', 1)\n",
      "('фев', '10', '21:12:33', '221.131.165.86', 'root', 0, 'auth', '2021-02-10 21:12:33', 1)\n",
      "('фев', '10', '21:12:33', '54.38.180.93', 'root', 0, 'auth', '2021-02-10 21:12:33', 1)\n",
      "('фев', '10', '21:12:35', '221.131.165.86', 'root', 0, 'auth', '2021-02-10 21:12:35', 1)\n",
      "('фев', '10', '21:12:36', '54.38.180.93', 'root', 40074, 'password', '2021-02-10 21:12:36', 1)\n",
      "('фев', '10', '21:12:37', '221.131.165.86', 'root', 36018, 'password', '2021-02-10 21:12:37', 1)\n",
      "('фев', '10', '21:12:42', '221.131.165.86', 'root', 36018, 'password', '2021-02-10 21:12:42', 1)\n"
     ]
    }
   ],
   "source": [
    "cur = conn.cursor()\n",
    "\n",
    "for row in cur.execute('SELECT * FROM req LIMIT 10;'):\n",
    "    print(row)\n",
    "\n",
    "conn.close()"
   ]
  },
  {
   "cell_type": "code",
   "execution_count": null,
   "id": "vital-hospital",
   "metadata": {},
   "outputs": [],
   "source": []
  }
 ],
 "metadata": {
  "kernelspec": {
   "display_name": "Python 3",
   "language": "python",
   "name": "python3"
  },
  "language_info": {
   "codemirror_mode": {
    "name": "ipython",
    "version": 3
   },
   "file_extension": ".py",
   "mimetype": "text/x-python",
   "name": "python",
   "nbconvert_exporter": "python",
   "pygments_lexer": "ipython3",
   "version": "3.8.6"
  }
 },
 "nbformat": 4,
 "nbformat_minor": 5
}
