{
 "cells": [
  {
   "cell_type": "code",
   "execution_count": 1,
   "id": "chief-mention",
   "metadata": {},
   "outputs": [
    {
     "name": "stdout",
     "output_type": "stream",
     "text": [
      "-- Logs begin at Wed 2021-02-10 21:12:05 MSK, end at Fri 2021-02-19 16:40:33 MSK. --\n",
      "фев 10 21:12:09 mil systemd[1]: Starting OpenBSD Secure Shell server...\n",
      "фев 10 21:12:09 mil sshd[884]: Server listening on 0.0.0.0 port 22.\n",
      "фев 10 21:12:09 mil sshd[884]: Server listening on :: port 22.\n",
      "фев 10 21:12:09 mil systemd[1]: Started OpenBSD Secure Shell server.\n",
      "фев 10 21:12:21 mil sshd[1160]: pam_unix(sshd:auth): authentication failure; logname= uid=0 euid=0 tty=ssh ruser= rhost=221.131.165.86  user=root\n",
      "фев 10 21:12:24 mil sshd[1160]: Failed password for root from 221.131.165.86 port 49460 ssh2\n",
      "фев 10 21:12:28 mil sshd[1160]: Failed password for root from 221.131.165.86 port 49460 ssh2\n",
      "фев 10 21:12:32 mil sshd[1160]: Failed password for root from 221.131.165.86 port 49460 ssh2\n",
      "фев 10 21:12:33 mil sshd[1160]: Received disconnect from 221.131.165.86 port 49460:11:  [preauth]\n"
     ]
    }
   ],
   "source": [
    "!head ssh.log\n"
   ]
  },
  {
   "cell_type": "code",
   "execution_count": 2,
   "id": "caroline-throw",
   "metadata": {},
   "outputs": [],
   "source": [
    "def req_parser(s):\n",
    "    month, day, timest, host, proc_id, other = s.split(' ',maxsplit=5)\n",
    "    #print(month, day, timest, host, proc_id, sep=';') \n",
    "    #print(other)\n",
    "\n",
    "    if 'Failed password for' in other:\n",
    "        other,user,em2,ip,em,port,protocol = other.rsplit(' ',maxsplit=6)\n",
    "        #print(user,ip,port,protocol, sep = ';')\n",
    "        attack = 'password'\n",
    "\n",
    "        return month, day, timest, ip, user, port, attack \n",
    "\n",
    "\n",
    "    elif 'authentication failure' in other:\n",
    "        # logname= uid=0 euid=0 tty=ssh ruser= rhost=212.33.199.47  user=root\n",
    "        other, user = other.rsplit(maxsplit=1)\n",
    "        user = user.partition('=')[-1]\n",
    "        other, ip = other.rsplit(maxsplit=1)\n",
    "        ip = ip.partition('=')[-1]\n",
    "        port = '00000'\n",
    "        #print(user)\n",
    "        #print(ip)\n",
    "        attack = 'auth'\n",
    "\n",
    "\n",
    "        return month, day, timest, ip, user, port, attack \n",
    "\n",
    "    else:\n",
    "\n",
    "        return None"
   ]
  },
  {
   "cell_type": "code",
   "execution_count": 3,
   "id": "understood-mississippi",
   "metadata": {},
   "outputs": [],
   "source": [
    "file_name = \"ssh.log\"\n",
    "sshlog = open(file_name)"
   ]
  },
  {
   "cell_type": "code",
   "execution_count": 4,
   "id": "practical-concentrate",
   "metadata": {},
   "outputs": [
    {
     "ename": "ValueError",
     "evalue": "not enough values to unpack (expected 6, got 1)",
     "output_type": "error",
     "traceback": [
      "\u001b[0;31m---------------------------------------------------------------------------\u001b[0m",
      "\u001b[0;31mValueError\u001b[0m                                Traceback (most recent call last)",
      "\u001b[0;32m/tmp/ipykernel_33385/1486145731.py\u001b[0m in \u001b[0;36m<module>\u001b[0;34m\u001b[0m\n\u001b[1;32m     18\u001b[0m \u001b[0;34m\u001b[0m\u001b[0m\n\u001b[1;32m     19\u001b[0m \u001b[0;32mfor\u001b[0m \u001b[0mi\u001b[0m \u001b[0;32min\u001b[0m \u001b[0msshlog\u001b[0m\u001b[0;34m:\u001b[0m\u001b[0;34m\u001b[0m\u001b[0;34m\u001b[0m\u001b[0m\n\u001b[0;32m---> 20\u001b[0;31m     \u001b[0mr\u001b[0m \u001b[0;34m=\u001b[0m \u001b[0mreq_parser\u001b[0m\u001b[0;34m(\u001b[0m\u001b[0mi\u001b[0m\u001b[0;34m)\u001b[0m\u001b[0;34m\u001b[0m\u001b[0;34m\u001b[0m\u001b[0m\n\u001b[0m\u001b[1;32m     21\u001b[0m     \u001b[0;32mif\u001b[0m \u001b[0mr\u001b[0m \u001b[0;32mand\u001b[0m \u001b[0mlen\u001b[0m\u001b[0;34m(\u001b[0m\u001b[0mr\u001b[0m\u001b[0;34m)\u001b[0m \u001b[0;34m==\u001b[0m \u001b[0;36m7\u001b[0m\u001b[0;34m:\u001b[0m\u001b[0;34m\u001b[0m\u001b[0;34m\u001b[0m\u001b[0m\n\u001b[1;32m     22\u001b[0m         \u001b[0mc\u001b[0m\u001b[0;34m.\u001b[0m\u001b[0mexecute\u001b[0m\u001b[0;34m(\u001b[0m\u001b[0;34m'INSERT INTO req VALUES (?,?,?,?,?,?,?)'\u001b[0m\u001b[0;34m,\u001b[0m \u001b[0mr\u001b[0m\u001b[0;34m)\u001b[0m\u001b[0;34m\u001b[0m\u001b[0;34m\u001b[0m\u001b[0m\n",
      "\u001b[0;32m/tmp/ipykernel_33385/2045742244.py\u001b[0m in \u001b[0;36mreq_parser\u001b[0;34m(s)\u001b[0m\n\u001b[1;32m      1\u001b[0m \u001b[0;32mdef\u001b[0m \u001b[0mreq_parser\u001b[0m\u001b[0;34m(\u001b[0m\u001b[0ms\u001b[0m\u001b[0;34m)\u001b[0m\u001b[0;34m:\u001b[0m\u001b[0;34m\u001b[0m\u001b[0;34m\u001b[0m\u001b[0m\n\u001b[0;32m----> 2\u001b[0;31m     \u001b[0mmonth\u001b[0m\u001b[0;34m,\u001b[0m \u001b[0mday\u001b[0m\u001b[0;34m,\u001b[0m \u001b[0mtimest\u001b[0m\u001b[0;34m,\u001b[0m \u001b[0mhost\u001b[0m\u001b[0;34m,\u001b[0m \u001b[0mproc_id\u001b[0m\u001b[0;34m,\u001b[0m \u001b[0mother\u001b[0m \u001b[0;34m=\u001b[0m \u001b[0ms\u001b[0m\u001b[0;34m.\u001b[0m\u001b[0msplit\u001b[0m\u001b[0;34m(\u001b[0m\u001b[0;34m' '\u001b[0m\u001b[0;34m,\u001b[0m\u001b[0mmaxsplit\u001b[0m\u001b[0;34m=\u001b[0m\u001b[0;36m5\u001b[0m\u001b[0;34m)\u001b[0m\u001b[0;34m\u001b[0m\u001b[0;34m\u001b[0m\u001b[0m\n\u001b[0m\u001b[1;32m      3\u001b[0m     \u001b[0;31m#print(month, day, timest, host, proc_id, sep=';')\u001b[0m\u001b[0;34m\u001b[0m\u001b[0;34m\u001b[0m\u001b[0;34m\u001b[0m\u001b[0m\n\u001b[1;32m      4\u001b[0m     \u001b[0;31m#print(other)\u001b[0m\u001b[0;34m\u001b[0m\u001b[0;34m\u001b[0m\u001b[0;34m\u001b[0m\u001b[0m\n\u001b[1;32m      5\u001b[0m \u001b[0;34m\u001b[0m\u001b[0m\n",
      "\u001b[0;31mValueError\u001b[0m: not enough values to unpack (expected 6, got 1)"
     ]
    }
   ],
   "source": [
    "import sqlite3\n",
    "conn = sqlite3.connect('ssh.db')\n",
    "c = conn.cursor()\n",
    "\n",
    "# Create table\n",
    "c.execute('''DROP TABLE req ''')\n",
    "\n",
    "c.execute('''CREATE TABLE req \n",
    "                     (\n",
    "                     month text, \n",
    "                     day text, \n",
    "                     timest text, \n",
    "                     ip text,\n",
    "                     user text, \n",
    "                     port integer, \n",
    "                     prot text\n",
    "                     );''')\n",
    "\n",
    "for i in sshlog:\n",
    "    r = req_parser(i)\n",
    "    if r and len(r) == 7:\n",
    "        c.execute('INSERT INTO req VALUES (?,?,?,?,?,?,?)', r)\n",
    "\n",
    "sshlog.close()\n",
    "\n",
    "conn.commit()\n",
    "conn.close()"
   ]
  },
  {
   "cell_type": "code",
   "execution_count": null,
   "id": "liquid-baking",
   "metadata": {},
   "outputs": [],
   "source": []
  }
 ],
 "metadata": {
  "kernelspec": {
   "display_name": "Python 3 (ipykernel)",
   "language": "python",
   "name": "python3"
  },
  "language_info": {
   "codemirror_mode": {
    "name": "ipython",
    "version": 3
   },
   "file_extension": ".py",
   "mimetype": "text/x-python",
   "name": "python",
   "nbconvert_exporter": "python",
   "pygments_lexer": "ipython3",
   "version": "3.9.2"
  }
 },
 "nbformat": 4,
 "nbformat_minor": 5
}
