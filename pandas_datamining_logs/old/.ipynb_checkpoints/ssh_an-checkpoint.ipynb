{
 "cells": [
  {
   "cell_type": "code",
   "execution_count": 1,
   "id": "dress-wagner",
   "metadata": {},
   "outputs": [],
   "source": [
    "import pandas as pd\n",
    "import sqlite3\n",
    "import matplotlib.pyplot as plt\n",
    "import numpy as np\n"
   ]
  },
  {
   "cell_type": "code",
   "execution_count": 2,
   "id": "brutal-installation",
   "metadata": {},
   "outputs": [
    {
     "name": "stdout",
     "output_type": "stream",
     "text": [
      "  month day    timest              ip  user   port    attack  \\\n",
      "0   фев  10  21:12:21  221.131.165.86  root      0      auth   \n",
      "1   фев  10  21:12:24  221.131.165.86  root  49460  password   \n",
      "2   фев  10  21:12:28  221.131.165.86  root  49460  password   \n",
      "3   фев  10  21:12:32  221.131.165.86  root  49460  password   \n",
      "4   фев  10  21:12:33  221.131.165.86  root      0      auth   \n",
      "\n",
      "               alldate  one  \n",
      "0  2021-02-10 21:12:21    1  \n",
      "1  2021-02-10 21:12:24    1  \n",
      "2  2021-02-10 21:12:28    1  \n",
      "3  2021-02-10 21:12:32    1  \n",
      "4  2021-02-10 21:12:33    1  \n"
     ]
    }
   ],
   "source": [
    "# Read sqlite query results into a pandas DataFrame\n",
    "con = sqlite3.connect(\"ssh_date.db\")\n",
    "df = pd.read_sql_query(\"SELECT * from req\", con)\n",
    "\n",
    "# Verify that result of SQL query is stored in the dataframe\n",
    "print(df.head())\n",
    "\n",
    "con.close()"
   ]
  },
  {
   "cell_type": "code",
   "execution_count": 3,
   "id": "labeled-mailing",
   "metadata": {},
   "outputs": [],
   "source": [
    "df['dt'] = pd.to_datetime(df['alldate'])"
   ]
  },
  {
   "cell_type": "code",
   "execution_count": 4,
   "id": "southern-phone",
   "metadata": {},
   "outputs": [
    {
     "data": {
      "text/html": [
       "<div>\n",
       "<style scoped>\n",
       "    .dataframe tbody tr th:only-of-type {\n",
       "        vertical-align: middle;\n",
       "    }\n",
       "\n",
       "    .dataframe tbody tr th {\n",
       "        vertical-align: top;\n",
       "    }\n",
       "\n",
       "    .dataframe thead th {\n",
       "        text-align: right;\n",
       "    }\n",
       "</style>\n",
       "<table border=\"1\" class=\"dataframe\">\n",
       "  <thead>\n",
       "    <tr style=\"text-align: right;\">\n",
       "      <th></th>\n",
       "      <th>month</th>\n",
       "      <th>day</th>\n",
       "      <th>timest</th>\n",
       "      <th>ip</th>\n",
       "      <th>user</th>\n",
       "      <th>port</th>\n",
       "      <th>attack</th>\n",
       "      <th>alldate</th>\n",
       "      <th>one</th>\n",
       "      <th>dt</th>\n",
       "    </tr>\n",
       "  </thead>\n",
       "  <tbody>\n",
       "    <tr>\n",
       "      <th>0</th>\n",
       "      <td>фев</td>\n",
       "      <td>10</td>\n",
       "      <td>21:12:21</td>\n",
       "      <td>221.131.165.86</td>\n",
       "      <td>root</td>\n",
       "      <td>0</td>\n",
       "      <td>auth</td>\n",
       "      <td>2021-02-10 21:12:21</td>\n",
       "      <td>1</td>\n",
       "      <td>2021-02-10 21:12:21</td>\n",
       "    </tr>\n",
       "    <tr>\n",
       "      <th>1</th>\n",
       "      <td>фев</td>\n",
       "      <td>10</td>\n",
       "      <td>21:12:24</td>\n",
       "      <td>221.131.165.86</td>\n",
       "      <td>root</td>\n",
       "      <td>49460</td>\n",
       "      <td>password</td>\n",
       "      <td>2021-02-10 21:12:24</td>\n",
       "      <td>1</td>\n",
       "      <td>2021-02-10 21:12:24</td>\n",
       "    </tr>\n",
       "    <tr>\n",
       "      <th>2</th>\n",
       "      <td>фев</td>\n",
       "      <td>10</td>\n",
       "      <td>21:12:28</td>\n",
       "      <td>221.131.165.86</td>\n",
       "      <td>root</td>\n",
       "      <td>49460</td>\n",
       "      <td>password</td>\n",
       "      <td>2021-02-10 21:12:28</td>\n",
       "      <td>1</td>\n",
       "      <td>2021-02-10 21:12:28</td>\n",
       "    </tr>\n",
       "    <tr>\n",
       "      <th>3</th>\n",
       "      <td>фев</td>\n",
       "      <td>10</td>\n",
       "      <td>21:12:32</td>\n",
       "      <td>221.131.165.86</td>\n",
       "      <td>root</td>\n",
       "      <td>49460</td>\n",
       "      <td>password</td>\n",
       "      <td>2021-02-10 21:12:32</td>\n",
       "      <td>1</td>\n",
       "      <td>2021-02-10 21:12:32</td>\n",
       "    </tr>\n",
       "    <tr>\n",
       "      <th>4</th>\n",
       "      <td>фев</td>\n",
       "      <td>10</td>\n",
       "      <td>21:12:33</td>\n",
       "      <td>221.131.165.86</td>\n",
       "      <td>root</td>\n",
       "      <td>0</td>\n",
       "      <td>auth</td>\n",
       "      <td>2021-02-10 21:12:33</td>\n",
       "      <td>1</td>\n",
       "      <td>2021-02-10 21:12:33</td>\n",
       "    </tr>\n",
       "    <tr>\n",
       "      <th>...</th>\n",
       "      <td>...</td>\n",
       "      <td>...</td>\n",
       "      <td>...</td>\n",
       "      <td>...</td>\n",
       "      <td>...</td>\n",
       "      <td>...</td>\n",
       "      <td>...</td>\n",
       "      <td>...</td>\n",
       "      <td>...</td>\n",
       "      <td>...</td>\n",
       "    </tr>\n",
       "    <tr>\n",
       "      <th>163457</th>\n",
       "      <td>фев</td>\n",
       "      <td>19</td>\n",
       "      <td>16:37:32</td>\n",
       "      <td>13.66.131.233</td>\n",
       "      <td>root</td>\n",
       "      <td>57838</td>\n",
       "      <td>password</td>\n",
       "      <td>2021-02-19 16:37:32</td>\n",
       "      <td>1</td>\n",
       "      <td>2021-02-19 16:37:32</td>\n",
       "    </tr>\n",
       "    <tr>\n",
       "      <th>163458</th>\n",
       "      <td>фев</td>\n",
       "      <td>19</td>\n",
       "      <td>16:38:47</td>\n",
       "      <td>176.109.0.30</td>\n",
       "      <td>root</td>\n",
       "      <td>0</td>\n",
       "      <td>auth</td>\n",
       "      <td>2021-02-19 16:38:47</td>\n",
       "      <td>1</td>\n",
       "      <td>2021-02-19 16:38:47</td>\n",
       "    </tr>\n",
       "    <tr>\n",
       "      <th>163459</th>\n",
       "      <td>фев</td>\n",
       "      <td>19</td>\n",
       "      <td>16:38:49</td>\n",
       "      <td>176.109.0.30</td>\n",
       "      <td>root</td>\n",
       "      <td>40475</td>\n",
       "      <td>password</td>\n",
       "      <td>2021-02-19 16:38:49</td>\n",
       "      <td>1</td>\n",
       "      <td>2021-02-19 16:38:49</td>\n",
       "    </tr>\n",
       "    <tr>\n",
       "      <th>163460</th>\n",
       "      <td>фев</td>\n",
       "      <td>19</td>\n",
       "      <td>16:39:07</td>\n",
       "      <td>119.45.43.139</td>\n",
       "      <td>root</td>\n",
       "      <td>0</td>\n",
       "      <td>auth</td>\n",
       "      <td>2021-02-19 16:39:07</td>\n",
       "      <td>1</td>\n",
       "      <td>2021-02-19 16:39:07</td>\n",
       "    </tr>\n",
       "    <tr>\n",
       "      <th>163461</th>\n",
       "      <td>фев</td>\n",
       "      <td>19</td>\n",
       "      <td>16:39:09</td>\n",
       "      <td>119.45.43.139</td>\n",
       "      <td>root</td>\n",
       "      <td>38738</td>\n",
       "      <td>password</td>\n",
       "      <td>2021-02-19 16:39:09</td>\n",
       "      <td>1</td>\n",
       "      <td>2021-02-19 16:39:09</td>\n",
       "    </tr>\n",
       "  </tbody>\n",
       "</table>\n",
       "<p>163462 rows × 10 columns</p>\n",
       "</div>"
      ],
      "text/plain": [
       "       month day    timest              ip  user   port    attack  \\\n",
       "0        фев  10  21:12:21  221.131.165.86  root      0      auth   \n",
       "1        фев  10  21:12:24  221.131.165.86  root  49460  password   \n",
       "2        фев  10  21:12:28  221.131.165.86  root  49460  password   \n",
       "3        фев  10  21:12:32  221.131.165.86  root  49460  password   \n",
       "4        фев  10  21:12:33  221.131.165.86  root      0      auth   \n",
       "...      ...  ..       ...             ...   ...    ...       ...   \n",
       "163457   фев  19  16:37:32   13.66.131.233  root  57838  password   \n",
       "163458   фев  19  16:38:47    176.109.0.30  root      0      auth   \n",
       "163459   фев  19  16:38:49    176.109.0.30  root  40475  password   \n",
       "163460   фев  19  16:39:07   119.45.43.139  root      0      auth   \n",
       "163461   фев  19  16:39:09   119.45.43.139  root  38738  password   \n",
       "\n",
       "                    alldate  one                  dt  \n",
       "0       2021-02-10 21:12:21    1 2021-02-10 21:12:21  \n",
       "1       2021-02-10 21:12:24    1 2021-02-10 21:12:24  \n",
       "2       2021-02-10 21:12:28    1 2021-02-10 21:12:28  \n",
       "3       2021-02-10 21:12:32    1 2021-02-10 21:12:32  \n",
       "4       2021-02-10 21:12:33    1 2021-02-10 21:12:33  \n",
       "...                     ...  ...                 ...  \n",
       "163457  2021-02-19 16:37:32    1 2021-02-19 16:37:32  \n",
       "163458  2021-02-19 16:38:47    1 2021-02-19 16:38:47  \n",
       "163459  2021-02-19 16:38:49    1 2021-02-19 16:38:49  \n",
       "163460  2021-02-19 16:39:07    1 2021-02-19 16:39:07  \n",
       "163461  2021-02-19 16:39:09    1 2021-02-19 16:39:09  \n",
       "\n",
       "[163462 rows x 10 columns]"
      ]
     },
     "execution_count": 4,
     "metadata": {},
     "output_type": "execute_result"
    }
   ],
   "source": [
    "df"
   ]
  },
  {
   "cell_type": "code",
   "execution_count": 5,
   "id": "funny-disney",
   "metadata": {},
   "outputs": [],
   "source": [
    "pivot_t = pd.pivot_table(df, index='ip', values='one', aggfunc=np.sum)"
   ]
  },
  {
   "cell_type": "code",
   "execution_count": 6,
   "id": "duplicate-glucose",
   "metadata": {},
   "outputs": [
    {
     "data": {
      "text/html": [
       "<div>\n",
       "<style scoped>\n",
       "    .dataframe tbody tr th:only-of-type {\n",
       "        vertical-align: middle;\n",
       "    }\n",
       "\n",
       "    .dataframe tbody tr th {\n",
       "        vertical-align: top;\n",
       "    }\n",
       "\n",
       "    .dataframe thead th {\n",
       "        text-align: right;\n",
       "    }\n",
       "</style>\n",
       "<table border=\"1\" class=\"dataframe\">\n",
       "  <thead>\n",
       "    <tr style=\"text-align: right;\">\n",
       "      <th></th>\n",
       "      <th>one</th>\n",
       "    </tr>\n",
       "    <tr>\n",
       "      <th>ip</th>\n",
       "      <th></th>\n",
       "    </tr>\n",
       "  </thead>\n",
       "  <tbody>\n",
       "    <tr>\n",
       "      <th>1.160.36.150</th>\n",
       "      <td>1</td>\n",
       "    </tr>\n",
       "    <tr>\n",
       "      <th>1.161.115.54</th>\n",
       "      <td>2</td>\n",
       "    </tr>\n",
       "    <tr>\n",
       "      <th>1.175.76.102</th>\n",
       "      <td>2</td>\n",
       "    </tr>\n",
       "    <tr>\n",
       "      <th>1.179.137.10</th>\n",
       "      <td>92</td>\n",
       "    </tr>\n",
       "    <tr>\n",
       "      <th>1.180.211.139</th>\n",
       "      <td>92</td>\n",
       "    </tr>\n",
       "    <tr>\n",
       "      <th>...</th>\n",
       "      <td>...</td>\n",
       "    </tr>\n",
       "    <tr>\n",
       "      <th>95.181.191.97</th>\n",
       "      <td>5</td>\n",
       "    </tr>\n",
       "    <tr>\n",
       "      <th>95.211.100.165</th>\n",
       "      <td>1</td>\n",
       "    </tr>\n",
       "    <tr>\n",
       "      <th>95.42.182.36</th>\n",
       "      <td>2</td>\n",
       "    </tr>\n",
       "    <tr>\n",
       "      <th>95.86.24.20</th>\n",
       "      <td>2</td>\n",
       "    </tr>\n",
       "    <tr>\n",
       "      <th>96.69.13.140</th>\n",
       "      <td>2</td>\n",
       "    </tr>\n",
       "  </tbody>\n",
       "</table>\n",
       "<p>1583 rows × 1 columns</p>\n",
       "</div>"
      ],
      "text/plain": [
       "                one\n",
       "ip                 \n",
       "1.160.36.150      1\n",
       "1.161.115.54      2\n",
       "1.175.76.102      2\n",
       "1.179.137.10     92\n",
       "1.180.211.139    92\n",
       "...             ...\n",
       "95.181.191.97     5\n",
       "95.211.100.165    1\n",
       "95.42.182.36      2\n",
       "95.86.24.20       2\n",
       "96.69.13.140      2\n",
       "\n",
       "[1583 rows x 1 columns]"
      ]
     },
     "execution_count": 6,
     "metadata": {},
     "output_type": "execute_result"
    }
   ],
   "source": [
    "pivot_t[1:]"
   ]
  },
  {
   "cell_type": "code",
   "execution_count": 11,
   "id": "terminal-oxygen",
   "metadata": {},
   "outputs": [
    {
     "data": {
      "text/plain": [
       "[<matplotlib.lines.Line2D at 0x7f78053388e0>]"
      ]
     },
     "execution_count": 11,
     "metadata": {},
     "output_type": "execute_result"
    },
    {
     "data": {
      "image/png": "[encoded data removed]",
      "text/plain": [
       "<Figure size 432x288 with 1 Axes>"
      ]
     },
     "metadata": {
      "needs_background": "light"
     },
     "output_type": "display_data"
    }
   ],
   "source": [
    "plt.plot(pivot_t)"
   ]
  },
  {
   "cell_type": "code",
   "execution_count": 12,
   "id": "romance-warrior",
   "metadata": {},
   "outputs": [],
   "source": [
    "attackers = pivot_t[1:].sort_values(['one'])"
   ]
  },
  {
   "cell_type": "code",
   "execution_count": 13,
   "id": "fourth-potato",
   "metadata": {},
   "outputs": [
    {
     "data": {
      "text/html": [
       "<div>\n",
       "<style scoped>\n",
       "    .dataframe tbody tr th:only-of-type {\n",
       "        vertical-align: middle;\n",
       "    }\n",
       "\n",
       "    .dataframe tbody tr th {\n",
       "        vertical-align: top;\n",
       "    }\n",
       "\n",
       "    .dataframe thead th {\n",
       "        text-align: right;\n",
       "    }\n",
       "</style>\n",
       "<table border=\"1\" class=\"dataframe\">\n",
       "  <thead>\n",
       "    <tr style=\"text-align: right;\">\n",
       "      <th></th>\n",
       "      <th>one</th>\n",
       "    </tr>\n",
       "    <tr>\n",
       "      <th>ip</th>\n",
       "      <th></th>\n",
       "    </tr>\n",
       "  </thead>\n",
       "  <tbody>\n",
       "    <tr>\n",
       "      <th>1.160.36.150</th>\n",
       "      <td>1</td>\n",
       "    </tr>\n",
       "    <tr>\n",
       "      <th>119.188.242.86</th>\n",
       "      <td>1</td>\n",
       "    </tr>\n",
       "    <tr>\n",
       "      <th>119.136.124.79</th>\n",
       "      <td>1</td>\n",
       "    </tr>\n",
       "    <tr>\n",
       "      <th>200.73.129.102</th>\n",
       "      <td>1</td>\n",
       "    </tr>\n",
       "    <tr>\n",
       "      <th>201.236.134.154</th>\n",
       "      <td>1</td>\n",
       "    </tr>\n",
       "    <tr>\n",
       "      <th>...</th>\n",
       "      <td>...</td>\n",
       "    </tr>\n",
       "    <tr>\n",
       "      <th>221.181.185.19</th>\n",
       "      <td>1620</td>\n",
       "    </tr>\n",
       "    <tr>\n",
       "      <th>45.141.84.10</th>\n",
       "      <td>1756</td>\n",
       "    </tr>\n",
       "    <tr>\n",
       "      <th>221.131.165.85</th>\n",
       "      <td>2145</td>\n",
       "    </tr>\n",
       "    <tr>\n",
       "      <th>221.131.165.86</th>\n",
       "      <td>2521</td>\n",
       "    </tr>\n",
       "    <tr>\n",
       "      <th>80.249.131.9</th>\n",
       "      <td>8870</td>\n",
       "    </tr>\n",
       "  </tbody>\n",
       "</table>\n",
       "<p>1583 rows × 1 columns</p>\n",
       "</div>"
      ],
      "text/plain": [
       "                  one\n",
       "ip                   \n",
       "1.160.36.150        1\n",
       "119.188.242.86      1\n",
       "119.136.124.79      1\n",
       "200.73.129.102      1\n",
       "201.236.134.154     1\n",
       "...               ...\n",
       "221.181.185.19   1620\n",
       "45.141.84.10     1756\n",
       "221.131.165.85   2145\n",
       "221.131.165.86   2521\n",
       "80.249.131.9     8870\n",
       "\n",
       "[1583 rows x 1 columns]"
      ]
     },
     "execution_count": 13,
     "metadata": {},
     "output_type": "execute_result"
    }
   ],
   "source": [
    "attackers\n"
   ]
  },
  {
   "cell_type": "code",
   "execution_count": 14,
   "id": "iraqi-character",
   "metadata": {},
   "outputs": [
    {
     "name": "stdout",
     "output_type": "stream",
     "text": [
      "                  one\n",
      "ip                   \n",
      "1.160.36.150        1\n",
      "119.188.242.86      1\n",
      "119.136.124.79      1\n",
      "200.73.129.102      1\n",
      "201.236.134.154     1\n",
      "...               ...\n",
      "221.181.185.19   1620\n",
      "45.141.84.10     1756\n",
      "221.131.165.85   2145\n",
      "221.131.165.86   2521\n",
      "80.249.131.9     8870\n",
      "\n",
      "[1583 rows x 1 columns]\n"
     ]
    }
   ],
   "source": [
    "# pd.set_option('display.max_rows', None)\n",
    "print(attackers)"
   ]
  },
  {
   "cell_type": "code",
   "execution_count": 15,
   "id": "silent-training",
   "metadata": {},
   "outputs": [
    {
     "data": {
      "text/plain": [
       "[<matplotlib.lines.Line2D at 0x7f78013d7490>]"
      ]
     },
     "execution_count": 15,
     "metadata": {},
     "output_type": "execute_result"
    },
    {
     "data": {
      "image/png": "[encoded data removed]",
      "text/plain": [
       "<Figure size 432x288 with 1 Axes>"
      ]
     },
     "metadata": {
      "needs_background": "light"
     },
     "output_type": "display_data"
    }
   ],
   "source": [
    "plt.plot(attackers[-10:-1])"
   ]
  },
  {
   "cell_type": "code",
   "execution_count": 16,
   "id": "union-strap",
   "metadata": {},
   "outputs": [
    {
     "data": {
      "text/plain": [
       "array([[<AxesSubplot:title={'center':'one'}>]], dtype=object)"
      ]
     },
     "execution_count": 16,
     "metadata": {},
     "output_type": "execute_result"
    },
    {
     "data": {
      "image/png": "[encoded data removed]",
      "text/plain": [
       "<Figure size 432x288 with 1 Axes>"
      ]
     },
     "metadata": {
      "needs_background": "light"
     },
     "output_type": "display_data"
    }
   ],
   "source": [
    "attackers.hist()\n"
   ]
  },
  {
   "cell_type": "code",
   "execution_count": 17,
   "id": "generic-state",
   "metadata": {},
   "outputs": [
    {
     "data": {
      "text/html": [
       "<div>\n",
       "<style scoped>\n",
       "    .dataframe tbody tr th:only-of-type {\n",
       "        vertical-align: middle;\n",
       "    }\n",
       "\n",
       "    .dataframe tbody tr th {\n",
       "        vertical-align: top;\n",
       "    }\n",
       "\n",
       "    .dataframe thead th {\n",
       "        text-align: right;\n",
       "    }\n",
       "</style>\n",
       "<table border=\"1\" class=\"dataframe\">\n",
       "  <thead>\n",
       "    <tr style=\"text-align: right;\">\n",
       "      <th></th>\n",
       "      <th>one</th>\n",
       "    </tr>\n",
       "  </thead>\n",
       "  <tbody>\n",
       "    <tr>\n",
       "      <th>count</th>\n",
       "      <td>1583.000000</td>\n",
       "    </tr>\n",
       "    <tr>\n",
       "      <th>mean</th>\n",
       "      <td>74.435250</td>\n",
       "    </tr>\n",
       "    <tr>\n",
       "      <th>std</th>\n",
       "      <td>274.072735</td>\n",
       "    </tr>\n",
       "    <tr>\n",
       "      <th>min</th>\n",
       "      <td>1.000000</td>\n",
       "    </tr>\n",
       "    <tr>\n",
       "      <th>25%</th>\n",
       "      <td>2.000000</td>\n",
       "    </tr>\n",
       "    <tr>\n",
       "      <th>50%</th>\n",
       "      <td>49.000000</td>\n",
       "    </tr>\n",
       "    <tr>\n",
       "      <th>75%</th>\n",
       "      <td>82.000000</td>\n",
       "    </tr>\n",
       "    <tr>\n",
       "      <th>max</th>\n",
       "      <td>8870.000000</td>\n",
       "    </tr>\n",
       "  </tbody>\n",
       "</table>\n",
       "</div>"
      ],
      "text/plain": [
       "               one\n",
       "count  1583.000000\n",
       "mean     74.435250\n",
       "std     274.072735\n",
       "min       1.000000\n",
       "25%       2.000000\n",
       "50%      49.000000\n",
       "75%      82.000000\n",
       "max    8870.000000"
      ]
     },
     "execution_count": 17,
     "metadata": {},
     "output_type": "execute_result"
    }
   ],
   "source": [
    "attackers.describe()"
   ]
  },
  {
   "cell_type": "code",
   "execution_count": 19,
   "id": "written-journal",
   "metadata": {},
   "outputs": [
    {
     "data": {
      "text/plain": [
       "<AxesSubplot:>"
      ]
     },
     "execution_count": 19,
     "metadata": {},
     "output_type": "execute_result"
    },
    {
     "data": {
      "image/png": "[encoded data removed]",
      "text/plain": [
       "<Figure size 432x288 with 1 Axes>"
      ]
     },
     "metadata": {
      "needs_background": "light"
     },
     "output_type": "display_data"
    }
   ],
   "source": [
    "attackers.boxplot()"
   ]
  },
  {
   "cell_type": "code",
   "execution_count": 20,
   "id": "powered-effects",
   "metadata": {},
   "outputs": [
    {
     "data": {
      "text/plain": [
       "array([[<AxesSubplot:title={'center':'port'}>,\n",
       "        <AxesSubplot:title={'center':'one'}>],\n",
       "       [<AxesSubplot:title={'center':'dt'}>, <AxesSubplot:>]],\n",
       "      dtype=object)"
      ]
     },
     "execution_count": 20,
     "metadata": {},
     "output_type": "execute_result"
    },
    {
     "data": {
      "image/png": "[encoded data removed]",
      "text/plain": [
       "<Figure size 432x288 with 4 Axes>"
      ]
     },
     "metadata": {
      "needs_background": "light"
     },
     "output_type": "display_data"
    }
   ],
   "source": [
    "df.hist()"
   ]
  },
  {
   "cell_type": "code",
   "execution_count": 21,
   "id": "accurate-quarterly",
   "metadata": {},
   "outputs": [
    {
     "data": {
      "text/html": [
       "<div>\n",
       "<style scoped>\n",
       "    .dataframe tbody tr th:only-of-type {\n",
       "        vertical-align: middle;\n",
       "    }\n",
       "\n",
       "    .dataframe tbody tr th {\n",
       "        vertical-align: top;\n",
       "    }\n",
       "\n",
       "    .dataframe thead th {\n",
       "        text-align: right;\n",
       "    }\n",
       "</style>\n",
       "<table border=\"1\" class=\"dataframe\">\n",
       "  <thead>\n",
       "    <tr style=\"text-align: right;\">\n",
       "      <th></th>\n",
       "      <th>port</th>\n",
       "      <th>one</th>\n",
       "    </tr>\n",
       "  </thead>\n",
       "  <tbody>\n",
       "    <tr>\n",
       "      <th>count</th>\n",
       "      <td>163462.000000</td>\n",
       "      <td>163462.0</td>\n",
       "    </tr>\n",
       "    <tr>\n",
       "      <th>mean</th>\n",
       "      <td>21944.562950</td>\n",
       "      <td>1.0</td>\n",
       "    </tr>\n",
       "    <tr>\n",
       "      <th>std</th>\n",
       "      <td>23383.339333</td>\n",
       "      <td>0.0</td>\n",
       "    </tr>\n",
       "    <tr>\n",
       "      <th>min</th>\n",
       "      <td>0.000000</td>\n",
       "      <td>1.0</td>\n",
       "    </tr>\n",
       "    <tr>\n",
       "      <th>25%</th>\n",
       "      <td>0.000000</td>\n",
       "      <td>1.0</td>\n",
       "    </tr>\n",
       "    <tr>\n",
       "      <th>50%</th>\n",
       "      <td>11124.500000</td>\n",
       "      <td>1.0</td>\n",
       "    </tr>\n",
       "    <tr>\n",
       "      <th>75%</th>\n",
       "      <td>44813.750000</td>\n",
       "      <td>1.0</td>\n",
       "    </tr>\n",
       "    <tr>\n",
       "      <th>max</th>\n",
       "      <td>65532.000000</td>\n",
       "      <td>1.0</td>\n",
       "    </tr>\n",
       "  </tbody>\n",
       "</table>\n",
       "</div>"
      ],
      "text/plain": [
       "                port       one\n",
       "count  163462.000000  163462.0\n",
       "mean    21944.562950       1.0\n",
       "std     23383.339333       0.0\n",
       "min         0.000000       1.0\n",
       "25%         0.000000       1.0\n",
       "50%     11124.500000       1.0\n",
       "75%     44813.750000       1.0\n",
       "max     65532.000000       1.0"
      ]
     },
     "execution_count": 21,
     "metadata": {},
     "output_type": "execute_result"
    }
   ],
   "source": [
    "df.describe()"
   ]
  },
  {
   "cell_type": "markdown",
   "id": "similar-minority",
   "metadata": {},
   "source": [
    "только аутентификация:"
   ]
  },
  {
   "cell_type": "code",
   "execution_count": 39,
   "id": "whole-prague",
   "metadata": {},
   "outputs": [
    {
     "data": {
      "text/html": [
       "<div>\n",
       "<style scoped>\n",
       "    .dataframe tbody tr th:only-of-type {\n",
       "        vertical-align: middle;\n",
       "    }\n",
       "\n",
       "    .dataframe tbody tr th {\n",
       "        vertical-align: top;\n",
       "    }\n",
       "\n",
       "    .dataframe thead th {\n",
       "        text-align: right;\n",
       "    }\n",
       "</style>\n",
       "<table border=\"1\" class=\"dataframe\">\n",
       "  <thead>\n",
       "    <tr style=\"text-align: right;\">\n",
       "      <th></th>\n",
       "      <th>month</th>\n",
       "      <th>day</th>\n",
       "      <th>timest</th>\n",
       "      <th>ip</th>\n",
       "      <th>user</th>\n",
       "      <th>port</th>\n",
       "      <th>attack</th>\n",
       "      <th>alldate</th>\n",
       "      <th>one</th>\n",
       "      <th>dt</th>\n",
       "    </tr>\n",
       "  </thead>\n",
       "  <tbody>\n",
       "    <tr>\n",
       "      <th>0</th>\n",
       "      <td>фев</td>\n",
       "      <td>10</td>\n",
       "      <td>21:12:21</td>\n",
       "      <td>221.131.165.86</td>\n",
       "      <td>root</td>\n",
       "      <td>0</td>\n",
       "      <td>auth</td>\n",
       "      <td>2021-02-10 21:12:21</td>\n",
       "      <td>1</td>\n",
       "      <td>2021-02-10 21:12:21</td>\n",
       "    </tr>\n",
       "    <tr>\n",
       "      <th>4</th>\n",
       "      <td>фев</td>\n",
       "      <td>10</td>\n",
       "      <td>21:12:33</td>\n",
       "      <td>221.131.165.86</td>\n",
       "      <td>root</td>\n",
       "      <td>0</td>\n",
       "      <td>auth</td>\n",
       "      <td>2021-02-10 21:12:33</td>\n",
       "      <td>1</td>\n",
       "      <td>2021-02-10 21:12:33</td>\n",
       "    </tr>\n",
       "    <tr>\n",
       "      <th>5</th>\n",
       "      <td>фев</td>\n",
       "      <td>10</td>\n",
       "      <td>21:12:33</td>\n",
       "      <td>54.38.180.93</td>\n",
       "      <td>root</td>\n",
       "      <td>0</td>\n",
       "      <td>auth</td>\n",
       "      <td>2021-02-10 21:12:33</td>\n",
       "      <td>1</td>\n",
       "      <td>2021-02-10 21:12:33</td>\n",
       "    </tr>\n",
       "    <tr>\n",
       "      <th>6</th>\n",
       "      <td>фев</td>\n",
       "      <td>10</td>\n",
       "      <td>21:12:35</td>\n",
       "      <td>221.131.165.86</td>\n",
       "      <td>root</td>\n",
       "      <td>0</td>\n",
       "      <td>auth</td>\n",
       "      <td>2021-02-10 21:12:35</td>\n",
       "      <td>1</td>\n",
       "      <td>2021-02-10 21:12:35</td>\n",
       "    </tr>\n",
       "    <tr>\n",
       "      <th>11</th>\n",
       "      <td>фев</td>\n",
       "      <td>10</td>\n",
       "      <td>21:12:49</td>\n",
       "      <td>221.131.165.86</td>\n",
       "      <td>root</td>\n",
       "      <td>0</td>\n",
       "      <td>auth</td>\n",
       "      <td>2021-02-10 21:12:49</td>\n",
       "      <td>1</td>\n",
       "      <td>2021-02-10 21:12:49</td>\n",
       "    </tr>\n",
       "    <tr>\n",
       "      <th>...</th>\n",
       "      <td>...</td>\n",
       "      <td>...</td>\n",
       "      <td>...</td>\n",
       "      <td>...</td>\n",
       "      <td>...</td>\n",
       "      <td>...</td>\n",
       "      <td>...</td>\n",
       "      <td>...</td>\n",
       "      <td>...</td>\n",
       "      <td>...</td>\n",
       "    </tr>\n",
       "    <tr>\n",
       "      <th>163452</th>\n",
       "      <td>фев</td>\n",
       "      <td>19</td>\n",
       "      <td>16:36:53</td>\n",
       "      <td>106.54.74.188</td>\n",
       "      <td>root</td>\n",
       "      <td>0</td>\n",
       "      <td>auth</td>\n",
       "      <td>2021-02-19 16:36:53</td>\n",
       "      <td>1</td>\n",
       "      <td>2021-02-19 16:36:53</td>\n",
       "    </tr>\n",
       "    <tr>\n",
       "      <th>163454</th>\n",
       "      <td>фев</td>\n",
       "      <td>19</td>\n",
       "      <td>16:37:12</td>\n",
       "      <td>64.225.53.31</td>\n",
       "      <td>root</td>\n",
       "      <td>0</td>\n",
       "      <td>auth</td>\n",
       "      <td>2021-02-19 16:37:12</td>\n",
       "      <td>1</td>\n",
       "      <td>2021-02-19 16:37:12</td>\n",
       "    </tr>\n",
       "    <tr>\n",
       "      <th>163456</th>\n",
       "      <td>фев</td>\n",
       "      <td>19</td>\n",
       "      <td>16:37:30</td>\n",
       "      <td>13.66.131.233</td>\n",
       "      <td>root</td>\n",
       "      <td>0</td>\n",
       "      <td>auth</td>\n",
       "      <td>2021-02-19 16:37:30</td>\n",
       "      <td>1</td>\n",
       "      <td>2021-02-19 16:37:30</td>\n",
       "    </tr>\n",
       "    <tr>\n",
       "      <th>163458</th>\n",
       "      <td>фев</td>\n",
       "      <td>19</td>\n",
       "      <td>16:38:47</td>\n",
       "      <td>176.109.0.30</td>\n",
       "      <td>root</td>\n",
       "      <td>0</td>\n",
       "      <td>auth</td>\n",
       "      <td>2021-02-19 16:38:47</td>\n",
       "      <td>1</td>\n",
       "      <td>2021-02-19 16:38:47</td>\n",
       "    </tr>\n",
       "    <tr>\n",
       "      <th>163460</th>\n",
       "      <td>фев</td>\n",
       "      <td>19</td>\n",
       "      <td>16:39:07</td>\n",
       "      <td>119.45.43.139</td>\n",
       "      <td>root</td>\n",
       "      <td>0</td>\n",
       "      <td>auth</td>\n",
       "      <td>2021-02-19 16:39:07</td>\n",
       "      <td>1</td>\n",
       "      <td>2021-02-19 16:39:07</td>\n",
       "    </tr>\n",
       "  </tbody>\n",
       "</table>\n",
       "<p>78090 rows × 10 columns</p>\n",
       "</div>"
      ],
      "text/plain": [
       "       month day    timest              ip  user  port attack  \\\n",
       "0        фев  10  21:12:21  221.131.165.86  root     0   auth   \n",
       "4        фев  10  21:12:33  221.131.165.86  root     0   auth   \n",
       "5        фев  10  21:12:33    54.38.180.93  root     0   auth   \n",
       "6        фев  10  21:12:35  221.131.165.86  root     0   auth   \n",
       "11       фев  10  21:12:49  221.131.165.86  root     0   auth   \n",
       "...      ...  ..       ...             ...   ...   ...    ...   \n",
       "163452   фев  19  16:36:53   106.54.74.188  root     0   auth   \n",
       "163454   фев  19  16:37:12    64.225.53.31  root     0   auth   \n",
       "163456   фев  19  16:37:30   13.66.131.233  root     0   auth   \n",
       "163458   фев  19  16:38:47    176.109.0.30  root     0   auth   \n",
       "163460   фев  19  16:39:07   119.45.43.139  root     0   auth   \n",
       "\n",
       "                    alldate  one                  dt  \n",
       "0       2021-02-10 21:12:21    1 2021-02-10 21:12:21  \n",
       "4       2021-02-10 21:12:33    1 2021-02-10 21:12:33  \n",
       "5       2021-02-10 21:12:33    1 2021-02-10 21:12:33  \n",
       "6       2021-02-10 21:12:35    1 2021-02-10 21:12:35  \n",
       "11      2021-02-10 21:12:49    1 2021-02-10 21:12:49  \n",
       "...                     ...  ...                 ...  \n",
       "163452  2021-02-19 16:36:53    1 2021-02-19 16:36:53  \n",
       "163454  2021-02-19 16:37:12    1 2021-02-19 16:37:12  \n",
       "163456  2021-02-19 16:37:30    1 2021-02-19 16:37:30  \n",
       "163458  2021-02-19 16:38:47    1 2021-02-19 16:38:47  \n",
       "163460  2021-02-19 16:39:07    1 2021-02-19 16:39:07  \n",
       "\n",
       "[78090 rows x 10 columns]"
      ]
     },
     "execution_count": 39,
     "metadata": {},
     "output_type": "execute_result"
    }
   ],
   "source": [
    "df[df['attack'] == 'auth']"
   ]
  },
  {
   "cell_type": "code",
   "execution_count": 46,
   "id": "nominated-techno",
   "metadata": {},
   "outputs": [
    {
     "data": {
      "text/html": [
       "<div>\n",
       "<style scoped>\n",
       "    .dataframe tbody tr th:only-of-type {\n",
       "        vertical-align: middle;\n",
       "    }\n",
       "\n",
       "    .dataframe tbody tr th {\n",
       "        vertical-align: top;\n",
       "    }\n",
       "\n",
       "    .dataframe thead th {\n",
       "        text-align: right;\n",
       "    }\n",
       "</style>\n",
       "<table border=\"1\" class=\"dataframe\">\n",
       "  <thead>\n",
       "    <tr style=\"text-align: right;\">\n",
       "      <th></th>\n",
       "      <th>ip</th>\n",
       "      <th>dt</th>\n",
       "    </tr>\n",
       "  </thead>\n",
       "  <tbody>\n",
       "    <tr>\n",
       "      <th>1</th>\n",
       "      <td>221.131.165.86</td>\n",
       "      <td>2021-02-10 21:12:24</td>\n",
       "    </tr>\n",
       "    <tr>\n",
       "      <th>2</th>\n",
       "      <td>221.131.165.86</td>\n",
       "      <td>2021-02-10 21:12:28</td>\n",
       "    </tr>\n",
       "    <tr>\n",
       "      <th>3</th>\n",
       "      <td>221.131.165.86</td>\n",
       "      <td>2021-02-10 21:12:32</td>\n",
       "    </tr>\n",
       "    <tr>\n",
       "      <th>7</th>\n",
       "      <td>54.38.180.93</td>\n",
       "      <td>2021-02-10 21:12:36</td>\n",
       "    </tr>\n",
       "    <tr>\n",
       "      <th>8</th>\n",
       "      <td>221.131.165.86</td>\n",
       "      <td>2021-02-10 21:12:37</td>\n",
       "    </tr>\n",
       "    <tr>\n",
       "      <th>...</th>\n",
       "      <td>...</td>\n",
       "      <td>...</td>\n",
       "    </tr>\n",
       "    <tr>\n",
       "      <th>163453</th>\n",
       "      <td>106.54.74.188</td>\n",
       "      <td>2021-02-19 16:36:55</td>\n",
       "    </tr>\n",
       "    <tr>\n",
       "      <th>163455</th>\n",
       "      <td>64.225.53.31</td>\n",
       "      <td>2021-02-19 16:37:14</td>\n",
       "    </tr>\n",
       "    <tr>\n",
       "      <th>163457</th>\n",
       "      <td>13.66.131.233</td>\n",
       "      <td>2021-02-19 16:37:32</td>\n",
       "    </tr>\n",
       "    <tr>\n",
       "      <th>163459</th>\n",
       "      <td>176.109.0.30</td>\n",
       "      <td>2021-02-19 16:38:49</td>\n",
       "    </tr>\n",
       "    <tr>\n",
       "      <th>163461</th>\n",
       "      <td>119.45.43.139</td>\n",
       "      <td>2021-02-19 16:39:09</td>\n",
       "    </tr>\n",
       "  </tbody>\n",
       "</table>\n",
       "<p>85372 rows × 2 columns</p>\n",
       "</div>"
      ],
      "text/plain": [
       "                    ip                  dt\n",
       "1       221.131.165.86 2021-02-10 21:12:24\n",
       "2       221.131.165.86 2021-02-10 21:12:28\n",
       "3       221.131.165.86 2021-02-10 21:12:32\n",
       "7         54.38.180.93 2021-02-10 21:12:36\n",
       "8       221.131.165.86 2021-02-10 21:12:37\n",
       "...                ...                 ...\n",
       "163453   106.54.74.188 2021-02-19 16:36:55\n",
       "163455    64.225.53.31 2021-02-19 16:37:14\n",
       "163457   13.66.131.233 2021-02-19 16:37:32\n",
       "163459    176.109.0.30 2021-02-19 16:38:49\n",
       "163461   119.45.43.139 2021-02-19 16:39:09\n",
       "\n",
       "[85372 rows x 2 columns]"
      ]
     },
     "execution_count": 46,
     "metadata": {},
     "output_type": "execute_result"
    }
   ],
   "source": [
    "df[df['attack'] == 'password'][['ip','dt']]"
   ]
  },
  {
   "cell_type": "code",
   "execution_count": 66,
   "id": "nutritional-beast",
   "metadata": {},
   "outputs": [],
   "source": [
    "attacker80 = df[df['ip'] == '80.249.131.9'][['ip','dt', 'one']]"
   ]
  },
  {
   "cell_type": "code",
   "execution_count": 67,
   "id": "bizarre-progressive",
   "metadata": {},
   "outputs": [
    {
     "data": {
      "text/html": [
       "<div>\n",
       "<style scoped>\n",
       "    .dataframe tbody tr th:only-of-type {\n",
       "        vertical-align: middle;\n",
       "    }\n",
       "\n",
       "    .dataframe tbody tr th {\n",
       "        vertical-align: top;\n",
       "    }\n",
       "\n",
       "    .dataframe thead th {\n",
       "        text-align: right;\n",
       "    }\n",
       "</style>\n",
       "<table border=\"1\" class=\"dataframe\">\n",
       "  <thead>\n",
       "    <tr style=\"text-align: right;\">\n",
       "      <th></th>\n",
       "      <th>ip</th>\n",
       "      <th>dt</th>\n",
       "      <th>one</th>\n",
       "    </tr>\n",
       "  </thead>\n",
       "  <tbody>\n",
       "    <tr>\n",
       "      <th>26566</th>\n",
       "      <td>80.249.131.9</td>\n",
       "      <td>2021-02-12 16:43:58</td>\n",
       "      <td>1</td>\n",
       "    </tr>\n",
       "    <tr>\n",
       "      <th>26568</th>\n",
       "      <td>80.249.131.9</td>\n",
       "      <td>2021-02-12 16:44:02</td>\n",
       "      <td>1</td>\n",
       "    </tr>\n",
       "    <tr>\n",
       "      <th>26572</th>\n",
       "      <td>80.249.131.9</td>\n",
       "      <td>2021-02-12 16:44:12</td>\n",
       "      <td>1</td>\n",
       "    </tr>\n",
       "    <tr>\n",
       "      <th>26574</th>\n",
       "      <td>80.249.131.9</td>\n",
       "      <td>2021-02-12 16:44:17</td>\n",
       "      <td>1</td>\n",
       "    </tr>\n",
       "    <tr>\n",
       "      <th>26576</th>\n",
       "      <td>80.249.131.9</td>\n",
       "      <td>2021-02-12 16:44:21</td>\n",
       "      <td>1</td>\n",
       "    </tr>\n",
       "    <tr>\n",
       "      <th>...</th>\n",
       "      <td>...</td>\n",
       "      <td>...</td>\n",
       "      <td>...</td>\n",
       "    </tr>\n",
       "    <tr>\n",
       "      <th>162162</th>\n",
       "      <td>80.249.131.9</td>\n",
       "      <td>2021-02-19 13:52:05</td>\n",
       "      <td>1</td>\n",
       "    </tr>\n",
       "    <tr>\n",
       "      <th>162166</th>\n",
       "      <td>80.249.131.9</td>\n",
       "      <td>2021-02-19 13:52:14</td>\n",
       "      <td>1</td>\n",
       "    </tr>\n",
       "    <tr>\n",
       "      <th>162170</th>\n",
       "      <td>80.249.131.9</td>\n",
       "      <td>2021-02-19 13:52:23</td>\n",
       "      <td>1</td>\n",
       "    </tr>\n",
       "    <tr>\n",
       "      <th>162172</th>\n",
       "      <td>80.249.131.9</td>\n",
       "      <td>2021-02-19 13:52:31</td>\n",
       "      <td>1</td>\n",
       "    </tr>\n",
       "    <tr>\n",
       "      <th>162174</th>\n",
       "      <td>80.249.131.9</td>\n",
       "      <td>2021-02-19 13:52:41</td>\n",
       "      <td>1</td>\n",
       "    </tr>\n",
       "  </tbody>\n",
       "</table>\n",
       "<p>8870 rows × 3 columns</p>\n",
       "</div>"
      ],
      "text/plain": [
       "                  ip                  dt  one\n",
       "26566   80.249.131.9 2021-02-12 16:43:58    1\n",
       "26568   80.249.131.9 2021-02-12 16:44:02    1\n",
       "26572   80.249.131.9 2021-02-12 16:44:12    1\n",
       "26574   80.249.131.9 2021-02-12 16:44:17    1\n",
       "26576   80.249.131.9 2021-02-12 16:44:21    1\n",
       "...              ...                 ...  ...\n",
       "162162  80.249.131.9 2021-02-19 13:52:05    1\n",
       "162166  80.249.131.9 2021-02-19 13:52:14    1\n",
       "162170  80.249.131.9 2021-02-19 13:52:23    1\n",
       "162172  80.249.131.9 2021-02-19 13:52:31    1\n",
       "162174  80.249.131.9 2021-02-19 13:52:41    1\n",
       "\n",
       "[8870 rows x 3 columns]"
      ]
     },
     "execution_count": 67,
     "metadata": {},
     "output_type": "execute_result"
    }
   ],
   "source": [
    "attacker80"
   ]
  },
  {
   "cell_type": "code",
   "execution_count": 63,
   "id": "liquid-condition",
   "metadata": {},
   "outputs": [
    {
     "data": {
      "text/plain": [
       "26566    2021-02-12 16:43:58\n",
       "26568    2021-02-12 16:44:02\n",
       "26572    2021-02-12 16:44:12\n",
       "26574    2021-02-12 16:44:17\n",
       "26576    2021-02-12 16:44:21\n",
       "                 ...        \n",
       "162162   2021-02-19 13:52:05\n",
       "162166   2021-02-19 13:52:14\n",
       "162170   2021-02-19 13:52:23\n",
       "162172   2021-02-19 13:52:31\n",
       "162174   2021-02-19 13:52:41\n",
       "Name: dt, Length: 8870, dtype: datetime64[ns]"
      ]
     },
     "execution_count": 63,
     "metadata": {},
     "output_type": "execute_result"
    }
   ],
   "source": [
    "attacker80['dt']"
   ]
  },
  {
   "cell_type": "code",
   "execution_count": 64,
   "id": "composite-granny",
   "metadata": {},
   "outputs": [],
   "source": [
    "import seaborn as sns\n",
    "# Use seaborn style defaults and set the default figure size\n",
    "sns.set(rc={'figure.figsize':(11, 4)})"
   ]
  },
  {
   "cell_type": "code",
   "execution_count": 72,
   "id": "confirmed-typing",
   "metadata": {},
   "outputs": [
    {
     "data": {
      "text/plain": [
       "<AxesSubplot:>"
      ]
     },
     "execution_count": 72,
     "metadata": {},
     "output_type": "execute_result"
    },
    {
     "data": {
      "image/png": "[encoded data removed]",
      "text/plain": [
       "<Figure size 792x288 with 1 Axes>"
      ]
     },
     "metadata": {},
     "output_type": "display_data"
    }
   ],
   "source": [
    "attacker80.plot(style='k.')"
   ]
  },
  {
   "cell_type": "code",
   "execution_count": null,
   "id": "center-visibility",
   "metadata": {},
   "outputs": [],
   "source": []
  }
 ],
 "metadata": {
  "kernelspec": {
   "display_name": "Python 3",
   "language": "python",
   "name": "python3"
  },
  "language_info": {
   "codemirror_mode": {
    "name": "ipython",
    "version": 3
   },
   "file_extension": ".py",
   "mimetype": "text/x-python",
   "name": "python",
   "nbconvert_exporter": "python",
   "pygments_lexer": "ipython3",
   "version": "3.8.5"
  }
 },
 "nbformat": 4,
 "nbformat_minor": 5
}
