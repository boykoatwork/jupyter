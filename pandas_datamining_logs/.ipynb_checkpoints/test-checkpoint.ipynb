{
 "cells": [
  {
   "cell_type": "code",
   "execution_count": 1,
   "id": "d218fc40-789c-4e70-9fa8-32405a814703",
   "metadata": {},
   "outputs": [],
   "source": [
    "import random"
   ]
  },
  {
   "cell_type": "code",
   "execution_count": 4,
   "id": "81123718-2dd1-4bae-92cb-2046e5692e4c",
   "metadata": {},
   "outputs": [],
   "source": [
    "r = random.random()\n",
    "k = random.randint(1,100)"
   ]
  },
  {
   "cell_type": "code",
   "execution_count": 7,
   "id": "bddc84fd-f18c-4f45-8e0e-ca7279b9d7ca",
   "metadata": {},
   "outputs": [
    {
     "name": "stdout",
     "output_type": "stream",
     "text": [
      "0.21646669081419\n",
      "31\n"
     ]
    }
   ],
   "source": [
    "print(r)\n",
    "print(k)"
   ]
  },
  {
   "cell_type": "markdown",
   "id": "534c25e8-fb3e-42b1-8ba6-cbb9040266c1",
   "metadata": {},
   "source": [
    "# это первый раздел"
   ]
  },
  {
   "cell_type": "markdown",
   "id": "992d61f2-c977-4961-920f-52fd0e346aab",
   "metadata": {},
   "source": [
    "## это второй раздел\n",
    "\n",
    "![а это - картинка](./temp_and_water.png)"
   ]
  },
  {
   "cell_type": "code",
   "execution_count": null,
   "id": "7ea2dd79-c5a1-4ca0-a059-86501c12e930",
   "metadata": {},
   "outputs": [],
   "source": []
  }
 ],
 "metadata": {
  "kernelspec": {
   "display_name": "Python 3 (ipykernel)",
   "language": "python",
   "name": "python3"
  },
  "language_info": {
   "codemirror_mode": {
    "name": "ipython",
    "version": 3
   },
   "file_extension": ".py",
   "mimetype": "text/x-python",
   "name": "python",
   "nbconvert_exporter": "python",
   "pygments_lexer": "ipython3",
   "version": "3.9.2"
  }
 },
 "nbformat": 4,
 "nbformat_minor": 5
}
