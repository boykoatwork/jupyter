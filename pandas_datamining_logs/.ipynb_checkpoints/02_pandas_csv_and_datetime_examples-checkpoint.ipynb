{
 "cells": [
  {
   "cell_type": "code",
   "execution_count": 5,
   "metadata": {},
   "outputs": [],
   "source": [
    "import pandas as pd"
   ]
  },
  {
   "cell_type": "code",
   "execution_count": 11,
   "metadata": {
    "collapsed": false,
    "jupyter": {
     "outputs_hidden": false
    }
   },
   "outputs": [
    {
     "data": {
      "text/html": [
       "<div>\n",
       "<style scoped>\n",
       "    .dataframe tbody tr th:only-of-type {\n",
       "        vertical-align: middle;\n",
       "    }\n",
       "\n",
       "    .dataframe tbody tr th {\n",
       "        vertical-align: top;\n",
       "    }\n",
       "\n",
       "    .dataframe thead th {\n",
       "        text-align: right;\n",
       "    }\n",
       "</style>\n",
       "<table border=\"1\" class=\"dataframe\">\n",
       "  <thead>\n",
       "    <tr style=\"text-align: right;\">\n",
       "      <th></th>\n",
       "      <th>date</th>\n",
       "      <th>0</th>\n",
       "      <th>1</th>\n",
       "      <th>2</th>\n",
       "      <th>3</th>\n",
       "    </tr>\n",
       "  </thead>\n",
       "  <tbody>\n",
       "    <tr>\n",
       "      <th>0</th>\n",
       "      <td>2000-01-01 00:00:00</td>\n",
       "      <td>-1.033231</td>\n",
       "      <td>0.814219</td>\n",
       "      <td>-0.370186</td>\n",
       "      <td>2.559284</td>\n",
       "    </tr>\n",
       "    <tr>\n",
       "      <th>1</th>\n",
       "      <td>2000-01-02 00:00:00</td>\n",
       "      <td>2.129308</td>\n",
       "      <td>-1.333952</td>\n",
       "      <td>2.008477</td>\n",
       "      <td>2.579610</td>\n",
       "    </tr>\n",
       "    <tr>\n",
       "      <th>2</th>\n",
       "      <td>2000-01-03 00:00:00</td>\n",
       "      <td>-1.908736</td>\n",
       "      <td>-1.163113</td>\n",
       "      <td>-1.898449</td>\n",
       "      <td>0.995442</td>\n",
       "    </tr>\n",
       "    <tr>\n",
       "      <th>3</th>\n",
       "      <td>2000-01-04 00:00:00</td>\n",
       "      <td>1.902614</td>\n",
       "      <td>-1.096234</td>\n",
       "      <td>-1.321772</td>\n",
       "      <td>-0.875516</td>\n",
       "    </tr>\n",
       "    <tr>\n",
       "      <th>4</th>\n",
       "      <td>2000-01-05 00:00:00</td>\n",
       "      <td>-1.899291</td>\n",
       "      <td>-1.269435</td>\n",
       "      <td>-1.007952</td>\n",
       "      <td>1.528732</td>\n",
       "    </tr>\n",
       "    <tr>\n",
       "      <th>5</th>\n",
       "      <td>2000-01-06 00:00:00</td>\n",
       "      <td>-0.713043</td>\n",
       "      <td>0.991187</td>\n",
       "      <td>-0.406186</td>\n",
       "      <td>-1.882722</td>\n",
       "    </tr>\n",
       "    <tr>\n",
       "      <th>6</th>\n",
       "      <td>2000-01-07 00:00:00</td>\n",
       "      <td>-0.849390</td>\n",
       "      <td>-1.710978</td>\n",
       "      <td>0.229784</td>\n",
       "      <td>2.164465</td>\n",
       "    </tr>\n",
       "    <tr>\n",
       "      <th>7</th>\n",
       "      <td>2000-01-08 00:00:00</td>\n",
       "      <td>2.117591</td>\n",
       "      <td>-1.458307</td>\n",
       "      <td>-1.971114</td>\n",
       "      <td>-1.479821</td>\n",
       "    </tr>\n",
       "    <tr>\n",
       "      <th>8</th>\n",
       "      <td>2000-01-09 00:00:00</td>\n",
       "      <td>2.805074</td>\n",
       "      <td>-1.310971</td>\n",
       "      <td>-0.805346</td>\n",
       "      <td>0.879001</td>\n",
       "    </tr>\n",
       "    <tr>\n",
       "      <th>9</th>\n",
       "      <td>2000-01-10 00:00:00</td>\n",
       "      <td>-0.984529</td>\n",
       "      <td>0.474850</td>\n",
       "      <td>-1.331920</td>\n",
       "      <td>-0.220135</td>\n",
       "    </tr>\n",
       "  </tbody>\n",
       "</table>\n",
       "</div>"
      ],
      "text/plain": [
       "                  date         0         1         2         3\n",
       "0  2000-01-01 00:00:00 -1.033231  0.814219 -0.370186  2.559284\n",
       "1  2000-01-02 00:00:00  2.129308 -1.333952  2.008477  2.579610\n",
       "2  2000-01-03 00:00:00 -1.908736 -1.163113 -1.898449  0.995442\n",
       "3  2000-01-04 00:00:00  1.902614 -1.096234 -1.321772 -0.875516\n",
       "4  2000-01-05 00:00:00 -1.899291 -1.269435 -1.007952  1.528732\n",
       "5  2000-01-06 00:00:00 -0.713043  0.991187 -0.406186 -1.882722\n",
       "6  2000-01-07 00:00:00 -0.849390 -1.710978  0.229784  2.164465\n",
       "7  2000-01-08 00:00:00  2.117591 -1.458307 -1.971114 -1.479821\n",
       "8  2000-01-09 00:00:00  2.805074 -1.310971 -0.805346  0.879001\n",
       "9  2000-01-10 00:00:00 -0.984529  0.474850 -1.331920 -0.220135"
      ]
     },
     "execution_count": 11,
     "metadata": {},
     "output_type": "execute_result"
    }
   ],
   "source": [
    "t = pd.read_csv('data1.csv')\n",
    "t"
   ]
  },
  {
   "cell_type": "code",
   "execution_count": 7,
   "metadata": {
    "collapsed": false,
    "jupyter": {
     "outputs_hidden": false
    }
   },
   "outputs": [
    {
     "data": {
      "text/plain": [
       "Index(['date', ' 0', ' 1', ' 2', ' z', ' time', 'Unnamed: 6'], dtype='object')"
      ]
     },
     "execution_count": 7,
     "metadata": {},
     "output_type": "execute_result"
    }
   ],
   "source": [
    "t.columns"
   ]
  },
  {
   "cell_type": "code",
   "execution_count": 8,
   "metadata": {
    "collapsed": false,
    "jupyter": {
     "outputs_hidden": false
    }
   },
   "outputs": [
    {
     "data": {
      "text/plain": [
       "' 0'"
      ]
     },
     "execution_count": 8,
     "metadata": {},
     "output_type": "execute_result"
    }
   ],
   "source": [
    "t.columns[1]"
   ]
  },
  {
   "cell_type": "code",
   "execution_count": 9,
   "metadata": {
    "collapsed": false,
    "jupyter": {
     "outputs_hidden": false
    }
   },
   "outputs": [
    {
     "data": {
      "text/plain": [
       "0     00:00:00\n",
       "1     00:00:00\n",
       "2     00:00:00\n",
       "3     00:00:00\n",
       "4     00:00:00\n",
       "5     00:00:00\n",
       "6     00:00:00\n",
       "7     00:00:00\n",
       "8     00:00:00\n",
       "9     00:00:00\n",
       "Name:  time, dtype: object"
      ]
     },
     "execution_count": 9,
     "metadata": {},
     "output_type": "execute_result"
    }
   ],
   "source": [
    "t[t.columns[5]]"
   ]
  },
  {
   "cell_type": "markdown",
   "metadata": {},
   "source": [
    "<http://chrisalbon.com/python/pandas_dataframe_importing_csv.html>"
   ]
  },
  {
   "cell_type": "code",
   "execution_count": 10,
   "metadata": {
    "collapsed": false,
    "jupyter": {
     "outputs_hidden": false
    }
   },
   "outputs": [
    {
     "data": {
      "text/html": [
       "<div>\n",
       "<style scoped>\n",
       "    .dataframe tbody tr th:only-of-type {\n",
       "        vertical-align: middle;\n",
       "    }\n",
       "\n",
       "    .dataframe tbody tr th {\n",
       "        vertical-align: top;\n",
       "    }\n",
       "\n",
       "    .dataframe thead th {\n",
       "        text-align: right;\n",
       "    }\n",
       "</style>\n",
       "<table border=\"1\" class=\"dataframe\">\n",
       "  <thead>\n",
       "    <tr style=\"text-align: right;\">\n",
       "      <th></th>\n",
       "      <th>0_5</th>\n",
       "      <th>1</th>\n",
       "      <th>2</th>\n",
       "      <th>3</th>\n",
       "      <th>4</th>\n",
       "      <th>6</th>\n",
       "    </tr>\n",
       "  </thead>\n",
       "  <tbody>\n",
       "    <tr>\n",
       "      <th>0</th>\n",
       "      <td>date  time</td>\n",
       "      <td>0.000000</td>\n",
       "      <td>1.000000</td>\n",
       "      <td>2.000000</td>\n",
       "      <td>z</td>\n",
       "      <td>NaN</td>\n",
       "    </tr>\n",
       "    <tr>\n",
       "      <th>1</th>\n",
       "      <td>2000-01-01  00:00:00</td>\n",
       "      <td>-1.497153</td>\n",
       "      <td>-1.779128</td>\n",
       "      <td>0.141012</td>\n",
       "      <td>0.6554314974</td>\n",
       "      <td>NaN</td>\n",
       "    </tr>\n",
       "    <tr>\n",
       "      <th>2</th>\n",
       "      <td>2000-01-02  00:00:00</td>\n",
       "      <td>-0.081725</td>\n",
       "      <td>2.078358</td>\n",
       "      <td>0.081390</td>\n",
       "      <td>1.6370595777</td>\n",
       "      <td>NaN</td>\n",
       "    </tr>\n",
       "    <tr>\n",
       "      <th>3</th>\n",
       "      <td>2000-01-03  00:00:00</td>\n",
       "      <td>2.872043</td>\n",
       "      <td>-0.415910</td>\n",
       "      <td>-0.771129</td>\n",
       "      <td>-1.9849582555</td>\n",
       "      <td>NaN</td>\n",
       "    </tr>\n",
       "    <tr>\n",
       "      <th>4</th>\n",
       "      <td>2000-01-04  00:00:00</td>\n",
       "      <td>0.493605</td>\n",
       "      <td>-0.656474</td>\n",
       "      <td>-1.090553</td>\n",
       "      <td>0.5223285409</td>\n",
       "      <td>NaN</td>\n",
       "    </tr>\n",
       "    <tr>\n",
       "      <th>5</th>\n",
       "      <td>2000-01-05  00:00:00</td>\n",
       "      <td>-0.601121</td>\n",
       "      <td>1.617966</td>\n",
       "      <td>-1.394013</td>\n",
       "      <td>-1.7362410178</td>\n",
       "      <td>NaN</td>\n",
       "    </tr>\n",
       "    <tr>\n",
       "      <th>6</th>\n",
       "      <td>2000-01-06  00:00:00</td>\n",
       "      <td>-1.783028</td>\n",
       "      <td>2.939213</td>\n",
       "      <td>-1.201543</td>\n",
       "      <td>-0.7349965011</td>\n",
       "      <td>NaN</td>\n",
       "    </tr>\n",
       "    <tr>\n",
       "      <th>7</th>\n",
       "      <td>2000-01-07  00:00:00</td>\n",
       "      <td>2.427145</td>\n",
       "      <td>-0.243278</td>\n",
       "      <td>-0.935969</td>\n",
       "      <td>1.9682056904</td>\n",
       "      <td>NaN</td>\n",
       "    </tr>\n",
       "    <tr>\n",
       "      <th>8</th>\n",
       "      <td>2000-01-08  00:00:00</td>\n",
       "      <td>0.527173</td>\n",
       "      <td>1.024933</td>\n",
       "      <td>0.411320</td>\n",
       "      <td>-0.4402508092</td>\n",
       "      <td>NaN</td>\n",
       "    </tr>\n",
       "    <tr>\n",
       "      <th>9</th>\n",
       "      <td>2000-01-09  00:00:00</td>\n",
       "      <td>-1.840033</td>\n",
       "      <td>-0.436751</td>\n",
       "      <td>-1.679627</td>\n",
       "      <td>1.8857879831</td>\n",
       "      <td>NaN</td>\n",
       "    </tr>\n",
       "    <tr>\n",
       "      <th>10</th>\n",
       "      <td>2000-01-10  00:00:00</td>\n",
       "      <td>1.934762</td>\n",
       "      <td>0.890132</td>\n",
       "      <td>0.080114</td>\n",
       "      <td>-1.8977816635</td>\n",
       "      <td>NaN</td>\n",
       "    </tr>\n",
       "  </tbody>\n",
       "</table>\n",
       "</div>"
      ],
      "text/plain": [
       "                     0_5         1         2         3               4   6\n",
       "0             date  time  0.000000  1.000000  2.000000               z NaN\n",
       "1   2000-01-01  00:00:00 -1.497153 -1.779128  0.141012    0.6554314974 NaN\n",
       "2   2000-01-02  00:00:00 -0.081725  2.078358  0.081390    1.6370595777 NaN\n",
       "3   2000-01-03  00:00:00  2.872043 -0.415910 -0.771129   -1.9849582555 NaN\n",
       "4   2000-01-04  00:00:00  0.493605 -0.656474 -1.090553    0.5223285409 NaN\n",
       "5   2000-01-05  00:00:00 -0.601121  1.617966 -1.394013   -1.7362410178 NaN\n",
       "6   2000-01-06  00:00:00 -1.783028  2.939213 -1.201543   -0.7349965011 NaN\n",
       "7   2000-01-07  00:00:00  2.427145 -0.243278 -0.935969    1.9682056904 NaN\n",
       "8   2000-01-08  00:00:00  0.527173  1.024933  0.411320   -0.4402508092 NaN\n",
       "9   2000-01-09  00:00:00 -1.840033 -0.436751 -1.679627    1.8857879831 NaN\n",
       "10  2000-01-10  00:00:00  1.934762  0.890132  0.080114   -1.8977816635 NaN"
      ]
     },
     "execution_count": 10,
     "metadata": {},
     "output_type": "execute_result"
    }
   ],
   "source": [
    "t1 = pd.read_csv('test2.csv',header=None,parse_dates=[[0,5]])\n",
    "t1"
   ]
  },
  {
   "cell_type": "code",
   "execution_count": null,
   "metadata": {
    "collapsed": true,
    "jupyter": {
     "outputs_hidden": true
    }
   },
   "outputs": [],
   "source": []
  },
  {
   "cell_type": "code",
   "execution_count": null,
   "metadata": {},
   "outputs": [],
   "source": []
  }
 ],
 "metadata": {
  "kernelspec": {
   "display_name": "Python 3 (ipykernel)",
   "language": "python",
   "name": "python3"
  },
  "language_info": {
   "codemirror_mode": {
    "name": "ipython",
    "version": 3
   },
   "file_extension": ".py",
   "mimetype": "text/x-python",
   "name": "python",
   "nbconvert_exporter": "python",
   "pygments_lexer": "ipython3",
   "version": "3.9.2"
  }
 },
 "nbformat": 4,
 "nbformat_minor": 4
}
