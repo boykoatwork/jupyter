{
 "cells": [
  {
   "cell_type": "markdown",
   "metadata": {},
   "source": [
    "pandas\n",
    "\n",
    "Еще один тутриал по временным сериям:\n",
    "https://www.youtube.com/watch?v=0unf-C-pBYE\n",
    "\n",
    "For future generations, the lecture starts around 10:30 :)\n",
    "\n",
    "Wes McKinney\n",
    "\n",
    "https://github.com/estimate/pandas-exercises"
   ]
  },
  {
   "cell_type": "markdown",
   "metadata": {},
   "source": [
    "Краткое содержание:\n",
    "\n",
    "- серии\n",
    "- датафреймы\n",
    "- операции с датафреймами\n",
    "- фильтрация датафреймов по условию\n",
    "- csvreader"
   ]
  },
  {
   "cell_type": "markdown",
   "metadata": {},
   "source": [
    "## Подготовка"
   ]
  },
  {
   "cell_type": "code",
   "execution_count": 1,
   "metadata": {
    "collapsed": false,
    "jupyter": {
     "outputs_hidden": false
    }
   },
   "outputs": [
    {
     "name": "stdout",
     "output_type": "stream",
     "text": [
      "Populating the interactive namespace from numpy and matplotlib\n"
     ]
    }
   ],
   "source": [
    "%pylab inline"
   ]
  },
  {
   "cell_type": "code",
   "execution_count": 2,
   "metadata": {
    "collapsed": false,
    "jupyter": {
     "outputs_hidden": false
    }
   },
   "outputs": [],
   "source": [
    "import numpy as np\n",
    "from pandas import Series, DataFrame\n",
    "import pandas as pd"
   ]
  },
  {
   "cell_type": "code",
   "execution_count": 4,
   "metadata": {
    "collapsed": false,
    "jupyter": {
     "outputs_hidden": false
    }
   },
   "outputs": [
    {
     "data": {
      "text/plain": [
       "[<matplotlib.lines.Line2D at 0x7fca1cfecda0>]"
      ]
     },
     "execution_count": 4,
     "metadata": {},
     "output_type": "execute_result"
    },
    {
     "data": {
      "image/png": "[encoded data removed]",
      "text/plain": [
       "<Figure size 720x432 with 1 Axes>"
      ]
     },
     "metadata": {
      "needs_background": "light"
     },
     "output_type": "display_data"
    }
   ],
   "source": [
    "import matplotlib.pyplot as plt\n",
    "\n",
    "def side_by_side(*objs, **kwds):\n",
    "    from pandas.core.common import adjoin\n",
    "    space = kwds.get('space', 4)\n",
    "    reprs = [repr(obj).split('\\n') for obj in objs]\n",
    "    print(adjoin(space, *reprs))\n",
    "\n",
    "plt.rc('figure', figsize=(10, 6))\n",
    "plot(arange(10))"
   ]
  },
  {
   "cell_type": "markdown",
   "metadata": {},
   "source": [
    "## Серии"
   ]
  },
  {
   "cell_type": "code",
   "execution_count": 5,
   "metadata": {
    "collapsed": false,
    "jupyter": {
     "outputs_hidden": false
    }
   },
   "outputs": [
    {
     "data": {
      "text/plain": [
       "array([0, 1, 2, 3, 4])"
      ]
     },
     "execution_count": 5,
     "metadata": {},
     "output_type": "execute_result"
    }
   ],
   "source": [
    "np.arange(5)"
   ]
  },
  {
   "cell_type": "code",
   "execution_count": 6,
   "metadata": {
    "tags": []
   },
   "outputs": [],
   "source": [
    "index = ['a','b','c','d','e']\n"
   ]
  },
  {
   "cell_type": "code",
   "execution_count": 7,
   "metadata": {
    "collapsed": false,
    "jupyter": {
     "outputs_hidden": false
    }
   },
   "outputs": [
    {
     "data": {
      "text/plain": [
       "a    0\n",
       "b    1\n",
       "c    2\n",
       "d    3\n",
       "e    4\n",
       "dtype: int64"
      ]
     },
     "execution_count": 7,
     "metadata": {},
     "output_type": "execute_result"
    }
   ],
   "source": [
    "s = Series(np.arange(5),index=index) # привязываем таблицу данных к заголовкам\n",
    "s"
   ]
  },
  {
   "cell_type": "markdown",
   "metadata": {},
   "source": [
    "Ну, предположим, понятно. Хороший способ связать данные и заголовки (хотя пока непонятно, чем этот способ лучше словаря)."
   ]
  },
  {
   "cell_type": "code",
   "execution_count": 8,
   "metadata": {
    "collapsed": false,
    "jupyter": {
     "outputs_hidden": false
    }
   },
   "outputs": [
    {
     "data": {
      "text/plain": [
       "array([0, 1, 2, 3, 4])"
      ]
     },
     "execution_count": 8,
     "metadata": {},
     "output_type": "execute_result"
    }
   ],
   "source": [
    "s.values # то есть можно посмотреть величины"
   ]
  },
  {
   "cell_type": "code",
   "execution_count": 9,
   "metadata": {
    "collapsed": false,
    "jupyter": {
     "outputs_hidden": false
    }
   },
   "outputs": [
    {
     "data": {
      "text/plain": [
       "Index(['a', 'b', 'c', 'd', 'e'], dtype='object')"
      ]
     },
     "execution_count": 9,
     "metadata": {},
     "output_type": "execute_result"
    }
   ],
   "source": [
    "s.index # и посмотреть заголовки"
   ]
  },
  {
   "cell_type": "code",
   "execution_count": 10,
   "metadata": {
    "collapsed": false,
    "jupyter": {
     "outputs_hidden": false
    }
   },
   "outputs": [
    {
     "data": {
      "text/plain": [
       "a    0\n",
       "b    1\n",
       "c    2\n",
       "dtype: int64"
      ]
     },
     "execution_count": 10,
     "metadata": {},
     "output_type": "execute_result"
    }
   ],
   "source": [
    "s[:3]  # если структура меняется - заголовки остаются привязанными к структуре"
   ]
  },
  {
   "cell_type": "code",
   "execution_count": 11,
   "metadata": {
    "collapsed": false,
    "jupyter": {
     "outputs_hidden": false
    }
   },
   "outputs": [
    {
     "data": {
      "text/plain": [
       "1"
      ]
     },
     "execution_count": 11,
     "metadata": {},
     "output_type": "execute_result"
    }
   ],
   "source": [
    "s['b'] # можно ссылаться на данные по их заголовкам. ну да. такой продвинутый словарь++ получается"
   ]
  },
  {
   "cell_type": "code",
   "execution_count": 12,
   "metadata": {
    "collapsed": false,
    "jupyter": {
     "outputs_hidden": false
    }
   },
   "outputs": [
    {
     "data": {
      "text/plain": [
       "b    1\n",
       "c    2\n",
       "d    3\n",
       "e    4\n",
       "dtype: int64"
      ]
     },
     "execution_count": 12,
     "metadata": {},
     "output_type": "execute_result"
    }
   ],
   "source": [
    "s['b':]"
   ]
  },
  {
   "cell_type": "code",
   "execution_count": 13,
   "metadata": {
    "collapsed": false,
    "jupyter": {
     "outputs_hidden": false
    }
   },
   "outputs": [
    {
     "data": {
      "text/plain": [
       "b    1\n",
       "a    0\n",
       "c    2\n",
       "dtype: int64"
      ]
     },
     "execution_count": 13,
     "metadata": {},
     "output_type": "execute_result"
    }
   ],
   "source": [
    "s[[1,0,2]] # это фишка numpy - можно обратится прямо по индексам такой вот серией - типа второй, первый и третий элементы"
   ]
  },
  {
   "cell_type": "code",
   "execution_count": 14,
   "metadata": {
    "collapsed": false,
    "jupyter": {
     "outputs_hidden": false
    }
   },
   "outputs": [
    {
     "data": {
      "text/plain": [
       "b    1\n",
       "d    3\n",
       "e    4\n",
       "dtype: int64"
      ]
     },
     "execution_count": 14,
     "metadata": {},
     "output_type": "execute_result"
    }
   ],
   "source": [
    "s[['b','d','e']] # таже фишка, но по заголовкам данных"
   ]
  },
  {
   "cell_type": "markdown",
   "metadata": {},
   "source": [
    "## Датафреймы"
   ]
  },
  {
   "cell_type": "code",
   "execution_count": 15,
   "metadata": {
    "collapsed": false,
    "jupyter": {
     "outputs_hidden": false
    }
   },
   "outputs": [
    {
     "data": {
      "text/plain": [
       "DatetimeIndex(['2012-07-16', '2012-07-17', '2012-07-18', '2012-07-19',\n",
       "               '2012-07-20', '2012-07-21'],\n",
       "              dtype='datetime64[ns]', freq='D')"
      ]
     },
     "execution_count": 15,
     "metadata": {},
     "output_type": "execute_result"
    }
   ],
   "source": [
    "dates = pd.date_range('2012-07-16', '2012-07-21') # оооо! промежуток дат!\n",
    "dates # freq = 'D' - это частота дней полагаю"
   ]
  },
  {
   "cell_type": "code",
   "execution_count": 16,
   "metadata": {
    "collapsed": false,
    "jupyter": {
     "outputs_hidden": false
    }
   },
   "outputs": [
    {
     "data": {
      "text/plain": [
       "2012-07-16    101.5\n",
       "2012-07-17     98.0\n",
       "2012-07-18     95.0\n",
       "2012-07-19     99.0\n",
       "2012-07-20    100.0\n",
       "2012-07-21     92.0\n",
       "Freq: D, dtype: float64"
      ]
     },
     "execution_count": 16,
     "metadata": {},
     "output_type": "execute_result"
    }
   ],
   "source": [
    "atemps = Series([101.5, 98, 95, 99, 100, 92], index=dates) # огого. температуры по дням!\n",
    "atemps"
   ]
  },
  {
   "cell_type": "code",
   "execution_count": 17,
   "metadata": {
    "collapsed": false,
    "jupyter": {
     "outputs_hidden": false
    }
   },
   "outputs": [
    {
     "data": {
      "text/plain": [
       "DatetimeIndex(['2012-07-16', '2012-07-17', '2012-07-18', '2012-07-19',\n",
       "               '2012-07-20', '2012-07-21'],\n",
       "              dtype='datetime64[ns]', freq='D')"
      ]
     },
     "execution_count": 17,
     "metadata": {},
     "output_type": "execute_result"
    }
   ],
   "source": [
    "atemps.index"
   ]
  },
  {
   "cell_type": "code",
   "execution_count": 18,
   "metadata": {
    "collapsed": false,
    "jupyter": {
     "outputs_hidden": false
    }
   },
   "outputs": [
    {
     "data": {
      "text/plain": [
       "Timestamp('2012-07-18 00:00:00', freq='D')"
      ]
     },
     "execution_count": 18,
     "metadata": {},
     "output_type": "execute_result"
    }
   ],
   "source": [
    "atemps.index[2] # можно посмотреть на отдельный индекс - он возвращает... таймстамп"
   ]
  },
  {
   "cell_type": "code",
   "execution_count": 19,
   "metadata": {
    "collapsed": false,
    "jupyter": {
     "outputs_hidden": false
    }
   },
   "outputs": [
    {
     "data": {
      "text/plain": [
       "95.0"
      ]
     },
     "execution_count": 19,
     "metadata": {},
     "output_type": "execute_result"
    }
   ],
   "source": [
    "idx = atemps.index[2] # можно использовать idx для доступа к массиву данных\n",
    "atemps[idx]"
   ]
  },
  {
   "cell_type": "code",
   "execution_count": 20,
   "metadata": {
    "collapsed": false,
    "jupyter": {
     "outputs_hidden": false
    }
   },
   "outputs": [
    {
     "data": {
      "text/plain": [
       "2012-07-16    73\n",
       "2012-07-17    78\n",
       "2012-07-18    77\n",
       "2012-07-19    78\n",
       "2012-07-20    78\n",
       "2012-07-21    77\n",
       "Freq: D, dtype: int64"
      ]
     },
     "execution_count": 20,
     "metadata": {},
     "output_type": "execute_result"
    }
   ],
   "source": [
    "sdtemps = Series([73,78,77,78,78,77], index=dates) # для другого города\n",
    "sdtemps"
   ]
  },
  {
   "cell_type": "code",
   "execution_count": 21,
   "metadata": {
    "collapsed": false,
    "jupyter": {
     "outputs_hidden": false
    }
   },
   "outputs": [
    {
     "data": {
      "text/html": [
       "<div>\n",
       "<style scoped>\n",
       "    .dataframe tbody tr th:only-of-type {\n",
       "        vertical-align: middle;\n",
       "    }\n",
       "\n",
       "    .dataframe tbody tr th {\n",
       "        vertical-align: top;\n",
       "    }\n",
       "\n",
       "    .dataframe thead th {\n",
       "        text-align: right;\n",
       "    }\n",
       "</style>\n",
       "<table border=\"1\" class=\"dataframe\">\n",
       "  <thead>\n",
       "    <tr style=\"text-align: right;\">\n",
       "      <th></th>\n",
       "      <th>Austin</th>\n",
       "      <th>San Diego</th>\n",
       "    </tr>\n",
       "  </thead>\n",
       "  <tbody>\n",
       "    <tr>\n",
       "      <th>2012-07-16</th>\n",
       "      <td>101.5</td>\n",
       "      <td>73</td>\n",
       "    </tr>\n",
       "    <tr>\n",
       "      <th>2012-07-17</th>\n",
       "      <td>98.0</td>\n",
       "      <td>78</td>\n",
       "    </tr>\n",
       "    <tr>\n",
       "      <th>2012-07-18</th>\n",
       "      <td>95.0</td>\n",
       "      <td>77</td>\n",
       "    </tr>\n",
       "    <tr>\n",
       "      <th>2012-07-19</th>\n",
       "      <td>99.0</td>\n",
       "      <td>78</td>\n",
       "    </tr>\n",
       "    <tr>\n",
       "      <th>2012-07-20</th>\n",
       "      <td>100.0</td>\n",
       "      <td>78</td>\n",
       "    </tr>\n",
       "    <tr>\n",
       "      <th>2012-07-21</th>\n",
       "      <td>92.0</td>\n",
       "      <td>77</td>\n",
       "    </tr>\n",
       "  </tbody>\n",
       "</table>\n",
       "</div>"
      ],
      "text/plain": [
       "            Austin  San Diego\n",
       "2012-07-16   101.5         73\n",
       "2012-07-17    98.0         78\n",
       "2012-07-18    95.0         77\n",
       "2012-07-19    99.0         78\n",
       "2012-07-20   100.0         78\n",
       "2012-07-21    92.0         77"
      ]
     },
     "execution_count": 21,
     "metadata": {},
     "output_type": "execute_result"
    }
   ],
   "source": [
    "temps = DataFrame({'Austin':atemps, 'San Diego':sdtemps}) # двумерная таблица! температуры за период в Сан-Диего и Остине\n",
    "temps"
   ]
  },
  {
   "cell_type": "code",
   "execution_count": 22,
   "metadata": {
    "collapsed": false,
    "jupyter": {
     "outputs_hidden": false
    }
   },
   "outputs": [
    {
     "data": {
      "text/plain": [
       "DatetimeIndex(['2012-07-16', '2012-07-17', '2012-07-18', '2012-07-19',\n",
       "               '2012-07-20', '2012-07-21'],\n",
       "              dtype='datetime64[ns]', freq='D')"
      ]
     },
     "execution_count": 22,
     "metadata": {},
     "output_type": "execute_result"
    }
   ],
   "source": [
    "temps.index # есть свой индекс"
   ]
  },
  {
   "cell_type": "code",
   "execution_count": 23,
   "metadata": {
    "collapsed": false,
    "jupyter": {
     "outputs_hidden": false
    }
   },
   "outputs": [
    {
     "data": {
      "text/plain": [
       "Index(['Austin', 'San Diego'], dtype='object')"
      ]
     },
     "execution_count": 23,
     "metadata": {},
     "output_type": "execute_result"
    }
   ],
   "source": [
    "temps.columns # но есть и колонки :)"
   ]
  },
  {
   "cell_type": "code",
   "execution_count": 24,
   "metadata": {
    "collapsed": false,
    "jupyter": {
     "outputs_hidden": false
    }
   },
   "outputs": [
    {
     "data": {
      "text/plain": [
       "2012-07-16    101.5\n",
       "2012-07-17     98.0\n",
       "2012-07-18     95.0\n",
       "2012-07-19     99.0\n",
       "2012-07-20    100.0\n",
       "2012-07-21     92.0\n",
       "Freq: D, Name: Austin, dtype: float64"
      ]
     },
     "execution_count": 24,
     "metadata": {},
     "output_type": "execute_result"
    }
   ],
   "source": [
    "temps['Austin'] # кое в чем объект очень похож на словарь"
   ]
  },
  {
   "cell_type": "code",
   "execution_count": 25,
   "metadata": {
    "collapsed": false,
    "jupyter": {
     "outputs_hidden": false
    }
   },
   "outputs": [
    {
     "data": {
      "text/plain": [
       "2012-07-16    73\n",
       "2012-07-17    78\n",
       "2012-07-18    77\n",
       "2012-07-19    78\n",
       "2012-07-20    78\n",
       "2012-07-21    77\n",
       "Freq: D, Name: San Diego, dtype: int64"
      ]
     },
     "execution_count": 25,
     "metadata": {},
     "output_type": "execute_result"
    }
   ],
   "source": [
    "temps['San Diego']"
   ]
  },
  {
   "cell_type": "markdown",
   "metadata": {},
   "source": [
    "## Операции с датафреймами"
   ]
  },
  {
   "cell_type": "code",
   "execution_count": 26,
   "metadata": {
    "collapsed": false,
    "jupyter": {
     "outputs_hidden": false
    }
   },
   "outputs": [
    {
     "data": {
      "text/plain": [
       "2012-07-16    28.5\n",
       "2012-07-17    20.0\n",
       "2012-07-18    18.0\n",
       "2012-07-19    21.0\n",
       "2012-07-20    22.0\n",
       "2012-07-21    15.0\n",
       "Freq: D, dtype: float64"
      ]
     },
     "execution_count": 26,
     "metadata": {},
     "output_type": "execute_result"
    }
   ],
   "source": [
    "temps['Austin'] - temps['San Diego'] # можно сделать такое вычитание"
   ]
  },
  {
   "cell_type": "markdown",
   "metadata": {},
   "source": [
    "\n"
   ]
  },
  {
   "cell_type": "code",
   "execution_count": 28,
   "metadata": {
    "collapsed": false,
    "jupyter": {
     "outputs_hidden": false
    }
   },
   "outputs": [
    {
     "data": {
      "text/html": [
       "<div>\n",
       "<style scoped>\n",
       "    .dataframe tbody tr th:only-of-type {\n",
       "        vertical-align: middle;\n",
       "    }\n",
       "\n",
       "    .dataframe tbody tr th {\n",
       "        vertical-align: top;\n",
       "    }\n",
       "\n",
       "    .dataframe thead th {\n",
       "        text-align: right;\n",
       "    }\n",
       "</style>\n",
       "<table border=\"1\" class=\"dataframe\">\n",
       "  <thead>\n",
       "    <tr style=\"text-align: right;\">\n",
       "      <th></th>\n",
       "      <th>Austin</th>\n",
       "      <th>San Diego</th>\n",
       "      <th>Subdiff</th>\n",
       "    </tr>\n",
       "  </thead>\n",
       "  <tbody>\n",
       "    <tr>\n",
       "      <th>2012-07-16</th>\n",
       "      <td>101.5</td>\n",
       "      <td>73</td>\n",
       "      <td>28.5</td>\n",
       "    </tr>\n",
       "    <tr>\n",
       "      <th>2012-07-17</th>\n",
       "      <td>98.0</td>\n",
       "      <td>78</td>\n",
       "      <td>20.0</td>\n",
       "    </tr>\n",
       "    <tr>\n",
       "      <th>2012-07-18</th>\n",
       "      <td>95.0</td>\n",
       "      <td>77</td>\n",
       "      <td>18.0</td>\n",
       "    </tr>\n",
       "    <tr>\n",
       "      <th>2012-07-19</th>\n",
       "      <td>99.0</td>\n",
       "      <td>78</td>\n",
       "      <td>21.0</td>\n",
       "    </tr>\n",
       "    <tr>\n",
       "      <th>2012-07-20</th>\n",
       "      <td>100.0</td>\n",
       "      <td>78</td>\n",
       "      <td>22.0</td>\n",
       "    </tr>\n",
       "    <tr>\n",
       "      <th>2012-07-21</th>\n",
       "      <td>92.0</td>\n",
       "      <td>77</td>\n",
       "      <td>15.0</td>\n",
       "    </tr>\n",
       "  </tbody>\n",
       "</table>\n",
       "</div>"
      ],
      "text/plain": [
       "            Austin  San Diego  Subdiff\n",
       "2012-07-16   101.5         73     28.5\n",
       "2012-07-17    98.0         78     20.0\n",
       "2012-07-18    95.0         77     18.0\n",
       "2012-07-19    99.0         78     21.0\n",
       "2012-07-20   100.0         78     22.0\n",
       "2012-07-21    92.0         77     15.0"
      ]
     },
     "execution_count": 28,
     "metadata": {},
     "output_type": "execute_result"
    }
   ],
   "source": [
    "temps['Subdiff'] = temps['Austin'] - temps['San Diego'] # делаем новую колонку или статью в словаре :)\n",
    "temps"
   ]
  },
  {
   "cell_type": "code",
   "execution_count": 29,
   "metadata": {
    "tags": []
   },
   "outputs": [],
   "source": [
    "del temps['Subdiff']"
   ]
  },
  {
   "cell_type": "code",
   "execution_count": 30,
   "metadata": {
    "collapsed": false,
    "jupyter": {
     "outputs_hidden": false
    }
   },
   "outputs": [
    {
     "data": {
      "text/html": [
       "<div>\n",
       "<style scoped>\n",
       "    .dataframe tbody tr th:only-of-type {\n",
       "        vertical-align: middle;\n",
       "    }\n",
       "\n",
       "    .dataframe tbody tr th {\n",
       "        vertical-align: top;\n",
       "    }\n",
       "\n",
       "    .dataframe thead th {\n",
       "        text-align: right;\n",
       "    }\n",
       "</style>\n",
       "<table border=\"1\" class=\"dataframe\">\n",
       "  <thead>\n",
       "    <tr style=\"text-align: right;\">\n",
       "      <th></th>\n",
       "      <th>Austin</th>\n",
       "      <th>San Diego</th>\n",
       "    </tr>\n",
       "  </thead>\n",
       "  <tbody>\n",
       "    <tr>\n",
       "      <th>2012-07-16</th>\n",
       "      <td>101.5</td>\n",
       "      <td>73</td>\n",
       "    </tr>\n",
       "    <tr>\n",
       "      <th>2012-07-17</th>\n",
       "      <td>98.0</td>\n",
       "      <td>78</td>\n",
       "    </tr>\n",
       "    <tr>\n",
       "      <th>2012-07-18</th>\n",
       "      <td>95.0</td>\n",
       "      <td>77</td>\n",
       "    </tr>\n",
       "    <tr>\n",
       "      <th>2012-07-19</th>\n",
       "      <td>99.0</td>\n",
       "      <td>78</td>\n",
       "    </tr>\n",
       "    <tr>\n",
       "      <th>2012-07-20</th>\n",
       "      <td>100.0</td>\n",
       "      <td>78</td>\n",
       "    </tr>\n",
       "    <tr>\n",
       "      <th>2012-07-21</th>\n",
       "      <td>92.0</td>\n",
       "      <td>77</td>\n",
       "    </tr>\n",
       "  </tbody>\n",
       "</table>\n",
       "</div>"
      ],
      "text/plain": [
       "            Austin  San Diego\n",
       "2012-07-16   101.5         73\n",
       "2012-07-17    98.0         78\n",
       "2012-07-18    95.0         77\n",
       "2012-07-19    99.0         78\n",
       "2012-07-20   100.0         78\n",
       "2012-07-21    92.0         77"
      ]
     },
     "execution_count": 30,
     "metadata": {},
     "output_type": "execute_result"
    }
   ],
   "source": [
    "temps"
   ]
  },
  {
   "cell_type": "code",
   "execution_count": 31,
   "metadata": {
    "collapsed": false,
    "jupyter": {
     "outputs_hidden": false
    }
   },
   "outputs": [
    {
     "data": {
      "text/plain": [
       "2012-07-16    101.5\n",
       "2012-07-17     98.0\n",
       "2012-07-18     95.0\n",
       "2012-07-19     99.0\n",
       "2012-07-20    100.0\n",
       "2012-07-21     92.0\n",
       "Freq: D, Name: Austin, dtype: float64"
      ]
     },
     "execution_count": 31,
     "metadata": {},
     "output_type": "execute_result"
    }
   ],
   "source": [
    "temps.Austin # можно вызывать не только как словарь, но и как объект"
   ]
  },
  {
   "cell_type": "code",
   "execution_count": 35,
   "metadata": {
    "collapsed": false,
    "jupyter": {
     "outputs_hidden": false
    }
   },
   "outputs": [
    {
     "data": {
      "text/plain": [
       "Timestamp('2012-07-18 00:00:00', freq='D')"
      ]
     },
     "execution_count": 35,
     "metadata": {},
     "output_type": "execute_result"
    }
   ],
   "source": [
    "temps.index[2] # типа обращение по индексу - как в примере с Series - как в списке - третья строка (считая с нуля) таблицы"
   ]
  },
  {
   "cell_type": "code",
   "execution_count": 36,
   "metadata": {
    "collapsed": false,
    "jupyter": {
     "outputs_hidden": false
    }
   },
   "outputs": [
    {
     "data": {
      "text/plain": [
       "Timestamp('2012-07-18 00:00:00', freq='D')"
      ]
     },
     "execution_count": 36,
     "metadata": {},
     "output_type": "execute_result"
    }
   ],
   "source": [
    "# или так\n",
    "idx = temps.index[2]\n",
    "idx"
   ]
  },
  {
   "cell_type": "markdown",
   "metadata": {},
   "source": [
    "Это очень похоже на электронные таблицы. Создаются строки и колонки данных, после чего эти строки и колонки можно тасовать по своему усмотрению. При этом, что удобно, остаются заголовки и пр."
   ]
  },
  {
   "cell_type": "code",
   "execution_count": 43,
   "metadata": {
    "collapsed": false,
    "jupyter": {
     "outputs_hidden": false
    }
   },
   "outputs": [
    {
     "data": {
      "text/plain": [
       "Austin       585.5\n",
       "San Diego    461.0\n",
       "dtype: float64"
      ]
     },
     "execution_count": 43,
     "metadata": {},
     "output_type": "execute_result"
    }
   ],
   "source": [
    "# можно использовать операции над массивами из NumPy\n",
    "temps.sum() # сумма"
   ]
  },
  {
   "cell_type": "code",
   "execution_count": 44,
   "metadata": {
    "collapsed": false,
    "jupyter": {
     "outputs_hidden": false
    }
   },
   "outputs": [
    {
     "data": {
      "text/plain": [
       "Austin       97.583333\n",
       "San Diego    76.833333\n",
       "dtype: float64"
      ]
     },
     "execution_count": 44,
     "metadata": {},
     "output_type": "execute_result"
    }
   ],
   "source": [
    "# для pandas - mean по дефолту считается для колонок - из соображений практичности\n",
    "\n",
    "temps.mean() # средняя температура"
   ]
  },
  {
   "cell_type": "code",
   "execution_count": 45,
   "metadata": {
    "collapsed": false,
    "jupyter": {
     "outputs_hidden": false
    }
   },
   "outputs": [
    {
     "data": {
      "text/plain": [
       "array([[ 1.26435274,  1.15040813, -0.89786361,  0.01620865],\n",
       "       [ 0.22217062, -0.62537026,  0.26533098,  1.15027553],\n",
       "       [ 1.09563294,  0.440287  , -0.40666595,  0.7209519 ],\n",
       "       [ 0.12759677,  0.81251838, -1.15108796,  1.55883015],\n",
       "       [-0.18623511,  0.59684933,  0.34165315,  0.32408923]])"
      ]
     },
     "execution_count": 45,
     "metadata": {},
     "output_type": "execute_result"
    }
   ],
   "source": [
    "# врезка про NumPy. Расчет среднего может идти по-разному\n",
    "\n",
    "randn(5,4)"
   ]
  },
  {
   "cell_type": "code",
   "execution_count": 46,
   "metadata": {
    "collapsed": false,
    "jupyter": {
     "outputs_hidden": false
    }
   },
   "outputs": [
    {
     "data": {
      "text/plain": [
       "0.09718674742908509"
      ]
     },
     "execution_count": 46,
     "metadata": {},
     "output_type": "execute_result"
    }
   ],
   "source": [
    "randn(5,4).mean() # среднее по всей матрице"
   ]
  },
  {
   "cell_type": "code",
   "execution_count": 47,
   "metadata": {
    "collapsed": false,
    "jupyter": {
     "outputs_hidden": false
    }
   },
   "outputs": [
    {
     "data": {
      "text/plain": [
       "array([ 0.15311668, -0.1789541 ,  0.70763248,  0.28181424])"
      ]
     },
     "execution_count": 47,
     "metadata": {},
     "output_type": "execute_result"
    }
   ],
   "source": [
    "randn(5,4).mean(0) # среднее по колонкам"
   ]
  },
  {
   "cell_type": "code",
   "execution_count": 48,
   "metadata": {
    "collapsed": false,
    "jupyter": {
     "outputs_hidden": false
    }
   },
   "outputs": [
    {
     "data": {
      "text/plain": [
       "array([-0.62286458,  0.0943026 ,  0.31932637, -0.06518805,  0.67683711])"
      ]
     },
     "execution_count": 48,
     "metadata": {},
     "output_type": "execute_result"
    }
   ],
   "source": [
    "randn(5,4).mean(1) # среднее по рядам"
   ]
  },
  {
   "cell_type": "code",
   "execution_count": 49,
   "metadata": {
    "collapsed": false,
    "jupyter": {
     "outputs_hidden": false
    }
   },
   "outputs": [
    {
     "data": {
      "text/plain": [
       "2012-07-16    87.25\n",
       "2012-07-17    88.00\n",
       "2012-07-18    86.00\n",
       "2012-07-19    88.50\n",
       "2012-07-20    89.00\n",
       "2012-07-21    84.50\n",
       "Freq: D, dtype: float64"
      ]
     },
     "execution_count": 49,
     "metadata": {},
     "output_type": "execute_result"
    }
   ],
   "source": [
    "# в Pandas - mean - по дефолту, это колонки, mean(1) - это среднее по рядам\n",
    "temps.mean(1)"
   ]
  },
  {
   "cell_type": "code",
   "execution_count": 50,
   "metadata": {
    "collapsed": false,
    "jupyter": {
     "outputs_hidden": false
    }
   },
   "outputs": [
    {
     "data": {
      "text/html": [
       "<div>\n",
       "<style scoped>\n",
       "    .dataframe tbody tr th:only-of-type {\n",
       "        vertical-align: middle;\n",
       "    }\n",
       "\n",
       "    .dataframe tbody tr th {\n",
       "        vertical-align: top;\n",
       "    }\n",
       "\n",
       "    .dataframe thead th {\n",
       "        text-align: right;\n",
       "    }\n",
       "</style>\n",
       "<table border=\"1\" class=\"dataframe\">\n",
       "  <thead>\n",
       "    <tr style=\"text-align: right;\">\n",
       "      <th></th>\n",
       "      <th>Austin</th>\n",
       "      <th>San Diego</th>\n",
       "    </tr>\n",
       "  </thead>\n",
       "  <tbody>\n",
       "    <tr>\n",
       "      <th>2012-07-16</th>\n",
       "      <td>3.916667</td>\n",
       "      <td>-3.833333</td>\n",
       "    </tr>\n",
       "    <tr>\n",
       "      <th>2012-07-17</th>\n",
       "      <td>0.416667</td>\n",
       "      <td>1.166667</td>\n",
       "    </tr>\n",
       "    <tr>\n",
       "      <th>2012-07-18</th>\n",
       "      <td>-2.583333</td>\n",
       "      <td>0.166667</td>\n",
       "    </tr>\n",
       "    <tr>\n",
       "      <th>2012-07-19</th>\n",
       "      <td>1.416667</td>\n",
       "      <td>1.166667</td>\n",
       "    </tr>\n",
       "    <tr>\n",
       "      <th>2012-07-20</th>\n",
       "      <td>2.416667</td>\n",
       "      <td>1.166667</td>\n",
       "    </tr>\n",
       "    <tr>\n",
       "      <th>2012-07-21</th>\n",
       "      <td>-5.583333</td>\n",
       "      <td>0.166667</td>\n",
       "    </tr>\n",
       "  </tbody>\n",
       "</table>\n",
       "</div>"
      ],
      "text/plain": [
       "              Austin  San Diego\n",
       "2012-07-16  3.916667  -3.833333\n",
       "2012-07-17  0.416667   1.166667\n",
       "2012-07-18 -2.583333   0.166667\n",
       "2012-07-19  1.416667   1.166667\n",
       "2012-07-20  2.416667   1.166667\n",
       "2012-07-21 -5.583333   0.166667"
      ]
     },
     "execution_count": 50,
     "metadata": {},
     "output_type": "execute_result"
    }
   ],
   "source": [
    "temps - temps.mean() # показать разницу со средней температурой внутригорода"
   ]
  },
  {
   "cell_type": "markdown",
   "metadata": {},
   "source": [
    "## Фильтрация датафреймов по условию"
   ]
  },
  {
   "cell_type": "code",
   "execution_count": 51,
   "metadata": {
    "collapsed": false,
    "jupyter": {
     "outputs_hidden": false
    }
   },
   "outputs": [
    {
     "data": {
      "text/html": [
       "<div>\n",
       "<style scoped>\n",
       "    .dataframe tbody tr th:only-of-type {\n",
       "        vertical-align: middle;\n",
       "    }\n",
       "\n",
       "    .dataframe tbody tr th {\n",
       "        vertical-align: top;\n",
       "    }\n",
       "\n",
       "    .dataframe thead th {\n",
       "        text-align: right;\n",
       "    }\n",
       "</style>\n",
       "<table border=\"1\" class=\"dataframe\">\n",
       "  <thead>\n",
       "    <tr style=\"text-align: right;\">\n",
       "      <th></th>\n",
       "      <th>Austin</th>\n",
       "      <th>San Diego</th>\n",
       "    </tr>\n",
       "  </thead>\n",
       "  <tbody>\n",
       "    <tr>\n",
       "      <th>2012-07-16</th>\n",
       "      <td>101.5</td>\n",
       "      <td>73</td>\n",
       "    </tr>\n",
       "    <tr>\n",
       "      <th>2012-07-17</th>\n",
       "      <td>98.0</td>\n",
       "      <td>78</td>\n",
       "    </tr>\n",
       "    <tr>\n",
       "      <th>2012-07-18</th>\n",
       "      <td>95.0</td>\n",
       "      <td>77</td>\n",
       "    </tr>\n",
       "    <tr>\n",
       "      <th>2012-07-19</th>\n",
       "      <td>99.0</td>\n",
       "      <td>78</td>\n",
       "    </tr>\n",
       "    <tr>\n",
       "      <th>2012-07-20</th>\n",
       "      <td>100.0</td>\n",
       "      <td>78</td>\n",
       "    </tr>\n",
       "    <tr>\n",
       "      <th>2012-07-21</th>\n",
       "      <td>92.0</td>\n",
       "      <td>77</td>\n",
       "    </tr>\n",
       "  </tbody>\n",
       "</table>\n",
       "</div>"
      ],
      "text/plain": [
       "            Austin  San Diego\n",
       "2012-07-16   101.5         73\n",
       "2012-07-17    98.0         78\n",
       "2012-07-18    95.0         77\n",
       "2012-07-19    99.0         78\n",
       "2012-07-20   100.0         78\n",
       "2012-07-21    92.0         77"
      ]
     },
     "execution_count": 51,
     "metadata": {},
     "output_type": "execute_result"
    }
   ],
   "source": [
    "temps"
   ]
  },
  {
   "cell_type": "code",
   "execution_count": 52,
   "metadata": {
    "collapsed": false,
    "jupyter": {
     "outputs_hidden": false
    }
   },
   "outputs": [
    {
     "data": {
      "text/html": [
       "<div>\n",
       "<style scoped>\n",
       "    .dataframe tbody tr th:only-of-type {\n",
       "        vertical-align: middle;\n",
       "    }\n",
       "\n",
       "    .dataframe tbody tr th {\n",
       "        vertical-align: top;\n",
       "    }\n",
       "\n",
       "    .dataframe thead th {\n",
       "        text-align: right;\n",
       "    }\n",
       "</style>\n",
       "<table border=\"1\" class=\"dataframe\">\n",
       "  <thead>\n",
       "    <tr style=\"text-align: right;\">\n",
       "      <th></th>\n",
       "      <th>Austin</th>\n",
       "      <th>San Diego</th>\n",
       "    </tr>\n",
       "  </thead>\n",
       "  <tbody>\n",
       "    <tr>\n",
       "      <th>2012-07-16</th>\n",
       "      <td>101.5</td>\n",
       "      <td>73</td>\n",
       "    </tr>\n",
       "  </tbody>\n",
       "</table>\n",
       "</div>"
      ],
      "text/plain": [
       "            Austin  San Diego\n",
       "2012-07-16   101.5         73"
      ]
     },
     "execution_count": 52,
     "metadata": {},
     "output_type": "execute_result"
    }
   ],
   "source": [
    "temps[temps.Austin > 100] # дни когда в Остине было больше 100 (по Фаренгейту, надо полагать)"
   ]
  },
  {
   "cell_type": "markdown",
   "metadata": {},
   "source": [
    "## Работа с csv\n",
    "(00:40)"
   ]
  },
  {
   "cell_type": "code",
   "execution_count": 53,
   "metadata": {
    "collapsed": false,
    "jupyter": {
     "outputs_hidden": false
    }
   },
   "outputs": [
    {
     "data": {
      "text/plain": [
       "<function pandas.io.parsers.read_csv(filepath_or_buffer: Union[ForwardRef('PathLike[str]'), str, IO[~T], io.RawIOBase, io.BufferedIOBase, io.TextIOBase, _io.TextIOWrapper, mmap.mmap], sep=<object object at 0x7fca2471cbc0>, delimiter=None, header='infer', names=None, index_col=None, usecols=None, squeeze=False, prefix=None, mangle_dupe_cols=True, dtype=None, engine=None, converters=None, true_values=None, false_values=None, skipinitialspace=False, skiprows=None, skipfooter=0, nrows=None, na_values=None, keep_default_na=True, na_filter=True, verbose=False, skip_blank_lines=True, parse_dates=False, infer_datetime_format=False, keep_date_col=False, date_parser=None, dayfirst=False, cache_dates=True, iterator=False, chunksize=None, compression='infer', thousands=None, decimal: str = '.', lineterminator=None, quotechar='\"', quoting=0, doublequote=True, escapechar=None, comment=None, encoding=None, dialect=None, error_bad_lines=True, warn_bad_lines=True, delim_whitespace=False, low_memory=True, memory_map=False, float_precision=None, storage_options: Union[Dict[str, Any], NoneType] = None)>"
      ]
     },
     "execution_count": 53,
     "metadata": {},
     "output_type": "execute_result"
    }
   ],
   "source": [
    "pd.read_csv"
   ]
  },
  {
   "cell_type": "code",
   "execution_count": 54,
   "metadata": {
    "collapsed": false,
    "jupyter": {
     "outputs_hidden": false
    }
   },
   "outputs": [
    {
     "name": "stdout",
     "output_type": "stream",
     "text": [
      "date,0,1,2,3\n",
      "2000-01-01 00:00:00,-1.0332305813,0.8142185177,-0.3701858793,2.5592837882\n",
      "2000-01-02 00:00:00,2.1293080982,-1.3339524879,2.0084766049,2.5796104359\n",
      "2000-01-03 00:00:00,-1.9087360079,-1.1631127883,-1.8984494921,0.9954417272\n",
      "2000-01-04 00:00:00,1.902614183,-1.0962342244,-1.3217716823,-0.8755162361\n",
      "2000-01-05 00:00:00,-1.8992907691,-1.2694346739,-1.0079521874,1.5287315831\n",
      "2000-01-06 00:00:00,-0.7130427581,0.9911868562,-0.4061856308,-1.8827223553\n",
      "2000-01-07 00:00:00,-0.8493901356,-1.7109778181,0.2297844977,2.1644652069\n",
      "2000-01-08 00:00:00,2.1175909839,-1.4583067276,-1.9711135633,-1.4798206728\n",
      "2000-01-09 00:00:00,2.805074135,-1.3109711105,-0.8053459576,0.8790011636\n",
      "2000-01-10 00:00:00,-0.9845288152,0.4748503147,-1.3319203125,-0.2201354872\n"
     ]
    }
   ],
   "source": [
    "!cat data1.csv"
   ]
  },
  {
   "cell_type": "code",
   "execution_count": 55,
   "metadata": {
    "collapsed": false,
    "jupyter": {
     "outputs_hidden": false
    }
   },
   "outputs": [
    {
     "data": {
      "text/html": [
       "<div>\n",
       "<style scoped>\n",
       "    .dataframe tbody tr th:only-of-type {\n",
       "        vertical-align: middle;\n",
       "    }\n",
       "\n",
       "    .dataframe tbody tr th {\n",
       "        vertical-align: top;\n",
       "    }\n",
       "\n",
       "    .dataframe thead th {\n",
       "        text-align: right;\n",
       "    }\n",
       "</style>\n",
       "<table border=\"1\" class=\"dataframe\">\n",
       "  <thead>\n",
       "    <tr style=\"text-align: right;\">\n",
       "      <th></th>\n",
       "      <th>date</th>\n",
       "      <th>0</th>\n",
       "      <th>1</th>\n",
       "      <th>2</th>\n",
       "      <th>3</th>\n",
       "    </tr>\n",
       "  </thead>\n",
       "  <tbody>\n",
       "    <tr>\n",
       "      <th>0</th>\n",
       "      <td>2000-01-01 00:00:00</td>\n",
       "      <td>-1.033231</td>\n",
       "      <td>0.814219</td>\n",
       "      <td>-0.370186</td>\n",
       "      <td>2.559284</td>\n",
       "    </tr>\n",
       "    <tr>\n",
       "      <th>1</th>\n",
       "      <td>2000-01-02 00:00:00</td>\n",
       "      <td>2.129308</td>\n",
       "      <td>-1.333952</td>\n",
       "      <td>2.008477</td>\n",
       "      <td>2.579610</td>\n",
       "    </tr>\n",
       "    <tr>\n",
       "      <th>2</th>\n",
       "      <td>2000-01-03 00:00:00</td>\n",
       "      <td>-1.908736</td>\n",
       "      <td>-1.163113</td>\n",
       "      <td>-1.898449</td>\n",
       "      <td>0.995442</td>\n",
       "    </tr>\n",
       "    <tr>\n",
       "      <th>3</th>\n",
       "      <td>2000-01-04 00:00:00</td>\n",
       "      <td>1.902614</td>\n",
       "      <td>-1.096234</td>\n",
       "      <td>-1.321772</td>\n",
       "      <td>-0.875516</td>\n",
       "    </tr>\n",
       "    <tr>\n",
       "      <th>4</th>\n",
       "      <td>2000-01-05 00:00:00</td>\n",
       "      <td>-1.899291</td>\n",
       "      <td>-1.269435</td>\n",
       "      <td>-1.007952</td>\n",
       "      <td>1.528732</td>\n",
       "    </tr>\n",
       "    <tr>\n",
       "      <th>5</th>\n",
       "      <td>2000-01-06 00:00:00</td>\n",
       "      <td>-0.713043</td>\n",
       "      <td>0.991187</td>\n",
       "      <td>-0.406186</td>\n",
       "      <td>-1.882722</td>\n",
       "    </tr>\n",
       "    <tr>\n",
       "      <th>6</th>\n",
       "      <td>2000-01-07 00:00:00</td>\n",
       "      <td>-0.849390</td>\n",
       "      <td>-1.710978</td>\n",
       "      <td>0.229784</td>\n",
       "      <td>2.164465</td>\n",
       "    </tr>\n",
       "    <tr>\n",
       "      <th>7</th>\n",
       "      <td>2000-01-08 00:00:00</td>\n",
       "      <td>2.117591</td>\n",
       "      <td>-1.458307</td>\n",
       "      <td>-1.971114</td>\n",
       "      <td>-1.479821</td>\n",
       "    </tr>\n",
       "    <tr>\n",
       "      <th>8</th>\n",
       "      <td>2000-01-09 00:00:00</td>\n",
       "      <td>2.805074</td>\n",
       "      <td>-1.310971</td>\n",
       "      <td>-0.805346</td>\n",
       "      <td>0.879001</td>\n",
       "    </tr>\n",
       "    <tr>\n",
       "      <th>9</th>\n",
       "      <td>2000-01-10 00:00:00</td>\n",
       "      <td>-0.984529</td>\n",
       "      <td>0.474850</td>\n",
       "      <td>-1.331920</td>\n",
       "      <td>-0.220135</td>\n",
       "    </tr>\n",
       "  </tbody>\n",
       "</table>\n",
       "</div>"
      ],
      "text/plain": [
       "                  date         0         1         2         3\n",
       "0  2000-01-01 00:00:00 -1.033231  0.814219 -0.370186  2.559284\n",
       "1  2000-01-02 00:00:00  2.129308 -1.333952  2.008477  2.579610\n",
       "2  2000-01-03 00:00:00 -1.908736 -1.163113 -1.898449  0.995442\n",
       "3  2000-01-04 00:00:00  1.902614 -1.096234 -1.321772 -0.875516\n",
       "4  2000-01-05 00:00:00 -1.899291 -1.269435 -1.007952  1.528732\n",
       "5  2000-01-06 00:00:00 -0.713043  0.991187 -0.406186 -1.882722\n",
       "6  2000-01-07 00:00:00 -0.849390 -1.710978  0.229784  2.164465\n",
       "7  2000-01-08 00:00:00  2.117591 -1.458307 -1.971114 -1.479821\n",
       "8  2000-01-09 00:00:00  2.805074 -1.310971 -0.805346  0.879001\n",
       "9  2000-01-10 00:00:00 -0.984529  0.474850 -1.331920 -0.220135"
      ]
     },
     "execution_count": 55,
     "metadata": {},
     "output_type": "execute_result"
    }
   ],
   "source": [
    "df = pd.read_csv('data1.csv')\n",
    "df"
   ]
  },
  {
   "cell_type": "code",
   "execution_count": 56,
   "metadata": {
    "collapsed": false,
    "jupyter": {
     "outputs_hidden": false
    }
   },
   "outputs": [
    {
     "data": {
      "text/plain": [
       "'2000-01-01 00:00:00'"
      ]
     },
     "execution_count": 56,
     "metadata": {},
     "output_type": "execute_result"
    }
   ],
   "source": [
    "df.date[0] # обрати внимание - df.date ---> df['date'] кстати, надо попробовать"
   ]
  },
  {
   "cell_type": "code",
   "execution_count": 57,
   "metadata": {
    "collapsed": false,
    "jupyter": {
     "outputs_hidden": false
    }
   },
   "outputs": [
    {
     "data": {
      "text/plain": [
       "0    2000-01-01 00:00:00\n",
       "1    2000-01-02 00:00:00\n",
       "2    2000-01-03 00:00:00\n",
       "3    2000-01-04 00:00:00\n",
       "4    2000-01-05 00:00:00\n",
       "5    2000-01-06 00:00:00\n",
       "6    2000-01-07 00:00:00\n",
       "7    2000-01-08 00:00:00\n",
       "8    2000-01-09 00:00:00\n",
       "9    2000-01-10 00:00:00\n",
       "Name: date, dtype: object"
      ]
     },
     "execution_count": 57,
     "metadata": {},
     "output_type": "execute_result"
    }
   ],
   "source": [
    "df['date']"
   ]
  },
  {
   "cell_type": "code",
   "execution_count": 58,
   "metadata": {
    "collapsed": false,
    "jupyter": {
     "outputs_hidden": false
    }
   },
   "outputs": [
    {
     "data": {
      "text/plain": [
       "'2000-01-01 00:00:00'"
      ]
     },
     "execution_count": 58,
     "metadata": {},
     "output_type": "execute_result"
    }
   ],
   "source": [
    "df['date'][0]"
   ]
  },
  {
   "cell_type": "markdown",
   "metadata": {},
   "source": [
    "`pd.read_ ...` само по себе богатое :) можно посмотреть откуда можно читать такие таблицы"
   ]
  },
  {
   "cell_type": "code",
   "execution_count": 59,
   "metadata": {
    "collapsed": false,
    "jupyter": {
     "outputs_hidden": false
    }
   },
   "outputs": [
    {
     "data": {
      "text/html": [
       "<div>\n",
       "<style scoped>\n",
       "    .dataframe tbody tr th:only-of-type {\n",
       "        vertical-align: middle;\n",
       "    }\n",
       "\n",
       "    .dataframe tbody tr th {\n",
       "        vertical-align: top;\n",
       "    }\n",
       "\n",
       "    .dataframe thead th {\n",
       "        text-align: right;\n",
       "    }\n",
       "</style>\n",
       "<table border=\"1\" class=\"dataframe\">\n",
       "  <thead>\n",
       "    <tr style=\"text-align: right;\">\n",
       "      <th></th>\n",
       "      <th>date</th>\n",
       "      <th>0</th>\n",
       "      <th>1</th>\n",
       "      <th>2</th>\n",
       "      <th>3</th>\n",
       "    </tr>\n",
       "  </thead>\n",
       "  <tbody>\n",
       "    <tr>\n",
       "      <th>0</th>\n",
       "      <td>2000-01-01</td>\n",
       "      <td>-1.033231</td>\n",
       "      <td>0.814219</td>\n",
       "      <td>-0.370186</td>\n",
       "      <td>2.559284</td>\n",
       "    </tr>\n",
       "    <tr>\n",
       "      <th>1</th>\n",
       "      <td>2000-01-02</td>\n",
       "      <td>2.129308</td>\n",
       "      <td>-1.333952</td>\n",
       "      <td>2.008477</td>\n",
       "      <td>2.579610</td>\n",
       "    </tr>\n",
       "    <tr>\n",
       "      <th>2</th>\n",
       "      <td>2000-01-03</td>\n",
       "      <td>-1.908736</td>\n",
       "      <td>-1.163113</td>\n",
       "      <td>-1.898449</td>\n",
       "      <td>0.995442</td>\n",
       "    </tr>\n",
       "    <tr>\n",
       "      <th>3</th>\n",
       "      <td>2000-01-04</td>\n",
       "      <td>1.902614</td>\n",
       "      <td>-1.096234</td>\n",
       "      <td>-1.321772</td>\n",
       "      <td>-0.875516</td>\n",
       "    </tr>\n",
       "    <tr>\n",
       "      <th>4</th>\n",
       "      <td>2000-01-05</td>\n",
       "      <td>-1.899291</td>\n",
       "      <td>-1.269435</td>\n",
       "      <td>-1.007952</td>\n",
       "      <td>1.528732</td>\n",
       "    </tr>\n",
       "    <tr>\n",
       "      <th>5</th>\n",
       "      <td>2000-01-06</td>\n",
       "      <td>-0.713043</td>\n",
       "      <td>0.991187</td>\n",
       "      <td>-0.406186</td>\n",
       "      <td>-1.882722</td>\n",
       "    </tr>\n",
       "    <tr>\n",
       "      <th>6</th>\n",
       "      <td>2000-01-07</td>\n",
       "      <td>-0.849390</td>\n",
       "      <td>-1.710978</td>\n",
       "      <td>0.229784</td>\n",
       "      <td>2.164465</td>\n",
       "    </tr>\n",
       "    <tr>\n",
       "      <th>7</th>\n",
       "      <td>2000-01-08</td>\n",
       "      <td>2.117591</td>\n",
       "      <td>-1.458307</td>\n",
       "      <td>-1.971114</td>\n",
       "      <td>-1.479821</td>\n",
       "    </tr>\n",
       "    <tr>\n",
       "      <th>8</th>\n",
       "      <td>2000-01-09</td>\n",
       "      <td>2.805074</td>\n",
       "      <td>-1.310971</td>\n",
       "      <td>-0.805346</td>\n",
       "      <td>0.879001</td>\n",
       "    </tr>\n",
       "    <tr>\n",
       "      <th>9</th>\n",
       "      <td>2000-01-10</td>\n",
       "      <td>-0.984529</td>\n",
       "      <td>0.474850</td>\n",
       "      <td>-1.331920</td>\n",
       "      <td>-0.220135</td>\n",
       "    </tr>\n",
       "  </tbody>\n",
       "</table>\n",
       "</div>"
      ],
      "text/plain": [
       "        date         0         1         2         3\n",
       "0 2000-01-01 -1.033231  0.814219 -0.370186  2.559284\n",
       "1 2000-01-02  2.129308 -1.333952  2.008477  2.579610\n",
       "2 2000-01-03 -1.908736 -1.163113 -1.898449  0.995442\n",
       "3 2000-01-04  1.902614 -1.096234 -1.321772 -0.875516\n",
       "4 2000-01-05 -1.899291 -1.269435 -1.007952  1.528732\n",
       "5 2000-01-06 -0.713043  0.991187 -0.406186 -1.882722\n",
       "6 2000-01-07 -0.849390 -1.710978  0.229784  2.164465\n",
       "7 2000-01-08  2.117591 -1.458307 -1.971114 -1.479821\n",
       "8 2000-01-09  2.805074 -1.310971 -0.805346  0.879001\n",
       "9 2000-01-10 -0.984529  0.474850 -1.331920 -0.220135"
      ]
     },
     "execution_count": 59,
     "metadata": {},
     "output_type": "execute_result"
    }
   ],
   "source": [
    "pd.read_csv('data1.csv', parse_dates=[0]) # чтение и парсинг дат на лету"
   ]
  },
  {
   "cell_type": "code",
   "execution_count": 60,
   "metadata": {
    "collapsed": false,
    "jupyter": {
     "outputs_hidden": false
    }
   },
   "outputs": [
    {
     "data": {
      "text/html": [
       "<div>\n",
       "<style scoped>\n",
       "    .dataframe tbody tr th:only-of-type {\n",
       "        vertical-align: middle;\n",
       "    }\n",
       "\n",
       "    .dataframe tbody tr th {\n",
       "        vertical-align: top;\n",
       "    }\n",
       "\n",
       "    .dataframe thead th {\n",
       "        text-align: right;\n",
       "    }\n",
       "</style>\n",
       "<table border=\"1\" class=\"dataframe\">\n",
       "  <thead>\n",
       "    <tr style=\"text-align: right;\">\n",
       "      <th></th>\n",
       "      <th>date</th>\n",
       "      <th>0</th>\n",
       "      <th>1</th>\n",
       "      <th>2</th>\n",
       "      <th>3</th>\n",
       "    </tr>\n",
       "  </thead>\n",
       "  <tbody>\n",
       "    <tr>\n",
       "      <th>0</th>\n",
       "      <td>2000-01-01</td>\n",
       "      <td>-1.033231</td>\n",
       "      <td>0.814219</td>\n",
       "      <td>-0.370186</td>\n",
       "      <td>2.559284</td>\n",
       "    </tr>\n",
       "    <tr>\n",
       "      <th>1</th>\n",
       "      <td>2000-01-02</td>\n",
       "      <td>2.129308</td>\n",
       "      <td>-1.333952</td>\n",
       "      <td>2.008477</td>\n",
       "      <td>2.579610</td>\n",
       "    </tr>\n",
       "    <tr>\n",
       "      <th>2</th>\n",
       "      <td>2000-01-03</td>\n",
       "      <td>-1.908736</td>\n",
       "      <td>-1.163113</td>\n",
       "      <td>-1.898449</td>\n",
       "      <td>0.995442</td>\n",
       "    </tr>\n",
       "    <tr>\n",
       "      <th>3</th>\n",
       "      <td>2000-01-04</td>\n",
       "      <td>1.902614</td>\n",
       "      <td>-1.096234</td>\n",
       "      <td>-1.321772</td>\n",
       "      <td>-0.875516</td>\n",
       "    </tr>\n",
       "    <tr>\n",
       "      <th>4</th>\n",
       "      <td>2000-01-05</td>\n",
       "      <td>-1.899291</td>\n",
       "      <td>-1.269435</td>\n",
       "      <td>-1.007952</td>\n",
       "      <td>1.528732</td>\n",
       "    </tr>\n",
       "    <tr>\n",
       "      <th>5</th>\n",
       "      <td>2000-01-06</td>\n",
       "      <td>-0.713043</td>\n",
       "      <td>0.991187</td>\n",
       "      <td>-0.406186</td>\n",
       "      <td>-1.882722</td>\n",
       "    </tr>\n",
       "    <tr>\n",
       "      <th>6</th>\n",
       "      <td>2000-01-07</td>\n",
       "      <td>-0.849390</td>\n",
       "      <td>-1.710978</td>\n",
       "      <td>0.229784</td>\n",
       "      <td>2.164465</td>\n",
       "    </tr>\n",
       "    <tr>\n",
       "      <th>7</th>\n",
       "      <td>2000-01-08</td>\n",
       "      <td>2.117591</td>\n",
       "      <td>-1.458307</td>\n",
       "      <td>-1.971114</td>\n",
       "      <td>-1.479821</td>\n",
       "    </tr>\n",
       "    <tr>\n",
       "      <th>8</th>\n",
       "      <td>2000-01-09</td>\n",
       "      <td>2.805074</td>\n",
       "      <td>-1.310971</td>\n",
       "      <td>-0.805346</td>\n",
       "      <td>0.879001</td>\n",
       "    </tr>\n",
       "    <tr>\n",
       "      <th>9</th>\n",
       "      <td>2000-01-10</td>\n",
       "      <td>-0.984529</td>\n",
       "      <td>0.474850</td>\n",
       "      <td>-1.331920</td>\n",
       "      <td>-0.220135</td>\n",
       "    </tr>\n",
       "  </tbody>\n",
       "</table>\n",
       "</div>"
      ],
      "text/plain": [
       "        date         0         1         2         3\n",
       "0 2000-01-01 -1.033231  0.814219 -0.370186  2.559284\n",
       "1 2000-01-02  2.129308 -1.333952  2.008477  2.579610\n",
       "2 2000-01-03 -1.908736 -1.163113 -1.898449  0.995442\n",
       "3 2000-01-04  1.902614 -1.096234 -1.321772 -0.875516\n",
       "4 2000-01-05 -1.899291 -1.269435 -1.007952  1.528732\n",
       "5 2000-01-06 -0.713043  0.991187 -0.406186 -1.882722\n",
       "6 2000-01-07 -0.849390 -1.710978  0.229784  2.164465\n",
       "7 2000-01-08  2.117591 -1.458307 -1.971114 -1.479821\n",
       "8 2000-01-09  2.805074 -1.310971 -0.805346  0.879001\n",
       "9 2000-01-10 -0.984529  0.474850 -1.331920 -0.220135"
      ]
     },
     "execution_count": 60,
     "metadata": {},
     "output_type": "execute_result"
    }
   ],
   "source": [
    "df2 = pd.read_csv('data1.csv', parse_dates=['date']) # чтение и парсинг дат на лету, при этом, если не указать индекс\n",
    "df2"
   ]
  },
  {
   "cell_type": "code",
   "execution_count": 61,
   "metadata": {
    "collapsed": false,
    "jupyter": {
     "outputs_hidden": false
    }
   },
   "outputs": [
    {
     "data": {
      "text/plain": [
       "RangeIndex(start=0, stop=10, step=1)"
      ]
     },
     "execution_count": 61,
     "metadata": {},
     "output_type": "execute_result"
    }
   ],
   "source": [
    "df2.index # если не указать индекс - ряды просто пронумеруются (это видно и по левой колонке!)"
   ]
  },
  {
   "cell_type": "code",
   "execution_count": 62,
   "metadata": {
    "collapsed": false,
    "jupyter": {
     "outputs_hidden": false
    }
   },
   "outputs": [
    {
     "data": {
      "text/plain": [
       "Timestamp('2000-01-01 00:00:00')"
      ]
     },
     "execution_count": 62,
     "metadata": {},
     "output_type": "execute_result"
    }
   ],
   "source": [
    "df2.date[0]"
   ]
  },
  {
   "cell_type": "code",
   "execution_count": 63,
   "metadata": {
    "collapsed": false,
    "jupyter": {
     "outputs_hidden": false
    }
   },
   "outputs": [
    {
     "data": {
      "text/plain": [
       "Timestamp('2000-01-01 00:00:00')"
      ]
     },
     "execution_count": 63,
     "metadata": {},
     "output_type": "execute_result"
    }
   ],
   "source": [
    "df2['date'][0]"
   ]
  },
  {
   "cell_type": "code",
   "execution_count": 64,
   "metadata": {
    "collapsed": false,
    "jupyter": {
     "outputs_hidden": false
    }
   },
   "outputs": [
    {
     "data": {
      "text/html": [
       "<div>\n",
       "<style scoped>\n",
       "    .dataframe tbody tr th:only-of-type {\n",
       "        vertical-align: middle;\n",
       "    }\n",
       "\n",
       "    .dataframe tbody tr th {\n",
       "        vertical-align: top;\n",
       "    }\n",
       "\n",
       "    .dataframe thead th {\n",
       "        text-align: right;\n",
       "    }\n",
       "</style>\n",
       "<table border=\"1\" class=\"dataframe\">\n",
       "  <thead>\n",
       "    <tr style=\"text-align: right;\">\n",
       "      <th></th>\n",
       "      <th>0</th>\n",
       "      <th>1</th>\n",
       "      <th>2</th>\n",
       "      <th>3</th>\n",
       "    </tr>\n",
       "    <tr>\n",
       "      <th>date</th>\n",
       "      <th></th>\n",
       "      <th></th>\n",
       "      <th></th>\n",
       "      <th></th>\n",
       "    </tr>\n",
       "  </thead>\n",
       "  <tbody>\n",
       "    <tr>\n",
       "      <th>2000-01-01</th>\n",
       "      <td>-1.033231</td>\n",
       "      <td>0.814219</td>\n",
       "      <td>-0.370186</td>\n",
       "      <td>2.559284</td>\n",
       "    </tr>\n",
       "    <tr>\n",
       "      <th>2000-01-02</th>\n",
       "      <td>2.129308</td>\n",
       "      <td>-1.333952</td>\n",
       "      <td>2.008477</td>\n",
       "      <td>2.579610</td>\n",
       "    </tr>\n",
       "    <tr>\n",
       "      <th>2000-01-03</th>\n",
       "      <td>-1.908736</td>\n",
       "      <td>-1.163113</td>\n",
       "      <td>-1.898449</td>\n",
       "      <td>0.995442</td>\n",
       "    </tr>\n",
       "    <tr>\n",
       "      <th>2000-01-04</th>\n",
       "      <td>1.902614</td>\n",
       "      <td>-1.096234</td>\n",
       "      <td>-1.321772</td>\n",
       "      <td>-0.875516</td>\n",
       "    </tr>\n",
       "    <tr>\n",
       "      <th>2000-01-05</th>\n",
       "      <td>-1.899291</td>\n",
       "      <td>-1.269435</td>\n",
       "      <td>-1.007952</td>\n",
       "      <td>1.528732</td>\n",
       "    </tr>\n",
       "    <tr>\n",
       "      <th>2000-01-06</th>\n",
       "      <td>-0.713043</td>\n",
       "      <td>0.991187</td>\n",
       "      <td>-0.406186</td>\n",
       "      <td>-1.882722</td>\n",
       "    </tr>\n",
       "    <tr>\n",
       "      <th>2000-01-07</th>\n",
       "      <td>-0.849390</td>\n",
       "      <td>-1.710978</td>\n",
       "      <td>0.229784</td>\n",
       "      <td>2.164465</td>\n",
       "    </tr>\n",
       "    <tr>\n",
       "      <th>2000-01-08</th>\n",
       "      <td>2.117591</td>\n",
       "      <td>-1.458307</td>\n",
       "      <td>-1.971114</td>\n",
       "      <td>-1.479821</td>\n",
       "    </tr>\n",
       "    <tr>\n",
       "      <th>2000-01-09</th>\n",
       "      <td>2.805074</td>\n",
       "      <td>-1.310971</td>\n",
       "      <td>-0.805346</td>\n",
       "      <td>0.879001</td>\n",
       "    </tr>\n",
       "    <tr>\n",
       "      <th>2000-01-10</th>\n",
       "      <td>-0.984529</td>\n",
       "      <td>0.474850</td>\n",
       "      <td>-1.331920</td>\n",
       "      <td>-0.220135</td>\n",
       "    </tr>\n",
       "  </tbody>\n",
       "</table>\n",
       "</div>"
      ],
      "text/plain": [
       "                   0         1         2         3\n",
       "date                                              \n",
       "2000-01-01 -1.033231  0.814219 -0.370186  2.559284\n",
       "2000-01-02  2.129308 -1.333952  2.008477  2.579610\n",
       "2000-01-03 -1.908736 -1.163113 -1.898449  0.995442\n",
       "2000-01-04  1.902614 -1.096234 -1.321772 -0.875516\n",
       "2000-01-05 -1.899291 -1.269435 -1.007952  1.528732\n",
       "2000-01-06 -0.713043  0.991187 -0.406186 -1.882722\n",
       "2000-01-07 -0.849390 -1.710978  0.229784  2.164465\n",
       "2000-01-08  2.117591 -1.458307 -1.971114 -1.479821\n",
       "2000-01-09  2.805074 -1.310971 -0.805346  0.879001\n",
       "2000-01-10 -0.984529  0.474850 -1.331920 -0.220135"
      ]
     },
     "execution_count": 64,
     "metadata": {},
     "output_type": "execute_result"
    }
   ],
   "source": [
    "df2 = pd.read_csv('data1.csv', parse_dates=['date'], index_col='date') # И назначение колонки с датами индексом!\n",
    "df2"
   ]
  },
  {
   "cell_type": "code",
   "execution_count": 65,
   "metadata": {
    "collapsed": false,
    "jupyter": {
     "outputs_hidden": false
    }
   },
   "outputs": [
    {
     "data": {
      "text/plain": [
       "DatetimeIndex(['2000-01-01', '2000-01-02', '2000-01-03', '2000-01-04',\n",
       "               '2000-01-05', '2000-01-06', '2000-01-07', '2000-01-08',\n",
       "               '2000-01-09', '2000-01-10'],\n",
       "              dtype='datetime64[ns]', name='date', freq=None)"
      ]
     },
     "execution_count": 65,
     "metadata": {},
     "output_type": "execute_result"
    }
   ],
   "source": [
    "df2.index # сейчас ряды называются по названию колонки date "
   ]
  },
  {
   "cell_type": "code",
   "execution_count": 66,
   "metadata": {
    "collapsed": false,
    "jupyter": {
     "outputs_hidden": false
    }
   },
   "outputs": [
    {
     "data": {
      "text/plain": [
       "'date'"
      ]
     },
     "execution_count": 66,
     "metadata": {},
     "output_type": "execute_result"
    }
   ],
   "source": [
    "df2.index.name # название индекса лежит отдельно и используется в том числе для рисования чертежей и графиков"
   ]
  },
  {
   "cell_type": "code",
   "execution_count": 67,
   "metadata": {
    "collapsed": false,
    "jupyter": {
     "outputs_hidden": false
    }
   },
   "outputs": [
    {
     "data": {
      "text/plain": [
       "date\n",
       "2000-01-01    0.814219\n",
       "2000-01-02   -1.333952\n",
       "2000-01-03   -1.163113\n",
       "2000-01-04   -1.096234\n",
       "2000-01-05   -1.269435\n",
       "2000-01-06    0.991187\n",
       "2000-01-07   -1.710978\n",
       "2000-01-08   -1.458307\n",
       "2000-01-09   -1.310971\n",
       "2000-01-10    0.474850\n",
       "Name: 1, dtype: float64"
      ]
     },
     "execution_count": 67,
     "metadata": {},
     "output_type": "execute_result"
    }
   ],
   "source": [
    "df2['1'] # названия колонок в списке - это строки на самом деле"
   ]
  },
  {
   "cell_type": "code",
   "execution_count": 68,
   "metadata": {
    "collapsed": false,
    "jupyter": {
     "outputs_hidden": false
    }
   },
   "outputs": [
    {
     "data": {
      "text/html": [
       "<div>\n",
       "<style scoped>\n",
       "    .dataframe tbody tr th:only-of-type {\n",
       "        vertical-align: middle;\n",
       "    }\n",
       "\n",
       "    .dataframe tbody tr th {\n",
       "        vertical-align: top;\n",
       "    }\n",
       "\n",
       "    .dataframe thead th {\n",
       "        text-align: right;\n",
       "    }\n",
       "</style>\n",
       "<table border=\"1\" class=\"dataframe\">\n",
       "  <thead>\n",
       "    <tr style=\"text-align: right;\">\n",
       "      <th></th>\n",
       "      <th>date</th>\n",
       "      <th>0</th>\n",
       "      <th>1</th>\n",
       "      <th>2</th>\n",
       "      <th>3</th>\n",
       "    </tr>\n",
       "    <tr>\n",
       "      <th>date</th>\n",
       "      <th></th>\n",
       "      <th></th>\n",
       "      <th></th>\n",
       "      <th></th>\n",
       "      <th></th>\n",
       "    </tr>\n",
       "  </thead>\n",
       "  <tbody>\n",
       "    <tr>\n",
       "      <th>2000-01-01 00:00:00</th>\n",
       "      <td>2000-01-01 00:00:00</td>\n",
       "      <td>-1.033231</td>\n",
       "      <td>0.814219</td>\n",
       "      <td>-0.370186</td>\n",
       "      <td>2.559284</td>\n",
       "    </tr>\n",
       "    <tr>\n",
       "      <th>2000-01-02 00:00:00</th>\n",
       "      <td>2000-01-02 00:00:00</td>\n",
       "      <td>2.129308</td>\n",
       "      <td>-1.333952</td>\n",
       "      <td>2.008477</td>\n",
       "      <td>2.579610</td>\n",
       "    </tr>\n",
       "    <tr>\n",
       "      <th>2000-01-03 00:00:00</th>\n",
       "      <td>2000-01-03 00:00:00</td>\n",
       "      <td>-1.908736</td>\n",
       "      <td>-1.163113</td>\n",
       "      <td>-1.898449</td>\n",
       "      <td>0.995442</td>\n",
       "    </tr>\n",
       "    <tr>\n",
       "      <th>2000-01-04 00:00:00</th>\n",
       "      <td>2000-01-04 00:00:00</td>\n",
       "      <td>1.902614</td>\n",
       "      <td>-1.096234</td>\n",
       "      <td>-1.321772</td>\n",
       "      <td>-0.875516</td>\n",
       "    </tr>\n",
       "    <tr>\n",
       "      <th>2000-01-05 00:00:00</th>\n",
       "      <td>2000-01-05 00:00:00</td>\n",
       "      <td>-1.899291</td>\n",
       "      <td>-1.269435</td>\n",
       "      <td>-1.007952</td>\n",
       "      <td>1.528732</td>\n",
       "    </tr>\n",
       "    <tr>\n",
       "      <th>2000-01-06 00:00:00</th>\n",
       "      <td>2000-01-06 00:00:00</td>\n",
       "      <td>-0.713043</td>\n",
       "      <td>0.991187</td>\n",
       "      <td>-0.406186</td>\n",
       "      <td>-1.882722</td>\n",
       "    </tr>\n",
       "    <tr>\n",
       "      <th>2000-01-07 00:00:00</th>\n",
       "      <td>2000-01-07 00:00:00</td>\n",
       "      <td>-0.849390</td>\n",
       "      <td>-1.710978</td>\n",
       "      <td>0.229784</td>\n",
       "      <td>2.164465</td>\n",
       "    </tr>\n",
       "    <tr>\n",
       "      <th>2000-01-08 00:00:00</th>\n",
       "      <td>2000-01-08 00:00:00</td>\n",
       "      <td>2.117591</td>\n",
       "      <td>-1.458307</td>\n",
       "      <td>-1.971114</td>\n",
       "      <td>-1.479821</td>\n",
       "    </tr>\n",
       "    <tr>\n",
       "      <th>2000-01-09 00:00:00</th>\n",
       "      <td>2000-01-09 00:00:00</td>\n",
       "      <td>2.805074</td>\n",
       "      <td>-1.310971</td>\n",
       "      <td>-0.805346</td>\n",
       "      <td>0.879001</td>\n",
       "    </tr>\n",
       "    <tr>\n",
       "      <th>2000-01-10 00:00:00</th>\n",
       "      <td>2000-01-10 00:00:00</td>\n",
       "      <td>-0.984529</td>\n",
       "      <td>0.474850</td>\n",
       "      <td>-1.331920</td>\n",
       "      <td>-0.220135</td>\n",
       "    </tr>\n",
       "  </tbody>\n",
       "</table>\n",
       "</div>"
      ],
      "text/plain": [
       "                                    date         0         1         2  \\\n",
       "date                                                                     \n",
       "2000-01-01 00:00:00  2000-01-01 00:00:00 -1.033231  0.814219 -0.370186   \n",
       "2000-01-02 00:00:00  2000-01-02 00:00:00  2.129308 -1.333952  2.008477   \n",
       "2000-01-03 00:00:00  2000-01-03 00:00:00 -1.908736 -1.163113 -1.898449   \n",
       "2000-01-04 00:00:00  2000-01-04 00:00:00  1.902614 -1.096234 -1.321772   \n",
       "2000-01-05 00:00:00  2000-01-05 00:00:00 -1.899291 -1.269435 -1.007952   \n",
       "2000-01-06 00:00:00  2000-01-06 00:00:00 -0.713043  0.991187 -0.406186   \n",
       "2000-01-07 00:00:00  2000-01-07 00:00:00 -0.849390 -1.710978  0.229784   \n",
       "2000-01-08 00:00:00  2000-01-08 00:00:00  2.117591 -1.458307 -1.971114   \n",
       "2000-01-09 00:00:00  2000-01-09 00:00:00  2.805074 -1.310971 -0.805346   \n",
       "2000-01-10 00:00:00  2000-01-10 00:00:00 -0.984529  0.474850 -1.331920   \n",
       "\n",
       "                            3  \n",
       "date                           \n",
       "2000-01-01 00:00:00  2.559284  \n",
       "2000-01-02 00:00:00  2.579610  \n",
       "2000-01-03 00:00:00  0.995442  \n",
       "2000-01-04 00:00:00 -0.875516  \n",
       "2000-01-05 00:00:00  1.528732  \n",
       "2000-01-06 00:00:00 -1.882722  \n",
       "2000-01-07 00:00:00  2.164465  \n",
       "2000-01-08 00:00:00 -1.479821  \n",
       "2000-01-09 00:00:00  0.879001  \n",
       "2000-01-10 00:00:00 -0.220135  "
      ]
     },
     "execution_count": 68,
     "metadata": {},
     "output_type": "execute_result"
    }
   ],
   "source": [
    "df2 = pd.read_csv('data1.csv', parse_dates=['date']) # если не назначать на лету - можно назначить после парсинга\n",
    "df3 = df.set_index('date', drop=False) # drop False - оставить колонку date в наборе данных (т.е. и индекс и данные)\n",
    "df3"
   ]
  },
  {
   "cell_type": "code",
   "execution_count": 69,
   "metadata": {
    "collapsed": false,
    "jupyter": {
     "outputs_hidden": false
    }
   },
   "outputs": [
    {
     "data": {
      "text/plain": [
       "date\n",
       "2000-01-01 00:00:00    2000-01-01 00:00:00\n",
       "2000-01-02 00:00:00    2000-01-02 00:00:00\n",
       "2000-01-03 00:00:00    2000-01-03 00:00:00\n",
       "2000-01-04 00:00:00    2000-01-04 00:00:00\n",
       "2000-01-05 00:00:00    2000-01-05 00:00:00\n",
       "2000-01-06 00:00:00    2000-01-06 00:00:00\n",
       "2000-01-07 00:00:00    2000-01-07 00:00:00\n",
       "2000-01-08 00:00:00    2000-01-08 00:00:00\n",
       "2000-01-09 00:00:00    2000-01-09 00:00:00\n",
       "2000-01-10 00:00:00    2000-01-10 00:00:00\n",
       "Name: date, dtype: object"
      ]
     },
     "execution_count": 69,
     "metadata": {},
     "output_type": "execute_result"
    }
   ],
   "source": [
    "df3['date'] # индекс и колонка с датами"
   ]
  },
  {
   "cell_type": "code",
   "execution_count": 70,
   "metadata": {
    "collapsed": false,
    "jupyter": {
     "outputs_hidden": false
    }
   },
   "outputs": [
    {
     "data": {
      "text/plain": [
       "0   2000-01-01\n",
       "1   2000-01-02\n",
       "2   2000-01-03\n",
       "3   2000-01-04\n",
       "4   2000-01-05\n",
       "5   2000-01-06\n",
       "6   2000-01-07\n",
       "7   2000-01-08\n",
       "8   2000-01-09\n",
       "9   2000-01-10\n",
       "Name: date, dtype: datetime64[ns]"
      ]
     },
     "execution_count": 70,
     "metadata": {},
     "output_type": "execute_result"
    }
   ],
   "source": [
    "df2['date'] # колонка есть, но в качестве подписей рядов - только номера"
   ]
  },
  {
   "cell_type": "markdown",
   "metadata": {},
   "source": [
    "# (00:47:25)"
   ]
  },
  {
   "cell_type": "code",
   "execution_count": null,
   "metadata": {
    "collapsed": true,
    "jupyter": {
     "outputs_hidden": true
    }
   },
   "outputs": [],
   "source": []
  }
 ],
 "metadata": {
  "kernelspec": {
   "display_name": "Python 3",
   "language": "python",
   "name": "python3"
  },
  "language_info": {
   "codemirror_mode": {
    "name": "ipython",
    "version": 3
   },
   "file_extension": ".py",
   "mimetype": "text/x-python",
   "name": "python",
   "nbconvert_exporter": "python",
   "pygments_lexer": "ipython3",
   "version": "3.7.3"
  }
 },
 "nbformat": 4,
 "nbformat_minor": 4
}
