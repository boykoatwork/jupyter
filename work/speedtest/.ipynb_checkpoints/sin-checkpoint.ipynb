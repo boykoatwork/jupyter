{
 "cells": [
  {
   "cell_type": "code",
   "execution_count": 1,
   "id": "a1abcd57-9697-42ee-9be7-e0cd47778dfe",
   "metadata": {},
   "outputs": [],
   "source": [
    "import numpy as np\n",
    "import time, math, random,scipy"
   ]
  },
  {
   "cell_type": "code",
   "execution_count": 2,
   "id": "1a344aaf-3417-404e-af64-b8ee62ea9ef0",
   "metadata": {},
   "outputs": [],
   "source": [
    "a = 2 * math.pi / 100\n",
    "m = 5\n",
    "n = 5000000"
   ]
  },
  {
   "cell_type": "code",
   "execution_count": 3,
   "id": "ae2a0c38-c839-4460-8cf4-719df065b681",
   "metadata": {},
   "outputs": [
    {
     "name": "stdout",
     "output_type": "stream",
     "text": [
      "scalar\n",
      "test2 math.sin 4.216475963592529 0.16865903854370118\n"
     ]
    }
   ],
   "source": [
    "print(\"scalar\")\n",
    "t0 = time.time()\n",
    "for i in range(m):\n",
    "    for k in range(n):\n",
    "        x = math.sin(a * k)\n",
    "tmath = time.time() - t0\n",
    "print(f\"test2 math.sin {tmath} {tmath/n/m*1000000}\")"
   ]
  },
  {
   "cell_type": "code",
   "execution_count": 4,
   "id": "d2aa3665-e13a-4867-8243-f2ddd8b9aaf0",
   "metadata": {},
   "outputs": [
    {
     "name": "stdout",
     "output_type": "stream",
     "text": [
      "1704903034.3208668\n",
      "test2 np.sin  27.894979238510132 1.115799169540405\n",
      "tnp/tmath= 6.615709298326701\n"
     ]
    }
   ],
   "source": [
    "print(t0)\n",
    "\n",
    "t0 = time.time()\n",
    "\n",
    "for i in range(m):\n",
    "    for k in range(n):\n",
    "        x = np.sin(a * k)\n",
    "\n",
    "tnp = time.time()-t0\n",
    "\n",
    "print(\"test2 np.sin \",tnp, tnp/n/m*1000000)\n",
    "print(\"tnp/tmath=\",tnp/tmath)"
   ]
  },
  {
   "cell_type": "code",
   "execution_count": 5,
   "id": "4202271a-c77c-4c84-80b9-211093ab8ab7",
   "metadata": {},
   "outputs": [
    {
     "name": "stdout",
     "output_type": "stream",
     "text": [
      "1704903066.447676\n"
     ]
    },
    {
     "name": "stderr",
     "output_type": "stream",
     "text": [
      "/tmp/ipykernel_25232/4261876648.py:7: DeprecationWarning: scipy.sin is deprecated and will be removed in SciPy 2.0.0, use numpy.sin instead\n",
      "  x = scipy.sin(a * k)\n"
     ]
    },
    {
     "name": "stdout",
     "output_type": "stream",
     "text": [
      "tsc/tmath= 10.264740108413925\n"
     ]
    }
   ],
   "source": [
    "t0=time.time()\n",
    "\n",
    "print(t0)\n",
    "\n",
    "for i in range(m):\n",
    "    for k in range(n):\n",
    "        x = scipy.sin(a * k)\n",
    "\n",
    "tsc = time.time() - t0\n",
    "print(\"tsc/tmath=\",tsc/tmath)"
   ]
  },
  {
   "cell_type": "code",
   "execution_count": 6,
   "id": "2182b79f-4739-41d5-8d9f-d868d159521f",
   "metadata": {},
   "outputs": [
    {
     "name": "stdout",
     "output_type": "stream",
     "text": [
      "1704903066.447676\n",
      "np vec 0.40424251556396484 0.016169700622558594\n",
      "tnp/tmath= 0.09587212616754523\n"
     ]
    }
   ],
   "source": [
    "n = 5000000\n",
    "xx = np.linspace(0,n,n)\n",
    "\n",
    "#t0 = time.time()\n",
    "#yy=math.sin(a*xx) #does not work\n",
    "print(t0)\n",
    "t0 = time.time()\n",
    "\n",
    "for i in range(m):\n",
    "    yy=np.sin(a*xx)\n",
    "\n",
    "tnp=time.time()-t0\n",
    "\n",
    "print(\"np vec\",tnp, tnp/n/m*1000000)\n",
    "print(\"tnp/tmath=\",tnp/tmath)"
   ]
  },
  {
   "cell_type": "code",
   "execution_count": 7,
   "id": "65e783d0-5483-46d2-a225-06060efbf091",
   "metadata": {},
   "outputs": [
    {
     "name": "stderr",
     "output_type": "stream",
     "text": [
      "/tmp/ipykernel_25232/3919344319.py:4: DeprecationWarning: scipy.sin is deprecated and will be removed in SciPy 2.0.0, use numpy.sin instead\n",
      "  yy = scipy.sin(a*xx)\n"
     ]
    },
    {
     "name": "stdout",
     "output_type": "stream",
     "text": [
      "test2 scipy vec 0.42408227920532227 0.016169700622558594\n",
      "tsc/tmath= 0.10057742125582875\n"
     ]
    }
   ],
   "source": [
    "t0 = time.time()\n",
    "\n",
    "for i in range(m):\n",
    "    yy = scipy.sin(a*xx)\n",
    "\n",
    "tsc = time.time()-t0\n",
    "\n",
    "print(\"test2 scipy vec\",tsc, tnp/n/m*1000000)\n",
    "print(\"tsc/tmath=\",tsc/tmath)"
   ]
  },
  {
   "cell_type": "code",
   "execution_count": null,
   "id": "6ff79087-d3db-4e4d-995e-11ceeaf8a992",
   "metadata": {},
   "outputs": [],
   "source": []
  }
 ],
 "metadata": {
  "kernelspec": {
   "display_name": "Python 3 (ipykernel)",
   "language": "python",
   "name": "python3"
  },
  "language_info": {
   "codemirror_mode": {
    "name": "ipython",
    "version": 3
   },
   "file_extension": ".py",
   "mimetype": "text/x-python",
   "name": "python",
   "nbconvert_exporter": "python",
   "pygments_lexer": "ipython3",
   "version": "3.9.2"
  }
 },
 "nbformat": 4,
 "nbformat_minor": 5
}
