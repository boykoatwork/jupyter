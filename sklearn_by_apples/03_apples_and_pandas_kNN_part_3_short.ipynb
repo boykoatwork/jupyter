{
 "cells": [
  {
   "cell_type": "code",
   "execution_count": 1,
   "id": "493f921a-6ff3-4315-9c94-967755592364",
   "metadata": {},
   "outputs": [],
   "source": [
    "import pandas as pd\n",
    "from sklearn.neighbors import KNeighborsClassifier"
   ]
  },
  {
   "cell_type": "code",
   "execution_count": 2,
   "id": "4c82db9d-290e-4815-924f-39f11b34a05a",
   "metadata": {},
   "outputs": [],
   "source": [
    "ap = pd.read_csv('data/apples.csv')"
   ]
  },
  {
   "cell_type": "code",
   "execution_count": 3,
   "id": "10692630-724f-4bd4-bb6f-3a37f140cb68",
   "metadata": {},
   "outputs": [
    {
     "data": {
      "text/plain": [
       "KNeighborsClassifier(n_neighbors=3)"
      ]
     },
     "execution_count": 3,
     "metadata": {},
     "output_type": "execute_result"
    }
   ],
   "source": [
    "model = KNeighborsClassifier(n_neighbors=3)\n",
    "model.fit(ap[['mass', 'radius']], ap['edible'])"
   ]
  },
  {
   "cell_type": "code",
   "execution_count": 4,
   "id": "29dc6a0a-286a-4762-9838-246a071794f1",
   "metadata": {},
   "outputs": [],
   "source": [
    "x, y = 35,39\n",
    "p = pd.DataFrame({\"mass\": [x], \"radius\" : [y]})"
   ]
  },
  {
   "cell_type": "code",
   "execution_count": 5,
   "id": "0255db48-dad4-458f-a971-2bf3c7f1513c",
   "metadata": {},
   "outputs": [
    {
     "name": "stdout",
     "output_type": "stream",
     "text": [
      "[0]\n"
     ]
    }
   ],
   "source": [
    "#Predict Output\n",
    "predicted= model.predict(p)\n",
    "print(predicted)"
   ]
  },
  {
   "cell_type": "code",
   "execution_count": 6,
   "id": "1d47af78-85ac-476e-bc99-0766dfe2c3e5",
   "metadata": {},
   "outputs": [],
   "source": [
    "x, y = 60, 60\n",
    "p = pd.DataFrame({\"mass\": [x], \"radius\" : [y]})"
   ]
  },
  {
   "cell_type": "code",
   "execution_count": 7,
   "id": "de9e7165-d76f-44aa-bd61-166b80ee0612",
   "metadata": {},
   "outputs": [
    {
     "name": "stdout",
     "output_type": "stream",
     "text": [
      "[1]\n"
     ]
    }
   ],
   "source": [
    "#Predict Output\n",
    "predicted= model.predict(p)\n",
    "print(predicted)"
   ]
  },
  {
   "cell_type": "code",
   "execution_count": null,
   "id": "93c01cc1-9d20-49a5-8ba9-ba129e7846d6",
   "metadata": {},
   "outputs": [],
   "source": []
  }
 ],
 "metadata": {
  "kernelspec": {
   "display_name": "Python 3 (ipykernel)",
   "language": "python",
   "name": "python3"
  },
  "language_info": {
   "codemirror_mode": {
    "name": "ipython",
    "version": 3
   },
   "file_extension": ".py",
   "mimetype": "text/x-python",
   "name": "python",
   "nbconvert_exporter": "python",
   "pygments_lexer": "ipython3",
   "version": "3.9.2"
  }
 },
 "nbformat": 4,
 "nbformat_minor": 5
}
