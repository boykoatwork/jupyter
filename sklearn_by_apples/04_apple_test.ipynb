{
 "cells": [
  {
   "cell_type": "code",
   "execution_count": 1,
   "id": "493f921a-6ff3-4315-9c94-967755592364",
   "metadata": {},
   "outputs": [],
   "source": [
    "from sklearn.neighbors import KNeighborsClassifier"
   ]
  },
  {
   "cell_type": "markdown",
   "id": "aefae953-7550-408b-9079-09207e390e24",
   "metadata": {},
   "source": [
    "https://scikit-learn.org/stable/modules/neighbors.html#classification\n",
    "\n",
    "https://scikit-learn.org/stable/modules/generated/sklearn.neighbors.KNeighborsClassifier.html#sklearn.neighbors.KNeighborsClassifier\n",
    "\n"
   ]
  },
  {
   "cell_type": "code",
   "execution_count": 10,
   "id": "b9486bca-cb5c-4696-ad3e-dbf1e9d492dc",
   "metadata": {},
   "outputs": [],
   "source": [
    "f = open('data/apples.csv', 'r')\n",
    "t = f.readlines()\n",
    "f.close()\n",
    "X = []\n",
    "y = []\n",
    "for a in t[1:]:\n",
    "    s = a.split(',')\n",
    "    y.append(int(s[3]))\n",
    "    X.append([float(s[1]), float(s[2])])"
   ]
  },
  {
   "cell_type": "code",
   "execution_count": 11,
   "id": "86d6fe10-9c3e-44e8-829b-78d89c90ef93",
   "metadata": {},
   "outputs": [],
   "source": [
    "model = KNeighborsClassifier(n_neighbors=3)"
   ]
  },
  {
   "cell_type": "code",
   "execution_count": 12,
   "id": "97d0fdf3-6f2c-427a-b861-238779b6a943",
   "metadata": {},
   "outputs": [
    {
     "data": {
      "text/plain": [
       "KNeighborsClassifier(n_neighbors=3)"
      ]
     },
     "execution_count": 12,
     "metadata": {},
     "output_type": "execute_result"
    }
   ],
   "source": [
    "model.fit(X, y)"
   ]
  },
  {
   "cell_type": "code",
   "execution_count": null,
   "id": "29dc6a0a-286a-4762-9838-246a071794f1",
   "metadata": {},
   "outputs": [],
   "source": [
    "x, y = 35,39"
   ]
  },
  {
   "cell_type": "code",
   "execution_count": 17,
   "id": "0255db48-dad4-458f-a971-2bf3c7f1513c",
   "metadata": {},
   "outputs": [
    {
     "name": "stdout",
     "output_type": "stream",
     "text": [
      "[0 1]\n"
     ]
    }
   ],
   "source": [
    "#Predict Output\n",
    "predicted= model.predict([[x,y],[80,80]])\n",
    "print(predicted)"
   ]
  },
  {
   "cell_type": "code",
   "execution_count": 19,
   "id": "040e58eb-f655-4f68-b181-8d641d07099d",
   "metadata": {},
   "outputs": [
    {
     "name": "stdout",
     "output_type": "stream",
     "text": [
      "[[1. 0.]\n",
      " [0. 1.]\n",
      " [1. 0.]]\n"
     ]
    }
   ],
   "source": [
    "#Predict Output\n",
    "probab = model.predict_proba([[x,y],[80,80], [35,34]])\n",
    "print(probab)"
   ]
  },
  {
   "cell_type": "code",
   "execution_count": 22,
   "id": "e28c1a83-4aa8-4ed5-a808-21311581831f",
   "metadata": {},
   "outputs": [
    {
     "data": {
      "text/plain": [
       "[[38.650132748677834, 52.8066362859062],\n",
       " [33.2757288136143, 45.9609989027039],\n",
       " [88.57384815122266, 89.08597532175946],\n",
       " [73.95841846625001, 56.924440380882885],\n",
       " [20.399512290699942, 48.21764500484082],\n",
       " [23.092565905119123, 24.038649567650967],\n",
       " [93.142965235362, 29.56267723247049]]"
      ]
     },
     "execution_count": 22,
     "metadata": {},
     "output_type": "execute_result"
    }
   ],
   "source": [
    "import random\n",
    "\n",
    "apples = []\n",
    "\n",
    "for i in range(100):\n",
    "    x = 10 + random.random()*90\n",
    "    y = 10 + random.random()*90\n",
    "    apples.append([x,y])\n",
    "apples[:7]"
   ]
  },
  {
   "cell_type": "code",
   "execution_count": 24,
   "id": "8499214d-0f3c-4cbe-b0ba-ea99c22e0c07",
   "metadata": {},
   "outputs": [
    {
     "name": "stdout",
     "output_type": "stream",
     "text": [
      "[1 1 1 1 0 0 1 1 1 1 1 1 1 1 1 1 1 0 1 1 0 0 1 0 1 1 1 1 0 1 0 1 1 1 1 0 1\n",
      " 1 1 1 1 1 1 1 0 0 1 1 1 1 0 1 1 1 1 1 0 1 1 1 1 1 1 1 1 0 1 1 1 1 1 1 1 1\n",
      " 1 1 1 1 0 1 1 0 0 1 1 1 1 0 1 1 0 1 0 1 1 1 0 1 1 1]\n"
     ]
    }
   ],
   "source": [
    "print(model.predict(apples))"
   ]
  },
  {
   "cell_type": "code",
   "execution_count": 30,
   "id": "3ca3b54a-e061-4252-83e7-0c241586ec92",
   "metadata": {},
   "outputs": [],
   "source": [
    "X = [[1,2,3], [4,5,6], [7,8,9], [1,2,4], [1,2,5]]\n",
    "y = [1,2,3,2,1]\n",
    "\n"
   ]
  },
  {
   "cell_type": "code",
   "execution_count": 31,
   "id": "2201725b-fbe0-475a-bf59-5ed8199274e0",
   "metadata": {},
   "outputs": [
    {
     "data": {
      "text/plain": [
       "[[1, 2, 3], [4, 5, 6], [7, 8, 9], [1, 2, 4], [1, 2, 5]]"
      ]
     },
     "execution_count": 31,
     "metadata": {},
     "output_type": "execute_result"
    }
   ],
   "source": [
    "X"
   ]
  },
  {
   "cell_type": "code",
   "execution_count": 32,
   "id": "0957bf8d-5970-4cc6-9ccd-180735b00a39",
   "metadata": {},
   "outputs": [
    {
     "data": {
      "text/plain": [
       "[1, 2, 3, 2, 1]"
      ]
     },
     "execution_count": 32,
     "metadata": {},
     "output_type": "execute_result"
    }
   ],
   "source": [
    "y"
   ]
  },
  {
   "cell_type": "code",
   "execution_count": 34,
   "id": "7eb1d784-747c-4b4b-b55c-0a6633c1ce0f",
   "metadata": {},
   "outputs": [],
   "source": [
    "new_model = KNeighborsClassifier(n_neighbors=3)"
   ]
  },
  {
   "cell_type": "code",
   "execution_count": 35,
   "id": "170403a0-7143-4eaa-8629-70ce3ad98761",
   "metadata": {},
   "outputs": [
    {
     "data": {
      "text/plain": [
       "KNeighborsClassifier(n_neighbors=3)"
      ]
     },
     "execution_count": 35,
     "metadata": {},
     "output_type": "execute_result"
    }
   ],
   "source": [
    "new_model.fit(X,y)"
   ]
  },
  {
   "cell_type": "code",
   "execution_count": 38,
   "id": "d1e1937e-f096-4613-a24c-e01dee00b8cd",
   "metadata": {},
   "outputs": [
    {
     "data": {
      "text/plain": [
       "array([1, 1])"
      ]
     },
     "execution_count": 38,
     "metadata": {},
     "output_type": "execute_result"
    }
   ],
   "source": [
    "new_model.predict([[1,2,3],[1,2,4]])"
   ]
  },
  {
   "cell_type": "code",
   "execution_count": null,
   "id": "5b14c09a-575a-4d2a-96ae-5516a8044a1a",
   "metadata": {},
   "outputs": [],
   "source": []
  }
 ],
 "metadata": {
  "kernelspec": {
   "display_name": "Python 3 (ipykernel)",
   "language": "python",
   "name": "python3"
  },
  "language_info": {
   "codemirror_mode": {
    "name": "ipython",
    "version": 3
   },
   "file_extension": ".py",
   "mimetype": "text/x-python",
   "name": "python",
   "nbconvert_exporter": "python",
   "pygments_lexer": "ipython3",
   "version": "3.9.2"
  }
 },
 "nbformat": 4,
 "nbformat_minor": 5
}
