{
 "cells": [
  {
   "cell_type": "code",
   "execution_count": 1,
   "id": "493f921a-6ff3-4315-9c94-967755592364",
   "metadata": {},
   "outputs": [],
   "source": [
    "import matplotlib.pyplot as plt\n",
    "import numpy as np\n",
    "import pandas as pd"
   ]
  },
  {
   "cell_type": "code",
   "execution_count": 2,
   "id": "4c82db9d-290e-4815-924f-39f11b34a05a",
   "metadata": {},
   "outputs": [],
   "source": [
    "ap = pd.read_csv('data/apples.csv')"
   ]
  },
  {
   "cell_type": "code",
   "execution_count": 3,
   "id": "84d42f87-3e62-41d1-a738-fc083d76ff4e",
   "metadata": {},
   "outputs": [
    {
     "data": {
      "text/html": [
       "<div>\n",
       "<style scoped>\n",
       "    .dataframe tbody tr th:only-of-type {\n",
       "        vertical-align: middle;\n",
       "    }\n",
       "\n",
       "    .dataframe tbody tr th {\n",
       "        vertical-align: top;\n",
       "    }\n",
       "\n",
       "    .dataframe thead th {\n",
       "        text-align: right;\n",
       "    }\n",
       "</style>\n",
       "<table border=\"1\" class=\"dataframe\">\n",
       "  <thead>\n",
       "    <tr style=\"text-align: right;\">\n",
       "      <th></th>\n",
       "      <th>Unnamed: 0</th>\n",
       "      <th>mass</th>\n",
       "      <th>radius</th>\n",
       "      <th>edible</th>\n",
       "    </tr>\n",
       "  </thead>\n",
       "  <tbody>\n",
       "    <tr>\n",
       "      <th>0</th>\n",
       "      <td>0</td>\n",
       "      <td>51.954352</td>\n",
       "      <td>63.674804</td>\n",
       "      <td>1</td>\n",
       "    </tr>\n",
       "    <tr>\n",
       "      <th>1</th>\n",
       "      <td>1</td>\n",
       "      <td>61.226163</td>\n",
       "      <td>46.651183</td>\n",
       "      <td>1</td>\n",
       "    </tr>\n",
       "    <tr>\n",
       "      <th>2</th>\n",
       "      <td>2</td>\n",
       "      <td>49.549993</td>\n",
       "      <td>67.296055</td>\n",
       "      <td>1</td>\n",
       "    </tr>\n",
       "    <tr>\n",
       "      <th>3</th>\n",
       "      <td>3</td>\n",
       "      <td>63.061147</td>\n",
       "      <td>41.352712</td>\n",
       "      <td>1</td>\n",
       "    </tr>\n",
       "    <tr>\n",
       "      <th>4</th>\n",
       "      <td>4</td>\n",
       "      <td>57.675158</td>\n",
       "      <td>58.595559</td>\n",
       "      <td>1</td>\n",
       "    </tr>\n",
       "    <tr>\n",
       "      <th>...</th>\n",
       "      <td>...</td>\n",
       "      <td>...</td>\n",
       "      <td>...</td>\n",
       "      <td>...</td>\n",
       "    </tr>\n",
       "    <tr>\n",
       "      <th>195</th>\n",
       "      <td>95</td>\n",
       "      <td>31.977738</td>\n",
       "      <td>30.953636</td>\n",
       "      <td>0</td>\n",
       "    </tr>\n",
       "    <tr>\n",
       "      <th>196</th>\n",
       "      <td>96</td>\n",
       "      <td>40.077489</td>\n",
       "      <td>26.946904</td>\n",
       "      <td>0</td>\n",
       "    </tr>\n",
       "    <tr>\n",
       "      <th>197</th>\n",
       "      <td>97</td>\n",
       "      <td>10.591038</td>\n",
       "      <td>4.041881</td>\n",
       "      <td>0</td>\n",
       "    </tr>\n",
       "    <tr>\n",
       "      <th>198</th>\n",
       "      <td>98</td>\n",
       "      <td>34.565213</td>\n",
       "      <td>8.833894</td>\n",
       "      <td>0</td>\n",
       "    </tr>\n",
       "    <tr>\n",
       "      <th>199</th>\n",
       "      <td>99</td>\n",
       "      <td>29.911818</td>\n",
       "      <td>33.890926</td>\n",
       "      <td>0</td>\n",
       "    </tr>\n",
       "  </tbody>\n",
       "</table>\n",
       "<p>200 rows × 4 columns</p>\n",
       "</div>"
      ],
      "text/plain": [
       "     Unnamed: 0       mass     radius  edible\n",
       "0             0  51.954352  63.674804       1\n",
       "1             1  61.226163  46.651183       1\n",
       "2             2  49.549993  67.296055       1\n",
       "3             3  63.061147  41.352712       1\n",
       "4             4  57.675158  58.595559       1\n",
       "..          ...        ...        ...     ...\n",
       "195          95  31.977738  30.953636       0\n",
       "196          96  40.077489  26.946904       0\n",
       "197          97  10.591038   4.041881       0\n",
       "198          98  34.565213   8.833894       0\n",
       "199          99  29.911818  33.890926       0\n",
       "\n",
       "[200 rows x 4 columns]"
      ]
     },
     "execution_count": 3,
     "metadata": {},
     "output_type": "execute_result"
    }
   ],
   "source": [
    "ap"
   ]
  },
  {
   "cell_type": "code",
   "execution_count": 4,
   "id": "173bb0f9-792e-4b34-bf5f-7f08314a96e0",
   "metadata": {},
   "outputs": [
    {
     "data": {
      "text/html": [
       "<div>\n",
       "<style scoped>\n",
       "    .dataframe tbody tr th:only-of-type {\n",
       "        vertical-align: middle;\n",
       "    }\n",
       "\n",
       "    .dataframe tbody tr th {\n",
       "        vertical-align: top;\n",
       "    }\n",
       "\n",
       "    .dataframe thead th {\n",
       "        text-align: right;\n",
       "    }\n",
       "</style>\n",
       "<table border=\"1\" class=\"dataframe\">\n",
       "  <thead>\n",
       "    <tr style=\"text-align: right;\">\n",
       "      <th></th>\n",
       "      <th>Unnamed: 0</th>\n",
       "      <th>mass</th>\n",
       "      <th>radius</th>\n",
       "      <th>edible</th>\n",
       "    </tr>\n",
       "  </thead>\n",
       "  <tbody>\n",
       "    <tr>\n",
       "      <th>0</th>\n",
       "      <td>0</td>\n",
       "      <td>51.954352</td>\n",
       "      <td>63.674804</td>\n",
       "      <td>1</td>\n",
       "    </tr>\n",
       "    <tr>\n",
       "      <th>1</th>\n",
       "      <td>1</td>\n",
       "      <td>61.226163</td>\n",
       "      <td>46.651183</td>\n",
       "      <td>1</td>\n",
       "    </tr>\n",
       "    <tr>\n",
       "      <th>2</th>\n",
       "      <td>2</td>\n",
       "      <td>49.549993</td>\n",
       "      <td>67.296055</td>\n",
       "      <td>1</td>\n",
       "    </tr>\n",
       "    <tr>\n",
       "      <th>3</th>\n",
       "      <td>3</td>\n",
       "      <td>63.061147</td>\n",
       "      <td>41.352712</td>\n",
       "      <td>1</td>\n",
       "    </tr>\n",
       "    <tr>\n",
       "      <th>4</th>\n",
       "      <td>4</td>\n",
       "      <td>57.675158</td>\n",
       "      <td>58.595559</td>\n",
       "      <td>1</td>\n",
       "    </tr>\n",
       "    <tr>\n",
       "      <th>...</th>\n",
       "      <td>...</td>\n",
       "      <td>...</td>\n",
       "      <td>...</td>\n",
       "      <td>...</td>\n",
       "    </tr>\n",
       "    <tr>\n",
       "      <th>95</th>\n",
       "      <td>95</td>\n",
       "      <td>69.610307</td>\n",
       "      <td>62.116399</td>\n",
       "      <td>1</td>\n",
       "    </tr>\n",
       "    <tr>\n",
       "      <th>96</th>\n",
       "      <td>96</td>\n",
       "      <td>58.125993</td>\n",
       "      <td>36.455791</td>\n",
       "      <td>1</td>\n",
       "    </tr>\n",
       "    <tr>\n",
       "      <th>97</th>\n",
       "      <td>97</td>\n",
       "      <td>45.787045</td>\n",
       "      <td>48.255777</td>\n",
       "      <td>1</td>\n",
       "    </tr>\n",
       "    <tr>\n",
       "      <th>98</th>\n",
       "      <td>98</td>\n",
       "      <td>57.993076</td>\n",
       "      <td>40.810683</td>\n",
       "      <td>1</td>\n",
       "    </tr>\n",
       "    <tr>\n",
       "      <th>99</th>\n",
       "      <td>99</td>\n",
       "      <td>60.136024</td>\n",
       "      <td>49.715562</td>\n",
       "      <td>1</td>\n",
       "    </tr>\n",
       "  </tbody>\n",
       "</table>\n",
       "<p>100 rows × 4 columns</p>\n",
       "</div>"
      ],
      "text/plain": [
       "    Unnamed: 0       mass     radius  edible\n",
       "0            0  51.954352  63.674804       1\n",
       "1            1  61.226163  46.651183       1\n",
       "2            2  49.549993  67.296055       1\n",
       "3            3  63.061147  41.352712       1\n",
       "4            4  57.675158  58.595559       1\n",
       "..         ...        ...        ...     ...\n",
       "95          95  69.610307  62.116399       1\n",
       "96          96  58.125993  36.455791       1\n",
       "97          97  45.787045  48.255777       1\n",
       "98          98  57.993076  40.810683       1\n",
       "99          99  60.136024  49.715562       1\n",
       "\n",
       "[100 rows x 4 columns]"
      ]
     },
     "execution_count": 4,
     "metadata": {},
     "output_type": "execute_result"
    }
   ],
   "source": [
    "edible = ap[ ap['edible'] == 1]\n",
    "edible"
   ]
  },
  {
   "cell_type": "code",
   "execution_count": 5,
   "id": "35f94e7d-8520-4ce6-a360-76d6d6158318",
   "metadata": {},
   "outputs": [
    {
     "data": {
      "text/html": [
       "<div>\n",
       "<style scoped>\n",
       "    .dataframe tbody tr th:only-of-type {\n",
       "        vertical-align: middle;\n",
       "    }\n",
       "\n",
       "    .dataframe tbody tr th {\n",
       "        vertical-align: top;\n",
       "    }\n",
       "\n",
       "    .dataframe thead th {\n",
       "        text-align: right;\n",
       "    }\n",
       "</style>\n",
       "<table border=\"1\" class=\"dataframe\">\n",
       "  <thead>\n",
       "    <tr style=\"text-align: right;\">\n",
       "      <th></th>\n",
       "      <th>mass</th>\n",
       "      <th>radius</th>\n",
       "    </tr>\n",
       "  </thead>\n",
       "  <tbody>\n",
       "    <tr>\n",
       "      <th>0</th>\n",
       "      <td>51.954352</td>\n",
       "      <td>63.674804</td>\n",
       "    </tr>\n",
       "    <tr>\n",
       "      <th>1</th>\n",
       "      <td>61.226163</td>\n",
       "      <td>46.651183</td>\n",
       "    </tr>\n",
       "    <tr>\n",
       "      <th>2</th>\n",
       "      <td>49.549993</td>\n",
       "      <td>67.296055</td>\n",
       "    </tr>\n",
       "    <tr>\n",
       "      <th>3</th>\n",
       "      <td>63.061147</td>\n",
       "      <td>41.352712</td>\n",
       "    </tr>\n",
       "    <tr>\n",
       "      <th>4</th>\n",
       "      <td>57.675158</td>\n",
       "      <td>58.595559</td>\n",
       "    </tr>\n",
       "    <tr>\n",
       "      <th>...</th>\n",
       "      <td>...</td>\n",
       "      <td>...</td>\n",
       "    </tr>\n",
       "    <tr>\n",
       "      <th>95</th>\n",
       "      <td>69.610307</td>\n",
       "      <td>62.116399</td>\n",
       "    </tr>\n",
       "    <tr>\n",
       "      <th>96</th>\n",
       "      <td>58.125993</td>\n",
       "      <td>36.455791</td>\n",
       "    </tr>\n",
       "    <tr>\n",
       "      <th>97</th>\n",
       "      <td>45.787045</td>\n",
       "      <td>48.255777</td>\n",
       "    </tr>\n",
       "    <tr>\n",
       "      <th>98</th>\n",
       "      <td>57.993076</td>\n",
       "      <td>40.810683</td>\n",
       "    </tr>\n",
       "    <tr>\n",
       "      <th>99</th>\n",
       "      <td>60.136024</td>\n",
       "      <td>49.715562</td>\n",
       "    </tr>\n",
       "  </tbody>\n",
       "</table>\n",
       "<p>100 rows × 2 columns</p>\n",
       "</div>"
      ],
      "text/plain": [
       "         mass     radius\n",
       "0   51.954352  63.674804\n",
       "1   61.226163  46.651183\n",
       "2   49.549993  67.296055\n",
       "3   63.061147  41.352712\n",
       "4   57.675158  58.595559\n",
       "..        ...        ...\n",
       "95  69.610307  62.116399\n",
       "96  58.125993  36.455791\n",
       "97  45.787045  48.255777\n",
       "98  57.993076  40.810683\n",
       "99  60.136024  49.715562\n",
       "\n",
       "[100 rows x 2 columns]"
      ]
     },
     "execution_count": 5,
     "metadata": {},
     "output_type": "execute_result"
    }
   ],
   "source": [
    "edible = ap.loc[ ap['edible'] == 1, ['mass', 'radius']]\n",
    "edible"
   ]
  },
  {
   "cell_type": "code",
   "execution_count": 6,
   "id": "09d0738a-f2cd-46d4-898b-6c52bee89a05",
   "metadata": {},
   "outputs": [
    {
     "data": {
      "image/png": "[encoded data removed]",
      "text/plain": [
       "<Figure size 432x288 with 1 Axes>"
      ]
     },
     "metadata": {
      "needs_background": "light"
     },
     "output_type": "display_data"
    }
   ],
   "source": [
    "plt.plot(edible['mass'], edible['radius'],'or')\n",
    "plt.show()"
   ]
  },
  {
   "cell_type": "code",
   "execution_count": 7,
   "id": "9f5741fb-3ad1-4252-a899-8738325f0b77",
   "metadata": {},
   "outputs": [
    {
     "data": {
      "text/html": [
       "<div>\n",
       "<style scoped>\n",
       "    .dataframe tbody tr th:only-of-type {\n",
       "        vertical-align: middle;\n",
       "    }\n",
       "\n",
       "    .dataframe tbody tr th {\n",
       "        vertical-align: top;\n",
       "    }\n",
       "\n",
       "    .dataframe thead th {\n",
       "        text-align: right;\n",
       "    }\n",
       "</style>\n",
       "<table border=\"1\" class=\"dataframe\">\n",
       "  <thead>\n",
       "    <tr style=\"text-align: right;\">\n",
       "      <th></th>\n",
       "      <th>mass</th>\n",
       "      <th>radius</th>\n",
       "    </tr>\n",
       "  </thead>\n",
       "  <tbody>\n",
       "    <tr>\n",
       "      <th>100</th>\n",
       "      <td>24.156255</td>\n",
       "      <td>7.234067</td>\n",
       "    </tr>\n",
       "    <tr>\n",
       "      <th>101</th>\n",
       "      <td>2.122638</td>\n",
       "      <td>0.606950</td>\n",
       "    </tr>\n",
       "    <tr>\n",
       "      <th>102</th>\n",
       "      <td>17.059908</td>\n",
       "      <td>6.554158</td>\n",
       "    </tr>\n",
       "    <tr>\n",
       "      <th>103</th>\n",
       "      <td>5.252825</td>\n",
       "      <td>16.542765</td>\n",
       "    </tr>\n",
       "    <tr>\n",
       "      <th>104</th>\n",
       "      <td>31.458586</td>\n",
       "      <td>24.491589</td>\n",
       "    </tr>\n",
       "    <tr>\n",
       "      <th>...</th>\n",
       "      <td>...</td>\n",
       "      <td>...</td>\n",
       "    </tr>\n",
       "    <tr>\n",
       "      <th>195</th>\n",
       "      <td>31.977738</td>\n",
       "      <td>30.953636</td>\n",
       "    </tr>\n",
       "    <tr>\n",
       "      <th>196</th>\n",
       "      <td>40.077489</td>\n",
       "      <td>26.946904</td>\n",
       "    </tr>\n",
       "    <tr>\n",
       "      <th>197</th>\n",
       "      <td>10.591038</td>\n",
       "      <td>4.041881</td>\n",
       "    </tr>\n",
       "    <tr>\n",
       "      <th>198</th>\n",
       "      <td>34.565213</td>\n",
       "      <td>8.833894</td>\n",
       "    </tr>\n",
       "    <tr>\n",
       "      <th>199</th>\n",
       "      <td>29.911818</td>\n",
       "      <td>33.890926</td>\n",
       "    </tr>\n",
       "  </tbody>\n",
       "</table>\n",
       "<p>100 rows × 2 columns</p>\n",
       "</div>"
      ],
      "text/plain": [
       "          mass     radius\n",
       "100  24.156255   7.234067\n",
       "101   2.122638   0.606950\n",
       "102  17.059908   6.554158\n",
       "103   5.252825  16.542765\n",
       "104  31.458586  24.491589\n",
       "..         ...        ...\n",
       "195  31.977738  30.953636\n",
       "196  40.077489  26.946904\n",
       "197  10.591038   4.041881\n",
       "198  34.565213   8.833894\n",
       "199  29.911818  33.890926\n",
       "\n",
       "[100 rows x 2 columns]"
      ]
     },
     "execution_count": 7,
     "metadata": {},
     "output_type": "execute_result"
    }
   ],
   "source": [
    "non_edible = ap.loc[ ap['edible'] == 0, ['mass', 'radius']]\n",
    "non_edible"
   ]
  },
  {
   "cell_type": "code",
   "execution_count": 8,
   "id": "a1ef75c7-32c7-45a1-89ee-d1ccd62b4388",
   "metadata": {},
   "outputs": [
    {
     "data": {
      "image/png": "[encoded data removed]",
      "text/plain": [
       "<Figure size 432x288 with 1 Axes>"
      ]
     },
     "metadata": {
      "needs_background": "light"
     },
     "output_type": "display_data"
    }
   ],
   "source": [
    "plt.plot(non_edible['mass'], non_edible['radius'],'ob')\n",
    "plt.show()"
   ]
  },
  {
   "cell_type": "code",
   "execution_count": 9,
   "id": "a27709c5-8ef5-4df6-9a1f-daba0c8dc8ec",
   "metadata": {},
   "outputs": [
    {
     "data": {
      "text/plain": [
       "(<Figure size 432x288 with 1 Axes>, <AxesSubplot:>)"
      ]
     },
     "execution_count": 9,
     "metadata": {},
     "output_type": "execute_result"
    },
    {
     "data": {
      "image/png": "[encoded data removed]",
      "text/plain": [
       "<Figure size 432x288 with 1 Axes>"
      ]
     },
     "metadata": {
      "needs_background": "light"
     },
     "output_type": "display_data"
    }
   ],
   "source": [
    "fig, ax = plt.subplots()\n",
    "ax.plot(edible['mass'], edible['radius'], 'ro')\n",
    "ax.plot(non_edible['mass'], non_edible['radius'], 'bo')\n",
    "\n",
    "fig, ax"
   ]
  },
  {
   "cell_type": "code",
   "execution_count": 10,
   "id": "c11fbfb6-1cc6-4aa3-9c55-42cef130a78b",
   "metadata": {},
   "outputs": [
    {
     "data": {
      "text/plain": [
       "(<Figure size 576x576 with 1 Axes>, <AxesSubplot:>)"
      ]
     },
     "execution_count": 10,
     "metadata": {},
     "output_type": "execute_result"
    },
    {
     "data": {
      "image/png": "[encoded data removed]",
      "text/plain": [
       "<Figure size 576x576 with 1 Axes>"
      ]
     },
     "metadata": {
      "needs_background": "light"
     },
     "output_type": "display_data"
    }
   ],
   "source": [
    "fig, ax = plt.subplots(figsize=(8,8))\n",
    "ax.plot(edible['mass'], edible['radius'], 'ro')\n",
    "ax.plot(non_edible['mass'], non_edible['radius'], 'bo')\n",
    "\n",
    "fig, ax"
   ]
  },
  {
   "cell_type": "code",
   "execution_count": 11,
   "id": "f485e986-e1a1-4bfe-a871-836ba37b415b",
   "metadata": {},
   "outputs": [],
   "source": [
    "x, y = 35,39"
   ]
  },
  {
   "cell_type": "code",
   "execution_count": 12,
   "id": "4cd0d277-9c20-400e-9c4a-bf2eca5b1b41",
   "metadata": {},
   "outputs": [
    {
     "data": {
      "text/plain": [
       "(<Figure size 576x576 with 1 Axes>, <AxesSubplot:>)"
      ]
     },
     "execution_count": 12,
     "metadata": {},
     "output_type": "execute_result"
    },
    {
     "data": {
      "image/png": "[encoded data removed]",
      "text/plain": [
       "<Figure size 576x576 with 1 Axes>"
      ]
     },
     "metadata": {
      "needs_background": "light"
     },
     "output_type": "display_data"
    }
   ],
   "source": [
    "fig, ax = plt.subplots(figsize=(8,8))\n",
    "ax.plot(edible['mass'], edible['radius'], 'ro')\n",
    "ax.plot(non_edible['mass'], non_edible['radius'], 'bo')\n",
    "ax.plot(x,y, 'ys')\n",
    "fig, ax"
   ]
  },
  {
   "cell_type": "markdown",
   "id": "00403209-a367-4161-bc56-239005ef1812",
   "metadata": {
    "tags": []
   },
   "source": [
    "https://stackoverflow.com/questions/9215658/plot-a-circle-with-pyplot\n",
    "\n",
    "https://www.delftstack.com/howto/matplotlib/how-to-plot-a-circle-in-matplotlib/\n",
    "\n",
    "https://matplotlib.org/3.5.1/api/_as_gen/matplotlib.patches.Circle.html#matplotlib-patches-circle\n"
   ]
  },
  {
   "cell_type": "code",
   "execution_count": 13,
   "id": "bbcdc0c0-2985-4cc4-b1e9-bec8dc9112a9",
   "metadata": {
    "tags": []
   },
   "outputs": [
    {
     "data": {
      "text/plain": [
       "(<Figure size 576x576 with 1 Axes>, <AxesSubplot:>)"
      ]
     },
     "execution_count": 13,
     "metadata": {},
     "output_type": "execute_result"
    },
    {
     "data": {
      "image/png": "[encoded data removed]",
      "text/plain": [
       "<Figure size 576x576 with 1 Axes>"
      ]
     },
     "metadata": {
      "needs_background": "light"
     },
     "output_type": "display_data"
    }
   ],
   "source": [
    "fig, ax = plt.subplots(figsize=(8,8))\n",
    "ax.plot(edible['mass'], edible['radius'], 'ro')\n",
    "ax.plot(non_edible['mass'], non_edible['radius'], 'bo')\n",
    "ax.plot(x,y, 'ys')\n",
    "\n",
    "krg = plt.Circle((x,y), 10,fill=False, color ='g')\n",
    "ax.add_artist(krg)\n",
    "\n",
    "ax.set_aspect(1)\n",
    "fig, ax"
   ]
  },
  {
   "cell_type": "code",
   "execution_count": 14,
   "id": "5466bf17-9348-4e8c-ad95-5270627430a0",
   "metadata": {},
   "outputs": [],
   "source": [
    "from sklearn.neighbors import KNeighborsClassifier\n"
   ]
  },
  {
   "cell_type": "markdown",
   "id": "b08e67aa-4e45-43f9-a254-b1ff79afa4f1",
   "metadata": {},
   "source": [
    "строим модель с заданными параметрами:"
   ]
  },
  {
   "cell_type": "code",
   "execution_count": 15,
   "id": "fd371906-5c9b-4089-a0f9-2e16dc874a54",
   "metadata": {},
   "outputs": [],
   "source": [
    "model = KNeighborsClassifier(n_neighbors=3)"
   ]
  },
  {
   "cell_type": "markdown",
   "id": "d78da08f-4c42-4fa5-9d0f-26b86b228862",
   "metadata": {},
   "source": [
    "отдаем модели массив примеров и решений"
   ]
  },
  {
   "cell_type": "code",
   "execution_count": 16,
   "id": "77fc7cd3-f6dc-4851-bf69-54247650ba52",
   "metadata": {},
   "outputs": [
    {
     "data": {
      "text/plain": [
       "KNeighborsClassifier(n_neighbors=3)"
      ]
     },
     "execution_count": 16,
     "metadata": {},
     "output_type": "execute_result"
    }
   ],
   "source": [
    "# Train the model using the training sets\n",
    "model.fit(ap[['mass', 'radius']], ap['edible'])"
   ]
  },
  {
   "cell_type": "markdown",
   "id": "c285b4f6-f238-491d-84fb-f63676f97899",
   "metadata": {},
   "source": [
    "Классифицируем наш объект"
   ]
  },
  {
   "cell_type": "code",
   "execution_count": 18,
   "id": "01b2c28d-e9ab-4da2-a1a5-6b19277e6d07",
   "metadata": {},
   "outputs": [
    {
     "name": "stdout",
     "output_type": "stream",
     "text": [
      "[0]\n"
     ]
    },
    {
     "name": "stderr",
     "output_type": "stream",
     "text": [
      "/home/vik/env/skl/lib/python3.9/site-packages/sklearn/base.py:450: UserWarning: X does not have valid feature names, but KNeighborsClassifier was fitted with feature names\n",
      "  warnings.warn(\n"
     ]
    }
   ],
   "source": [
    "#Predict Output\n",
    "predicted= model.predict([[x, y]])\n",
    "print(predicted)"
   ]
  },
  {
   "cell_type": "code",
   "execution_count": 19,
   "id": "b814b626-87d8-4753-b2c7-766d03fd8d9b",
   "metadata": {},
   "outputs": [
    {
     "data": {
      "text/html": [
       "<div>\n",
       "<style scoped>\n",
       "    .dataframe tbody tr th:only-of-type {\n",
       "        vertical-align: middle;\n",
       "    }\n",
       "\n",
       "    .dataframe tbody tr th {\n",
       "        vertical-align: top;\n",
       "    }\n",
       "\n",
       "    .dataframe thead th {\n",
       "        text-align: right;\n",
       "    }\n",
       "</style>\n",
       "<table border=\"1\" class=\"dataframe\">\n",
       "  <thead>\n",
       "    <tr style=\"text-align: right;\">\n",
       "      <th></th>\n",
       "      <th>mass</th>\n",
       "      <th>radius</th>\n",
       "    </tr>\n",
       "  </thead>\n",
       "  <tbody>\n",
       "    <tr>\n",
       "      <th>0</th>\n",
       "      <td>35</td>\n",
       "      <td>39</td>\n",
       "    </tr>\n",
       "  </tbody>\n",
       "</table>\n",
       "</div>"
      ],
      "text/plain": [
       "   mass  radius\n",
       "0    35      39"
      ]
     },
     "execution_count": 19,
     "metadata": {},
     "output_type": "execute_result"
    }
   ],
   "source": [
    "p = pd.DataFrame({\"mass\": [x], \"radius\" : [y]})\n",
    "p"
   ]
  },
  {
   "cell_type": "code",
   "execution_count": 20,
   "id": "0255db48-dad4-458f-a971-2bf3c7f1513c",
   "metadata": {},
   "outputs": [
    {
     "name": "stdout",
     "output_type": "stream",
     "text": [
      "[0]\n"
     ]
    }
   ],
   "source": [
    "#Predict Output\n",
    "predicted= model.predict(p)\n",
    "print(predicted)"
   ]
  },
  {
   "cell_type": "code",
   "execution_count": 21,
   "id": "df3eb7d0-3bd2-43ae-a603-6c2b205ff28a",
   "metadata": {},
   "outputs": [],
   "source": [
    "x,y = 60,60"
   ]
  },
  {
   "cell_type": "code",
   "execution_count": 22,
   "id": "af7dbccd-9c95-4033-9d53-7598a549b962",
   "metadata": {
    "tags": []
   },
   "outputs": [
    {
     "data": {
      "text/plain": [
       "(<Figure size 576x576 with 1 Axes>, <AxesSubplot:>)"
      ]
     },
     "execution_count": 22,
     "metadata": {},
     "output_type": "execute_result"
    },
    {
     "data": {
      "image/png": "[encoded data removed]",
      "text/plain": [
       "<Figure size 576x576 with 1 Axes>"
      ]
     },
     "metadata": {
      "needs_background": "light"
     },
     "output_type": "display_data"
    }
   ],
   "source": [
    "fig, ax = plt.subplots(figsize=(8,8))\n",
    "ax.plot(edible['mass'], edible['radius'], 'ro')\n",
    "ax.plot(non_edible['mass'], non_edible['radius'], 'bo')\n",
    "ax.plot(x,y, 'ys')\n",
    "\n",
    "krg = plt.Circle((x,y), 10,fill=False, color ='g')\n",
    "ax.add_artist(krg)\n",
    "\n",
    "ax.set_aspect(1)\n",
    "fig, ax"
   ]
  },
  {
   "cell_type": "code",
   "execution_count": 23,
   "id": "3d7445ba-c290-455d-ba84-28f9fc11a808",
   "metadata": {},
   "outputs": [
    {
     "data": {
      "text/html": [
       "<div>\n",
       "<style scoped>\n",
       "    .dataframe tbody tr th:only-of-type {\n",
       "        vertical-align: middle;\n",
       "    }\n",
       "\n",
       "    .dataframe tbody tr th {\n",
       "        vertical-align: top;\n",
       "    }\n",
       "\n",
       "    .dataframe thead th {\n",
       "        text-align: right;\n",
       "    }\n",
       "</style>\n",
       "<table border=\"1\" class=\"dataframe\">\n",
       "  <thead>\n",
       "    <tr style=\"text-align: right;\">\n",
       "      <th></th>\n",
       "      <th>mass</th>\n",
       "      <th>radius</th>\n",
       "    </tr>\n",
       "  </thead>\n",
       "  <tbody>\n",
       "    <tr>\n",
       "      <th>0</th>\n",
       "      <td>60</td>\n",
       "      <td>60</td>\n",
       "    </tr>\n",
       "  </tbody>\n",
       "</table>\n",
       "</div>"
      ],
      "text/plain": [
       "   mass  radius\n",
       "0    60      60"
      ]
     },
     "execution_count": 23,
     "metadata": {},
     "output_type": "execute_result"
    }
   ],
   "source": [
    "p = pd.DataFrame({\"mass\": [x], \"radius\" : [y]})\n",
    "p"
   ]
  },
  {
   "cell_type": "code",
   "execution_count": 24,
   "id": "de9e7165-d76f-44aa-bd61-166b80ee0612",
   "metadata": {},
   "outputs": [
    {
     "name": "stdout",
     "output_type": "stream",
     "text": [
      "[1]\n"
     ]
    }
   ],
   "source": [
    "#Predict Output\n",
    "predicted= model.predict(p)\n",
    "print(predicted)"
   ]
  },
  {
   "cell_type": "code",
   "execution_count": null,
   "id": "93c01cc1-9d20-49a5-8ba9-ba129e7846d6",
   "metadata": {},
   "outputs": [],
   "source": []
  },
  {
   "cell_type": "code",
   "execution_count": null,
   "id": "f344805e-b1dc-4e0f-9721-4e2dca985baa",
   "metadata": {},
   "outputs": [],
   "source": []
  }
 ],
 "metadata": {
  "kernelspec": {
   "display_name": "Python 3 (ipykernel)",
   "language": "python",
   "name": "python3"
  },
  "language_info": {
   "codemirror_mode": {
    "name": "ipython",
    "version": 3
   },
   "file_extension": ".py",
   "mimetype": "text/x-python",
   "name": "python",
   "nbconvert_exporter": "python",
   "pygments_lexer": "ipython3",
   "version": "3.9.2"
  }
 },
 "nbformat": 4,
 "nbformat_minor": 5
}
