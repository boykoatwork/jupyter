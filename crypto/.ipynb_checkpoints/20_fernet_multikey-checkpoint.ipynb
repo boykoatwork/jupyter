{
 "cells": [
  {
   "cell_type": "markdown",
   "id": "863792ae-3c47-42d3-a56f-61d0ac66fa1a",
   "metadata": {},
   "source": [
    "https://cryptography.io/en/latest/fernet/#cryptography.fernet.MultiFernet"
   ]
  },
  {
   "cell_type": "code",
   "execution_count": 1,
   "id": "edb29cd3-02ff-4160-83a5-92bb211a5a4c",
   "metadata": {
    "tags": []
   },
   "outputs": [],
   "source": [
    "from cryptography.fernet import Fernet, MultiFernet"
   ]
  },
  {
   "cell_type": "code",
   "execution_count": 6,
   "id": "e048e350-2c12-480e-9046-dff33664b279",
   "metadata": {},
   "outputs": [
    {
     "data": {
      "text/plain": [
       "b'sG0KwBtNPNcQYZ1nd1eicgoL35SwEy3q0NT8fni2nDc='"
      ]
     },
     "execution_count": 6,
     "metadata": {},
     "output_type": "execute_result"
    }
   ],
   "source": [
    "key1 = Fernet.generate_key()\n",
    "key1"
   ]
  },
  {
   "cell_type": "code",
   "execution_count": 8,
   "id": "94e79efb-3b5f-402b-8f12-24f7de027360",
   "metadata": {},
   "outputs": [
    {
     "data": {
      "text/plain": [
       "b'dGYT_ZOHN8ceZ63o-9SVdyCCnnRk6wcMg6kDkRQfi-c='"
      ]
     },
     "execution_count": 8,
     "metadata": {},
     "output_type": "execute_result"
    }
   ],
   "source": [
    "key2 =Fernet.generate_key()\n",
    "key2"
   ]
  },
  {
   "cell_type": "code",
   "execution_count": 10,
   "id": "860be974-0dcf-4de7-a3b9-03e85ae8a904",
   "metadata": {},
   "outputs": [],
   "source": [
    "fer1 = Fernet(key1)\n",
    "fer2 = Fernet(key2)"
   ]
  },
  {
   "cell_type": "code",
   "execution_count": 11,
   "id": "e55c1865-376f-4de6-8e32-2be11a747a72",
   "metadata": {},
   "outputs": [],
   "source": [
    "f = MultiFernet([fer1, fer2])"
   ]
  },
  {
   "cell_type": "code",
   "execution_count": 12,
   "id": "8f8e8bcf-fd0c-47e6-9a01-ca175cecfe41",
   "metadata": {},
   "outputs": [],
   "source": [
    "msg = b\"I met aliens in UFO. Here is the map\"\n",
    "\n",
    "msg_crypt = f.encrypt(msg)"
   ]
  },
  {
   "cell_type": "code",
   "execution_count": 13,
   "id": "fe6d97e5-caa8-4d4d-9dbb-50c265822d87",
   "metadata": {},
   "outputs": [
    {
     "data": {
      "text/plain": [
       "b'gAAAAABjJCN8DECi-0XzxiEU3jHkWmSdHea9LU_YiRGniaZacfRvrMQS5wJgGmhRmyMnznO1L9hladLnEFhTf_eKfEXb41DPBcSCaZQxL0bHYeh5qpv7mgE_u_YCDT9ipW_6q1RYqpJO'"
      ]
     },
     "execution_count": 13,
     "metadata": {},
     "output_type": "execute_result"
    }
   ],
   "source": [
    "msg_crypt"
   ]
  },
  {
   "cell_type": "code",
   "execution_count": 14,
   "id": "18b4455c-24e9-49fc-97a4-e7bcfe43566f",
   "metadata": {},
   "outputs": [
    {
     "data": {
      "text/plain": [
       "b'I met aliens in UFO. Here is the map'"
      ]
     },
     "execution_count": 14,
     "metadata": {},
     "output_type": "execute_result"
    }
   ],
   "source": [
    "f.decrypt(msg_crypt)"
   ]
  },
  {
   "cell_type": "markdown",
   "id": "a29e42f9-21cb-4c86-811b-19ac53767fee",
   "metadata": {},
   "source": [
    "MultiFernet performs all encryption options using the first key in the list provided. MultiFernet attempts to decrypt tokens with each key in turn. A cryptography.fernet.InvalidToken exception is raised if the correct key is not found in the list provided.\n"
   ]
  },
  {
   "cell_type": "markdown",
   "id": "8bf0426f-445b-4b45-b4f5-c7514d00bda3",
   "metadata": {},
   "source": [
    "key_rotating"
   ]
  },
  {
   "cell_type": "code",
   "execution_count": 21,
   "id": "42a5af58-61e0-4d4b-9ccd-b72ba676205b",
   "metadata": {},
   "outputs": [
    {
     "data": {
      "text/plain": [
       "b'gAAAAABjJCN8DECi-0XzxiEU3jHkWmSdHea9LU_YiRGniaZacfRvrMQS5wJgGmhRmyMnznO1L9hladLnEFhTf_eKfEXb41DPBcSCaZQxL0bHYeh5qpv7mgE_u_YCDT9ipW_6q1RYqpJO'"
      ]
     },
     "execution_count": 21,
     "metadata": {},
     "output_type": "execute_result"
    }
   ],
   "source": [
    "key3 = Fernet.generate_key()\n",
    "\n",
    "fer3 = Fernet(key3)\n",
    "msg_crypt"
   ]
  },
  {
   "cell_type": "code",
   "execution_count": 26,
   "id": "61a312b0-4a30-404e-a296-f48908c09dc5",
   "metadata": {},
   "outputs": [],
   "source": [
    "f2 = MultiFernet([fer3, fer1, fer2])"
   ]
  },
  {
   "cell_type": "code",
   "execution_count": 27,
   "id": "fe59d083-8460-49c5-b78f-aa6ed9b7555e",
   "metadata": {},
   "outputs": [],
   "source": [
    "rotated = f2.rotate(msg_crypt)\n"
   ]
  },
  {
   "cell_type": "code",
   "execution_count": 28,
   "id": "b331df5b-312c-40b4-8e8b-d7456bae7bb3",
   "metadata": {},
   "outputs": [
    {
     "data": {
      "text/plain": [
       "b'gAAAAABjJCN8Ssj993XaTvRGlR80gY46Xfp4op9FQ3q4ms-cU0GaEfYcqhv5XB_kIsIQ2nHUtLDZAAoS0yGJAPTBgr4SRdmX41Uasi0esyaQaUVhpv1dZySSmRdHU_tDvjH4WhmP15T3'"
      ]
     },
     "execution_count": 28,
     "metadata": {},
     "output_type": "execute_result"
    }
   ],
   "source": [
    "rotated"
   ]
  },
  {
   "cell_type": "code",
   "execution_count": 29,
   "id": "91f4a1f4-4e80-427d-8cde-9ae0b140a006",
   "metadata": {},
   "outputs": [
    {
     "data": {
      "text/plain": [
       "b'I met aliens in UFO. Here is the map'"
      ]
     },
     "execution_count": 29,
     "metadata": {},
     "output_type": "execute_result"
    }
   ],
   "source": [
    "f2.decrypt(rotated)"
   ]
  },
  {
   "cell_type": "code",
   "execution_count": null,
   "id": "2da8f840-0e9e-4db9-a27d-477c27e38539",
   "metadata": {},
   "outputs": [],
   "source": []
  }
 ],
 "metadata": {
  "kernelspec": {
   "display_name": "Python 3 (ipykernel)",
   "language": "python",
   "name": "python3"
  },
  "language_info": {
   "codemirror_mode": {
    "name": "ipython",
    "version": 3
   },
   "file_extension": ".py",
   "mimetype": "text/x-python",
   "name": "python",
   "nbconvert_exporter": "python",
   "pygments_lexer": "ipython3",
   "version": "3.9.2"
  }
 },
 "nbformat": 4,
 "nbformat_minor": 5
}
