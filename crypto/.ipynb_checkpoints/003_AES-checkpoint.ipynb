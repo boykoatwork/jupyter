{
 "cells": [
  {
   "cell_type": "code",
   "execution_count": 1,
   "id": "fbf84d54-d199-4a5b-a837-8055842fbc8f",
   "metadata": {},
   "outputs": [],
   "source": [
    "from Crypto.Cipher import AES"
   ]
  },
  {
   "cell_type": "code",
   "execution_count": 2,
   "id": "882442ee-1f24-4bd7-a60e-63f31f1ac344",
   "metadata": {},
   "outputs": [],
   "source": [
    "file_in = open('./data/encrypted.bin', 'rb')"
   ]
  },
  {
   "cell_type": "code",
   "execution_count": 3,
   "id": "51c48d33-f97f-42d6-9e4c-7aa3a102727f",
   "metadata": {},
   "outputs": [],
   "source": [
    "nonce, tag, ciphertext = [ file_in.read(x) for x in (16, 16, -1)]"
   ]
  },
  {
   "cell_type": "code",
   "execution_count": 4,
   "id": "133aee8d-4fe5-4634-b7ce-fb517354d1c1",
   "metadata": {},
   "outputs": [
    {
     "data": {
      "text/plain": [
       "b'\\x9b\\xac\\x95\\x12\\xd0\\xc2\\xc9\\x94\\xaf\\x0f_\\xcf\\x9b\\x1at\\x9c'"
      ]
     },
     "execution_count": 4,
     "metadata": {},
     "output_type": "execute_result"
    }
   ],
   "source": [
    "nonce"
   ]
  },
  {
   "cell_type": "code",
   "execution_count": 5,
   "id": "7b4fd6ee-7bf1-4a4e-91ab-16a6a24754b4",
   "metadata": {},
   "outputs": [
    {
     "data": {
      "text/plain": [
       "b'aDo\\xa8\\xe7\\xb7\\xadd\\x91\\x18>\\xc9#\\xbe\\xb8\\xca'"
      ]
     },
     "execution_count": 5,
     "metadata": {},
     "output_type": "execute_result"
    }
   ],
   "source": [
    "tag"
   ]
  },
  {
   "cell_type": "code",
   "execution_count": 6,
   "id": "198a2ead-ac54-45f2-8059-615df7d9d099",
   "metadata": {},
   "outputs": [
    {
     "data": {
      "text/plain": [
       "b'\\x0e#\\x03\\x0b\\n\\n\\x9e\\xe7~\\xa9N'"
      ]
     },
     "execution_count": 6,
     "metadata": {},
     "output_type": "execute_result"
    }
   ],
   "source": [
    "ciphertext"
   ]
  },
  {
   "cell_type": "code",
   "execution_count": 7,
   "id": "795f0eb4-b624-42e3-aa8f-f51da7f27f93",
   "metadata": {},
   "outputs": [],
   "source": [
    "key = b'Qi@s\\xd90%\\x9e\\x19\\x1fB\\x19$\\xd7\\xe16'"
   ]
  },
  {
   "cell_type": "code",
   "execution_count": 8,
   "id": "01f4eb5f-bbb2-4588-8a86-ae8d249e0e49",
   "metadata": {},
   "outputs": [],
   "source": [
    "cipher = AES.new(key, AES.MODE_EAX, nonce)"
   ]
  },
  {
   "cell_type": "code",
   "execution_count": 9,
   "id": "24620a30-9f27-49f1-a74a-b59b06778969",
   "metadata": {},
   "outputs": [],
   "source": [
    "data = cipher.decrypt_and_verify(ciphertext, tag)"
   ]
  },
  {
   "cell_type": "code",
   "execution_count": 10,
   "id": "aeb36969-9249-421f-8054-6ca59bdf822b",
   "metadata": {},
   "outputs": [
    {
     "data": {
      "text/plain": [
       "b'secret data'"
      ]
     },
     "execution_count": 10,
     "metadata": {},
     "output_type": "execute_result"
    }
   ],
   "source": [
    "data"
   ]
  },
  {
   "cell_type": "markdown",
   "id": "47f325a7-bba2-40db-a526-ecf90b0578b3",
   "metadata": {},
   "source": [
    "Questions"
   ]
  },
  {
   "cell_type": "code",
   "execution_count": null,
   "id": "d5823427-a4c6-4764-a4ee-c0a3fb58cf28",
   "metadata": {},
   "outputs": [],
   "source": []
  }
 ],
 "metadata": {
  "kernelspec": {
   "display_name": "Python 3 (ipykernel)",
   "language": "python",
   "name": "python3"
  },
  "language_info": {
   "codemirror_mode": {
    "name": "ipython",
    "version": 3
   },
   "file_extension": ".py",
   "mimetype": "text/x-python",
   "name": "python",
   "nbconvert_exporter": "python",
   "pygments_lexer": "ipython3",
   "version": "3.9.2"
  }
 },
 "nbformat": 4,
 "nbformat_minor": 5
}
