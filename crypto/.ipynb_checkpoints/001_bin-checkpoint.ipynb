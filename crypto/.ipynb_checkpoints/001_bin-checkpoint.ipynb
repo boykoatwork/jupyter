{
 "cells": [
  {
   "cell_type": "code",
   "execution_count": 4,
   "id": "f5445115-3c71-42ed-b72e-624e6e3f7028",
   "metadata": {},
   "outputs": [
    {
     "data": {
      "text/plain": [
       "'Бла-бла-бла\\n\\ndasdfas\\n\\nfasdfas\\n\\n\\ntest\\n\\ntest'"
      ]
     },
     "execution_count": 4,
     "metadata": {},
     "output_type": "execute_result"
    }
   ],
   "source": [
    "f = open('./data/test.txt', 'r')\n",
    "t = f.read()\n",
    "f.close()\n",
    "t"
   ]
  },
  {
   "cell_type": "code",
   "execution_count": 5,
   "id": "9f5dfbd7-304f-41ee-99fc-7873832ea46a",
   "metadata": {},
   "outputs": [
    {
     "data": {
      "text/plain": [
       "b'\\xd0\\x91\\xd0\\xbb\\xd0\\xb0-\\xd0\\xb1\\xd0\\xbb\\xd0\\xb0-\\xd0\\xb1\\xd0\\xbb\\xd0\\xb0\\n\\ndasdfas\\n\\nfasdfas\\n\\n\\ntest\\n\\ntest'"
      ]
     },
     "execution_count": 5,
     "metadata": {},
     "output_type": "execute_result"
    }
   ],
   "source": [
    "f = open('./data/test.txt', 'rb')\n",
    "t = f.read()\n",
    "f.close()\n",
    "t"
   ]
  },
  {
   "cell_type": "code",
   "execution_count": 6,
   "id": "b12a2775-40fa-42f1-92a0-ad962bb70d2c",
   "metadata": {},
   "outputs": [
    {
     "name": "stdout",
     "output_type": "stream",
     "text": [
      "00000000  d0 91 d0 bb d0 b0 2d d0  b1 d0 bb d0 b0 2d d0 b1  |......-......-..|\n",
      "00000010  d0 bb d0 b0 0a 0a 64 61  73 64 66 61 73 0a 0a 66  |......dasdfas..f|\n",
      "00000020  61 73 64 66 61 73 0a 0a  0a 74 65 73 74 0a 0a 74  |asdfas...test..t|\n",
      "00000030  65 73 74                                          |est|\n",
      "00000033\n"
     ]
    }
   ],
   "source": [
    "!hexdump -C ./data/test.txt"
   ]
  },
  {
   "cell_type": "markdown",
   "id": "edfdb9bd-e638-4838-8bd0-36b29972dfa7",
   "metadata": {},
   "source": [
    "https://www.utf8-chartable.de/unicode-utf8-table.pl?start=1024"
   ]
  },
  {
   "cell_type": "code",
   "execution_count": 7,
   "id": "12921d10-2d26-44dc-a9f6-40c8dcf0a40a",
   "metadata": {},
   "outputs": [],
   "source": [
    "f = open('./data/favicon.ico', 'r')"
   ]
  },
  {
   "cell_type": "code",
   "execution_count": 8,
   "id": "37a2f8e5-7e4f-4f02-a8e7-9daf320a15d8",
   "metadata": {},
   "outputs": [
    {
     "ename": "UnicodeDecodeError",
     "evalue": "'utf-8' codec can't decode byte 0x80 in position 42: invalid start byte",
     "output_type": "error",
     "traceback": [
      "\u001b[0;31m---------------------------------------------------------------------------\u001b[0m",
      "\u001b[0;31mUnicodeDecodeError\u001b[0m                        Traceback (most recent call last)",
      "Input \u001b[0;32mIn [8]\u001b[0m, in \u001b[0;36m<cell line: 1>\u001b[0;34m()\u001b[0m\n\u001b[0;32m----> 1\u001b[0m t \u001b[38;5;241m=\u001b[39m \u001b[43mf\u001b[49m\u001b[38;5;241;43m.\u001b[39;49m\u001b[43mread\u001b[49m\u001b[43m(\u001b[49m\u001b[43m)\u001b[49m\n\u001b[1;32m      2\u001b[0m f\u001b[38;5;241m.\u001b[39mclose()\n\u001b[1;32m      3\u001b[0m t\n",
      "File \u001b[0;32m/usr/lib/python3.9/codecs.py:322\u001b[0m, in \u001b[0;36mBufferedIncrementalDecoder.decode\u001b[0;34m(self, input, final)\u001b[0m\n\u001b[1;32m    319\u001b[0m \u001b[38;5;28;01mdef\u001b[39;00m \u001b[38;5;21mdecode\u001b[39m(\u001b[38;5;28mself\u001b[39m, \u001b[38;5;28minput\u001b[39m, final\u001b[38;5;241m=\u001b[39m\u001b[38;5;28;01mFalse\u001b[39;00m):\n\u001b[1;32m    320\u001b[0m     \u001b[38;5;66;03m# decode input (taking the buffer into account)\u001b[39;00m\n\u001b[1;32m    321\u001b[0m     data \u001b[38;5;241m=\u001b[39m \u001b[38;5;28mself\u001b[39m\u001b[38;5;241m.\u001b[39mbuffer \u001b[38;5;241m+\u001b[39m \u001b[38;5;28minput\u001b[39m\n\u001b[0;32m--> 322\u001b[0m     (result, consumed) \u001b[38;5;241m=\u001b[39m \u001b[38;5;28;43mself\u001b[39;49m\u001b[38;5;241;43m.\u001b[39;49m\u001b[43m_buffer_decode\u001b[49m\u001b[43m(\u001b[49m\u001b[43mdata\u001b[49m\u001b[43m,\u001b[49m\u001b[43m \u001b[49m\u001b[38;5;28;43mself\u001b[39;49m\u001b[38;5;241;43m.\u001b[39;49m\u001b[43merrors\u001b[49m\u001b[43m,\u001b[49m\u001b[43m \u001b[49m\u001b[43mfinal\u001b[49m\u001b[43m)\u001b[49m\n\u001b[1;32m    323\u001b[0m     \u001b[38;5;66;03m# keep undecoded input until the next call\u001b[39;00m\n\u001b[1;32m    324\u001b[0m     \u001b[38;5;28mself\u001b[39m\u001b[38;5;241m.\u001b[39mbuffer \u001b[38;5;241m=\u001b[39m data[consumed:]\n",
      "\u001b[0;31mUnicodeDecodeError\u001b[0m: 'utf-8' codec can't decode byte 0x80 in position 42: invalid start byte"
     ]
    }
   ],
   "source": [
    "t = f.read()\n",
    "f.close()\n",
    "t"
   ]
  },
  {
   "cell_type": "code",
   "execution_count": 9,
   "id": "37baa84e-cc2e-4d70-8a0e-21683352addf",
   "metadata": {},
   "outputs": [
    {
     "data": {
      "text/plain": [
       "b'\\x00\\x00\\x01\\x00\\x01\\x00\\x10\\x10\\x10\\x00\\x01\\x00\\x04\\x00(\\x01\\x00\\x00\\x16\\x00\\x00\\x00(\\x00\\x00\\x00\\x10\\x00\\x00\\x00 \\x00\\x00\\x00\\x01\\x00\\x04\\x00\\x00\\x00\\x00\\x00\\x80\\x00\\x00\\x00\\x00\\x00\\x00\\x00\\x00\\x00\\x00\\x00\\x10\\x00\\x00\\x00\\x00\\x00\\x00\\x00\\x00\\x00\\x00\\x00\\x95\\xff\\x00\\x00\\x00\\x00\\x00\\x00\\x00\\x00\\x00\\x00\\x00\\x00\\x00\\x00\\x00\\x00\\x00\\x00\\x00\\x00\\x00\\x00\\x00\\x00\\x00\\x00\\x00\\x00\\x00\\x00\\x00\\x00\\x00\\x00\\x00\\x00\\x00\\x00\\x00\\x00\\x00\\x00\\x00\\x00\\x00\\x00\\x00\\x00\\x00\\x00\\x00\\x00\\x00\\x00\\x00\\x00\\x00\\x00\\x00\\x00\\x00\\x00\\x00\\x00\\x00\\x00\\x00\\x00\\x00\\x10\\x00\\x00\\x00\\x00\\x00\\x00\\x00\\x01\\x00\\x00\\x00\\x00\\x00\\x00\\x00\\x11\\x10\\x00\\x00\\x00\\x00\\x00\\x01\\x11\\x11\\x00\\x00\\x00\\x00\\x00\\x11\\x11\\x11\\x10\\x00\\x00\\x00\\x01\\x11\\x11\\x11\\x11\\x00\\x00\\x00\\x11\\x11\\x11\\x11\\x11\\x10\\x00\\x00\\x01\\x11\\x10\\x11\\x11\\x00\\x00\\x00\\x00\\x11\\x01\\x01\\x10\\x00\\x00\\x00\\x00\\x00\\x01\\x00\\x00\\x00\\x00\\x00\\x00\\x00\\x10\\x10\\x00\\x00\\x00\\x00\\x00\\x01\\x01\\x01\\x00\\x00\\x00\\x00\\x01\\x10\\x01\\x00\\x11\\x00\\x00\\x00\\x10\\x00\\x10\\x00\\x00\\x10\\x00\\x00\\x00\\x01\\x00\\x00\\x00\\x00\\x00\\x00\\x00\\x00\\x00\\x00\\x00\\x00\\x00\\x00\\x00\\x00\\x00\\x00\\x00\\x00\\x00\\x00\\x00\\x00\\x00\\x00\\x00\\x00\\x00\\x00\\x00\\x00\\x00\\x00\\x00\\x00\\x00\\x00\\x00\\x00\\x00\\x00\\x00\\x00\\x00\\x00\\x00\\x00\\x00\\x00\\x00\\x00\\x00\\x00\\x00\\x00\\x00\\x00\\x00\\x00\\x00\\x00\\x00\\x00\\x00\\x00\\x00\\x00\\x00'"
      ]
     },
     "execution_count": 9,
     "metadata": {},
     "output_type": "execute_result"
    }
   ],
   "source": [
    "f = open('./data/favicon.ico', 'rb')\n",
    "t = f.read()\n",
    "f.close()\n",
    "t"
   ]
  },
  {
   "cell_type": "code",
   "execution_count": 10,
   "id": "694f2555-f1df-49a3-939e-0ceeaafabc06",
   "metadata": {},
   "outputs": [
    {
     "name": "stdout",
     "output_type": "stream",
     "text": [
      "00000000  00 00 01 00 01 00 10 10  10 00 01 00 04 00 28 01  |..............(.|\n",
      "00000010  00 00 16 00 00 00 28 00  00 00 10 00 00 00 20 00  |......(....... .|\n",
      "00000020  00 00 01 00 04 00 00 00  00 00 80 00 00 00 00 00  |................|\n",
      "00000030  00 00 00 00 00 00 10 00  00 00 00 00 00 00 00 00  |................|\n",
      "00000040  00 00 95 ff 00 00 00 00  00 00 00 00 00 00 00 00  |................|\n",
      "00000050  00 00 00 00 00 00 00 00  00 00 00 00 00 00 00 00  |................|\n",
      "*\n",
      "00000080  00 00 00 00 00 00 00 00  00 10 00 00 00 00 00 00  |................|\n",
      "00000090  00 01 00 00 00 00 00 00  00 11 10 00 00 00 00 00  |................|\n",
      "000000a0  01 11 11 00 00 00 00 00  11 11 11 10 00 00 00 01  |................|\n",
      "000000b0  11 11 11 11 00 00 00 11  11 11 11 11 10 00 00 01  |................|\n",
      "000000c0  11 10 11 11 00 00 00 00  11 01 01 10 00 00 00 00  |................|\n",
      "000000d0  00 01 00 00 00 00 00 00  00 10 10 00 00 00 00 00  |................|\n",
      "000000e0  01 01 01 00 00 00 00 01  10 01 00 11 00 00 00 10  |................|\n",
      "000000f0  00 10 00 00 10 00 00 00  01 00 00 00 00 00 00 00  |................|\n",
      "00000100  00 00 00 00 00 00 00 00  00 00 00 00 00 00 00 00  |................|\n",
      "*\n",
      "00000130  00 00 00 00 00 00 00 00  00 00 00 00 00 00        |..............|\n",
      "0000013e\n"
     ]
    }
   ],
   "source": [
    "!hexdump -C ./data/favicon.ico"
   ]
  },
  {
   "cell_type": "markdown",
   "id": "856d2773-0eac-4489-bfcb-4ede9e9c2068",
   "metadata": {},
   "source": [
    "https://pillow.readthedocs.io/en/stable/\n",
    "\n",
    "https://pillow.readthedocs.io/en/stable/handbook/tutorial.html\n",
    "\n"
   ]
  }
 ],
 "metadata": {
  "kernelspec": {
   "display_name": "Python 3 (ipykernel)",
   "language": "python",
   "name": "python3"
  },
  "language_info": {
   "codemirror_mode": {
    "name": "ipython",
    "version": 3
   },
   "file_extension": ".py",
   "mimetype": "text/x-python",
   "name": "python",
   "nbconvert_exporter": "python",
   "pygments_lexer": "ipython3",
   "version": "3.9.2"
  }
 },
 "nbformat": 4,
 "nbformat_minor": 5
}
