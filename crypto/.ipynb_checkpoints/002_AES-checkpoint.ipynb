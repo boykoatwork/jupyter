{
 "cells": [
  {
   "cell_type": "markdown",
   "id": "1c7870ec-4c8b-4f50-9869-99a51e5ad9c8",
   "metadata": {},
   "source": [
    "https://www.pycryptodome.org/src/examples\n",
    "\n",
    "https://www.pycryptodome.org/src/cipher/aes\n",
    "\n",
    "https://habr.com/ru/post/112733/\n",
    "\n",
    "\n",
    "https://blog.cryptographyengineering.com/2012/05/19/how-to-choose-authenticated-encryption/\n",
    "\n",
    "How to choose an Authenticated Encryption mode\n",
    "\n",
    "\n",
    "[EAX etc](https://ru.wikipedia.org/wiki/AEAD-%D1%80%D0%B5%D0%B6%D0%B8%D0%BC_%D0%B1%D0%BB%D0%BE%D1%87%D0%BD%D0%BE%D0%B3%D0%BE_%D1%88%D0%B8%D1%84%D1%80%D0%BE%D0%B2%D0%B0%D0%BD%D0%B8%D1%8F#%D0%92%D0%BE%D0%B7%D0%BD%D0%B8%D0%BA%D0%BD%D0%BE%D0%B2%D0%B5%D0%BD%D0%B8%D0%B5_%D0%BF%D1%80%D0%BE%D0%B1%D0%BB%D0%B5%D0%BC%D1%8B)"
   ]
  },
  {
   "cell_type": "code",
   "execution_count": 1,
   "id": "a840bf48-438d-4cf9-b02b-cc21d6bd8d2a",
   "metadata": {},
   "outputs": [],
   "source": [
    "from Crypto.Cipher import AES"
   ]
  },
  {
   "cell_type": "code",
   "execution_count": 4,
   "id": "f0e79972-72d0-4c51-8afa-3af49b498e1a",
   "metadata": {},
   "outputs": [],
   "source": [
    "from Crypto.Random import get_random_bytes"
   ]
  },
  {
   "cell_type": "code",
   "execution_count": 5,
   "id": "578194f2-86f2-4329-a804-ef0ed9671215",
   "metadata": {},
   "outputs": [],
   "source": [
    "data = b'secret data'  # byte flow!"
   ]
  },
  {
   "cell_type": "code",
   "execution_count": 6,
   "id": "a3a4ae8f-0448-4645-96d4-a62aaa4ef395",
   "metadata": {},
   "outputs": [
    {
     "data": {
      "text/plain": [
       "b'secret data'"
      ]
     },
     "execution_count": 6,
     "metadata": {},
     "output_type": "execute_result"
    }
   ],
   "source": [
    "data"
   ]
  },
  {
   "cell_type": "code",
   "execution_count": 26,
   "id": "85623069-09a8-4b51-99dd-1fbf566ebc46",
   "metadata": {},
   "outputs": [],
   "source": [
    "key = get_random_bytes(16) # example\n",
    "\n",
    "key = b'Qi@s\\xd90%\\x9e\\x19\\x1fB\\x19$\\xd7\\xe16'"
   ]
  },
  {
   "cell_type": "code",
   "execution_count": 8,
   "id": "50ff4800-b91e-4c85-b18c-b678acfe1e83",
   "metadata": {},
   "outputs": [
    {
     "data": {
      "text/plain": [
       "b'Qi@s\\xd90%\\x9e\\x19\\x1fB\\x19$\\xd7\\xe16'"
      ]
     },
     "execution_count": 8,
     "metadata": {},
     "output_type": "execute_result"
    }
   ],
   "source": [
    "key"
   ]
  },
  {
   "cell_type": "code",
   "execution_count": 16,
   "id": "0d87ee23-e217-4448-b069-69866faf35fa",
   "metadata": {},
   "outputs": [],
   "source": [
    "cipher = AES.new(key, AES.MODE_EAX) # EAX - mode for detecting intrusions\n",
    "\n",
    "ciphertext, tag = cipher.encrypt_and_digest(data) # encrypt, digest. start only one time"
   ]
  },
  {
   "cell_type": "code",
   "execution_count": 17,
   "id": "43739278-b500-4d4c-ac91-552137718cb2",
   "metadata": {},
   "outputs": [
    {
     "data": {
      "text/plain": [
       "b'\\x0e#\\x03\\x0b\\n\\n\\x9e\\xe7~\\xa9N'"
      ]
     },
     "execution_count": 17,
     "metadata": {},
     "output_type": "execute_result"
    }
   ],
   "source": [
    "ciphertext"
   ]
  },
  {
   "cell_type": "code",
   "execution_count": 18,
   "id": "aab289cc-035f-4af9-ad79-511ca827a698",
   "metadata": {},
   "outputs": [
    {
     "data": {
      "text/plain": [
       "b'aDo\\xa8\\xe7\\xb7\\xadd\\x91\\x18>\\xc9#\\xbe\\xb8\\xca'"
      ]
     },
     "execution_count": 18,
     "metadata": {},
     "output_type": "execute_result"
    }
   ],
   "source": [
    "tag"
   ]
  },
  {
   "cell_type": "code",
   "execution_count": 19,
   "id": "f4da31df-9b4d-425d-961e-a306bfb0adb0",
   "metadata": {},
   "outputs": [],
   "source": [
    "file_out = open(\"./data/encrypted.bin\", \"wb\")"
   ]
  },
  {
   "cell_type": "code",
   "execution_count": 20,
   "id": "74c21065-7859-4699-9a4a-059e2a6f8eb4",
   "metadata": {},
   "outputs": [
    {
     "data": {
      "text/plain": [
       "[16, 16, 11]"
      ]
     },
     "execution_count": 20,
     "metadata": {},
     "output_type": "execute_result"
    }
   ],
   "source": [
    "[ file_out.write(x) for x in (cipher.nonce, tag, ciphertext) ]"
   ]
  },
  {
   "cell_type": "markdown",
   "id": "436d4317-5375-429b-b716-3cff21ebfcad",
   "metadata": {},
   "source": [
    "https://ru.wikipedia.org/wiki/Nonce"
   ]
  },
  {
   "cell_type": "code",
   "execution_count": 21,
   "id": "f1fb9649-8b29-4115-a98b-09c974da2f41",
   "metadata": {},
   "outputs": [],
   "source": [
    "file_out.close()"
   ]
  },
  {
   "cell_type": "code",
   "execution_count": 22,
   "id": "ef35ff1a-850a-4b1f-997a-c7f08effaa5d",
   "metadata": {},
   "outputs": [
    {
     "name": "stdout",
     "output_type": "stream",
     "text": [
      "���\u0012��ɔ�\u000f_ϛ\u001at�aDo�緭d�\u0018>�#���\u000e#\u0003\u000b",
      "\n",
      "\n",
      "��~�N"
     ]
    }
   ],
   "source": [
    "!cat ./data/encrypted.bin"
   ]
  },
  {
   "cell_type": "code",
   "execution_count": 24,
   "id": "3f595518-28d5-4d19-8d4d-5d0e9a6f5b3b",
   "metadata": {},
   "outputs": [
    {
     "name": "stdout",
     "output_type": "stream",
     "text": [
      "00000000  9b ac 95 12 d0 c2 c9 94  af 0f 5f cf 9b 1a 74 9c  |.........._...t.|\n",
      "00000010  61 44 6f a8 e7 b7 ad 64  91 18 3e c9 23 be b8 ca  |aDo....d..>.#...|\n",
      "00000020  0e 23 03 0b 0a 0a 9e e7  7e a9 4e                 |.#......~.N|\n",
      "0000002b\n"
     ]
    }
   ],
   "source": [
    "!hexdump -C ./data/encrypted.bin"
   ]
  },
  {
   "cell_type": "code",
   "execution_count": 25,
   "id": "fde67f74-b482-4cd6-883a-95cec5bd0e5b",
   "metadata": {},
   "outputs": [
    {
     "data": {
      "text/plain": [
       "b'\\x9b\\xac\\x95\\x12\\xd0\\xc2\\xc9\\x94\\xaf\\x0f_\\xcf\\x9b\\x1at\\x9c'"
      ]
     },
     "execution_count": 25,
     "metadata": {},
     "output_type": "execute_result"
    }
   ],
   "source": [
    "cipher.nonce"
   ]
  },
  {
   "cell_type": "markdown",
   "id": "799c2d8f-3a07-4aa5-8ffe-3ddf24bf1a41",
   "metadata": {},
   "source": [
    "![]( ./img/2022-09-13_00-00-42-16.png )"
   ]
  },
  {
   "cell_type": "code",
   "execution_count": null,
   "id": "48a51d4d-e0a7-47d7-832f-c3bafa05065e",
   "metadata": {},
   "outputs": [],
   "source": []
  }
 ],
 "metadata": {
  "kernelspec": {
   "display_name": "Python 3 (ipykernel)",
   "language": "python",
   "name": "python3"
  },
  "language_info": {
   "codemirror_mode": {
    "name": "ipython",
    "version": 3
   },
   "file_extension": ".py",
   "mimetype": "text/x-python",
   "name": "python",
   "nbconvert_exporter": "python",
   "pygments_lexer": "ipython3",
   "version": "3.9.2"
  }
 },
 "nbformat": 4,
 "nbformat_minor": 5
}
