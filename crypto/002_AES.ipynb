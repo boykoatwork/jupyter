{
 "cells": [
  {
   "cell_type": "markdown",
   "id": "1c7870ec-4c8b-4f50-9869-99a51e5ad9c8",
   "metadata": {},
   "source": [
    "https://www.pycryptodome.org/src/examples\n",
    "\n",
    "https://www.pycryptodome.org/src/cipher/aes\n",
    "\n",
    "https://habr.com/ru/post/112733/\n",
    "\n",
    "\n",
    "https://blog.cryptographyengineering.com/2012/05/19/how-to-choose-authenticated-encryption/\n",
    "\n",
    "How to choose an Authenticated Encryption mode\n",
    "\n",
    "\n",
    "[EAX etc](https://ru.wikipedia.org/wiki/AEAD-%D1%80%D0%B5%D0%B6%D0%B8%D0%BC_%D0%B1%D0%BB%D0%BE%D1%87%D0%BD%D0%BE%D0%B3%D0%BE_%D1%88%D0%B8%D1%84%D1%80%D0%BE%D0%B2%D0%B0%D0%BD%D0%B8%D1%8F#%D0%92%D0%BE%D0%B7%D0%BD%D0%B8%D0%BA%D0%BD%D0%BE%D0%B2%D0%B5%D0%BD%D0%B8%D0%B5_%D0%BF%D1%80%D0%BE%D0%B1%D0%BB%D0%B5%D0%BC%D1%8B)\n",
    "\n",
    "https://ru.wikipedia.org/wiki/%D0%9F%D1%80%D0%BE%D1%82%D0%BE%D0%BA%D0%BE%D0%BB_%D0%94%D0%B8%D1%84%D1%84%D0%B8_%E2%80%94_%D0%A5%D0%B5%D0%BB%D0%BB%D0%BC%D0%B0%D0%BD%D0%B0"
   ]
  },
  {
   "cell_type": "markdown",
   "id": "345d2a1e-efbb-401a-ad28-221d85243bc8",
   "metadata": {},
   "source": [
    "install as\n",
    "\n",
    "    pip install pycryptodome"
   ]
  },
  {
   "cell_type": "code",
   "execution_count": 3,
   "id": "a840bf48-438d-4cf9-b02b-cc21d6bd8d2a",
   "metadata": {},
   "outputs": [],
   "source": [
    "from Crypto.Cipher import AES"
   ]
  },
  {
   "cell_type": "code",
   "execution_count": 4,
   "id": "f0e79972-72d0-4c51-8afa-3af49b498e1a",
   "metadata": {},
   "outputs": [],
   "source": [
    "from Crypto.Random import get_random_bytes"
   ]
  },
  {
   "cell_type": "code",
   "execution_count": 5,
   "id": "578194f2-86f2-4329-a804-ef0ed9671215",
   "metadata": {},
   "outputs": [],
   "source": [
    "data = b'secret data'  # byte flow!"
   ]
  },
  {
   "cell_type": "code",
   "execution_count": 6,
   "id": "a3a4ae8f-0448-4645-96d4-a62aaa4ef395",
   "metadata": {},
   "outputs": [
    {
     "data": {
      "text/plain": [
       "b'secret data'"
      ]
     },
     "execution_count": 6,
     "metadata": {},
     "output_type": "execute_result"
    }
   ],
   "source": [
    "data"
   ]
  },
  {
   "cell_type": "code",
   "execution_count": 10,
   "id": "85623069-09a8-4b51-99dd-1fbf566ebc46",
   "metadata": {},
   "outputs": [],
   "source": [
    "key = get_random_bytes(16) # example\n",
    "\n",
    "key = b'verysecretkey___'"
   ]
  },
  {
   "cell_type": "code",
   "execution_count": 11,
   "id": "50ff4800-b91e-4c85-b18c-b678acfe1e83",
   "metadata": {},
   "outputs": [
    {
     "data": {
      "text/plain": [
       "16"
      ]
     },
     "execution_count": 11,
     "metadata": {},
     "output_type": "execute_result"
    }
   ],
   "source": [
    "len(key)"
   ]
  },
  {
   "cell_type": "code",
   "execution_count": 16,
   "id": "0d87ee23-e217-4448-b069-69866faf35fa",
   "metadata": {},
   "outputs": [],
   "source": [
    "cipher = AES.new(key, AES.MODE_EAX) # EAX - mode for detecting intrusions\n",
    "\n",
    "ciphertext, tag = cipher.encrypt_and_digest(data) # encrypt, digest. start only one time"
   ]
  },
  {
   "cell_type": "code",
   "execution_count": 18,
   "id": "43739278-b500-4d4c-ac91-552137718cb2",
   "metadata": {},
   "outputs": [
    {
     "data": {
      "text/plain": [
       "b'\\xb2\\xd5u\\xb1\\xe6(\\x1d\\x00\\xb4\\r\\x81'"
      ]
     },
     "execution_count": 18,
     "metadata": {},
     "output_type": "execute_result"
    }
   ],
   "source": [
    "ciphertext"
   ]
  },
  {
   "cell_type": "code",
   "execution_count": 14,
   "id": "aab289cc-035f-4af9-ad79-511ca827a698",
   "metadata": {},
   "outputs": [
    {
     "data": {
      "text/plain": [
       "b'60\\x1a\\x1b{\\xd1\\x1ad8\\xdf\\xc7\\x04\\x1a\\xd8\\xb8\\x16'"
      ]
     },
     "execution_count": 14,
     "metadata": {},
     "output_type": "execute_result"
    }
   ],
   "source": [
    "tag"
   ]
  },
  {
   "cell_type": "code",
   "execution_count": 20,
   "id": "c91cca81-99b4-4b29-b1a2-49493bf0ff2f",
   "metadata": {
    "tags": []
   },
   "outputs": [
    {
     "data": {
      "text/plain": [
       "b'\\xfa\\xf2\\xeby\\xa0\\x83\\x0c\\xdc\\x0e\\xb3\\x7f\\x90\\xe6_\\xf1\\xe4'"
      ]
     },
     "execution_count": 20,
     "metadata": {},
     "output_type": "execute_result"
    }
   ],
   "source": [
    "nonce = cipher.nonce\n",
    "nonce"
   ]
  },
  {
   "cell_type": "code",
   "execution_count": 21,
   "id": "f4da31df-9b4d-425d-961e-a306bfb0adb0",
   "metadata": {},
   "outputs": [],
   "source": [
    "file_out = open(\"./data/encrypted.bin\", \"wb\")"
   ]
  },
  {
   "cell_type": "code",
   "execution_count": 22,
   "id": "74c21065-7859-4699-9a4a-059e2a6f8eb4",
   "metadata": {},
   "outputs": [
    {
     "data": {
      "text/plain": [
       "[16, 16, 11]"
      ]
     },
     "execution_count": 22,
     "metadata": {},
     "output_type": "execute_result"
    }
   ],
   "source": [
    "[ file_out.write(x) for x in (nonce, tag, ciphertext) ]"
   ]
  },
  {
   "cell_type": "markdown",
   "id": "436d4317-5375-429b-b716-3cff21ebfcad",
   "metadata": {},
   "source": [
    "https://ru.wikipedia.org/wiki/Nonce"
   ]
  },
  {
   "cell_type": "code",
   "execution_count": 23,
   "id": "f1fb9649-8b29-4115-a98b-09c974da2f41",
   "metadata": {},
   "outputs": [],
   "source": [
    "file_out.close()"
   ]
  },
  {
   "cell_type": "code",
   "execution_count": 24,
   "id": "ef35ff1a-850a-4b1f-997a-c7f08effaa5d",
   "metadata": {},
   "outputs": [
    {
     "name": "stdout",
     "output_type": "stream",
     "text": [
      "���y��\f",
      "�\u000e���_���FF�'f�F�\u0001k���9��u��(\u001d",
      "\u0000�"
     ]
    }
   ],
   "source": [
    "!cat ./data/encrypted.bin"
   ]
  },
  {
   "cell_type": "code",
   "execution_count": 25,
   "id": "3f595518-28d5-4d19-8d4d-5d0e9a6f5b3b",
   "metadata": {},
   "outputs": [
    {
     "name": "stdout",
     "output_type": "stream",
     "text": [
      "00000000  fa f2 eb 79 a0 83 0c dc  0e b3 7f 90 e6 5f f1 e4  |...y........._..|\n",
      "00000010  ec 9f 46 46 8b 27 66 d4  46 cd 01 6b 88 be ce 39  |..FF.'f.F..k...9|\n",
      "00000020  b2 d5 75 b1 e6 28 1d 00  b4 0d 81                 |..u..(.....|\n",
      "0000002b\n"
     ]
    }
   ],
   "source": [
    "!hexdump -C ./data/encrypted.bin"
   ]
  },
  {
   "cell_type": "code",
   "execution_count": 26,
   "id": "fde67f74-b482-4cd6-883a-95cec5bd0e5b",
   "metadata": {},
   "outputs": [
    {
     "data": {
      "text/plain": [
       "b'\\xfa\\xf2\\xeby\\xa0\\x83\\x0c\\xdc\\x0e\\xb3\\x7f\\x90\\xe6_\\xf1\\xe4'"
      ]
     },
     "execution_count": 26,
     "metadata": {},
     "output_type": "execute_result"
    }
   ],
   "source": [
    "cipher.nonce"
   ]
  },
  {
   "cell_type": "markdown",
   "id": "799c2d8f-3a07-4aa5-8ffe-3ddf24bf1a41",
   "metadata": {},
   "source": [
    "![]( ./img/2022-09-13_00-00-42-16.png )"
   ]
  },
  {
   "cell_type": "code",
   "execution_count": null,
   "id": "48a51d4d-e0a7-47d7-832f-c3bafa05065e",
   "metadata": {},
   "outputs": [],
   "source": []
  }
 ],
 "metadata": {
  "kernelspec": {
   "display_name": "Python 3 (ipykernel)",
   "language": "python",
   "name": "python3"
  },
  "language_info": {
   "codemirror_mode": {
    "name": "ipython",
    "version": 3
   },
   "file_extension": ".py",
   "mimetype": "text/x-python",
   "name": "python",
   "nbconvert_exporter": "python",
   "pygments_lexer": "ipython3",
   "version": "3.9.2"
  }
 },
 "nbformat": 4,
 "nbformat_minor": 5
}
