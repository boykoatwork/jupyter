{
 "cells": [
  {
   "cell_type": "markdown",
   "id": "cd9bb5fe-f7fd-4db7-bd8a-9842495871c1",
   "metadata": {},
   "source": [
    "\n",
    "# main site\n",
    "\n",
    "https://cryptography.io/en/latest/\n",
    "\n",
    "## additional reading\n",
    "\n",
    "https://raw.githubusercontent.com/crypto101/crypto101.github.io/master/Crypto101.pdf\n",
    "\n",
    "https://cryptopals.com/"
   ]
  },
  {
   "cell_type": "code",
   "execution_count": 1,
   "id": "a9237db9-0355-4404-be99-f4399cc9ce7b",
   "metadata": {},
   "outputs": [],
   "source": [
    "from cryptography.fernet import Fernet"
   ]
  },
  {
   "cell_type": "code",
   "execution_count": 2,
   "id": "2447682c-b118-4940-a2da-00508aa0b27f",
   "metadata": {},
   "outputs": [],
   "source": [
    "# Put this somewhere safe!"
   ]
  },
  {
   "cell_type": "code",
   "execution_count": 3,
   "id": "21be4326-4ed2-4523-a333-d5ef723e0737",
   "metadata": {},
   "outputs": [],
   "source": [
    "# генерируем секретный ключ"
   ]
  },
  {
   "cell_type": "code",
   "execution_count": 4,
   "id": "174b0524-85ea-40ff-9ec0-72a23e6315d2",
   "metadata": {},
   "outputs": [],
   "source": [
    "key = Fernet.generate_key()"
   ]
  },
  {
   "cell_type": "code",
   "execution_count": 5,
   "id": "08c68ad3-34c7-4511-8819-fd5512802a66",
   "metadata": {},
   "outputs": [
    {
     "data": {
      "text/plain": [
       "b'NBClTRXYLwrDKv_Hkzpm2N3Mvoi1XiVIXH2qhIQaEeU='"
      ]
     },
     "execution_count": 5,
     "metadata": {},
     "output_type": "execute_result"
    }
   ],
   "source": [
    "key"
   ]
  },
  {
   "cell_type": "code",
   "execution_count": 15,
   "id": "01293941-6adf-4716-ae13-62d2de2c120d",
   "metadata": {},
   "outputs": [],
   "source": [
    "# делаем из ключа объект для шифровки и расшифровки"
   ]
  },
  {
   "cell_type": "code",
   "execution_count": 9,
   "id": "1cb584c3-f672-421d-9567-4bc008ebf8b0",
   "metadata": {},
   "outputs": [],
   "source": [
    "f = Fernet(key)"
   ]
  },
  {
   "cell_type": "code",
   "execution_count": 10,
   "id": "00826f6f-85aa-48c5-b944-4d3eab21e09c",
   "metadata": {},
   "outputs": [
    {
     "name": "stdout",
     "output_type": "stream",
     "text": [
      "decrypt\n",
      "decrypt_at_time\n",
      "encrypt\n",
      "encrypt_at_time\n",
      "extract_timestamp\n",
      "generate_key\n"
     ]
    }
   ],
   "source": [
    "for i in dir(f):\n",
    "    if '_' not in i[:2]:\n",
    "        print(i)"
   ]
  },
  {
   "cell_type": "code",
   "execution_count": 11,
   "id": "3a82b3b5-093f-45d8-94ac-b954cebae68a",
   "metadata": {},
   "outputs": [],
   "source": [
    "crypted_text = f.encrypt(b\"A really secret message. Not for prying eyes.\")"
   ]
  },
  {
   "cell_type": "code",
   "execution_count": 12,
   "id": "94461d4b-8de3-4c67-890a-482527c79175",
   "metadata": {},
   "outputs": [
    {
     "data": {
      "text/plain": [
       "b'gAAAAABjJCJnsdgaV2RDiPvr3Co-3FGqj-5Wj0sJXl-I0QAoPJI0RvJUsJoFLJcX9AG4Oaz5gZXmMBtLYLyaLfw-tQFz2Hg74MEWUFHGoUHnJwCjegrq1TUVOlh6QdCvgR-aXSDvGRq9'"
      ]
     },
     "execution_count": 12,
     "metadata": {},
     "output_type": "execute_result"
    }
   ],
   "source": [
    "crypted_text"
   ]
  },
  {
   "cell_type": "markdown",
   "id": "e965f09f-5499-469c-8dc6-67662c4aa3f9",
   "metadata": {},
   "source": [
    "Other side of communication canal\n"
   ]
  },
  {
   "cell_type": "code",
   "execution_count": 14,
   "id": "53f3436f-d859-48ec-8994-442d6e92efaf",
   "metadata": {},
   "outputs": [
    {
     "data": {
      "text/plain": [
       "b'gAAAAABjJCJnsdgaV2RDiPvr3Co-3FGqj-5Wj0sJXl-I0QAoPJI0RvJUsJoFLJcX9AG4Oaz5gZXmMBtLYLyaLfw-tQFz2Hg74MEWUFHGoUHnJwCjegrq1TUVOlh6QdCvgR-aXSDvGRq9'"
      ]
     },
     "execution_count": 14,
     "metadata": {},
     "output_type": "execute_result"
    }
   ],
   "source": [
    "user2_key = b'NBClTRXYLwrDKv_Hkzpm2N3Mvoi1XiVIXH2qhIQaEeU='\n",
    "crypted_text"
   ]
  },
  {
   "cell_type": "code",
   "execution_count": 15,
   "id": "0d33c1fb-a8a8-4626-933a-bbf38144e153",
   "metadata": {},
   "outputs": [],
   "source": [
    "f_user2 = Fernet(user2_key)"
   ]
  },
  {
   "cell_type": "code",
   "execution_count": 16,
   "id": "fce04e5b-c43d-4cf2-89c3-2d8ffee81065",
   "metadata": {},
   "outputs": [
    {
     "data": {
      "text/plain": [
       "b'A really secret message. Not for prying eyes.'"
      ]
     },
     "execution_count": 16,
     "metadata": {},
     "output_type": "execute_result"
    }
   ],
   "source": [
    "f_user2.decrypt(crypted_text)"
   ]
  },
  {
   "cell_type": "code",
   "execution_count": null,
   "id": "8344904c-8162-4fdd-944b-dc37fede2347",
   "metadata": {},
   "outputs": [],
   "source": []
  }
 ],
 "metadata": {
  "kernelspec": {
   "display_name": "Python 3 (ipykernel)",
   "language": "python",
   "name": "python3"
  },
  "language_info": {
   "codemirror_mode": {
    "name": "ipython",
    "version": 3
   },
   "file_extension": ".py",
   "mimetype": "text/x-python",
   "name": "python",
   "nbconvert_exporter": "python",
   "pygments_lexer": "ipython3",
   "version": "3.9.2"
  }
 },
 "nbformat": 4,
 "nbformat_minor": 5
}
