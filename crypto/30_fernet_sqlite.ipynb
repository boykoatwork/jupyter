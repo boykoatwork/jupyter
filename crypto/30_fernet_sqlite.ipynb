{
 "cells": [
  {
   "cell_type": "markdown",
   "id": "7047989a-1dd2-4e68-84f5-d39da8f820c5",
   "metadata": {},
   "source": [
    "https://dev.to/dev1721/do-you-wanna-keep-your-embedded-database-encrypted-5egk"
   ]
  },
  {
   "cell_type": "code",
   "execution_count": 1,
   "id": "c87f008c-df13-46ca-8733-6f1389b96dea",
   "metadata": {},
   "outputs": [],
   "source": [
    "import sqlite3\n",
    "\n",
    "def create():\n",
    "    conn = sqlite3.connect(\"./data/mySecret.db\")\n",
    "    crsr = conn.cursor()\n",
    "    sql_command = \"\"\"CREATE TABLE ROUTINE (\n",
    "    routineID VARCHAR(10000) PRIMARY KEY,\n",
    "    date DATE,\n",
    "    startTime VARCHAR(5),\n",
    "    endTime VARCHAR(5),\n",
    "    status VARCHAR(10));\"\"\"\n",
    "    crsr.execute(sql_command)\n",
    "    conn.commit()\n",
    "    conn.close()\n"
   ]
  },
  {
   "cell_type": "code",
   "execution_count": 2,
   "id": "82a2b13a-c980-4ee4-9b82-7e6994defa95",
   "metadata": {},
   "outputs": [],
   "source": [
    "create()"
   ]
  },
  {
   "cell_type": "code",
   "execution_count": 3,
   "id": "a5f81432-74da-46c0-aaa5-b63bf39fb83b",
   "metadata": {},
   "outputs": [],
   "source": [
    "from cryptography.fernet import Fernet"
   ]
  },
  {
   "cell_type": "code",
   "execution_count": 5,
   "id": "cef15dee-b565-410f-a180-3c093a833ecf",
   "metadata": {},
   "outputs": [],
   "source": [
    "def generate():\n",
    "    key = Fernet.generate_key()\n",
    "    with open(\"./data/universal.key\",\"wb\") as key_files:\n",
    "        key_files.write(key)\n"
   ]
  },
  {
   "cell_type": "code",
   "execution_count": 7,
   "id": "0a5a986c-27b7-4e27-8d46-9f2804ad15fd",
   "metadata": {},
   "outputs": [],
   "source": [
    "from cryptography.fernet import Fernet\n",
    "\n",
    "def loadKey():\n",
    "    key = open(\"./data/universal.key\",\"rb\").read()\n",
    "    return key\n",
    "\n",
    "def Encrypt(secret):\n",
    "    key = loadKey()\n",
    "    encodeSecret = secret.encode()\n",
    "    fer  = Fernet(key)\n",
    "    return fer.encrypt(encodeSecret)"
   ]
  },
  {
   "cell_type": "code",
   "execution_count": 8,
   "id": "03df5c3c-f66e-452f-b18c-2bcc473131c5",
   "metadata": {},
   "outputs": [],
   "source": [
    "from cryptography.fernet import Fernet\n",
    "\n",
    "def loadKey():\n",
    "    key = open(\"./data/universal.key\",\"rb\").read()\n",
    "    return key\n",
    "\n",
    "def Decrypt(encryptSecret):\n",
    "    key = loadKey()\n",
    "    fer  = Fernet(key)\n",
    "    decryptSecret = fer.decrypt(encryptSecret)\n",
    "    return decryptSecret.decode()"
   ]
  },
  {
   "cell_type": "code",
   "execution_count": 10,
   "id": "b69fe4bf-dbbd-4117-94b4-a38439ccdd9c",
   "metadata": {},
   "outputs": [
    {
     "ename": "ModuleNotFoundError",
     "evalue": "No module named 'encrypt'",
     "output_type": "error",
     "traceback": [
      "\u001b[0;31m---------------------------------------------------------------------------\u001b[0m",
      "\u001b[0;31mModuleNotFoundError\u001b[0m                       Traceback (most recent call last)",
      "Input \u001b[0;32mIn [10]\u001b[0m, in \u001b[0;36m<cell line: 3>\u001b[0;34m()\u001b[0m\n\u001b[1;32m      1\u001b[0m \u001b[38;5;66;03m# тут мы импортируем encrypt выше и используем его\u001b[39;00m\n\u001b[1;32m      2\u001b[0m \u001b[38;5;28;01mimport\u001b[39;00m \u001b[38;5;21;01msqlite3\u001b[39;00m\n\u001b[0;32m----> 3\u001b[0m \u001b[38;5;28;01mimport\u001b[39;00m \u001b[38;5;21;01mencrypt\u001b[39;00m \n\u001b[1;32m      5\u001b[0m \u001b[38;5;28;01mdef\u001b[39;00m \u001b[38;5;21menter\u001b[39m(\u001b[38;5;28mid\u001b[39m,dt,st,et,status):\n\u001b[1;32m      6\u001b[0m     conn \u001b[38;5;241m=\u001b[39m sqlite3\u001b[38;5;241m.\u001b[39mconnect(\u001b[38;5;124m\"\u001b[39m\u001b[38;5;124mmySecret.db\u001b[39m\u001b[38;5;124m\"\u001b[39m)\n",
      "\u001b[0;31mModuleNotFoundError\u001b[0m: No module named 'encrypt'"
     ]
    }
   ],
   "source": [
    "# тут мы импортируем encrypt выше и используем его\n",
    "import sqlite3\n",
    "import encrypt \n",
    "\n",
    "def enter(id,dt,st,et,status):\n",
    "    conn = sqlite3.connect(\"mySecret.db\")\n",
    "    crsr = conn.cursor()\n",
    "    sql_command = \"\"\"INSERT INTO ROUTINE(routineID,date,startTIme,endTime,status)\n",
    "    VALUES (?,?,?,?,?);\"\"\"\n",
    "    id = encrypt.Encrypt(id)\n",
    "    dt = encrypt.Encrypt(dt)\n",
    "    st = encrypt.Encrypt(st)\n",
    "    et = encrypt.Encrypt(et)\n",
    "    status = encrypt.Encrypt(status)\n",
    "\n",
    "    tup = (id,dt,st,et,status)\n",
    "    crsr.execute(sql_command,tup)\n",
    "    conn.commit()\n",
    "    conn.close()  \n"
   ]
  },
  {
   "cell_type": "code",
   "execution_count": null,
   "id": "be93d551-44df-48d7-b220-a07b755f9540",
   "metadata": {},
   "outputs": [],
   "source": []
  }
 ],
 "metadata": {
  "kernelspec": {
   "display_name": "Python 3 (ipykernel)",
   "language": "python",
   "name": "python3"
  },
  "language_info": {
   "codemirror_mode": {
    "name": "ipython",
    "version": 3
   },
   "file_extension": ".py",
   "mimetype": "text/x-python",
   "name": "python",
   "nbconvert_exporter": "python",
   "pygments_lexer": "ipython3",
   "version": "3.9.2"
  }
 },
 "nbformat": 4,
 "nbformat_minor": 5
}
