{
 "cells": [
  {
   "cell_type": "code",
   "execution_count": 24,
   "id": "2d08e404-5423-475c-a879-40ecff7e1740",
   "metadata": {},
   "outputs": [],
   "source": [
    "from Crypto.Cipher import AES"
   ]
  },
  {
   "cell_type": "code",
   "execution_count": 25,
   "id": "d955ba0c-399d-47c4-b2b0-4e6ee2d7a73e",
   "metadata": {},
   "outputs": [],
   "source": [
    "key = b'123ysecretkey___' # secret key"
   ]
  },
  {
   "cell_type": "code",
   "execution_count": 26,
   "id": "b8754319-a24c-492b-a7ab-ddc005760028",
   "metadata": {},
   "outputs": [],
   "source": [
    "cipher = AES.new(key, AES.MODE_CFB) # object for encription"
   ]
  },
  {
   "cell_type": "code",
   "execution_count": 27,
   "id": "b7d7ceb0-fba6-4280-8cdb-694164e0c232",
   "metadata": {},
   "outputs": [],
   "source": [
    "secret_text = cipher.encrypt(b'This is secret message from Vik')"
   ]
  },
  {
   "cell_type": "code",
   "execution_count": 28,
   "id": "3e6e30b2-224b-4155-826a-7b39cb4b5bbc",
   "metadata": {},
   "outputs": [
    {
     "data": {
      "text/plain": [
       "b'\\xc1\\xec+\\xd4\\xb87|\\xd9\\xca\\x8c\\xb3r\\xe0\\x94|&\\x9f\\x97(*\\xb1y\\x08\\x17rj\\xe4g\\x98&('"
      ]
     },
     "execution_count": 28,
     "metadata": {},
     "output_type": "execute_result"
    }
   ],
   "source": [
    "secret_text"
   ]
  },
  {
   "cell_type": "markdown",
   "id": "707856d8-5648-421a-bbb7-c6fb314171a7",
   "metadata": {},
   "source": [
    "After communication channel:"
   ]
  },
  {
   "cell_type": "code",
   "execution_count": 29,
   "id": "f546bbd2-30b8-4ea4-8271-befa34a7d442",
   "metadata": {},
   "outputs": [],
   "source": [
    "from Crypto.Cipher import AES"
   ]
  },
  {
   "cell_type": "code",
   "execution_count": 30,
   "id": "358a2e8c-bd7b-40e1-b9a5-cac0542ecbb0",
   "metadata": {},
   "outputs": [],
   "source": [
    "key = b'123ysecretkey___' # secret key"
   ]
  },
  {
   "cell_type": "code",
   "execution_count": 31,
   "id": "2ea9f2ce-80cf-45e6-81cb-e04e02786e13",
   "metadata": {},
   "outputs": [],
   "source": [
    "cipher = AES.new(key, AES.MODE_CFB) # object for encription"
   ]
  },
  {
   "cell_type": "code",
   "execution_count": 32,
   "id": "cdf67c4d-05fe-4a42-9b12-204286dac994",
   "metadata": {},
   "outputs": [
    {
     "data": {
      "text/plain": [
       "b'\\xc1\\xec+\\xd4\\xb87|\\xd9\\xca\\x8c\\xb3r\\xe0\\x94|&\\x9f\\x97(*\\xb1y\\x08\\x17rj\\xe4g\\x98&('"
      ]
     },
     "execution_count": 32,
     "metadata": {},
     "output_type": "execute_result"
    }
   ],
   "source": [
    "secret_text"
   ]
  },
  {
   "cell_type": "code",
   "execution_count": 33,
   "id": "362b0b34-63a6-4f28-af02-5ea6ca153ae2",
   "metadata": {},
   "outputs": [],
   "source": [
    "text = cipher.decrypt(secret_text)"
   ]
  },
  {
   "cell_type": "code",
   "execution_count": 34,
   "id": "fa754647-af05-41af-8b41-b305b1c0ebe5",
   "metadata": {},
   "outputs": [
    {
     "data": {
      "text/plain": [
       "b'\\x12\\xcf\\x03\\xdd\\x9dJ\\x0b\\x1ak\\xc6\\x7f\\xed\\x19\\xd8\\xf3-essage from Vik'"
      ]
     },
     "execution_count": 34,
     "metadata": {},
     "output_type": "execute_result"
    }
   ],
   "source": [
    "text"
   ]
  },
  {
   "cell_type": "code",
   "execution_count": null,
   "id": "adae224b-6fb8-4015-a10f-73b6a3e78d55",
   "metadata": {},
   "outputs": [],
   "source": []
  }
 ],
 "metadata": {
  "kernelspec": {
   "display_name": "Python 3 (ipykernel)",
   "language": "python",
   "name": "python3"
  },
  "language_info": {
   "codemirror_mode": {
    "name": "ipython",
    "version": 3
   },
   "file_extension": ".py",
   "mimetype": "text/x-python",
   "name": "python",
   "nbconvert_exporter": "python",
   "pygments_lexer": "ipython3",
   "version": "3.9.2"
  }
 },
 "nbformat": 4,
 "nbformat_minor": 5
}
