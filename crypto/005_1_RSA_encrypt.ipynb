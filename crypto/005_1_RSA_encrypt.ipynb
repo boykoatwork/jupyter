{
 "cells": [
  {
   "cell_type": "markdown",
   "id": "b7f4d7bf-9e78-4e34-9d5d-d0ce448728dd",
   "metadata": {},
   "source": [
    "https://www.pycryptodome.org/src/examples#generate-public-key-and-private-key"
   ]
  },
  {
   "cell_type": "code",
   "execution_count": 1,
   "id": "f2b25ba7-77ca-476e-8b8c-78a218ed63fa",
   "metadata": {},
   "outputs": [],
   "source": [
    "from Crypto.PublicKey import RSA\n",
    "from Crypto.Random import get_random_bytes\n",
    "from Crypto.Cipher import AES, PKCS1_OAEP"
   ]
  },
  {
   "cell_type": "code",
   "execution_count": 2,
   "id": "f411f8bf-be49-4490-9c2e-86f108ee785d",
   "metadata": {
    "tags": []
   },
   "outputs": [],
   "source": [
    "data = \"I met aliens in UFO. Here is the map.\".encode(\"utf-8\")"
   ]
  },
  {
   "cell_type": "code",
   "execution_count": 3,
   "id": "8191d451-e163-411f-99fb-530f48c108bd",
   "metadata": {},
   "outputs": [
    {
     "data": {
      "text/plain": [
       "b'I met aliens in UFO. Here is the map.'"
      ]
     },
     "execution_count": 3,
     "metadata": {},
     "output_type": "execute_result"
    }
   ],
   "source": [
    "data"
   ]
  },
  {
   "cell_type": "code",
   "execution_count": 4,
   "id": "2304fe9d-e4d6-4177-8a02-743b923e0b7d",
   "metadata": {},
   "outputs": [],
   "source": [
    "file_out = open(\"./data/encrypted_data.bin\", \"wb\")"
   ]
  },
  {
   "cell_type": "code",
   "execution_count": 5,
   "id": "9fc0c55f-b7ba-42af-9203-8868bdd43f88",
   "metadata": {},
   "outputs": [
    {
     "name": "stdout",
     "output_type": "stream",
     "text": [
      "-----BEGIN PUBLIC KEY-----\n",
      "MIIBIjANBgkqhkiG9w0BAQEFAAOCAQ8AMIIBCgKCAQEAth91MnAZ131854Bw02lf\n",
      "Ery3VpV2xQCyY07ysBK2Z9+UzRHA5+3sYQJuw9ToThynCv2u3IMadR2jtDkYDlid\n",
      "O1ocEzbOiQE+VrTLLjcFjQQvWXdMlMPq3xZZItjiNJa/5uPxutLEx+B1Ll8uq/HO\n",
      "L9zDYEmrtHiB3db8Df7kwmVkY7kAuur90Sdrgx+fwli9l6DhTr1ftj5H4NZuIpIb\n",
      "qqGFyJA0N6ZvLK02HWNI3UMHSoIdzDuUNeYD2kLt8JNHppYWbpaPab9olISPyl7b\n",
      "osqwuEgv7PixtRkv+5mqpY9RwOcLsXeSsiKehWm5xVbifIdpeHmmjjTanOlxnv6+\n",
      "OQIDAQAB\n",
      "-----END PUBLIC KEY-----\n"
     ]
    }
   ],
   "source": [
    "key_pub = open(\"./data/receiver.pem\").read()\n",
    "print(key_pub)"
   ]
  },
  {
   "cell_type": "code",
   "execution_count": 6,
   "id": "8f398ccc-2e0b-4206-9c60-0fd28ae7344f",
   "metadata": {},
   "outputs": [
    {
     "data": {
      "text/plain": [
       "RsaKey(n=22990883923588055344985217558966623770930016290320255860048084006478477887006056108072870917949829394847892070963314551480650440001147163289404012895351197839279669036870062952743115296153382750880861720588268373678665192749720478643809741409653339123178739696688655448174672448692774034668134803933235948851333645425873872726444109441575076907801337482486438464285069477726608957712836718452953301205437196379899187331687913643310363477341132633109505421226201096416613591119744380970134174091524823541601486006349828744540663303479071197481347193258870478107279065369437190533745101629851097572040187555997271637561, e=65537)"
      ]
     },
     "execution_count": 6,
     "metadata": {},
     "output_type": "execute_result"
    }
   ],
   "source": [
    "recipient_key = RSA.import_key(key_pub)\n",
    "recipient_key"
   ]
  },
  {
   "cell_type": "code",
   "execution_count": 7,
   "id": "deca016d-f628-4c90-979f-7cbaeaba34cc",
   "metadata": {},
   "outputs": [],
   "source": [
    "session_key = get_random_bytes(16)"
   ]
  },
  {
   "cell_type": "code",
   "execution_count": 8,
   "id": "6cd7d68f-60e7-4269-b8d0-a8781faf7bed",
   "metadata": {},
   "outputs": [],
   "source": [
    "cipher_rsa = PKCS1_OAEP.new(recipient_key)"
   ]
  },
  {
   "cell_type": "code",
   "execution_count": 9,
   "id": "70c78a74-86c2-4b58-9beb-b969a1347148",
   "metadata": {},
   "outputs": [],
   "source": [
    "enc_session_key = cipher_rsa.encrypt(session_key)"
   ]
  },
  {
   "cell_type": "code",
   "execution_count": 10,
   "id": "70270c76-0de1-4f6c-aab3-90648efe90a4",
   "metadata": {},
   "outputs": [],
   "source": [
    "cipher_aes = AES.new(session_key, AES.MODE_EAX)"
   ]
  },
  {
   "cell_type": "code",
   "execution_count": 11,
   "id": "d1063562-f316-40ef-ad6e-cc72c77c94f2",
   "metadata": {},
   "outputs": [],
   "source": [
    "ciphertext, tag = cipher_aes.encrypt_and_digest(data)"
   ]
  },
  {
   "cell_type": "code",
   "execution_count": 12,
   "id": "bd5b9fac-d8e3-43b9-8a53-b12717e9f338",
   "metadata": {},
   "outputs": [
    {
     "data": {
      "text/plain": [
       "[256, 16, 16, 37]"
      ]
     },
     "execution_count": 12,
     "metadata": {},
     "output_type": "execute_result"
    }
   ],
   "source": [
    "[ file_out.write(x) for x in (enc_session_key, cipher_aes.nonce, tag, ciphertext) ]"
   ]
  },
  {
   "cell_type": "code",
   "execution_count": 13,
   "id": "e5e9d4e2-83d6-47f8-9ed9-2264ae8d5570",
   "metadata": {},
   "outputs": [],
   "source": [
    "file_out.close()"
   ]
  },
  {
   "cell_type": "code",
   "execution_count": 17,
   "id": "aab04224-d263-4010-bc79-7154aa1a9d6f",
   "metadata": {},
   "outputs": [
    {
     "name": "stdout",
     "output_type": "stream",
     "text": [
      "���\u0019α?A\u00103ʎ���r�s\u0015��?\u0016{\u000e�AT��mŠ�\u00008�{�B]ѴP��ë_��\u000b",
      "W�=�\n",
      "\u0019\n",
      "7����\"O\f",
      "\u0019rh�J=!�tB�vة\u0012;\u001b��Wc\u0012��m�s���v@���ѽ?�\u0010��\u0011�NH2�IF\u0013\u001c",
      "�[N\u001c",
      "�<\u001e",
      "���\u0011\u0013���0�d��\u001fC��e�6���D\u001d",
      "ê�%Y̋\f",
      "�q�%=Q��^�\u0013�\u0017;��ퟪ�9�����.�n�X-�\u000e*e\u001c",
      "��(\u0012�^\\CL{IωД���*]���\u0003v�I�dY�"
     ]
    }
   ],
   "source": [
    "!cat ./data/encrypted_data.bin"
   ]
  },
  {
   "cell_type": "code",
   "execution_count": 18,
   "id": "2f133dc7-c134-4b76-9d9d-45da53c80c5b",
   "metadata": {},
   "outputs": [
    {
     "name": "stdout",
     "output_type": "stream",
     "text": [
      "00000000  8b b6 e9 19 ce b1 3f 41  10 33 ca 8e c1 a4 b0 72  |......?A.3.....r|\n",
      "00000010  b2 73 15 fb e2 3f 16 7b  0e af 41 54 83 8e 6d c5  |.s...?.{..AT..m.|\n",
      "00000020  a0 96 00 38 ea 7b c1 42  5d d1 b4 7f 50 bb b6 c3  |...8.{.B]...P...|\n",
      "00000030  ab 5f c1 c5 0b 57 f7 3d  a7 0a 19 0a e6 48 98 34  |._...W.=.....H.4|\n",
      "00000040  1f b2 0f 32 c1 d9 2b 4d  c3 16 d3 9f bb ec fa ba  |...2..+M........|\n",
      "00000050  f5 4d 52 45 28 dc cf b3  da df b5 07 76 a7 e8 dd  |.MRE(.......v...|\n",
      "00000060  6a 70 bf 76 f1 b0 a4 3e  b4 b3 73 4c 33 3b 2b 47  |jp.v...>..sL3;+G|\n",
      "00000070  56 6b 22 c0 70 6b 18 5c  67 f6 41 a8 71 12 c5 a8  |Vk\".pk.\\g.A.q...|\n",
      "00000080  90 e4 93 cf 0b c1 73 b2  46 9e 78 72 cd 41 e6 63  |......s.F.xr.A.c|\n",
      "00000090  47 c1 43 f5 cc 65 d4 36  a6 f8 fa 44 1d c3 aa aa  |G.C..e.6...D....|\n",
      "000000a0  25 59 cc 8b 0c 95 71 89  25 3d 51 fa c2 5e 91 13  |%Y....q.%=Q..^..|\n",
      "000000b0  b7 17 3b ac a3 ed 9f aa  c6 39 84 b8 fc f3 bf 90  |..;......9......|\n",
      "000000c0  f1 b7 2e cd 6e a5 58 2d  92 0e 2a 65 1c c1 80 28  |....n.X-..*e...(|\n",
      "000000d0  12 8d 5e 5c 43 4c 7b 49  cf 89 d0 94 90 e6 db 2a  |..^\\CL{I.......*|\n",
      "000000e0  5d 9e ac ef 9a 03 76 90  49 a4 64 59 e2 99 0d 37  |].....v.I.dY...7|\n",
      "000000f0  83 f7 a0 c5 22 4f 0c 19  72 68 f7 4a 3d 21 8f 74  |....\"O..rh.J=!.t|\n",
      "00000100  42 83 76 d8 a9 12 3b 1b  b8 1e 08 f1 b9 b9 57 63  |B.v...;.......Wc|\n",
      "00000110  12 9a 82 6d d7 73 fc 80  9e 76 40 ff f4 97 d1 bd  |...m.s...v@.....|\n",
      "00000120  3f b7 10 8f 8b 11 b7 4e  48 32 ed 9c 49 46 13 1c  |?......NH2..IF..|\n",
      "00000130  cb 5b 4e 1c 90 3c 1e 8e  bf c1 11 13 8c 9d eb 30  |.[N..<.........0|\n",
      "00000140  a7 64 8d e8 1f                                    |.d...|\n",
      "00000145\n"
     ]
    }
   ],
   "source": [
    "!hexdump -C ./data/encrypted_data.bin"
   ]
  },
  {
   "cell_type": "code",
   "execution_count": 16,
   "id": "4abb687e-7916-4421-8dc7-ab2132851462",
   "metadata": {},
   "outputs": [
    {
     "data": {
      "text/plain": [
       "b'\\x8b\\xb6\\xe9\\x19\\xce\\xb1?A\\x103\\xca\\x8e\\xc1\\xa4\\xb0r\\xb2s\\x15\\xfb\\xe2?\\x16{\\x0e\\xafAT\\x83\\x8em\\xc5\\xa0\\x96\\x008\\xea{\\xc1B]\\xd1\\xb4\\x7fP\\xbb\\xb6\\xc3\\xab_\\xc1\\xc5\\x0bW\\xf7=\\xa7\\n\\x19\\n\\xe6H\\x984\\x1f\\xb2\\x0f2\\xc1\\xd9+M\\xc3\\x16\\xd3\\x9f\\xbb\\xec\\xfa\\xba\\xf5MRE(\\xdc\\xcf\\xb3\\xda\\xdf\\xb5\\x07v\\xa7\\xe8\\xddjp\\xbfv\\xf1\\xb0\\xa4>\\xb4\\xb3sL3;+GVk\"\\xc0pk\\x18\\\\g\\xf6A\\xa8q\\x12\\xc5\\xa8\\x90\\xe4\\x93\\xcf\\x0b\\xc1s\\xb2F\\x9exr\\xcdA\\xe6cG\\xc1C\\xf5\\xcce\\xd46\\xa6\\xf8\\xfaD\\x1d\\xc3\\xaa\\xaa%Y\\xcc\\x8b\\x0c\\x95q\\x89%=Q\\xfa\\xc2^\\x91\\x13\\xb7\\x17;\\xac\\xa3\\xed\\x9f\\xaa\\xc69\\x84\\xb8\\xfc\\xf3\\xbf\\x90\\xf1\\xb7.\\xcdn\\xa5X-\\x92\\x0e*e\\x1c\\xc1\\x80(\\x12\\x8d^\\\\CL{I\\xcf\\x89\\xd0\\x94\\x90\\xe6\\xdb*]\\x9e\\xac\\xef\\x9a\\x03v\\x90I\\xa4dY\\xe2\\x99\\r7\\x83\\xf7\\xa0\\xc5\"O\\x0c\\x19rh\\xf7J=!\\x8ft'"
      ]
     },
     "execution_count": 16,
     "metadata": {},
     "output_type": "execute_result"
    }
   ],
   "source": [
    "enc_session_key"
   ]
  },
  {
   "cell_type": "code",
   "execution_count": 19,
   "id": "58c2dc7a-f0b4-4940-9f6b-4ab154520da8",
   "metadata": {},
   "outputs": [
    {
     "data": {
      "text/plain": [
       "b'?\\xb7\\x10\\x8f\\x8b\\x11\\xb7NH2\\xed\\x9cIF\\x13\\x1c\\xcb[N\\x1c\\x90<\\x1e\\x8e\\xbf\\xc1\\x11\\x13\\x8c\\x9d\\xeb0\\xa7d\\x8d\\xe8\\x1f'"
      ]
     },
     "execution_count": 19,
     "metadata": {},
     "output_type": "execute_result"
    }
   ],
   "source": [
    "ciphertext"
   ]
  },
  {
   "cell_type": "code",
   "execution_count": null,
   "id": "c7c00a49-783d-491c-8cc3-e5e20fee7a99",
   "metadata": {},
   "outputs": [],
   "source": []
  }
 ],
 "metadata": {
  "kernelspec": {
   "display_name": "Python 3 (ipykernel)",
   "language": "python",
   "name": "python3"
  },
  "language_info": {
   "codemirror_mode": {
    "name": "ipython",
    "version": 3
   },
   "file_extension": ".py",
   "mimetype": "text/x-python",
   "name": "python",
   "nbconvert_exporter": "python",
   "pygments_lexer": "ipython3",
   "version": "3.9.2"
  }
 },
 "nbformat": 4,
 "nbformat_minor": 5
}
