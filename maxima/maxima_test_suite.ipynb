{
 "cells": [
  {
   "cell_type": "code",
   "execution_count": 1,
   "id": "ee140e1b-4993-4755-8e7f-ee7dbe414c2b",
   "metadata": {},
   "outputs": [
    {
     "data": {
      "text/latex": [
       "\\[\\tag{${\\it \\%o}_{1}$}\\left(c+b+a\\right)^2\\]"
      ],
      "text/plain": [
       "                                            2\n",
       "(%o1)                            (c + b + a)"
      ],
      "text/x-maxima": [
       "(c+b+a)^2"
      ]
     },
     "execution_count": 1,
     "metadata": {},
     "output_type": "execute_result"
    }
   ],
   "source": [
    "(a + b + c)^2;"
   ]
  },
  {
   "cell_type": "code",
   "execution_count": 2,
   "id": "06dc034c-584d-4989-8e19-669344ffbc70",
   "metadata": {},
   "outputs": [
    {
     "data": {
      "text/latex": [
       "\\[\\tag{${\\it \\%o}_{2}$}c^2+2\\,b\\,c+2\\,a\\,c+b^2+2\\,a\\,b+a^2\\]"
      ],
      "text/plain": [
       "                      2                    2            2\n",
       "(%o2)                c  + 2 b c + 2 a c + b  + 2 a b + a"
      ],
      "text/x-maxima": [
       "c^2+2*b*c+2*a*c+b^2+2*a*b+a^2"
      ]
     },
     "execution_count": 2,
     "metadata": {},
     "output_type": "execute_result"
    }
   ],
   "source": [
    "expand(%);"
   ]
  },
  {
   "cell_type": "code",
   "execution_count": 3,
   "id": "593882f0-c0a1-4904-8524-39b78aaf067f",
   "metadata": {},
   "outputs": [
    {
     "data": {
      "text/latex": [
       "\\[\\tag{${\\it \\%o}_{3}$}\\left(d+c+b+a\\right)^2\\]"
      ],
      "text/plain": [
       "                                              2\n",
       "(%o3)                          (d + c + b + a)"
      ],
      "text/x-maxima": [
       "(d+c+b+a)^2"
      ]
     },
     "execution_count": 3,
     "metadata": {},
     "output_type": "execute_result"
    }
   ],
   "source": [
    "(a + b + c + d)^2;"
   ]
  },
  {
   "cell_type": "code",
   "execution_count": 4,
   "id": "33bb86b6-a194-4f15-911c-f4224c24d911",
   "metadata": {},
   "outputs": [
    {
     "data": {
      "text/latex": [
       "\\[\\tag{${\\it \\%o}_{4}$}d^2+2\\,c\\,d+2\\,b\\,d+2\\,a\\,d+c^2+2\\,b\\,c+2\\,a\\,c+b^2+2\\,a\\,b+a^2\\]"
      ],
      "text/plain": [
       "        2                            2                    2            2\n",
       "(%o4)  d  + 2 c d + 2 b d + 2 a d + c  + 2 b c + 2 a c + b  + 2 a b + a"
      ],
      "text/x-maxima": [
       "d^2+2*c*d+2*b*d+2*a*d+c^2+2*b*c+2*a*c+b^2+2*a*b+a^2"
      ]
     },
     "execution_count": 4,
     "metadata": {},
     "output_type": "execute_result"
    }
   ],
   "source": [
    "expand(%);"
   ]
  },
  {
   "cell_type": "code",
   "execution_count": 5,
   "id": "7f44aa1f-2dfa-4639-9f69-c8bde16628e7",
   "metadata": {},
   "outputs": [
    {
     "data": {
      "text/latex": [
       "\\[\\tag{${\\it \\%o}_{5}$}\\left(c+b+a\\right)^7\\]"
      ],
      "text/plain": [
       "                                            7\n",
       "(%o5)                            (c + b + a)"
      ],
      "text/x-maxima": [
       "(c+b+a)^7"
      ]
     },
     "execution_count": 5,
     "metadata": {},
     "output_type": "execute_result"
    }
   ],
   "source": [
    "(a + b + c)^7;"
   ]
  },
  {
   "cell_type": "code",
   "execution_count": 6,
   "id": "886cb3fc-1816-4901-8491-362e4f9b7317",
   "metadata": {},
   "outputs": [
    {
     "data": {
      "text/latex": [
       "\\[\\tag{${\\it \\%o}_{6}$}c^7+7\\,b\\,c^6+7\\,a\\,c^6+21\\,b^2\\,c^5+42\\,a\\,b\\,c^5+21\\,a^2\\,c^5+35\\,b^3\\,c^4+105\\,a\\,b^2\\,c^4+105\\,a^2\\,b\\,c^4+35\\,a^3\\,c^4+35\\,b^4\\,c^3+140\\,a\\,b^3\\,c^3+210\\,a^2\\,b^2\\,c^3+140\\,a^3\\,b\\,c^3+35\\,a^4\\,c^3+21\\,b^5\\,c^2+105\\,a\\,b^4\\,c^2+210\\,a^2\\,b^3\\,c^2+210\\,a^3\\,b^2\\,c^2+105\\,a^4\\,b\\,c^2+21\\,a^5\\,c^2+7\\,b^6\\,c+42\\,a\\,b^5\\,c+105\\,a^2\\,b^4\\,c+140\\,a^3\\,b^3\\,c+105\\,a^4\\,b^2\\,c+42\\,a^5\\,b\\,c+7\\,a^6\\,c+b^7+7\\,a\\,b^6+21\\,a^2\\,b^5+35\\,a^3\\,b^4+35\\,a^4\\,b^3+21\\,a^5\\,b^2+7\\,a^6\\,b+a^7\\]"
      ],
      "text/plain": [
       "       7        6        6       2  5           5       2  5       3  4\n",
       "(%o6) c  + 7 b c  + 7 a c  + 21 b  c  + 42 a b c  + 21 a  c  + 35 b  c\n",
       "          2  4        2    4       3  4       4  3          3  3        2  2  3\n",
       " + 105 a b  c  + 105 a  b c  + 35 a  c  + 35 b  c  + 140 a b  c  + 210 a  b  c\n",
       "        3    3       4  3       5  2          4  2        2  3  2\n",
       " + 140 a  b c  + 35 a  c  + 21 b  c  + 105 a b  c  + 210 a  b  c\n",
       "        3  2  2        4    2       5  2      6           5          2  4\n",
       " + 210 a  b  c  + 105 a  b c  + 21 a  c  + 7 b  c + 42 a b  c + 105 a  b  c\n",
       "        3  3          4  2         5          6      7        6       2  5\n",
       " + 140 a  b  c + 105 a  b  c + 42 a  b c + 7 a  c + b  + 7 a b  + 21 a  b\n",
       "       3  4       4  3       5  2      6      7\n",
       " + 35 a  b  + 35 a  b  + 21 a  b  + 7 a  b + a"
      ],
      "text/x-maxima": [
       "c^7+7*b*c^6+7*a*c^6+21*b^2*c^5+42*a*b*c^5+21*a^2*c^5+35*b^3*c^4+105*a*b^2*c^4\n",
       "   +105*a^2*b*c^4+35*a^3*c^4+35*b^4*c^3+140*a*b^3*c^3+210*a^2*b^2*c^3\n",
       "   +140*a^3*b*c^3+35*a^4*c^3+21*b^5*c^2+105*a*b^4*c^2+210*a^2*b^3*c^2\n",
       "   +210*a^3*b^2*c^2+105*a^4*b*c^2+21*a^5*c^2+7*b^6*c+42*a*b^5*c+105*a^2*b^4*c\n",
       "   +140*a^3*b^3*c+105*a^4*b^2*c+42*a^5*b*c+7*a^6*c+b^7+7*a*b^6+21*a^2*b^5\n",
       "   +35*a^3*b^4+35*a^4*b^3+21*a^5*b^2+7*a^6*b+a^7"
      ]
     },
     "execution_count": 6,
     "metadata": {},
     "output_type": "execute_result"
    }
   ],
   "source": [
    "expand(%);"
   ]
  },
  {
   "cell_type": "code",
   "execution_count": 7,
   "id": "164aab0d-01e8-434b-80fe-e6fec3268208",
   "metadata": {},
   "outputs": [
    {
     "data": {
      "text/latex": [
       "\\[\\tag{${\\it \\%o}_{7}$}\\frac{c^7+7\\,b\\,c^6+7\\,a\\,c^6+21\\,b^2\\,c^5+42\\,a\\,b\\,c^5+21\\,a^2\\,c^5+35\\,b^3\\,c^4+105\\,a\\,b^2\\,c^4+105\\,a^2\\,b\\,c^4+35\\,a^3\\,c^4+35\\,b^4\\,c^3+140\\,a\\,b^3\\,c^3+210\\,a^2\\,b^2\\,c^3+140\\,a^3\\,b\\,c^3+35\\,a^4\\,c^3+21\\,b^5\\,c^2+105\\,a\\,b^4\\,c^2+210\\,a^2\\,b^3\\,c^2+210\\,a^3\\,b^2\\,c^2+105\\,a^4\\,b\\,c^2+21\\,a^5\\,c^2+7\\,b^6\\,c+42\\,a\\,b^5\\,c+105\\,a^2\\,b^4\\,c+140\\,a^3\\,b^3\\,c+105\\,a^4\\,b^2\\,c+42\\,a^5\\,b\\,c+7\\,a^6\\,c+b^7+7\\,a\\,b^6+21\\,a^2\\,b^5+35\\,a^3\\,b^4+35\\,a^4\\,b^3+21\\,a^5\\,b^2+7\\,a^6\\,b+a^7}{c^5}\\]"
      ],
      "text/plain": [
       "        7        6        6       2  5           5       2  5       3  4\n",
       "(%o7) (c  + 7 b c  + 7 a c  + 21 b  c  + 42 a b c  + 21 a  c  + 35 b  c\n",
       "          2  4        2    4       3  4       4  3          3  3        2  2  3\n",
       " + 105 a b  c  + 105 a  b c  + 35 a  c  + 35 b  c  + 140 a b  c  + 210 a  b  c\n",
       "        3    3       4  3       5  2          4  2        2  3  2\n",
       " + 140 a  b c  + 35 a  c  + 21 b  c  + 105 a b  c  + 210 a  b  c\n",
       "        3  2  2        4    2       5  2      6           5          2  4\n",
       " + 210 a  b  c  + 105 a  b c  + 21 a  c  + 7 b  c + 42 a b  c + 105 a  b  c\n",
       "        3  3          4  2         5          6      7        6       2  5\n",
       " + 140 a  b  c + 105 a  b  c + 42 a  b c + 7 a  c + b  + 7 a b  + 21 a  b\n",
       "       3  4       4  3       5  2      6      7   5\n",
       " + 35 a  b  + 35 a  b  + 21 a  b  + 7 a  b + a )/c"
      ],
      "text/x-maxima": [
       "(c^7+7*b*c^6+7*a*c^6+21*b^2*c^5+42*a*b*c^5+21*a^2*c^5+35*b^3*c^4+105*a*b^2*c^4\n",
       "    +105*a^2*b*c^4+35*a^3*c^4+35*b^4*c^3+140*a*b^3*c^3+210*a^2*b^2*c^3\n",
       "    +140*a^3*b*c^3+35*a^4*c^3+21*b^5*c^2+105*a*b^4*c^2+210*a^2*b^3*c^2\n",
       "    +210*a^3*b^2*c^2+105*a^4*b*c^2+21*a^5*c^2+7*b^6*c+42*a*b^5*c+105*a^2*b^4*c\n",
       "    +140*a^3*b^3*c+105*a^4*b^2*c+42*a^5*b*c+7*a^6*c+b^7+7*a*b^6+21*a^2*b^5\n",
       "    +35*a^3*b^4+35*a^4*b^3+21*a^5*b^2+7*a^6*b+a^7)\n",
       " /c^5"
      ]
     },
     "execution_count": 7,
     "metadata": {},
     "output_type": "execute_result"
    }
   ],
   "source": [
    "% / c^5;"
   ]
  },
  {
   "cell_type": "code",
   "execution_count": 8,
   "id": "06fd099d-c366-458b-9863-dd5fb56e644d",
   "metadata": {},
   "outputs": [
    {
     "data": {
      "text/latex": [
       "\\[\\tag{${\\it \\%o}_{8}$}\\frac{7\\,c^6+42\\,b\\,c^5+42\\,a\\,c^5+105\\,b^2\\,c^4+210\\,a\\,b\\,c^4+105\\,a^2\\,c^4+140\\,b^3\\,c^3+420\\,a\\,b^2\\,c^3+420\\,a^2\\,b\\,c^3+140\\,a^3\\,c^3+105\\,b^4\\,c^2+420\\,a\\,b^3\\,c^2+630\\,a^2\\,b^2\\,c^2+420\\,a^3\\,b\\,c^2+105\\,a^4\\,c^2+42\\,b^5\\,c+210\\,a\\,b^4\\,c+420\\,a^2\\,b^3\\,c+420\\,a^3\\,b^2\\,c+210\\,a^4\\,b\\,c+42\\,a^5\\,c+7\\,b^6+42\\,a\\,b^5+105\\,a^2\\,b^4+140\\,a^3\\,b^3+105\\,a^4\\,b^2+42\\,a^5\\,b+7\\,a^6}{c^5}-\\frac{5\\,\\left(c^7+7\\,b\\,c^6+7\\,a\\,c^6+21\\,b^2\\,c^5+42\\,a\\,b\\,c^5+21\\,a^2\\,c^5+35\\,b^3\\,c^4+105\\,a\\,b^2\\,c^4+105\\,a^2\\,b\\,c^4+35\\,a^3\\,c^4+35\\,b^4\\,c^3+140\\,a\\,b^3\\,c^3+210\\,a^2\\,b^2\\,c^3+140\\,a^3\\,b\\,c^3+35\\,a^4\\,c^3+21\\,b^5\\,c^2+105\\,a\\,b^4\\,c^2+210\\,a^2\\,b^3\\,c^2+210\\,a^3\\,b^2\\,c^2+105\\,a^4\\,b\\,c^2+21\\,a^5\\,c^2+7\\,b^6\\,c+42\\,a\\,b^5\\,c+105\\,a^2\\,b^4\\,c+140\\,a^3\\,b^3\\,c+105\\,a^4\\,b^2\\,c+42\\,a^5\\,b\\,c+7\\,a^6\\,c+b^7+7\\,a\\,b^6+21\\,a^2\\,b^5+35\\,a^3\\,b^4+35\\,a^4\\,b^3+21\\,a^5\\,b^2+7\\,a^6\\,b+a^7\\right)}{c^6}\\]"
      ],
      "text/plain": [
       "          6         5         5        2  4            4        2  4\n",
       "(%o8) (7 c  + 42 b c  + 42 a c  + 105 b  c  + 210 a b c  + 105 a  c\n",
       "        3  3          2  3        2    3        3  3        4  2          3  2\n",
       " + 140 b  c  + 420 a b  c  + 420 a  b c  + 140 a  c  + 105 b  c  + 420 a b  c\n",
       "        2  2  2        3    2        4  2       5            4          2  3\n",
       " + 630 a  b  c  + 420 a  b c  + 105 a  c  + 42 b  c + 210 a b  c + 420 a  b  c\n",
       "        3  2          4           5        6         5        2  4        3  3\n",
       " + 420 a  b  c + 210 a  b c + 42 a  c + 7 b  + 42 a b  + 105 a  b  + 140 a  b\n",
       "        4  2       5        6   5        7        6        6       2  5\n",
       " + 105 a  b  + 42 a  b + 7 a )/c  - (5 (c  + 7 b c  + 7 a c  + 21 b  c\n",
       "           5       2  5       3  4          2  4        2    4       3  4\n",
       " + 42 a b c  + 21 a  c  + 35 b  c  + 105 a b  c  + 105 a  b c  + 35 a  c\n",
       "       4  3          3  3        2  2  3        3    3       4  3       5  2\n",
       " + 35 b  c  + 140 a b  c  + 210 a  b  c  + 140 a  b c  + 35 a  c  + 21 b  c\n",
       "          4  2        2  3  2        3  2  2        4    2       5  2      6\n",
       " + 105 a b  c  + 210 a  b  c  + 210 a  b  c  + 105 a  b c  + 21 a  c  + 7 b  c\n",
       "         5          2  4          3  3          4  2         5          6\n",
       " + 42 a b  c + 105 a  b  c + 140 a  b  c + 105 a  b  c + 42 a  b c + 7 a  c\n",
       "    7        6       2  5       3  4       4  3       5  2      6      7    6\n",
       " + b  + 7 a b  + 21 a  b  + 35 a  b  + 35 a  b  + 21 a  b  + 7 a  b + a ))/c"
      ],
      "text/x-maxima": [
       "(7*c^6+42*b*c^5+42*a*c^5+105*b^2*c^4+210*a*b*c^4+105*a^2*c^4+140*b^3*c^3\n",
       "      +420*a*b^2*c^3+420*a^2*b*c^3+140*a^3*c^3+105*b^4*c^2+420*a*b^3*c^2\n",
       "      +630*a^2*b^2*c^2+420*a^3*b*c^2+105*a^4*c^2+42*b^5*c+210*a*b^4*c\n",
       "      +420*a^2*b^3*c+420*a^3*b^2*c+210*a^4*b*c+42*a^5*c+7*b^6+42*a*b^5\n",
       "      +105*a^2*b^4+140*a^3*b^3+105*a^4*b^2+42*a^5*b+7*a^6)\n",
       " /c^5\n",
       " -(5*(c^7+7*b*c^6+7*a*c^6+21*b^2*c^5+42*a*b*c^5+21*a^2*c^5+35*b^3*c^4\n",
       "         +105*a*b^2*c^4+105*a^2*b*c^4+35*a^3*c^4+35*b^4*c^3+140*a*b^3*c^3\n",
       "         +210*a^2*b^2*c^3+140*a^3*b*c^3+35*a^4*c^3+21*b^5*c^2+105*a*b^4*c^2\n",
       "         +210*a^2*b^3*c^2+210*a^3*b^2*c^2+105*a^4*b*c^2+21*a^5*c^2+7*b^6*c\n",
       "         +42*a*b^5*c+105*a^2*b^4*c+140*a^3*b^3*c+105*a^4*b^2*c+42*a^5*b*c\n",
       "         +7*a^6*c+b^7+7*a*b^6+21*a^2*b^5+35*a^3*b^4+35*a^4*b^3+21*a^5*b^2\n",
       "         +7*a^6*b+a^7))\n",
       "  /c^6"
      ]
     },
     "execution_count": 8,
     "metadata": {},
     "output_type": "execute_result"
    }
   ],
   "source": [
    "diff(%, c);"
   ]
  },
  {
   "cell_type": "code",
   "execution_count": 9,
   "id": "886d8084-2b80-4943-98ae-e5af93118bcf",
   "metadata": {},
   "outputs": [
    {
     "data": {
      "text/latex": [
       "\\[\\tag{${\\it \\%o}_{9}$}7\\,\\left(c+b+a\\right)^6\\]"
      ],
      "text/plain": [
       "                                             6\n",
       "(%o9)                           7 (c + b + a)"
      ],
      "text/x-maxima": [
       "7*(c+b+a)^6"
      ]
     },
     "execution_count": 9,
     "metadata": {},
     "output_type": "execute_result"
    }
   ],
   "source": [
    "diff((a + b + c)^7, b);"
   ]
  },
  {
   "cell_type": "code",
   "execution_count": 10,
   "id": "aace7d02-6daf-4647-aeb7-97e7875393b1",
   "metadata": {},
   "outputs": [
    {
     "data": {
      "text/latex": [
       "\\[\\tag{${\\it \\%o}_{10}$}21\\,a^2\\,\\left(c+b+a^3\\right)^6\\]"
      ],
      "text/plain": [
       "                                  2           3 6\n",
       "(%o10)                        21 a  (c + b + a )"
      ],
      "text/x-maxima": [
       "21*a^2*(c+b+a^3)^6"
      ]
     },
     "execution_count": 10,
     "metadata": {},
     "output_type": "execute_result"
    }
   ],
   "source": [
    "diff((a^3 + b + c)^7, a);"
   ]
  },
  {
   "cell_type": "code",
   "execution_count": 11,
   "id": "9c1a57d4-5cdd-44b6-a89b-2e0a393056b3",
   "metadata": {},
   "outputs": [
    {
     "data": {
      "text/latex": [
       "\\[\\tag{${\\it \\%o}_{11}$}\\left(c+b+a^3\\right)^7\\]"
      ],
      "text/plain": [
       "                                           3 7\n",
       "(%o11)                           (c + b + a )"
      ],
      "text/x-maxima": [
       "(c+b+a^3)^7"
      ]
     },
     "execution_count": 11,
     "metadata": {},
     "output_type": "execute_result"
    }
   ],
   "source": [
    "integrate(%, a);"
   ]
  },
  {
   "cell_type": "code",
   "execution_count": 13,
   "id": "3a5e52fd-b67c-4770-a446-27370701b523",
   "metadata": {},
   "outputs": [
    {
     "data": {
      "text/latex": [
       "\\[\\tag{${\\it \\%o}_{12}$}\\frac{\\left(c+b+a^3\\right)^8}{8}\\]"
      ],
      "text/plain": [
       "                                           3 8\n",
       "                                 (c + b + a )\n",
       "(%o12)                           -------------\n",
       "                                       8"
      ],
      "text/x-maxima": [
       "(c+b+a^3)^8/8"
      ]
     },
     "execution_count": 13,
     "metadata": {},
     "output_type": "execute_result"
    }
   ],
   "source": [
    "integrate(%, b);"
   ]
  },
  {
   "cell_type": "markdown",
   "id": "c5591f39-de09-462f-8de3-db44faf14e07",
   "metadata": {},
   "source": [
    "https://maxima.sourceforge.io/docs/manual/maxima_4.html#Documentation"
   ]
  },
  {
   "cell_type": "code",
   "execution_count": 17,
   "id": "16280eca-8348-49e8-aded-c5be842a1bc6",
   "metadata": {},
   "outputs": [
    {
     "name": "stdout",
     "output_type": "stream",
     "text": [
      "example: example not found. 'example();' returns the list of known examples.\n"
     ]
    },
    {
     "data": {
      "text/latex": [
       "\\[\\tag{${\\it \\%o}_{31}$}\\mathbf{done}\\]"
      ],
      "text/plain": [
       "(%o31)                               done"
      ],
      "text/x-maxima": [
       "done"
      ]
     },
     "execution_count": 17,
     "metadata": {},
     "output_type": "execute_result"
    }
   ],
   "source": [
    "example(example);"
   ]
  },
  {
   "cell_type": "code",
   "execution_count": 19,
   "id": "ad4db176-f660-4582-a6f0-98fc9a8bb23e",
   "metadata": {},
   "outputs": [
    {
     "data": {
      "text/latex": [
       "\\[\\tag{${\\it \\%o}_{41}$}{\\it test}\\left(f\\right):=\\mathbf{block}\\;\\left(\\left[ u \\right]  , u:{\\it integrate}\\left(f , x\\right) , {\\it ratsimp}\\left(f-{\\it diff}\\left(u , x\\right)\\right)\\right)\\]"
      ],
      "text/plain": [
       "(%o41) test(f) := block([u], u : integrate(f, x), ratsimp(f - diff(u, x)))"
      ],
      "text/x-maxima": [
       "test(f):=block([u],u:integrate(f,x),ratsimp(f-diff(u,x)))"
      ]
     },
     "execution_count": 19,
     "metadata": {},
     "output_type": "execute_result"
    }
   ],
   "source": [
    "test(f):=block([u],u:integrate(f,x),ratsimp(f-diff(u,x)));"
   ]
  },
  {
   "cell_type": "code",
   "execution_count": 21,
   "id": "3da89d28-f12f-40e0-9e4d-7e1c9eaeefd4",
   "metadata": {},
   "outputs": [
    {
     "data": {
      "text/latex": [
       "\\[\\tag{${\\it \\%o}_{42}$}0\\]"
      ],
      "text/plain": [
       "(%o42)                                 0"
      ],
      "text/x-maxima": [
       "0"
      ]
     },
     "execution_count": 21,
     "metadata": {},
     "output_type": "execute_result"
    }
   ],
   "source": [
    "test(sin(x));"
   ]
  },
  {
   "cell_type": "code",
   "execution_count": 22,
   "id": "b78cfabc-846b-4503-84d7-93706b43a0bc",
   "metadata": {},
   "outputs": [
    {
     "data": {
      "text/latex": [
       "\\[\\tag{${\\it \\%o}_{43}$}0\\]"
      ],
      "text/plain": [
       "(%o43)                                 0"
      ],
      "text/x-maxima": [
       "0"
      ]
     },
     "execution_count": 22,
     "metadata": {},
     "output_type": "execute_result"
    }
   ],
   "source": [
    "test(1/(x+1));"
   ]
  },
  {
   "cell_type": "code",
   "execution_count": null,
   "id": "5d76f951-6f33-46af-a7ea-ab0c296ffc66",
   "metadata": {},
   "outputs": [],
   "source": []
  }
 ],
 "metadata": {
  "kernelspec": {
   "display_name": "Maxima",
   "language": "maxima",
   "name": "maxima"
  },
  "language_info": {
   "codemirror_mode": "maxima",
   "file_extension": ".mac",
   "mimetype": "text/x-maxima",
   "name": "maxima",
   "pygments_lexer": "maxima",
   "version": "5.45.1"
  }
 },
 "nbformat": 4,
 "nbformat_minor": 5
}
