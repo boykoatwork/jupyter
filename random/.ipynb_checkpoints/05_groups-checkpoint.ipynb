{
 "cells": [
  {
   "cell_type": "code",
   "execution_count": 1,
   "metadata": {
    "collapsed": false,
    "jupyter": {
     "outputs_hidden": false
    }
   },
   "outputs": [
    {
     "name": "stdout",
     "output_type": "stream",
     "text": [
      "Populating the interactive namespace from numpy and matplotlib\n"
     ]
    }
   ],
   "source": [
    "%pylab inline"
   ]
  },
  {
   "cell_type": "code",
   "execution_count": 12,
   "metadata": {
    "tags": []
   },
   "outputs": [],
   "source": [
    "# подключаем библиотеки\n",
    "# import scipy as sp\n",
    "import numpy as np\n",
    "import pylab\n",
    "import random"
   ]
  },
  {
   "cell_type": "markdown",
   "metadata": {},
   "source": [
    "Исследование групп методом ближайших соседей"
   ]
  },
  {
   "cell_type": "code",
   "execution_count": 13,
   "metadata": {
    "collapsed": false,
    "jupyter": {
     "outputs_hidden": false
    }
   },
   "outputs": [],
   "source": [
    "# генерируем массивы данных\n",
    "X1 = []\n",
    "X2 = []\n",
    "X3 = []\n",
    "Y1 = []\n",
    "Y2 = []\n",
    "Y3 = []\n",
    "N = 40 # число членов в каждом из сообществ\n",
    "for i in range(N):\n",
    "    x1 = random.random()*100 + 10\n",
    "    x2 = random.random()*100 + 110\n",
    "    x3= random.random()*100 + 210\n",
    "    X1.append(x1)\n",
    "    X2.append(x2)\n",
    "    X3.append(x3)\n",
    "    y1 = random.random()*100 + 10\n",
    "    y2 = random.random()*100 + 110\n",
    "    y3 = random.random()*100 + 210\n",
    "    Y1.append(y1)\n",
    "    Y2.append(y2)\n",
    "    Y3.append(y3)\n",
    "\n"
   ]
  },
  {
   "cell_type": "code",
   "execution_count": 15,
   "metadata": {
    "collapsed": false,
    "jupyter": {
     "outputs_hidden": false
    }
   },
   "outputs": [
    {
     "data": {
      "text/plain": [
       "(array([100.36306007,  38.05560512,  50.72009578,  57.78623344,\n",
       "         57.79180523,  87.69390811,  81.35879195,  13.81857543,\n",
       "         32.4344008 ,  92.27733173,  45.69782231, 102.64110964,\n",
       "         71.41098272]),\n",
       " array([ 41.03251136, 105.58005879,  77.44714172,  72.63876312,\n",
       "         60.78777085,  60.64005075,  30.41053234,  46.4937706 ,\n",
       "         22.58540924, 101.05185354,  79.48008406,  15.33411679,\n",
       "         42.89709465]))"
      ]
     },
     "execution_count": 15,
     "metadata": {},
     "output_type": "execute_result"
    }
   ],
   "source": [
    "X = np.array(X1+X2+X3)\n",
    "Y = np.array(Y1+Y2+Y3)\n",
    "X[:13],Y[:13]"
   ]
  },
  {
   "cell_type": "code",
   "execution_count": 16,
   "metadata": {
    "collapsed": false,
    "jupyter": {
     "outputs_hidden": false
    }
   },
   "outputs": [
    {
     "data": {
      "text/plain": [
       "[<matplotlib.lines.Line2D at 0x7fc40dae0520>]"
      ]
     },
     "execution_count": 16,
     "metadata": {},
     "output_type": "execute_result"
    },
    {
     "data": {
      "image/png": "[encoded data removed]",
      "text/plain": [
       "<Figure size 432x288 with 1 Axes>"
      ]
     },
     "metadata": {
      "needs_background": "light"
     },
     "output_type": "display_data"
    }
   ],
   "source": [
    "pylab.plot(X,Y,'o')"
   ]
  },
  {
   "cell_type": "code",
   "execution_count": 17,
   "metadata": {
    "collapsed": false,
    "jupyter": {
     "outputs_hidden": false
    }
   },
   "outputs": [
    {
     "data": {
      "text/plain": [
       "[<matplotlib.lines.Line2D at 0x7fc40da3e0d0>]"
      ]
     },
     "execution_count": 17,
     "metadata": {},
     "output_type": "execute_result"
    },
    {
     "data": {
      "image/png": "[encoded data removed]",
      "text/plain": [
       "<Figure size 432x288 with 1 Axes>"
      ]
     },
     "metadata": {
      "needs_background": "light"
     },
     "output_type": "display_data"
    }
   ],
   "source": [
    "pylab.plot(X1,Y1,'ro')\n",
    "pylab.plot(X2,Y2,'go')\n",
    "pylab.plot(X3,Y3,'bo')"
   ]
  },
  {
   "cell_type": "markdown",
   "metadata": {},
   "source": [
    "**Вопрос для самостоятельного исследования:** *можно ли сделать так, чтообы сообщества были многоугольными или круглыми, например?*"
   ]
  },
  {
   "cell_type": "markdown",
   "metadata": {},
   "source": [
    "Метод ближайших соседей - задаемся точкой, считаем расстояния до точки - и устраиваем голосование."
   ]
  },
  {
   "cell_type": "code",
   "execution_count": 18,
   "metadata": {
    "collapsed": false,
    "jupyter": {
     "outputs_hidden": false
    }
   },
   "outputs": [
    {
     "data": {
      "text/plain": [
       "[<matplotlib.lines.Line2D at 0x7fc40da18fa0>]"
      ]
     },
     "execution_count": 18,
     "metadata": {},
     "output_type": "execute_result"
    },
    {
     "data": {
      "image/png": "[encoded data removed]",
      "text/plain": [
       "<Figure size 432x288 with 1 Axes>"
      ]
     },
     "metadata": {
      "needs_background": "light"
     },
     "output_type": "display_data"
    }
   ],
   "source": [
    "pylab.plot(X1,Y1,'ro')\n",
    "pylab.plot(X2,Y2,'go')\n",
    "pylab.plot(X3,Y3,'bo')\n",
    "pylab.plot(150,250,'y^') # новая точка - желтый треугольник"
   ]
  },
  {
   "cell_type": "code",
   "execution_count": 19,
   "metadata": {
    "tags": []
   },
   "outputs": [],
   "source": [
    "xt = 150\n",
    "yt = 250"
   ]
  },
  {
   "cell_type": "markdown",
   "metadata": {},
   "source": [
    "Рассчитаем расстояние до всех соседей:"
   ]
  },
  {
   "cell_type": "code",
   "execution_count": 20,
   "metadata": {
    "collapsed": false,
    "jupyter": {
     "outputs_hidden": false
    }
   },
   "outputs": [
    {
     "name": "stdout",
     "output_type": "stream",
     "text": [
      "[100.36306007382592, 38.055605120306424, 50.72009577648712, 57.78623344208574, 57.79180523411307, 87.69390810865637, 81.35879195341397]\n",
      "[41.03251136131148, 105.5800587904413, 77.44714172359176, 72.63876312085429, 60.78777085237286, 60.64005075497268, 30.41053233628044]\n"
     ]
    }
   ],
   "source": [
    "print(X1[:7])\n",
    "print(Y1[:7])"
   ]
  },
  {
   "cell_type": "code",
   "execution_count": 21,
   "metadata": {
    "collapsed": false,
    "jupyter": {
     "outputs_hidden": false
    }
   },
   "outputs": [
    {
     "name": "stdout",
     "output_type": "stream",
     "text": [
      "0 (100.36306007382592, 41.03251136131148, '1')\n",
      "1 (38.055605120306424, 105.5800587904413, '1')\n",
      "2 (50.72009577648712, 77.44714172359176, '1')\n",
      "3 (57.78623344208574, 72.63876312085429, '1')\n",
      "4 (57.79180523411307, 60.78777085237286, '1')\n",
      "5 (87.69390810865637, 60.64005075497268, '1')\n",
      "6 (81.35879195341397, 30.41053233628044, '1')\n",
      "7 (13.818575429561555, 46.49377059906984, '1')\n",
      "8 (32.43440079966101, 22.58540923590301, '1')\n",
      "9 (92.27733173294635, 101.05185353889985, '1')\n",
      "10 (45.69782231053304, 79.48008406272676, '1')\n",
      "11 (102.64110964085401, 15.334116787004806, '1')\n",
      "12 (71.41098272248362, 42.897094645979095, '1')\n",
      "13 (20.38458911251916, 26.10492042263285, '1')\n",
      "14 (94.29695434964167, 94.66885206000633, '1')\n",
      "15 (56.94890624810395, 15.93341047856455, '1')\n",
      "16 (98.78491575950383, 89.90659378825026, '1')\n",
      "17 (54.034760382028814, 30.54421646620718, '1')\n",
      "18 (30.358515116688814, 57.601550367295346, '1')\n",
      "19 (94.88289587481125, 24.234910323612194, '1')\n",
      "20 (100.84088311135062, 81.6426936406999, '1')\n",
      "21 (78.67628984753995, 94.02732504803117, '1')\n",
      "22 (72.86833615276684, 21.202483798327435, '1')\n",
      "23 (95.05751729804439, 92.39385381509587, '1')\n",
      "24 (48.51106598164712, 30.907940042369088, '1')\n",
      "25 (80.84558873373882, 96.15179609521508, '1')\n",
      "26 (49.55214340624178, 73.59974777309804, '1')\n",
      "27 (100.32430959002104, 11.478269547564782, '1')\n",
      "28 (46.421332697250705, 39.137400267370566, '1')\n",
      "29 (80.10972625958686, 52.53077313497037, '1')\n",
      "30 (43.68818931451465, 101.19752312411975, '1')\n",
      "31 (23.239601390997514, 54.955097197724555, '1')\n",
      "32 (33.68855195590423, 15.119757059420527, '1')\n",
      "33 (107.48389862576356, 32.53667160393128, '1')\n",
      "34 (69.47947242127321, 46.527556722841204, '1')\n",
      "35 (70.68119433357177, 71.40809083871201, '1')\n",
      "36 (98.06472467651439, 107.80599991137376, '1')\n",
      "37 (88.47012722809257, 106.8574949823666, '1')\n",
      "38 (32.41363902655297, 15.53296896490304, '1')\n",
      "39 (25.58575250628913, 35.30361981625037, '1')\n"
     ]
    }
   ],
   "source": [
    "All = {} # массив всех точек\n",
    "\n",
    "for x,y,name in zip(X1,Y1,range(len(X1))):\n",
    "    t = x,y,'1'\n",
    "    print(name,t)\n",
    "    All[str(name)] = t\n"
   ]
  },
  {
   "cell_type": "code",
   "execution_count": 22,
   "metadata": {
    "collapsed": false,
    "jupyter": {
     "outputs_hidden": false
    }
   },
   "outputs": [
    {
     "data": {
      "text/plain": [
       "{'0': (100.36306007382592, 41.03251136131148, '1'),\n",
       " '1': (38.055605120306424, 105.5800587904413, '1'),\n",
       " '2': (50.72009577648712, 77.44714172359176, '1'),\n",
       " '3': (57.78623344208574, 72.63876312085429, '1'),\n",
       " '4': (57.79180523411307, 60.78777085237286, '1'),\n",
       " '5': (87.69390810865637, 60.64005075497268, '1'),\n",
       " '6': (81.35879195341397, 30.41053233628044, '1'),\n",
       " '7': (13.818575429561555, 46.49377059906984, '1'),\n",
       " '8': (32.43440079966101, 22.58540923590301, '1'),\n",
       " '9': (92.27733173294635, 101.05185353889985, '1'),\n",
       " '10': (45.69782231053304, 79.48008406272676, '1'),\n",
       " '11': (102.64110964085401, 15.334116787004806, '1'),\n",
       " '12': (71.41098272248362, 42.897094645979095, '1'),\n",
       " '13': (20.38458911251916, 26.10492042263285, '1'),\n",
       " '14': (94.29695434964167, 94.66885206000633, '1'),\n",
       " '15': (56.94890624810395, 15.93341047856455, '1'),\n",
       " '16': (98.78491575950383, 89.90659378825026, '1'),\n",
       " '17': (54.034760382028814, 30.54421646620718, '1'),\n",
       " '18': (30.358515116688814, 57.601550367295346, '1'),\n",
       " '19': (94.88289587481125, 24.234910323612194, '1'),\n",
       " '20': (100.84088311135062, 81.6426936406999, '1'),\n",
       " '21': (78.67628984753995, 94.02732504803117, '1'),\n",
       " '22': (72.86833615276684, 21.202483798327435, '1'),\n",
       " '23': (95.05751729804439, 92.39385381509587, '1'),\n",
       " '24': (48.51106598164712, 30.907940042369088, '1'),\n",
       " '25': (80.84558873373882, 96.15179609521508, '1'),\n",
       " '26': (49.55214340624178, 73.59974777309804, '1'),\n",
       " '27': (100.32430959002104, 11.478269547564782, '1'),\n",
       " '28': (46.421332697250705, 39.137400267370566, '1'),\n",
       " '29': (80.10972625958686, 52.53077313497037, '1'),\n",
       " '30': (43.68818931451465, 101.19752312411975, '1'),\n",
       " '31': (23.239601390997514, 54.955097197724555, '1'),\n",
       " '32': (33.68855195590423, 15.119757059420527, '1'),\n",
       " '33': (107.48389862576356, 32.53667160393128, '1'),\n",
       " '34': (69.47947242127321, 46.527556722841204, '1'),\n",
       " '35': (70.68119433357177, 71.40809083871201, '1'),\n",
       " '36': (98.06472467651439, 107.80599991137376, '1'),\n",
       " '37': (88.47012722809257, 106.8574949823666, '1'),\n",
       " '38': (32.41363902655297, 15.53296896490304, '1'),\n",
       " '39': (25.58575250628913, 35.30361981625037, '1')}"
      ]
     },
     "execution_count": 22,
     "metadata": {},
     "output_type": "execute_result"
    }
   ],
   "source": [
    "All"
   ]
  },
  {
   "cell_type": "code",
   "execution_count": null,
   "metadata": {
    "collapsed": true,
    "jupyter": {
     "outputs_hidden": true
    }
   },
   "outputs": [],
   "source": []
  }
 ],
 "metadata": {
  "kernelspec": {
   "display_name": "Python 3",
   "language": "python",
   "name": "python3"
  },
  "language_info": {
   "codemirror_mode": {
    "name": "ipython",
    "version": 3
   },
   "file_extension": ".py",
   "mimetype": "text/x-python",
   "name": "python",
   "nbconvert_exporter": "python",
   "pygments_lexer": "ipython3",
   "version": "3.8.6"
  }
 },
 "nbformat": 4,
 "nbformat_minor": 4
}
