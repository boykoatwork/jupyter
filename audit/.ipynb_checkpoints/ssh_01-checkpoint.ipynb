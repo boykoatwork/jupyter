{
 "cells": [
  {
   "cell_type": "code",
   "execution_count": 1,
   "id": "b7ea4bca-7398-4185-9b48-1ebfcb104bf2",
   "metadata": {},
   "outputs": [],
   "source": [
    "import gzip"
   ]
  },
  {
   "cell_type": "code",
   "execution_count": 2,
   "id": "8b8e95db-4518-4f2c-a798-81bb049f24a3",
   "metadata": {},
   "outputs": [],
   "source": [
    "f = gzip.open('data/ssh_log.gz', 'r')"
   ]
  },
  {
   "cell_type": "code",
   "execution_count": 3,
   "id": "8480874b-2ada-4faf-8b07-b21393d28aad",
   "metadata": {},
   "outputs": [],
   "source": [
    "t = f.readlines()\n",
    "f.close()"
   ]
  },
  {
   "cell_type": "code",
   "execution_count": 4,
   "id": "c32162f8-cba7-457b-8424-44bf2b71e60f",
   "metadata": {},
   "outputs": [
    {
     "data": {
      "text/plain": [
       "b'\\xd1\\x84\\xd0\\xb5\\xd0\\xb2 10 21:12:09 systemd[1]: Starting OpenBSD Secure Shell server...\\n'"
      ]
     },
     "execution_count": 4,
     "metadata": {},
     "output_type": "execute_result"
    }
   ],
   "source": [
    "t[0]"
   ]
  },
  {
   "cell_type": "code",
   "execution_count": 5,
   "id": "12ff9644-4d57-4e70-b1a1-049b4a8fadc4",
   "metadata": {},
   "outputs": [],
   "source": [
    "s = t[0]"
   ]
  },
  {
   "cell_type": "code",
   "execution_count": 6,
   "id": "3cdd9a9a-61d1-407d-b97e-16e6a0ea2538",
   "metadata": {},
   "outputs": [
    {
     "data": {
      "text/plain": [
       "'фев 10 21:12:09 systemd[1]: Starting OpenBSD Secure Shell server...\\n'"
      ]
     },
     "execution_count": 6,
     "metadata": {},
     "output_type": "execute_result"
    }
   ],
   "source": [
    "s.decode('utf-8')"
   ]
  },
  {
   "cell_type": "code",
   "execution_count": 7,
   "id": "b4d242ea-cab2-4525-b7c3-d2fbbe3ec2a6",
   "metadata": {},
   "outputs": [],
   "source": [
    "s = []\n",
    "for i in t:\n",
    "    s.append(i.decode('utf-8').strip())"
   ]
  },
  {
   "cell_type": "code",
   "execution_count": 8,
   "id": "92b31933-5397-446c-8c04-5ad38f91a247",
   "metadata": {},
   "outputs": [
    {
     "data": {
      "text/plain": [
       "['фев 10 21:12:09 systemd[1]: Starting OpenBSD Secure Shell server...',\n",
       " 'фев 10 21:12:09 sshd[884]: Server listening on 0.0.0.0 port 22.',\n",
       " 'фев 10 21:12:09 sshd[884]: Server listening on :: port 22.',\n",
       " 'фев 10 21:12:09 systemd[1]: Started OpenBSD Secure Shell server.',\n",
       " 'фев 10 21:12:21 sshd[1160]: pam_unix(sshd:auth): authentication failure; logname= uid=0 euid=0 tty=ssh ruser= rhost=221.131.165.86  user=root',\n",
       " 'фев 10 21:12:24 sshd[1160]: Failed password for root from 221.131.165.86 port 49460 ssh2',\n",
       " 'фев 10 21:12:28 sshd[1160]: Failed password for root from 221.131.165.86 port 49460 ssh2',\n",
       " 'фев 10 21:12:32 sshd[1160]: Failed password for root from 221.131.165.86 port 49460 ssh2',\n",
       " 'фев 10 21:12:33 sshd[1160]: Received disconnect from 221.131.165.86 port 49460:11:  [preauth]',\n",
       " 'фев 10 21:12:33 sshd[1160]: Disconnected from authenticating user root 221.131.165.86 port 49460 [preauth]']"
      ]
     },
     "execution_count": 8,
     "metadata": {},
     "output_type": "execute_result"
    }
   ],
   "source": [
    "s[:10]"
   ]
  },
  {
   "cell_type": "code",
   "execution_count": 9,
   "id": "4a8e4c94-ba08-430f-a504-abd8a1e78e3f",
   "metadata": {},
   "outputs": [
    {
     "name": "stdout",
     "output_type": "stream",
     "text": [
      "['фев', '10', '21:12:09', 'systemd[1]:', 'Starting', 'OpenBSD', 'Secure', 'Shell', 'server...']\n",
      "['фев', '10', '21:12:09', 'sshd[884]:', 'Server', 'listening', 'on', '0.0.0.0', 'port', '22.']\n",
      "['фев', '10', '21:12:09', 'sshd[884]:', 'Server', 'listening', 'on', '::', 'port', '22.']\n",
      "['фев', '10', '21:12:09', 'systemd[1]:', 'Started', 'OpenBSD', 'Secure', 'Shell', 'server.']\n",
      "['фев', '10', '21:12:21', 'sshd[1160]:', 'pam_unix(sshd:auth):', 'authentication', 'failure;', 'logname=', 'uid=0', 'euid=0', 'tty=ssh', 'ruser=', 'rhost=221.131.165.86', 'user=root']\n",
      "['фев', '10', '21:12:24', 'sshd[1160]:', 'Failed', 'password', 'for', 'root', 'from', '221.131.165.86', 'port', '49460', 'ssh2']\n",
      "['фев', '10', '21:12:28', 'sshd[1160]:', 'Failed', 'password', 'for', 'root', 'from', '221.131.165.86', 'port', '49460', 'ssh2']\n",
      "['фев', '10', '21:12:32', 'sshd[1160]:', 'Failed', 'password', 'for', 'root', 'from', '221.131.165.86', 'port', '49460', 'ssh2']\n",
      "['фев', '10', '21:12:33', 'sshd[1160]:', 'Received', 'disconnect', 'from', '221.131.165.86', 'port', '49460:11:', '[preauth]']\n",
      "['фев', '10', '21:12:33', 'sshd[1160]:', 'Disconnected', 'from', 'authenticating', 'user', 'root', '221.131.165.86', 'port', '49460', '[preauth]']\n",
      "['фев', '10', '21:12:33', 'sshd[1160]:', 'PAM', '2', 'more', 'authentication', 'failures;', 'logname=', 'uid=0', 'euid=0', 'tty=ssh', 'ruser=', 'rhost=221.131.165.86', 'user=root']\n",
      "['фев', '10', '21:12:33', 'sshd[1183]:', 'pam_unix(sshd:auth):', 'authentication', 'failure;', 'logname=', 'uid=0', 'euid=0', 'tty=ssh', 'ruser=', 'rhost=54.38.180.93', 'user=root']\n",
      "['фев', '10', '21:12:35', 'sshd[1186]:', 'pam_unix(sshd:auth):', 'authentication', 'failure;', 'logname=', 'uid=0', 'euid=0', 'tty=ssh', 'ruser=', 'rhost=221.131.165.86', 'user=root']\n",
      "['фев', '10', '21:12:36', 'sshd[1183]:', 'Failed', 'password', 'for', 'root', 'from', '54.38.180.93', 'port', '40074', 'ssh2']\n",
      "['фев', '10', '21:12:37', 'sshd[1186]:', 'Failed', 'password', 'for', 'root', 'from', '221.131.165.86', 'port', '36018', 'ssh2']\n",
      "['фев', '10', '21:12:38', 'sshd[1183]:', 'Received', 'disconnect', 'from', '54.38.180.93', 'port', '40074:11:', 'Bye', 'Bye', '[preauth]']\n",
      "['фев', '10', '21:12:38', 'sshd[1183]:', 'Disconnected', 'from', 'authenticating', 'user', 'root', '54.38.180.93', 'port', '40074', '[preauth]']\n",
      "['фев', '10', '21:12:42', 'sshd[1186]:', 'Failed', 'password', 'for', 'root', 'from', '221.131.165.86', 'port', '36018', 'ssh2']\n",
      "['фев', '10', '21:12:46', 'sshd[1186]:', 'Failed', 'password', 'for', 'root', 'from', '221.131.165.86', 'port', '36018', 'ssh2']\n",
      "['фев', '10', '21:12:49', 'sshd[1186]:', 'Received', 'disconnect', 'from', '221.131.165.86', 'port', '36018:11:', '[preauth]']\n"
     ]
    }
   ],
   "source": [
    "for i in s[:20]:\n",
    "    print(i.split())"
   ]
  },
  {
   "cell_type": "code",
   "execution_count": 10,
   "id": "a8de6c75-5f61-4be9-821b-33aad93facef",
   "metadata": {},
   "outputs": [],
   "source": [
    "fields = ['month', 'day', 'time', 'daemon', 'comment']"
   ]
  },
  {
   "cell_type": "code",
   "execution_count": 11,
   "id": "8c6538e8-0457-44a7-be26-1f17e6f66277",
   "metadata": {},
   "outputs": [],
   "source": [
    "log = []\n",
    "for i in s[:10]:\n",
    "    sp = i.split()\n",
    "    d = {}\n",
    "    d['month']   = sp[0]\n",
    "    d['day']     = sp[1]\n",
    "    d['time']    = sp[2]\n",
    "    d['daemon']  = sp[3]\n",
    "    d['comment'] = ' '.join(sp[4:])\n",
    "    log.append(d)\n",
    "    "
   ]
  },
  {
   "cell_type": "code",
   "execution_count": 12,
   "id": "d7f9893e-31df-42de-bbc4-37314bd5ded9",
   "metadata": {},
   "outputs": [],
   "source": [
    "log = []\n",
    "for n,i in enumerate(s):\n",
    "    #print(n, end = ' ')\n",
    "    sp = i.split()\n",
    "    if len(sp) >= 5:\n",
    "        d = {}\n",
    "        d['month']   = sp[0]\n",
    "        d['day']     = sp[1]\n",
    "        d['time']    = sp[2]\n",
    "        d['daemon']  = sp[3]\n",
    "        d['comment'] = ' '.join(sp[4:])\n",
    "        log.append(d)\n",
    "    "
   ]
  },
  {
   "cell_type": "code",
   "execution_count": 13,
   "id": "5dbfe650-063a-4626-94f7-3287de10d9e6",
   "metadata": {},
   "outputs": [],
   "source": [
    "psw = []\n",
    "for z in log:\n",
    "    if 'Failed password' in z['comment']:\n",
    "        psw.append(z)"
   ]
  },
  {
   "cell_type": "code",
   "execution_count": 14,
   "id": "5c555ca5-d1e9-47f4-856e-eddf739663d4",
   "metadata": {},
   "outputs": [
    {
     "data": {
      "text/plain": [
       "85372"
      ]
     },
     "execution_count": 14,
     "metadata": {},
     "output_type": "execute_result"
    }
   ],
   "source": [
    "len(psw)"
   ]
  },
  {
   "cell_type": "code",
   "execution_count": 15,
   "id": "d321d365-cfd1-428a-9804-4dbd231a4c00",
   "metadata": {},
   "outputs": [],
   "source": [
    "psw_f = []\n",
    "for p in psw:\n",
    "    sp = p['comment'].split()\n",
    "    if 'root' in sp:\n",
    "        #print(sp)        \n",
    "        p['user'] = sp[3]\n",
    "        p['ip']   = sp[5]\n",
    "        p['port'] = sp[7]\n",
    "        p['attack'] = 'root'\n",
    "        psw_f.append(p)\n",
    "    elif 'invalid' in sp and 'user' in sp:\n",
    "        #print(sp)\n",
    "        p['user'] = sp[5]\n",
    "        p['ip']   = sp[7]\n",
    "        p['port'] = sp[9]\n",
    "        p['attack'] = 'invalid user'\n",
    "        psw_f.append(p)\n",
    "    else:\n",
    "        #print(sp)\n",
    "        p['user'] = sp[3]\n",
    "        p['ip']   = sp[5]\n",
    "        p['port'] = sp[7]\n",
    "        p['attack'] = 'vaild user'\n",
    "        psw_f.append(p)"
   ]
  },
  {
   "cell_type": "code",
   "execution_count": 16,
   "id": "de138943-30cd-4ec3-9df4-7a7b08232a07",
   "metadata": {},
   "outputs": [
    {
     "data": {
      "text/plain": [
       "85372"
      ]
     },
     "execution_count": 16,
     "metadata": {},
     "output_type": "execute_result"
    }
   ],
   "source": [
    "len(psw_f)"
   ]
  },
  {
   "cell_type": "code",
   "execution_count": 17,
   "id": "aa5af40c-6f8e-42c0-9634-ea3cfad17df3",
   "metadata": {},
   "outputs": [],
   "source": [
    "import pandas as pd"
   ]
  },
  {
   "cell_type": "code",
   "execution_count": 18,
   "id": "79dae80f-5cf3-44c1-99b2-ec228012f0bf",
   "metadata": {},
   "outputs": [],
   "source": [
    "lpd = pd.DataFrame(psw_f)"
   ]
  },
  {
   "cell_type": "code",
   "execution_count": 19,
   "id": "d49a8006-b8e7-4997-831c-e910842d128b",
   "metadata": {},
   "outputs": [
    {
     "data": {
      "text/html": [
       "<div>\n",
       "<style scoped>\n",
       "    .dataframe tbody tr th:only-of-type {\n",
       "        vertical-align: middle;\n",
       "    }\n",
       "\n",
       "    .dataframe tbody tr th {\n",
       "        vertical-align: top;\n",
       "    }\n",
       "\n",
       "    .dataframe thead th {\n",
       "        text-align: right;\n",
       "    }\n",
       "</style>\n",
       "<table border=\"1\" class=\"dataframe\">\n",
       "  <thead>\n",
       "    <tr style=\"text-align: right;\">\n",
       "      <th></th>\n",
       "      <th>month</th>\n",
       "      <th>day</th>\n",
       "      <th>time</th>\n",
       "      <th>daemon</th>\n",
       "      <th>comment</th>\n",
       "      <th>user</th>\n",
       "      <th>ip</th>\n",
       "      <th>port</th>\n",
       "      <th>attack</th>\n",
       "    </tr>\n",
       "  </thead>\n",
       "  <tbody>\n",
       "    <tr>\n",
       "      <th>0</th>\n",
       "      <td>фев</td>\n",
       "      <td>10</td>\n",
       "      <td>21:12:24</td>\n",
       "      <td>sshd[1160]:</td>\n",
       "      <td>Failed password for root from 221.131.165.86 p...</td>\n",
       "      <td>root</td>\n",
       "      <td>221.131.165.86</td>\n",
       "      <td>49460</td>\n",
       "      <td>root</td>\n",
       "    </tr>\n",
       "    <tr>\n",
       "      <th>1</th>\n",
       "      <td>фев</td>\n",
       "      <td>10</td>\n",
       "      <td>21:12:28</td>\n",
       "      <td>sshd[1160]:</td>\n",
       "      <td>Failed password for root from 221.131.165.86 p...</td>\n",
       "      <td>root</td>\n",
       "      <td>221.131.165.86</td>\n",
       "      <td>49460</td>\n",
       "      <td>root</td>\n",
       "    </tr>\n",
       "    <tr>\n",
       "      <th>2</th>\n",
       "      <td>фев</td>\n",
       "      <td>10</td>\n",
       "      <td>21:12:32</td>\n",
       "      <td>sshd[1160]:</td>\n",
       "      <td>Failed password for root from 221.131.165.86 p...</td>\n",
       "      <td>root</td>\n",
       "      <td>221.131.165.86</td>\n",
       "      <td>49460</td>\n",
       "      <td>root</td>\n",
       "    </tr>\n",
       "    <tr>\n",
       "      <th>3</th>\n",
       "      <td>фев</td>\n",
       "      <td>10</td>\n",
       "      <td>21:12:36</td>\n",
       "      <td>sshd[1183]:</td>\n",
       "      <td>Failed password for root from 54.38.180.93 por...</td>\n",
       "      <td>root</td>\n",
       "      <td>54.38.180.93</td>\n",
       "      <td>40074</td>\n",
       "      <td>root</td>\n",
       "    </tr>\n",
       "    <tr>\n",
       "      <th>4</th>\n",
       "      <td>фев</td>\n",
       "      <td>10</td>\n",
       "      <td>21:12:37</td>\n",
       "      <td>sshd[1186]:</td>\n",
       "      <td>Failed password for root from 221.131.165.86 p...</td>\n",
       "      <td>root</td>\n",
       "      <td>221.131.165.86</td>\n",
       "      <td>36018</td>\n",
       "      <td>root</td>\n",
       "    </tr>\n",
       "    <tr>\n",
       "      <th>...</th>\n",
       "      <td>...</td>\n",
       "      <td>...</td>\n",
       "      <td>...</td>\n",
       "      <td>...</td>\n",
       "      <td>...</td>\n",
       "      <td>...</td>\n",
       "      <td>...</td>\n",
       "      <td>...</td>\n",
       "      <td>...</td>\n",
       "    </tr>\n",
       "    <tr>\n",
       "      <th>85367</th>\n",
       "      <td>фев</td>\n",
       "      <td>19</td>\n",
       "      <td>16:36:55</td>\n",
       "      <td>sshd[15952]:</td>\n",
       "      <td>Failed password for root from 106.54.74.188 po...</td>\n",
       "      <td>root</td>\n",
       "      <td>106.54.74.188</td>\n",
       "      <td>34588</td>\n",
       "      <td>root</td>\n",
       "    </tr>\n",
       "    <tr>\n",
       "      <th>85368</th>\n",
       "      <td>фев</td>\n",
       "      <td>19</td>\n",
       "      <td>16:37:14</td>\n",
       "      <td>sshd[16073]:</td>\n",
       "      <td>Failed password for root from 64.225.53.31 por...</td>\n",
       "      <td>root</td>\n",
       "      <td>64.225.53.31</td>\n",
       "      <td>45720</td>\n",
       "      <td>root</td>\n",
       "    </tr>\n",
       "    <tr>\n",
       "      <th>85369</th>\n",
       "      <td>фев</td>\n",
       "      <td>19</td>\n",
       "      <td>16:37:32</td>\n",
       "      <td>sshd[16175]:</td>\n",
       "      <td>Failed password for root from 13.66.131.233 po...</td>\n",
       "      <td>root</td>\n",
       "      <td>13.66.131.233</td>\n",
       "      <td>57838</td>\n",
       "      <td>root</td>\n",
       "    </tr>\n",
       "    <tr>\n",
       "      <th>85370</th>\n",
       "      <td>фев</td>\n",
       "      <td>19</td>\n",
       "      <td>16:38:49</td>\n",
       "      <td>sshd[16652]:</td>\n",
       "      <td>Failed password for root from 176.109.0.30 por...</td>\n",
       "      <td>root</td>\n",
       "      <td>176.109.0.30</td>\n",
       "      <td>40475</td>\n",
       "      <td>root</td>\n",
       "    </tr>\n",
       "    <tr>\n",
       "      <th>85371</th>\n",
       "      <td>фев</td>\n",
       "      <td>19</td>\n",
       "      <td>16:39:09</td>\n",
       "      <td>sshd[16822]:</td>\n",
       "      <td>Failed password for root from 119.45.43.139 po...</td>\n",
       "      <td>root</td>\n",
       "      <td>119.45.43.139</td>\n",
       "      <td>38738</td>\n",
       "      <td>root</td>\n",
       "    </tr>\n",
       "  </tbody>\n",
       "</table>\n",
       "<p>85372 rows × 9 columns</p>\n",
       "</div>"
      ],
      "text/plain": [
       "      month day      time        daemon  \\\n",
       "0       фев  10  21:12:24   sshd[1160]:   \n",
       "1       фев  10  21:12:28   sshd[1160]:   \n",
       "2       фев  10  21:12:32   sshd[1160]:   \n",
       "3       фев  10  21:12:36   sshd[1183]:   \n",
       "4       фев  10  21:12:37   sshd[1186]:   \n",
       "...     ...  ..       ...           ...   \n",
       "85367   фев  19  16:36:55  sshd[15952]:   \n",
       "85368   фев  19  16:37:14  sshd[16073]:   \n",
       "85369   фев  19  16:37:32  sshd[16175]:   \n",
       "85370   фев  19  16:38:49  sshd[16652]:   \n",
       "85371   фев  19  16:39:09  sshd[16822]:   \n",
       "\n",
       "                                                 comment  user  \\\n",
       "0      Failed password for root from 221.131.165.86 p...  root   \n",
       "1      Failed password for root from 221.131.165.86 p...  root   \n",
       "2      Failed password for root from 221.131.165.86 p...  root   \n",
       "3      Failed password for root from 54.38.180.93 por...  root   \n",
       "4      Failed password for root from 221.131.165.86 p...  root   \n",
       "...                                                  ...   ...   \n",
       "85367  Failed password for root from 106.54.74.188 po...  root   \n",
       "85368  Failed password for root from 64.225.53.31 por...  root   \n",
       "85369  Failed password for root from 13.66.131.233 po...  root   \n",
       "85370  Failed password for root from 176.109.0.30 por...  root   \n",
       "85371  Failed password for root from 119.45.43.139 po...  root   \n",
       "\n",
       "                   ip   port attack  \n",
       "0      221.131.165.86  49460   root  \n",
       "1      221.131.165.86  49460   root  \n",
       "2      221.131.165.86  49460   root  \n",
       "3        54.38.180.93  40074   root  \n",
       "4      221.131.165.86  36018   root  \n",
       "...               ...    ...    ...  \n",
       "85367   106.54.74.188  34588   root  \n",
       "85368    64.225.53.31  45720   root  \n",
       "85369   13.66.131.233  57838   root  \n",
       "85370    176.109.0.30  40475   root  \n",
       "85371   119.45.43.139  38738   root  \n",
       "\n",
       "[85372 rows x 9 columns]"
      ]
     },
     "execution_count": 19,
     "metadata": {},
     "output_type": "execute_result"
    }
   ],
   "source": [
    "lpd"
   ]
  },
  {
   "cell_type": "code",
   "execution_count": 22,
   "id": "9f3332d4-9a5b-44d1-830a-864f2783a5bd",
   "metadata": {},
   "outputs": [
    {
     "data": {
      "text/html": [
       "<div>\n",
       "<style scoped>\n",
       "    .dataframe tbody tr th:only-of-type {\n",
       "        vertical-align: middle;\n",
       "    }\n",
       "\n",
       "    .dataframe tbody tr th {\n",
       "        vertical-align: top;\n",
       "    }\n",
       "\n",
       "    .dataframe thead th {\n",
       "        text-align: right;\n",
       "    }\n",
       "</style>\n",
       "<table border=\"1\" class=\"dataframe\">\n",
       "  <thead>\n",
       "    <tr style=\"text-align: right;\">\n",
       "      <th></th>\n",
       "      <th>month</th>\n",
       "      <th>day</th>\n",
       "      <th>time</th>\n",
       "      <th>daemon</th>\n",
       "      <th>comment</th>\n",
       "      <th>ip</th>\n",
       "      <th>port</th>\n",
       "      <th>attack</th>\n",
       "    </tr>\n",
       "    <tr>\n",
       "      <th>user</th>\n",
       "      <th></th>\n",
       "      <th></th>\n",
       "      <th></th>\n",
       "      <th></th>\n",
       "      <th></th>\n",
       "      <th></th>\n",
       "      <th></th>\n",
       "      <th></th>\n",
       "    </tr>\n",
       "  </thead>\n",
       "  <tbody>\n",
       "    <tr>\n",
       "      <th>root</th>\n",
       "      <td>39066</td>\n",
       "      <td>39066</td>\n",
       "      <td>39066</td>\n",
       "      <td>39066</td>\n",
       "      <td>39066</td>\n",
       "      <td>39066</td>\n",
       "      <td>39066</td>\n",
       "      <td>39066</td>\n",
       "    </tr>\n",
       "    <tr>\n",
       "      <th>admin</th>\n",
       "      <td>3330</td>\n",
       "      <td>3330</td>\n",
       "      <td>3330</td>\n",
       "      <td>3330</td>\n",
       "      <td>3330</td>\n",
       "      <td>3330</td>\n",
       "      <td>3330</td>\n",
       "      <td>3330</td>\n",
       "    </tr>\n",
       "    <tr>\n",
       "      <th>user</th>\n",
       "      <td>927</td>\n",
       "      <td>927</td>\n",
       "      <td>927</td>\n",
       "      <td>927</td>\n",
       "      <td>927</td>\n",
       "      <td>927</td>\n",
       "      <td>927</td>\n",
       "      <td>927</td>\n",
       "    </tr>\n",
       "    <tr>\n",
       "      <th>test</th>\n",
       "      <td>881</td>\n",
       "      <td>881</td>\n",
       "      <td>881</td>\n",
       "      <td>881</td>\n",
       "      <td>881</td>\n",
       "      <td>881</td>\n",
       "      <td>881</td>\n",
       "      <td>881</td>\n",
       "    </tr>\n",
       "    <tr>\n",
       "      <th>ubuntu</th>\n",
       "      <td>602</td>\n",
       "      <td>602</td>\n",
       "      <td>602</td>\n",
       "      <td>602</td>\n",
       "      <td>602</td>\n",
       "      <td>602</td>\n",
       "      <td>602</td>\n",
       "      <td>602</td>\n",
       "    </tr>\n",
       "    <tr>\n",
       "      <th>...</th>\n",
       "      <td>...</td>\n",
       "      <td>...</td>\n",
       "      <td>...</td>\n",
       "      <td>...</td>\n",
       "      <td>...</td>\n",
       "      <td>...</td>\n",
       "      <td>...</td>\n",
       "      <td>...</td>\n",
       "    </tr>\n",
       "    <tr>\n",
       "      <th>mph</th>\n",
       "      <td>1</td>\n",
       "      <td>1</td>\n",
       "      <td>1</td>\n",
       "      <td>1</td>\n",
       "      <td>1</td>\n",
       "      <td>1</td>\n",
       "      <td>1</td>\n",
       "      <td>1</td>\n",
       "    </tr>\n",
       "    <tr>\n",
       "      <th>mpi</th>\n",
       "      <td>1</td>\n",
       "      <td>1</td>\n",
       "      <td>1</td>\n",
       "      <td>1</td>\n",
       "      <td>1</td>\n",
       "      <td>1</td>\n",
       "      <td>1</td>\n",
       "      <td>1</td>\n",
       "    </tr>\n",
       "    <tr>\n",
       "      <th>mpiuser</th>\n",
       "      <td>1</td>\n",
       "      <td>1</td>\n",
       "      <td>1</td>\n",
       "      <td>1</td>\n",
       "      <td>1</td>\n",
       "      <td>1</td>\n",
       "      <td>1</td>\n",
       "      <td>1</td>\n",
       "    </tr>\n",
       "    <tr>\n",
       "      <th>mql</th>\n",
       "      <td>1</td>\n",
       "      <td>1</td>\n",
       "      <td>1</td>\n",
       "      <td>1</td>\n",
       "      <td>1</td>\n",
       "      <td>1</td>\n",
       "      <td>1</td>\n",
       "      <td>1</td>\n",
       "    </tr>\n",
       "    <tr>\n",
       "      <th>lut</th>\n",
       "      <td>1</td>\n",
       "      <td>1</td>\n",
       "      <td>1</td>\n",
       "      <td>1</td>\n",
       "      <td>1</td>\n",
       "      <td>1</td>\n",
       "      <td>1</td>\n",
       "      <td>1</td>\n",
       "    </tr>\n",
       "  </tbody>\n",
       "</table>\n",
       "<p>7334 rows × 8 columns</p>\n",
       "</div>"
      ],
      "text/plain": [
       "         month    day   time  daemon  comment     ip   port  attack\n",
       "user                                                               \n",
       "root     39066  39066  39066   39066    39066  39066  39066   39066\n",
       "admin     3330   3330   3330    3330     3330   3330   3330    3330\n",
       "user       927    927    927     927      927    927    927     927\n",
       "test       881    881    881     881      881    881    881     881\n",
       "ubuntu     602    602    602     602      602    602    602     602\n",
       "...        ...    ...    ...     ...      ...    ...    ...     ...\n",
       "mph          1      1      1       1        1      1      1       1\n",
       "mpi          1      1      1       1        1      1      1       1\n",
       "mpiuser      1      1      1       1        1      1      1       1\n",
       "mql          1      1      1       1        1      1      1       1\n",
       "lut          1      1      1       1        1      1      1       1\n",
       "\n",
       "[7334 rows x 8 columns]"
      ]
     },
     "execution_count": 22,
     "metadata": {},
     "output_type": "execute_result"
    }
   ],
   "source": [
    "lpd.groupby('user').count().sort_values(by='ip', ascending=False)"
   ]
  },
  {
   "cell_type": "code",
   "execution_count": 23,
   "id": "551c61f7-6eed-468f-aabf-4aecd7a9cfef",
   "metadata": {},
   "outputs": [],
   "source": [
    "lpd.to_csv('data/fail_password_attempt.csv')"
   ]
  },
  {
   "cell_type": "code",
   "execution_count": 25,
   "id": "053e1587-e4d6-4f44-9add-699b3f7ff812",
   "metadata": {},
   "outputs": [
    {
     "data": {
      "text/plain": [
       "85372"
      ]
     },
     "execution_count": 25,
     "metadata": {},
     "output_type": "execute_result"
    }
   ],
   "source": [
    "import sqlite3\n",
    "con = sqlite3.connect('data/fail_password_attempt.sqlite')\n",
    "lpd.to_sql('table', con)"
   ]
  },
  {
   "cell_type": "code",
   "execution_count": 26,
   "id": "7f21fbc5-94c3-4fc1-9133-cf94a646abbb",
   "metadata": {},
   "outputs": [],
   "source": [
    "con.close()"
   ]
  },
  {
   "cell_type": "code",
   "execution_count": null,
   "id": "113de623-26c0-4241-b578-bd5f49b549ca",
   "metadata": {},
   "outputs": [],
   "source": []
  }
 ],
 "metadata": {
  "kernelspec": {
   "display_name": "Python 3 (ipykernel)",
   "language": "python",
   "name": "python3"
  },
  "language_info": {
   "codemirror_mode": {
    "name": "ipython",
    "version": 3
   },
   "file_extension": ".py",
   "mimetype": "text/x-python",
   "name": "python",
   "nbconvert_exporter": "python",
   "pygments_lexer": "ipython3",
   "version": "3.9.2"
  }
 },
 "nbformat": 4,
 "nbformat_minor": 5
}
